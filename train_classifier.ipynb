{
 "cells": [
  {
   "cell_type": "markdown",
   "metadata": {},
   "source": [
    "## Vaaku2Vec"
   ]
  },
  {
   "cell_type": "code",
   "execution_count": 1,
   "metadata": {},
   "outputs": [],
   "source": [
    "from fastai.text import *\n",
    "from fastai.lm_rnn import get_rnn_classifer\n",
    "import html\n",
    "from nltk import word_tokenize\n"
   ]
  },
  {
   "cell_type": "code",
   "execution_count": 2,
   "metadata": {},
   "outputs": [],
   "source": [
    "BOS = 'xbos'  # beginning-of-sentence tag\n",
    "FLD = 'xfld'  # data field tag\n",
    "\n",
    "#Path to the news dataset\n",
    "PATH=Path('news/')"
   ]
  },
  {
   "cell_type": "code",
   "execution_count": null,
   "metadata": {},
   "outputs": [],
   "source": [
    "\n",
    "class Tokenizer():\n",
    "    \"\"\"\n",
    "    Patching the fastai tokenizer\n",
    "    \"\"\"\n",
    "    def __init__(self, lang='en'):\n",
    "        pass\n",
    "\n",
    "    def spacy_tok(self,x):\n",
    "        return word_tokenize(x)\n",
    "\n",
    "    def proc_text(self, s):\n",
    "        return self.spacy_tok(s)\n",
    "\n",
    "    @staticmethod\n",
    "    def proc_all(ss, lang):\n",
    "        tok = Tokenizer(lang)\n",
    "        return [tok.proc_text(s) for s in ss]\n",
    "\n",
    "    @staticmethod\n",
    "    def proc_all_mp(ss, lang='en'):\n",
    "        ncpus = num_cpus()//2\n",
    "        with ProcessPoolExecutor(ncpus) as e:\n",
    "            return sum(e.map(Tokenizer.proc_all, ss, [lang]*len(ss)), [])\n"
   ]
  },
  {
   "cell_type": "markdown",
   "metadata": {},
   "source": [
    "## Standardize format\n",
    "Standardizing dataset for traning the classifier. The news dataset will be tokenized, index to label is created, train-test split is also done for the training dataset."
   ]
  },
  {
   "cell_type": "code",
   "execution_count": 3,
   "metadata": {},
   "outputs": [],
   "source": [
    "CLAS_PATH=Path('news/news_clas/')\n",
    "CLAS_PATH.mkdir(exist_ok=True)\n",
    "\n",
    "LM_PATH=Path('news/news_lm/')\n",
    "LM_PATH.mkdir(exist_ok=True)"
   ]
  },
  {
   "cell_type": "markdown",
   "metadata": {},
   "source": [
    "Our news dataset has 5 classes India, Kerala, Sports, Business, Entertainment from Manorama News\n",
    "\n"
   ]
  },
  {
   "cell_type": "code",
   "execution_count": 2,
   "metadata": {
    "collapsed": true
   },
   "outputs": [
    {
     "ename": "NameError",
     "evalue": "name 'pd' is not defined",
     "output_type": "error",
     "traceback": [
      "\u001b[0;31m---------------------------------------------------------------------------\u001b[0m",
      "\u001b[0;31mNameError\u001b[0m                                 Traceback (most recent call last)",
      "\u001b[0;32m<ipython-input-2-c079a2c569d2>\u001b[0m in \u001b[0;36m<module>\u001b[0;34m()\u001b[0m\n\u001b[0;32m----> 1\u001b[0;31m \u001b[0mdata\u001b[0m \u001b[0;34m=\u001b[0m \u001b[0mpd\u001b[0m\u001b[0;34m.\u001b[0m\u001b[0mread_csv\u001b[0m\u001b[0;34m(\u001b[0m\u001b[0;34m'news/all_news.csv'\u001b[0m\u001b[0;34m)\u001b[0m\u001b[0;34m.\u001b[0m\u001b[0mvalues\u001b[0m\u001b[0;34m\u001b[0m\u001b[0m\n\u001b[0m\u001b[1;32m      2\u001b[0m \u001b[0mtrn_texts\u001b[0m\u001b[0;34m,\u001b[0m\u001b[0mtrn_labels\u001b[0m \u001b[0;34m=\u001b[0m \u001b[0mdata\u001b[0m\u001b[0;34m[\u001b[0m\u001b[0;34m:\u001b[0m\u001b[0;34m:\u001b[0m\u001b[0;34m,\u001b[0m\u001b[0;36m0\u001b[0m\u001b[0;34m]\u001b[0m\u001b[0;34m,\u001b[0m\u001b[0mdata\u001b[0m\u001b[0;34m[\u001b[0m\u001b[0;34m:\u001b[0m\u001b[0;34m:\u001b[0m\u001b[0;34m,\u001b[0m\u001b[0;36m1\u001b[0m\u001b[0;34m]\u001b[0m\u001b[0;34m\u001b[0m\u001b[0m\n",
      "\u001b[0;31mNameError\u001b[0m: name 'pd' is not defined"
     ]
    }
   ],
   "source": [
    "data = pd.read_csv('news/all_news.csv').values\n",
    "trn_texts,trn_labels = data[::,0],data[::,1]"
   ]
  },
  {
   "cell_type": "code",
   "execution_count": 5,
   "metadata": {},
   "outputs": [],
   "source": [
    "from sklearn.preprocessing import LabelEncoder\n",
    "le = LabelEncoder()"
   ]
  },
  {
   "cell_type": "code",
   "execution_count": 6,
   "metadata": {},
   "outputs": [],
   "source": [
    "le.fit(trn_labels)\n",
    "trn_labels = le.transform(trn_labels)"
   ]
  },
  {
   "cell_type": "code",
   "execution_count": 12,
   "metadata": {},
   "outputs": [],
   "source": [
    "label2idx = dict()\n",
    "for i,label in enumerate(le.classes_):\n",
    "    label2idx[label] = i\n",
    "np.save(\"news/news_clas/l2i.npy\",label2idx)"
   ]
  },
  {
   "cell_type": "code",
   "execution_count": null,
   "metadata": {},
   "outputs": [],
   "source": [
    "# trn_idx = np.random.permutation(len(trn_texts))\n",
    "# trn_texts = trn_texts[trn_idx]\n",
    "# trn_labels = trn_labels[trn_idx]\n",
    "\n",
    "# trn_texts,trn_labels = trn_texts[:360],trn_labels[:360]"
   ]
  },
  {
   "cell_type": "code",
   "execution_count": 13,
   "metadata": {},
   "outputs": [],
   "source": [
    "trn_texts,val_texts,trn_labels,val_labels = sklearn.model_selection.train_test_split(trn_texts,trn_labels,test_size=0.1)"
   ]
  },
  {
   "cell_type": "code",
   "execution_count": null,
   "metadata": {},
   "outputs": [],
   "source": [
    "# trn_labels = np.asarray([0 if x>=7 else 1 for x in trn_labels])\n",
    "# val_labels = np.asarray([0 if x>=7 else 1 for x in val_labels])"
   ]
  },
  {
   "cell_type": "code",
   "execution_count": 14,
   "metadata": {},
   "outputs": [],
   "source": [
    "col_names = ['labels','text']"
   ]
  },
  {
   "cell_type": "markdown",
   "metadata": {},
   "source": [
    "We use a random permutation np array to shuffle the text reviews."
   ]
  },
  {
   "cell_type": "code",
   "execution_count": 15,
   "metadata": {},
   "outputs": [],
   "source": [
    "np.random.seed(42)\n",
    "trn_idx = np.random.permutation(len(trn_texts))\n",
    "val_idx = np.random.permutation(len(val_texts))"
   ]
  },
  {
   "cell_type": "code",
   "execution_count": 16,
   "metadata": {},
   "outputs": [],
   "source": [
    "trn_texts = trn_texts[trn_idx]\n",
    "val_texts = val_texts[val_idx]\n",
    "\n",
    "trn_labels = trn_labels[trn_idx]\n",
    "val_labels = val_labels[val_idx]"
   ]
  },
  {
   "cell_type": "code",
   "execution_count": 17,
   "metadata": {},
   "outputs": [],
   "source": [
    "df_trn = pd.DataFrame({'text':trn_texts, 'labels':trn_labels}, columns=col_names)\n",
    "df_val = pd.DataFrame({'text':val_texts, 'labels':val_labels}, columns=col_names)"
   ]
  },
  {
   "cell_type": "markdown",
   "metadata": {},
   "source": [
    "The pandas dataframe is used to store text data in a newly evolving standard format of label followed by text columns. This was influenced by a paper by Yann LeCun (LINK REQUIRED). Fastai adopts this new format for NLP datasets."
   ]
  },
  {
   "cell_type": "code",
   "execution_count": 18,
   "metadata": {},
   "outputs": [],
   "source": [
    "df_trn.to_csv(CLAS_PATH/'train.csv', header=False, index=False)\n",
    "df_val.to_csv(CLAS_PATH/'test.csv', header=False, index=False)\n",
    "\n",
    "# (CLAS_PATH/'classes.txt').open('w', encoding='utf-8').writelines(f'{o}\\n' for o in CLASSES)"
   ]
  },
  {
   "cell_type": "markdown",
   "metadata": {},
   "source": [
    "We start by creating the data for the Language Model(LM). The LM's goal is to learn the structure of the english language. It learns language by trying to predict the next word given a set of previous words(ngrams). Since the LM does not classify reviews, the labels can be ignored.\n",
    "\n",
    "The LM can benefit from all the textual data and there is no need to exclude the unsup/unclassified news if any.\n",
    "\n",
    "We first concat all the train and test news into a big chunk. And then we use sklearn splitter to divide up the texts into 90% training and 10% validation sets."
   ]
  },
  {
   "cell_type": "code",
   "execution_count": 19,
   "metadata": {},
   "outputs": [],
   "source": [
    "trn_texts,val_texts = sklearn.model_selection.train_test_split(\n",
    "    np.concatenate([trn_texts,val_texts]), test_size=0.1)"
   ]
  },
  {
   "cell_type": "code",
   "execution_count": 20,
   "metadata": {},
   "outputs": [
    {
     "data": {
      "text/plain": [
       "(4,\n",
       " 'നെടുമ്പാശേരി വിമാനത്താവളം ശനിയാഴ്ച വരെ അടച്ചിട്ടതോടെ ബുദ്ധിമുട്ടിലായത് പ്രവാസികളുൾപ്പെടെ നിരവധി പേർ. മുല്ലപ്പെരിയാറും ഇടുക്കി–ചെറുതോണി അണക്കെട്ടും തുറന്ന സാഹചര്യത്തിലാണ് വിമാനത്താവളം അടച്ചിട്ടത്.\\xa0 ഓപ്പറേഷൻസ് ഏരിയയിലടക്കം വെള്ളം കയറിയിരുന്നു. വിമാനത്താവളത്തിന്റെ ഒരു മതിലും തകര്\\u200dന്നു വീണു. വെള്ളം ഒഴുകിപോകാന്\\u200d ഒരുവശത്തെ മതിലും പൊളിച്ചു. സാഹചര്യം നിയന്ത്രണാതീതമായതോടെയാണ് വിമാനത്താവളം അടച്ചിടാൻ തീരുമാനിച്ചത്. ഇതോടെ കൊച്ചിയിലേക്ക് ടിക്കറ്റെടുത്തവരും കൊച്ചിയിൽ നിന്ന് യാത്ര തിരിക്കാനിരുന്നവരും ബുദ്ധിമുട്ടിലായി.\\xa0 കൊച്ചിയിലേക്ക് പോകേണ്ട വിവിധ വിമാനങ്ങൾ വഴിതിരിച്ചുവിട്ടു. കോഴിക്കോട്, തിരുവനന്തപുരം, ബെംഗളുരു തുടങ്ങിയ സ്ഥലങ്ങളിലേക്കാണ് വിമാനങ്ങളുടെ മാറ്റം. മിക്ക രാജ്യാന്തര വിമാനങ്ങളും ഗൾഫ് മേഖലയിലേക്കുള്ളതാണ്. എയർ ഇന്ത്യ എക്സ്പ്രസ് ഗൾഫിലേക്കുള്ള രണ്ട് വിമാനങ്ങൾ റദ്ദ് ചെയ്യുകയും ചെയ്തു.\\xa0 കൊച്ചിയിൽ നിന്നും പുറപ്പെടേണ്ട ഹജ്ജ് തീർഥാടകരുടെ വിമാനങ്ങൾ തിരുവനന്തപുരത്തേക്ക് മാറ്റിയെന്നും ഇവിടെ നിന്നാകും യാത്ര ആരംഭിക്കുകയെന്നും അധികൃതർ അറിയിച്ചു. യാത്രക്കാരുടെ സൗകര്യത്തിനായി കെഎസ്ആർടിസി തിരുവനന്തപുരം, നെടുമ്പാശേരി എയർപോർട്ടുകൾ ബന്ധപ്പെടുത്തി സ്പെഷ്യൽ സർവീസുകള്\\u200d ആരംഭിച്ചു.\\xa0 എയർ ഇന്ത്യ എക്സ്പ്രസ് വിമാനസമയം\\n IX-417/450 വിമാനം തിരുവനന്തപുരം–അബുദാബി–തിരുവനന്തപുരം എന്നിങ്ങനെ മാറ്റി നിശ്ചയിച്ചുവെന്ന് എയർ ഇന്ത്യ എക്സ്പ്രസ് അറിയിച്ചു. എയർ ഇന്ത്യ എക്സ്പ്രസ് കൊച്ചി വിമാനത്താവളത്തിൽ ഹെൽപ്പ് ലൈൻ ആരംഭിച്ചു. നമ്പർ; 0484–2610040, 2610050. കൊച്ചി–മസ്കറ്റ് വിമാനവും കൊച്ചി–ദുബായ് കൊച്ചി വിമാനവും എയർ ഇന്ത്യ എക്സ്പ്രസ് റദ്ദാക്കി. മാറ്റം വരുത്തിയ എയർ ഇന്ത്യ എക്സ്പ്രസ് വിമാനങ്ങളുടെ വിവരങ്ങൾ ചുവടെ;\\n IX-476: ദോഹ–കൊച്ചി വിമാനം തിരുവനന്തപുരത്തേക്ക് പോകും\\n IX-411/412: കോഴിക്കോട്-ഷാര്\\u200dജ-കോഴിക്കോട് എന്നിങ്ങനെ മാറ്റി.\\n IX-473: കോഴിക്കോട്-ബഹ്റൈൻ–കോഴിക്കോട്\\n IX-452: അബുദാബി–കൊച്ചി വിമാനം കോഴിക്കോട്ടേക്ക് മാറ്റി\\n എയർ ഇന്ത്യ\\n കൊച്ചി വിമാനത്താവളത്തിൽ നിന്നുള്ള സർവീസുകൾ റദ്ദാക്കിയ സാഹചര്യത്തിൽ ടിക്കറ്റുകൾ റദ്ദാക്കുന്നതിനോ തിയതി മാറ്റുന്നതിനോ പിഴ ഈടാക്കില്ലെന്ന് എയർ ഇന്ത്യ അറിയിച്ചു.\\xa0\\n AI964: ജിദ്ദ–കൊച്ചി വിമാനം മുംബൈയിലേക്ക് മാറ്റി\\n IX452: അബുദാബി–കൊച്ചി വിമാനം കോയമ്പത്തൂർ വിമാനത്താവളത്തിലേക്ക് മാറ്റി\\n IX412: ഷാർജ–കൊച്ചി വിമാനം തിരുവനന്തപുരം വിമാനത്താവളത്തിലേക്ക് മാറ്റി\\n മറ്റുവിമാനങ്ങൾ\\n ജെറ്റ് എയർവേയ്സ് ദോഹ വിമാനം– ബെംഗളുരു\\n ഇൻഡിഗോ ദുബായ് വിമാനം– ബെംഗളുരു\\n')"
      ]
     },
     "execution_count": 20,
     "metadata": {},
     "output_type": "execute_result"
    }
   ],
   "source": [
    "len(trn_texts), len(val_texts)\n",
    "trn_labels[90], trn_texts[90]"
   ]
  },
  {
   "cell_type": "code",
   "execution_count": 21,
   "metadata": {},
   "outputs": [],
   "source": [
    "df_trn = pd.DataFrame({'text':trn_texts, 'labels':[0]*len(trn_texts)}, columns=col_names)\n",
    "df_val = pd.DataFrame({'text':val_texts, 'labels':[0]*len(val_texts)}, columns=col_names)\n",
    "\n",
    "df_trn.to_csv(LM_PATH/'train.csv', header=False, index=False)\n",
    "df_val.to_csv(LM_PATH/'test.csv', header=False, index=False)"
   ]
  },
  {
   "cell_type": "markdown",
   "metadata": {},
   "source": [
    "## Language model tokens"
   ]
  },
  {
   "cell_type": "markdown",
   "metadata": {},
   "source": [
    "In this section, we start cleaning up the messy text. There are 2 main activities we need to perform:\n",
    "\n",
    "1. Clean up extra spaces, tab chars, new ln chars and other characters and replace them with standard ones\n",
    "2. As mentioned in the readme, the tokenization is a hard problem, so currently we'll be using nltks  library to tokenize the data. Since spacy does not provide a parallel/multicore version of the tokenizer, the fastai library adds this functionality. This parallel version uses all the cores of your CPUs and runs much faster than the serial version of the spacy tokenizer.\n",
    "\n",
    "Tokenization is the process of splitting the text into separate tokens so that each token can be assigned a unique index. This means we can convert the text into integer indexes our models can use.\n",
    "\n",
    "We use an appropriate chunksize as the tokenization process is memory intensive"
   ]
  },
  {
   "cell_type": "code",
   "execution_count": 23,
   "metadata": {},
   "outputs": [],
   "source": [
    "chunksize=24000"
   ]
  },
  {
   "cell_type": "code",
   "execution_count": 24,
   "metadata": {},
   "outputs": [],
   "source": [
    "re1 = re.compile(r'  +')\n",
    "\n",
    "def fixup(x):\n",
    "    x = x.replace('#39;', \"'\").replace('amp;', '&').replace('#146;', \"'\").replace(\n",
    "    'nbsp;', ' ').replace('#36;', '$').replace('\\\\n', \"\\n\").replace('quot;', \"'\").replace(\n",
    "    '<br />', \"\\n\").replace('\\\\\"', '\"').replace('<unk>','u_n').replace(' @.@ ','.').replace(\n",
    "    ' @-@ ','-').replace('\\\\', ' \\\\ ').replace('\\u200d','').replace('\\xa0',' ').replace(\n",
    "    '\\u200c','').replace('“',' ').replace('”',' ').replace('\"',' ').replace('\\u200d','')\n",
    "    x = re.sub('[\\(\\[].*?[\\)\\]]', '', x)\n",
    "    x = re.sub('<[^<]+?>', '', x)\n",
    "    x = re.sub('[A-Za-z]+','ENG ', x)\n",
    "    x = re.sub(r'\\d+.?(\\d+)?','NUM ',x).replace(\"(\",\"\").replace(\")\",\"\")\n",
    "    return re1.sub(' ', html.unescape(x))"
   ]
  },
  {
   "cell_type": "code",
   "execution_count": 25,
   "metadata": {},
   "outputs": [],
   "source": [
    "def get_texts(df, n_lbls=1):\n",
    "    labels = df.iloc[:,range(n_lbls)].values.astype(np.int64)\n",
    "    texts = f'\\n{BOS} {FLD} 1 ' + df[n_lbls].astype(str)\n",
    "    for i in range(n_lbls+1, len(df.columns)): texts += f' {FLD} {i-n_lbls} ' + df[i].astype(str)\n",
    "    texts = list(texts.apply(fixup).values)\n",
    "\n",
    "    tok = Tokenizer().proc_all_mp(partition_by_cores(texts))\n",
    "    return tok, list(labels)"
   ]
  },
  {
   "cell_type": "code",
   "execution_count": 26,
   "metadata": {},
   "outputs": [],
   "source": [
    "def get_all(df, n_lbls):\n",
    "    tok, labels = [], []\n",
    "    for i, r in enumerate(df):\n",
    "        print(i)\n",
    "        tok_, labels_ = get_texts(r, n_lbls)\n",
    "        tok += tok_;\n",
    "        labels += labels_\n",
    "    return tok, labels"
   ]
  },
  {
   "cell_type": "code",
   "execution_count": 27,
   "metadata": {},
   "outputs": [],
   "source": [
    "df_trn = pd.read_csv(LM_PATH/'train.csv', header=None, chunksize=chunksize)\n",
    "df_val = pd.read_csv(LM_PATH/'test.csv', header=None, chunksize=chunksize)"
   ]
  },
  {
   "cell_type": "code",
   "execution_count": 28,
   "metadata": {},
   "outputs": [
    {
     "data": {
      "text/plain": [
       "<pandas.io.parsers.TextFileReader at 0x7f86de53a208>"
      ]
     },
     "execution_count": 28,
     "metadata": {},
     "output_type": "execute_result"
    }
   ],
   "source": [
    "df_trn"
   ]
  },
  {
   "cell_type": "code",
   "execution_count": 29,
   "metadata": {
    "scrolled": false
   },
   "outputs": [
    {
     "name": "stdout",
     "output_type": "stream",
     "text": [
      "0\n",
      "0\n"
     ]
    }
   ],
   "source": [
    "tok_trn, trn_labels = get_all(df_trn, 1)\n",
    "tok_val, val_labels = get_all(df_val, 1)"
   ]
  },
  {
   "cell_type": "code",
   "execution_count": 30,
   "metadata": {},
   "outputs": [
    {
     "data": {
      "text/plain": [
       "['ENG',\n",
       " 'ENG',\n",
       " 'NUM',\n",
       " 'ചുഴലിക്കാറ്റിന്റെയും',\n",
       " 'വെളളപ്പൊക്കത്തിന്റെയും',\n",
       " 'ദുരന്ത',\n",
       " 'വാർത്തകൾക്കിടയിൽ',\n",
       " 'നിന്ന്',\n",
       " 'നൻമയുടെ',\n",
       " 'ഒരു',\n",
       " 'നല്ല',\n",
       " 'കാഴ്ച',\n",
       " '.',\n",
       " 'ചുറ്റും',\n",
       " 'നിറഞ്ഞ',\n",
       " 'വെളളത്തിൽ',\n",
       " 'ഒറ്റപ്പെട്ട',\n",
       " 'വയോധികനെ',\n",
       " 'സ്വന്തം',\n",
       " 'തോളിലേറ്റി',\n",
       " 'രക്ഷപ്പെടുത്തുന്ന',\n",
       " 'പൊലീസുദ്യോഗസ്ഥൻ',\n",
       " '.',\n",
       " 'ഇരച്ചുകയറുന്ന',\n",
       " 'കടൽ',\n",
       " 'നിമിഷംപ്രതി',\n",
       " 'കരയെ',\n",
       " 'വിഴുങ്ങുമ്പോഴാണ്',\n",
       " 'ആവതില്ലാത്ത',\n",
       " 'കാലുമായി',\n",
       " 'പാതിതകർന്ന',\n",
       " 'വീടിനു',\n",
       " 'മുന്നിൽ',\n",
       " 'നിന്ന',\n",
       " 'വയോധികനെ',\n",
       " 'കണ്ണമാലി',\n",
       " 'പൊലീസ്',\n",
       " 'സ്റ്റേഷനിലെ',\n",
       " 'പി.എ.ആൻഡ്രൂസ്',\n",
       " 'കണ്ടത്',\n",
       " '.',\n",
       " 'അവശേഷിക്കുന്ന',\n",
       " 'സമ്പാദ്യവും',\n",
       " 'ഉപേക്ഷിച്ചിറങ്ങാൻ',\n",
       " 'മടിച്ചു',\n",
       " 'നിന്നയാളെ',\n",
       " 'പുറത്തേക്കിറക്കാൻ',\n",
       " 'ഏറെ',\n",
       " 'നിർബന്ധിക്കേണ്ടി',\n",
       " 'വന്നു',\n",
       " 'ആൻഡ്രൂസിന്',\n",
       " '.',\n",
       " 'ഒടുവിൽ',\n",
       " 'വഴങ്ങിയ',\n",
       " 'ഈ',\n",
       " 'മനുഷ്യനോട്',\n",
       " 'വയ്യാത്ത',\n",
       " 'കാലുമായി',\n",
       " 'വെളളത്തിലൂടെ',\n",
       " 'സ്വയം',\n",
       " 'നടന്നു',\n",
       " 'പോകാൻ',\n",
       " 'കഴിയില്ലെന്ന്',\n",
       " 'പറഞ്ഞ്',\n",
       " 'ബോധ്യപ്പെടുത്തി',\n",
       " '.',\n",
       " 'പിന്നെ',\n",
       " 'സ്വന്തം',\n",
       " 'തോളിലേറ്റി',\n",
       " '.',\n",
       " 'ദുരന്തങ്ങൾക്കിടയിലും',\n",
       " 'സേവനസന്നദ്ധരായ',\n",
       " 'കുറെ',\n",
       " 'നല്ല',\n",
       " 'മനുഷ്യരെ',\n",
       " 'അടയാളപ്പെടുത്തുക',\n",
       " 'കൂടി',\n",
       " 'ചെയ്യുന്നു',\n",
       " 'ചെല്ലാനം',\n",
       " 'മറുവക്കാടു',\n",
       " 'നിന്നു',\n",
       " 'പകർത്തിയ',\n",
       " 'ഈ',\n",
       " 'ദൃശ്യങ്ങൾ',\n",
       " '.']"
      ]
     },
     "execution_count": 30,
     "metadata": {},
     "output_type": "execute_result"
    }
   ],
   "source": [
    "tok_trn[0]"
   ]
  },
  {
   "cell_type": "code",
   "execution_count": 31,
   "metadata": {},
   "outputs": [],
   "source": [
    "(LM_PATH/'tmp').mkdir(exist_ok=True)"
   ]
  },
  {
   "cell_type": "code",
   "execution_count": 32,
   "metadata": {},
   "outputs": [],
   "source": [
    "np.save(LM_PATH/'tmp'/'tok_trn.npy', tok_trn)\n",
    "np.save(LM_PATH/'tmp'/'tok_val.npy', tok_val)"
   ]
  },
  {
   "cell_type": "code",
   "execution_count": 33,
   "metadata": {},
   "outputs": [],
   "source": [
    "tok_trn = np.load(LM_PATH/'tmp'/'tok_trn.npy')\n",
    "tok_val = np.load(LM_PATH/'tmp'/'tok_val.npy')"
   ]
  },
  {
   "cell_type": "code",
   "execution_count": 34,
   "metadata": {},
   "outputs": [
    {
     "data": {
      "text/plain": [
       "['ENG',\n",
       " 'ENG',\n",
       " 'NUM',\n",
       " 'പ്രളയക്കെടുതി',\n",
       " 'നേരിടുന്ന',\n",
       " 'കേരളത്തിന്',\n",
       " 'വേണ്ടി',\n",
       " 'ശബ്ദമുയർത്തി',\n",
       " 'അറബ്',\n",
       " 'ആക്ടിവിസ്റ്റ്',\n",
       " 'ഖാലിദ്',\n",
       " 'അൽ',\n",
       " 'അമേരി',\n",
       " '.',\n",
       " 'കേരളം',\n",
       " 'ഇതുവരെ',\n",
       " 'കാണാത്ത',\n",
       " 'പ്രളയത്തെ',\n",
       " 'നേരിടുകയാണെന്നും',\n",
       " 'ദുരിതാശ്വാസ',\n",
       " 'നിധിയിലേക്ക്',\n",
       " 'സഹായം',\n",
       " 'നൽകണമെന്നും',\n",
       " 'അമേരി',\n",
       " 'പറയുന്നു',\n",
       " '.',\n",
       " 'ആക്ട്',\n",
       " 'ഫോർ',\n",
       " 'കേരള',\n",
       " 'എന്ന',\n",
       " 'പ്ലക്കാർഡുയർത്തി',\n",
       " 'തന്റെ',\n",
       " 'ഫെയ്സ്ബുക്ക്',\n",
       " 'പേജിലൂടെയാണ്',\n",
       " 'അമേരി',\n",
       " 'വിഡിയോ',\n",
       " 'പങ്കുവെച്ചത്',\n",
       " '.',\n",
       " 'അമേരയുടെ',\n",
       " 'വാക്കുകൾ',\n",
       " ';',\n",
       " '``',\n",
       " 'നൂറ്റാണ്ടിലെ',\n",
       " 'ഏറ്റവും',\n",
       " 'വലിയ',\n",
       " 'പ്രളയത്തെ',\n",
       " 'നേരിടുകയാണ്',\n",
       " 'ഇന്ത്യയിലെ',\n",
       " 'കേരളം',\n",
       " 'എന്ന',\n",
       " 'സംസ്ഥാനം',\n",
       " '.',\n",
       " 'നൂറിലധികം',\n",
       " 'പേർ',\n",
       " 'മരിച്ചു',\n",
       " '.',\n",
       " 'നിരവധി',\n",
       " 'പേർക്ക്',\n",
       " 'വീടുകൾ',\n",
       " 'നഷ്ടമായി',\n",
       " '.',\n",
       " 'ഡാമുകൾ',\n",
       " 'നിറഞ്ഞൊഴുകുന്നു',\n",
       " '.',\n",
       " 'ഉരുൾപൊട്ടുന്നു',\n",
       " '.',\n",
       " 'വിമാനത്താവളങ്ങൾ',\n",
       " 'അടച്ചിട്ടു',\n",
       " '.',\n",
       " 'ജനങ്ങൾ',\n",
       " 'ദുരിതത്തിലാണ്',\n",
       " '.',\n",
       " 'ഇതെന്ന്',\n",
       " 'തീരുമെന്ന്',\n",
       " 'അവിടുത്തെ',\n",
       " 'ജനങ്ങൾക്ക്',\n",
       " 'അറിയില്ല',\n",
       " ',',\n",
       " 'അടുത്തത്',\n",
       " 'എന്തെന്നും',\n",
       " 'അറിയില്ല',\n",
       " '.',\n",
       " 'മുഖ്യമന്ത്രിയുടെ',\n",
       " 'ദുരിതാശ്വാസനിധിയിലേക്ക്',\n",
       " 'സംഭാവന',\n",
       " 'ചെയ്ത്',\n",
       " 'സഹായിക്കാം',\n",
       " '.',\n",
       " 'യുഎഇയിലുള്ളവർക്ക്',\n",
       " 'ലുലു',\n",
       " 'എക്സ്ചേഞ്ച്',\n",
       " 'വഴിയും',\n",
       " 'മറ്റും',\n",
       " 'പണമയക്കാം',\n",
       " '.',\n",
       " 'എല്ലാവരും',\n",
       " 'ഒരുമിച്ച്',\n",
       " 'നിൽക്കേണ്ട',\n",
       " 'സമയമാണിത്',\n",
       " '.',\n",
       " 'ദുരിതാശ്വാസനിധിയെക്കുറിച്ചുള്ള',\n",
       " 'വിവരങ്ങൾ',\n",
       " 'പരമാവധി',\n",
       " 'ആളുകളിലേക്കെത്തിക്കുക',\n",
       " ',',\n",
       " 'കേരളത്തിൽ',\n",
       " 'നിന്നുള്ള',\n",
       " 'വാര്ത്തകള്',\n",
       " 'ഷെയർ',\n",
       " 'ചെയ്യുക',\n",
       " '.',\n",
       " 'കേരളത്തിലുള്ളവരേ',\n",
       " ',',\n",
       " 'നിങ്ങളെ',\n",
       " 'ഞങ്ങള്',\n",
       " 'കേൾക്കുന്നുണ്ട്',\n",
       " ',',\n",
       " 'പ്രാർഥിക്കുന്നുണ്ട്',\n",
       " '.',\n",
       " \"''\",\n",
       " 'മരണസംഖ്യ',\n",
       " 'ഉയരുന്നു',\n",
       " 'കനത്ത',\n",
       " 'മഴയിലും',\n",
       " 'മഴക്കെടുതിയിലും',\n",
       " 'സംസ്ഥാനത്ത്',\n",
       " 'കഴിഞ്ഞ',\n",
       " 'NUM',\n",
       " 'ദിവസത്തിനിടെ',\n",
       " 'മരിച്ചത്',\n",
       " 'NUM',\n",
       " 'പേര്',\n",
       " '.',\n",
       " 'കഴിഞ്ഞ',\n",
       " 'മൂന്നുദിവസത്തിടെ',\n",
       " 'മാത്രം',\n",
       " 'NUM',\n",
       " 'പേര്',\n",
       " 'മരിച്ചു',\n",
       " '.',\n",
       " 'ഇന്നുമാത്രം',\n",
       " 'NUM',\n",
       " 'ജീവനുകള്',\n",
       " 'പൊലിഞ്ഞു',\n",
       " '.',\n",
       " 'പത്തനംതിട്ട',\n",
       " 'സീതത്തോട്',\n",
       " 'ഉരുൾ',\n",
       " 'പൊട്ടലില്',\n",
       " 'കാണാതായ',\n",
       " 'മുണ്ടൻപാറ',\n",
       " 'പാട്ടാളത്തറയിൽ',\n",
       " 'പ്രമോദിന്റെ',\n",
       " 'മൃതദേഹം',\n",
       " 'കണ്ടെത്തി',\n",
       " '.',\n",
       " 'നെന്മാറയിലും',\n",
       " 'തിരുവിഴാംകുന്നിലും',\n",
       " 'കാണാതായവരുടെ',\n",
       " 'മൃതദേഹങ്ങള്',\n",
       " 'കണ്ടെത്തി',\n",
       " '.',\n",
       " 'കൊച്ചിയില്',\n",
       " 'രക്ഷാപ്രവര്ത്തനത്തിനിടെ',\n",
       " 'സുതാലയത്തില്',\n",
       " 'അശോഖന്',\n",
       " 'മരിച്ചു',\n",
       " '.',\n",
       " 'ചങ്ങാടം',\n",
       " 'മറിഞ്ഞാണ്',\n",
       " 'അപകടം',\n",
       " '.',\n",
       " 'തൃശൂരില്',\n",
       " 'ഇന്ന്',\n",
       " 'നാലുപേര്',\n",
       " 'മരിച്ചു',\n",
       " '.',\n",
       " 'ചാലക്കുടിയില്',\n",
       " 'മരംവീണ്',\n",
       " 'രണ്ട്',\n",
       " 'സ്ത്രീകള്',\n",
       " 'മരിച്ചു',\n",
       " '.',\n",
       " 'കൊടുങ്ങല്ലൂരിലും',\n",
       " 'ആലുവയിലും',\n",
       " 'ഗോതുരുത്തിലും',\n",
       " 'വരന്തരപ്പിള്ളിയിലും',\n",
       " 'ഓരോ',\n",
       " 'മുങ്ങി',\n",
       " 'മരണങ്ങളും',\n",
       " 'ഇന്ന്',\n",
       " 'നടന്നു',\n",
       " '.']"
      ]
     },
     "execution_count": 34,
     "metadata": {},
     "output_type": "execute_result"
    }
   ],
   "source": [
    "tok_trn[5]"
   ]
  },
  {
   "cell_type": "code",
   "execution_count": 35,
   "metadata": {},
   "outputs": [
    {
     "data": {
      "text/plain": [
       "\"ENG ENG NUM പ്രളയക്കെടുതി നേരിടുന്ന കേരളത്തിന് വേണ്ടി ശബ്ദമുയർത്തി അറബ് ആക്ടിവിസ്റ്റ് ഖാലിദ് അൽ അമേരി . കേരളം ഇതുവരെ കാണാത്ത പ്രളയത്തെ നേരിടുകയാണെന്നും ദുരിതാശ്വാസ നിധിയിലേക്ക് സഹായം നൽകണമെന്നും അമേരി പറയുന്നു . ആക്ട് ഫോർ കേരള എന്ന പ്ലക്കാർഡുയർത്തി തന്റെ ഫെയ്സ്ബുക്ക് പേജിലൂടെയാണ് അമേരി വിഡിയോ പങ്കുവെച്ചത് . അമേരയുടെ വാക്കുകൾ ; `` നൂറ്റാണ്ടിലെ ഏറ്റവും വലിയ പ്രളയത്തെ നേരിടുകയാണ് ഇന്ത്യയിലെ കേരളം എന്ന സംസ്ഥാനം . നൂറിലധികം പേർ മരിച്ചു . നിരവധി പേർക്ക് വീടുകൾ നഷ്ടമായി . ഡാമുകൾ നിറഞ്ഞൊഴുകുന്നു . ഉരുൾപൊട്ടുന്നു . വിമാനത്താവളങ്ങൾ അടച്ചിട്ടു . ജനങ്ങൾ ദുരിതത്തിലാണ് . ഇതെന്ന് തീരുമെന്ന് അവിടുത്തെ ജനങ്ങൾക്ക് അറിയില്ല , അടുത്തത് എന്തെന്നും അറിയില്ല . മുഖ്യമന്ത്രിയുടെ ദുരിതാശ്വാസനിധിയിലേക്ക് സംഭാവന ചെയ്ത് സഹായിക്കാം . യുഎഇയിലുള്ളവർക്ക് ലുലു എക്സ്ചേഞ്ച് വഴിയും മറ്റും പണമയക്കാം . എല്ലാവരും ഒരുമിച്ച് നിൽക്കേണ്ട സമയമാണിത് . ദുരിതാശ്വാസനിധിയെക്കുറിച്ചുള്ള വിവരങ്ങൾ പരമാവധി ആളുകളിലേക്കെത്തിക്കുക , കേരളത്തിൽ നിന്നുള്ള വാര്ത്തകള് ഷെയർ ചെയ്യുക . കേരളത്തിലുള്ളവരേ , നിങ്ങളെ ഞങ്ങള് കേൾക്കുന്നുണ്ട് , പ്രാർഥിക്കുന്നുണ്ട് . '' മരണസംഖ്യ ഉയരുന്നു കനത്ത മഴയിലും മഴക്കെടുതിയിലും സംസ്ഥാനത്ത് കഴിഞ്ഞ NUM ദിവസത്തിനിടെ മരിച്ചത് NUM പേര് . കഴിഞ്ഞ മൂന്നുദിവസത്തിടെ മാത്രം NUM പേര് മരിച്ചു . ഇന്നുമാത്രം NUM ജീവനുകള് പൊലിഞ്ഞു . പത്തനംതിട്ട സീതത്തോട് ഉരുൾ പൊട്ടലില് കാണാതായ മുണ്ടൻപാറ പാട്ടാളത്തറയിൽ പ്രമോദിന്റെ മൃതദേഹം കണ്ടെത്തി . നെന്മാറയിലും തിരുവിഴാംകുന്നിലും കാണാതായവരുടെ മൃതദേഹങ്ങള് കണ്ടെത്തി . കൊച്ചിയില് രക്ഷാപ്രവര്ത്തനത്തിനിടെ സുതാലയത്തില് അശോഖന് മരിച്ചു . ചങ്ങാടം മറിഞ്ഞാണ് അപകടം . തൃശൂരില് ഇന്ന് നാലുപേര് മരിച്ചു . ചാലക്കുടിയില് മരംവീണ് രണ്ട് സ്ത്രീകള് മരിച്ചു . കൊടുങ്ങല്ലൂരിലും ആലുവയിലും ഗോതുരുത്തിലും വരന്തരപ്പിള്ളിയിലും ഓരോ മുങ്ങി മരണങ്ങളും ഇന്ന് നടന്നു .\""
      ]
     },
     "execution_count": 35,
     "metadata": {},
     "output_type": "execute_result"
    }
   ],
   "source": [
    "' '.join(tok_trn[5])"
   ]
  },
  {
   "cell_type": "code",
   "execution_count": 36,
   "metadata": {
    "scrolled": true
   },
   "outputs": [
    {
     "data": {
      "text/plain": [
       "[('.', 124629),\n",
       " ('ENG', 39424),\n",
       " ('NUM', 25848),\n",
       " (',', 20192),\n",
       " ('ഒരു', 6616),\n",
       " ('ഈ', 5353),\n",
       " ('എന്ന', 3783),\n",
       " ('പറഞ്ഞു', 3644),\n",
       " ('നിന്ന്', 3347),\n",
       " ('തന്നെ', 3162),\n",
       " ('ആ', 2492),\n",
       " ('പൊലീസ്', 2381),\n",
       " ('പുതിയ', 1902),\n",
       " ('’', 1841),\n",
       " ('‘', 1721),\n",
       " ('കഴിഞ്ഞ', 1681),\n",
       " ('എന്നാൽ', 1666),\n",
       " ('?', 1586),\n",
       " ('പറയുന്നു', 1582),\n",
       " ('ചെയ്തു', 1562),\n",
       " ('ശേഷം', 1486),\n",
       " ('എന്ന്', 1449),\n",
       " ('അദ്ദേഹം', 1411),\n",
       " ('ചിത്രം', 1409),\n",
       " ('വലിയ', 1407)]"
      ]
     },
     "execution_count": 36,
     "metadata": {},
     "output_type": "execute_result"
    }
   ],
   "source": [
    "freq = Counter(p for o in tok_trn for p in o)\n",
    "freq.most_common(25)"
   ]
  },
  {
   "cell_type": "markdown",
   "metadata": {},
   "source": [
    "The *vocab* is the **unique set of all tokens** in our dataset. The vocab provides us a way for us to simply replace each word in our datasets with a unique integer called an index.\n",
    "\n",
    "In a large corpus of data one might find some rare words which are only used a few times in the whole dataset. We discard such rare words and avoid trying to learn meaningful patterns out of them.\n",
    "\n",
    "Here we have set a minimum frequency of occurence to 2 times. It has been observed by NLP practicioners that a maximum vocab of 60k usually yields good results for classification tasks. So we set maz_vocab to 60000."
   ]
  },
  {
   "cell_type": "code",
   "execution_count": 37,
   "metadata": {},
   "outputs": [],
   "source": [
    "max_vocab = 60000\n",
    "min_freq = 1"
   ]
  },
  {
   "cell_type": "code",
   "execution_count": 38,
   "metadata": {},
   "outputs": [],
   "source": [
    "itos = [o for o,c in freq.most_common(max_vocab) if c>min_freq]\n",
    "itos.insert(0, '_pad_')\n",
    "itos.insert(0, '_unk_')"
   ]
  },
  {
   "cell_type": "markdown",
   "metadata": {},
   "source": [
    "We create a reverse mapping called stoi which is useful to lookup the index of a given token. stoi also has the same number of elements as itos. We use a high performance container called [collections.defaultdict](https://docs.python.org/2/library/collections.html#collections.defaultdict) to store our stoi mapping."
   ]
  },
  {
   "cell_type": "code",
   "execution_count": 39,
   "metadata": {},
   "outputs": [
    {
     "data": {
      "text/plain": [
       "60002"
      ]
     },
     "execution_count": 39,
     "metadata": {},
     "output_type": "execute_result"
    }
   ],
   "source": [
    "stoi = collections.defaultdict(lambda:0, {v:k for k,v in enumerate(itos)})\n",
    "len(itos)"
   ]
  },
  {
   "cell_type": "code",
   "execution_count": 40,
   "metadata": {},
   "outputs": [],
   "source": [
    "trn_lm = np.array([[stoi[o] for o in p] for p in tok_trn])\n",
    "val_lm = np.array([[stoi[o] for o in p] for p in tok_val])"
   ]
  },
  {
   "cell_type": "code",
   "execution_count": 41,
   "metadata": {},
   "outputs": [],
   "source": [
    "np.save(LM_PATH/'tmp'/'trn_ids.npy', trn_lm)\n",
    "np.save(LM_PATH/'tmp'/'val_ids.npy', val_lm)\n",
    "pickle.dump(itos, open(LM_PATH/'tmp'/'itos.pkl', 'wb'))"
   ]
  },
  {
   "cell_type": "code",
   "execution_count": 55,
   "metadata": {},
   "outputs": [],
   "source": [
    "trn_lm = np.load(LM_PATH/'tmp'/'trn_ids.npy')\n",
    "val_lm = np.load(LM_PATH/'tmp'/'val_ids.npy')\n",
    "itos = pickle.load(open(LM_PATH/'tmp'/'itos.pkl', 'rb'))"
   ]
  },
  {
   "cell_type": "code",
   "execution_count": 56,
   "metadata": {},
   "outputs": [
    {
     "data": {
      "text/plain": [
       "(60002, 8426)"
      ]
     },
     "execution_count": 56,
     "metadata": {},
     "output_type": "execute_result"
    }
   ],
   "source": [
    "vs=len(itos)\n",
    "vs,len(trn_lm)"
   ]
  },
  {
   "cell_type": "markdown",
   "metadata": {},
   "source": [
    "## wikitext conversion"
   ]
  },
  {
   "cell_type": "markdown",
   "metadata": {},
   "source": [
    "We could start from scratch and try to learn the structure of the Malayalam language. But we use a technique called transfer learning to make this process easier. In transfer learning (a fairly recent idea for NLP) a pre-trained LM that has been trained on a large generic corpus(_like wikipedia articles_) can be used to transfer it's knowledge to a target LM and the weights can be fine-tuned.\n",
    "\n",
    "We are using malayalam article dataset, see README\n",
    "\n",
    "The language model for wikitexthas been pre-trained and the weights can be downloaded here: [Link](https://www.dropbox.com/sh/a9wmsg5cjpzmyg1/AABmyHP-4bLmqrwJSB5-KeU1a?dl=0). "
   ]
  },
  {
   "cell_type": "markdown",
   "metadata": {},
   "source": [
    "The pre-trained LM weights have an embedding size of 400, 1150 hidden units and just 3 layers. We need to match these values  with the target news LM so that the weights can be loaded up."
   ]
  },
  {
   "cell_type": "code",
   "execution_count": 58,
   "metadata": {},
   "outputs": [],
   "source": [
    "em_sz,nh,nl = 400,1150,3"
   ]
  },
  {
   "cell_type": "code",
   "execution_count": 59,
   "metadata": {},
   "outputs": [],
   "source": [
    "#path to the news dataset\n",
    "PATH2 = Path('news/')"
   ]
  },
  {
   "cell_type": "code",
   "execution_count": 60,
   "metadata": {},
   "outputs": [],
   "source": [
    "#path to the pretrained LM\n",
    "PRE_PATH = Path(\"wiki/ml/\")\n",
    "PRE_LM_PATH = PRE_PATH/'models/fwd_.h5'"
   ]
  },
  {
   "cell_type": "code",
   "execution_count": 61,
   "metadata": {},
   "outputs": [],
   "source": [
    "wgts = torch.load(PRE_LM_PATH, map_location=lambda storage, loc: storage)"
   ]
  },
  {
   "cell_type": "markdown",
   "metadata": {},
   "source": [
    "We calculate the mean of the layer0 encoder weights. This can be used to assign weights to unknown tokens when we transfer to target news LM."
   ]
  },
  {
   "cell_type": "code",
   "execution_count": 62,
   "metadata": {},
   "outputs": [],
   "source": [
    "enc_wgts = to_np(wgts['0.encoder.weight'])\n",
    "row_m = enc_wgts.mean(0)"
   ]
  },
  {
   "cell_type": "code",
   "execution_count": 63,
   "metadata": {},
   "outputs": [],
   "source": [
    "itos2 = pickle.load((PRE_PATH/'tmp/itos.pkl').open('rb'))\n",
    "stoi2 = collections.defaultdict(lambda:-1, {v:k for k,v in enumerate(itos2)})"
   ]
  },
  {
   "cell_type": "markdown",
   "metadata": {},
   "source": [
    "Before we try to transfer the knowledge from wikitext to the news LM, we match up the vocab words and their indexes. \n",
    "We use the defaultdict container once again, to assign mean weights to unknown news tokens that do not exist in wikitext."
   ]
  },
  {
   "cell_type": "code",
   "execution_count": 64,
   "metadata": {},
   "outputs": [],
   "source": [
    "new_w = np.zeros((vs, em_sz), dtype=np.float32)\n",
    "for i,w in enumerate(itos):\n",
    "    r = stoi2[w]\n",
    "    new_w[i] = enc_wgts[r] if r>=0 else row_m"
   ]
  },
  {
   "cell_type": "markdown",
   "metadata": {},
   "source": [
    "We now overwrite the weights into the wgts odict.\n",
    "The decoder module, which we will explore in detail is also loaded with the same weights due to an idea called weight tying."
   ]
  },
  {
   "cell_type": "code",
   "execution_count": 65,
   "metadata": {},
   "outputs": [],
   "source": [
    "wgts['0.encoder.weight'] = T(new_w)\n",
    "wgts['0.encoder_with_dropout.embed.weight'] = T(np.copy(new_w))\n",
    "wgts['1.decoder.weight'] = T(np.copy(new_w))"
   ]
  },
  {
   "cell_type": "markdown",
   "metadata": {},
   "source": [
    "Now that we have the weights prepared, we are ready to create and start training our new news language pytorch model!"
   ]
  },
  {
   "cell_type": "markdown",
   "metadata": {},
   "source": [
    "## Language model\n",
    "Fine Tune our LM using the news dataset."
   ]
  },
  {
   "cell_type": "markdown",
   "metadata": {},
   "source": [
    "It is fairly straightforward to create a new language model using the fastai library. Like every other lesson, our model will have a backbone and a custom head. The backbone in our case is the Malayalam news LM pre-trained with wikitext and the custom head is a linear classifier. In this section we will focus on the backbone LM and the next section will talk about the classifier custom head.\n",
    "\n",
    "bptt (*also known traditionally in NLP LM as ngrams*) in fastai LMs is approximated to a std. deviation around 70, by perturbing the sequence length on a per-batch basis. This is akin to shuffling our data in computer vision, only that in NLP we cannot shuffle inputs and we have to maintain statefulness. \n",
    "\n",
    "Since we are predicting words using ngrams, we want our next batch to line up with the end-points of the previous mini-batch's items. batch-size is constant and but the fastai library expands and contracts bptt each mini-batch using a clever stochastic implementation of a batch. (original credits attributed to [Smerity](https://twitter.com/jeremyphoward/status/980227258395770882))"
   ]
  },
  {
   "cell_type": "code",
   "execution_count": 66,
   "metadata": {},
   "outputs": [],
   "source": [
    "wd=1e-7\n",
    "bptt=70\n",
    "bs=52\n",
    "opt_fn = partial(optim.Adam, betas=(0.8, 0.99))"
   ]
  },
  {
   "cell_type": "markdown",
   "metadata": {},
   "source": [
    "The goal of the LM is to learn to predict a word/token given a preceeding set of words(tokens). We take all the movie reviews in both the 90% training set and 10% validation set and concatenate them to form long strings of tokens. In fastai, we use the `LanguageModelLoader` to create a data loader which makes it easy to create and use bptt sized mini batches. The  `LanguageModelLoader` takes a concatenated string of tokens and returns a loader.\n",
    "\n",
    "We have a special modeldata object class for LMs called `LanguageModelData` to which we can pass the training and validation loaders and get in return the model itself."
   ]
  },
  {
   "cell_type": "code",
   "execution_count": 67,
   "metadata": {},
   "outputs": [],
   "source": [
    "# from keras.preprocessing.sequence import pad_sequences\n",
    "# trn_lm  = pad_sequences(trn_lm,maxlen=250,padding='post')\n",
    "# val_lm = pad_sequences(val_lm,maxlen=250,padding='post')"
   ]
  },
  {
   "cell_type": "code",
   "execution_count": null,
   "metadata": {},
   "outputs": [],
   "source": []
  },
  {
   "cell_type": "code",
   "execution_count": 68,
   "metadata": {},
   "outputs": [],
   "source": [
    "trn_dl = LanguageModelLoader(np.concatenate(trn_lm), bs, bptt)\n",
    "val_dl = LanguageModelLoader(np.concatenate(val_lm), bs, bptt)\n",
    "md = LanguageModelData(PATH2, 1, vs, trn_dl,val_dl, bs=bs, bptt=bptt)"
   ]
  },
  {
   "cell_type": "markdown",
   "metadata": {},
   "source": [
    "We setup the dropouts for the model - these values have been chosen after experimentation. If you need to update them for custom LMs, you can change the weighting factor (0.7 here) based on the amount of data you have. For more data, you can reduce dropout factor and for small datasets, you can reduce overfitting by choosing a higher dropout factor. *No other dropout value requires tuning*"
   ]
  },
  {
   "cell_type": "code",
   "execution_count": 69,
   "metadata": {},
   "outputs": [],
   "source": [
    "drops = np.array([0.25, 0.1, 0.2, 0.02, 0.15])*0.7"
   ]
  },
  {
   "cell_type": "markdown",
   "metadata": {},
   "source": [
    "We first tune the last embedding layer so that the missing tokens initialized with mean weights get tuned properly. So we freeze everything except the last layer.\n",
    "\n",
    "We also keep track of the *accuracy* metric."
   ]
  },
  {
   "cell_type": "code",
   "execution_count": 70,
   "metadata": {},
   "outputs": [],
   "source": [
    "learner= md.get_model(opt_fn, em_sz, nh, nl, \n",
    "    dropouti=drops[0], dropout=drops[1], wdrop=drops[2], dropoute=drops[3], dropouth=drops[4])\n",
    "\n",
    "learner.metrics = [accuracy]\n",
    "learner.freeze_to(-1)"
   ]
  },
  {
   "cell_type": "code",
   "execution_count": 71,
   "metadata": {},
   "outputs": [],
   "source": [
    "learner.model.load_state_dict(wgts)"
   ]
  },
  {
   "cell_type": "code",
   "execution_count": 72,
   "metadata": {},
   "outputs": [
    {
     "data": {
      "text/plain": [
       "(8426,)"
      ]
     },
     "execution_count": 72,
     "metadata": {},
     "output_type": "execute_result"
    }
   ],
   "source": [
    "trn_lm.shape"
   ]
  },
  {
   "cell_type": "markdown",
   "metadata": {},
   "source": [
    "We set learning rates and fit our news LM. We first run one epoch to tune the last layer which contains the embedding weights. This should help the missing tokens in the wikitext learn better weights."
   ]
  },
  {
   "cell_type": "code",
   "execution_count": 73,
   "metadata": {},
   "outputs": [],
   "source": [
    "lr=1e-3\n",
    "lrs = lr"
   ]
  },
  {
   "cell_type": "code",
   "execution_count": 75,
   "metadata": {},
   "outputs": [
    {
     "data": {
      "application/vnd.jupyter.widget-view+json": {
       "model_id": "05bedb8637e24beb92ac63e2fce6a5a0",
       "version_major": 2,
       "version_minor": 0
      },
      "text/plain": [
       "HBox(children=(IntProgress(value=0, description='Epoch', max=1), HTML(value='')))"
      ]
     },
     "metadata": {},
     "output_type": "display_data"
    },
    {
     "name": "stdout",
     "output_type": "stream",
     "text": [
      "epoch      trn_loss   val_loss   accuracy                   \n",
      "    0      6.971147   6.238319   0.289476  \n",
      "\n"
     ]
    },
    {
     "data": {
      "text/plain": [
       "[array([6.23832]), 0.2894755892048672]"
      ]
     },
     "execution_count": 75,
     "metadata": {},
     "output_type": "execute_result"
    }
   ],
   "source": [
    "learner.fit(lrs/2, 1, wds=wd, use_clr=(32,2), cycle_len=1)"
   ]
  },
  {
   "cell_type": "markdown",
   "metadata": {},
   "source": [
    "Note that we print out accuracy and keep track of how often we end up predicting the target word correctly. While this is a good metric to check, it is not part of our loss function as it can get quite bumpy. We only minimize cross-entropy loss in the LM.\n",
    "\n",
    "The exponent of the cross-entropy loss is called the perplexity of the LM. (low perplexity is better)."
   ]
  },
  {
   "cell_type": "code",
   "execution_count": 76,
   "metadata": {},
   "outputs": [],
   "source": [
    "learner.save('lm_last_ft')"
   ]
  },
  {
   "cell_type": "code",
   "execution_count": 77,
   "metadata": {},
   "outputs": [],
   "source": [
    "learner.load('lm_last_ft')"
   ]
  },
  {
   "cell_type": "code",
   "execution_count": 78,
   "metadata": {},
   "outputs": [],
   "source": [
    "learner.unfreeze()"
   ]
  },
  {
   "cell_type": "code",
   "execution_count": 79,
   "metadata": {},
   "outputs": [
    {
     "data": {
      "application/vnd.jupyter.widget-view+json": {
       "model_id": "b17b06e49e7b4793b95e4341b0651990",
       "version_major": 2,
       "version_minor": 0
      },
      "text/plain": [
       "HBox(children=(IntProgress(value=0, description='Epoch', max=1), HTML(value='')))"
      ]
     },
     "metadata": {},
     "output_type": "display_data"
    },
    {
     "name": "stdout",
     "output_type": "stream",
     "text": [
      "epoch      trn_loss   val_loss   accuracy                   \n",
      "    0      6.468911   5.840285   0.306474  \n",
      "\n"
     ]
    }
   ],
   "source": [
    "learner.lr_find(start_lr=lrs/10, end_lr=lrs*10, linear=True)"
   ]
  },
  {
   "cell_type": "code",
   "execution_count": 80,
   "metadata": {},
   "outputs": [
    {
     "data": {
      "image/png": "[encoded data removed]",
      "text/plain": [
       "<Figure size 432x288 with 1 Axes>"
      ]
     },
     "metadata": {
      "needs_background": "light"
     },
     "output_type": "display_data"
    }
   ],
   "source": [
    "learner.sched.plot()"
   ]
  },
  {
   "cell_type": "code",
   "execution_count": 81,
   "metadata": {
    "scrolled": false
   },
   "outputs": [
    {
     "data": {
      "application/vnd.jupyter.widget-view+json": {
       "model_id": "13b3e94452d346d690668d075697d09d",
       "version_major": 2,
       "version_minor": 0
      },
      "text/plain": [
       "HBox(children=(IntProgress(value=0, description='Epoch', max=15), HTML(value='')))"
      ]
     },
     "metadata": {},
     "output_type": "display_data"
    },
    {
     "name": "stdout",
     "output_type": "stream",
     "text": [
      "epoch      trn_loss   val_loss   accuracy                   \n",
      "    0      6.533936   5.901477   0.313534  \n",
      "    1      6.139462   5.6191     0.31827                    \n",
      "    2      5.737526   5.462279   0.320515                   \n",
      "    3      5.442615   5.386766   0.317344                   \n",
      "    4      5.231953   5.297448   0.32366                    \n",
      "    5      4.980866   5.317917   0.317079                   \n",
      "    6      4.80736    5.284127   0.319                      \n",
      "    7      4.662245   5.271721   0.316765                   \n",
      "    8      4.499108   5.27554    0.319053                   \n",
      "    9      4.501692   5.193139   0.324765                   \n",
      "    10     4.347641   5.23655    0.320109                   \n",
      "    11     4.188502   5.282732   0.316333                   \n",
      "    12     4.166089   5.267878   0.317631                   \n",
      "    13     4.053047   5.282663   0.316249                   \n",
      "    14     4.128179   5.269152   0.317855                   \n",
      "\n"
     ]
    },
    {
     "data": {
      "text/plain": [
       "[array([5.26915]), 0.3178545034970631]"
      ]
     },
     "execution_count": 81,
     "metadata": {},
     "output_type": "execute_result"
    }
   ],
   "source": [
    "learner.fit(lrs, 1, wds=wd, use_clr=(20,10), cycle_len=15)"
   ]
  },
  {
   "cell_type": "markdown",
   "metadata": {},
   "source": [
    "We save the trained model weights and separately save the encoder part of the LM model as well. This will serve as our backbone in the classification task model."
   ]
  },
  {
   "cell_type": "code",
   "execution_count": 82,
   "metadata": {},
   "outputs": [],
   "source": [
    "learner.save('lm1')"
   ]
  },
  {
   "cell_type": "code",
   "execution_count": 83,
   "metadata": {},
   "outputs": [],
   "source": [
    "learner.save_encoder('lm1_enc')"
   ]
  },
  {
   "cell_type": "code",
   "execution_count": 84,
   "metadata": {},
   "outputs": [
    {
     "data": {
      "image/png": "[encoded data removed]",
      "text/plain": [
       "<Figure size 432x288 with 1 Axes>"
      ]
     },
     "metadata": {
      "needs_background": "light"
     },
     "output_type": "display_data"
    }
   ],
   "source": [
    "learner.sched.plot_loss()"
   ]
  },
  {
   "cell_type": "markdown",
   "metadata": {},
   "source": [
    "## Classifier tokens"
   ]
  },
  {
   "cell_type": "markdown",
   "metadata": {},
   "source": [
    "The classifier model is basically a linear layer custom head on top of the LM backbone. Setting up the classifier data is similar to the LM data setup except that we cannot use the unsup movie reviews this time."
   ]
  },
  {
   "cell_type": "code",
   "execution_count": 85,
   "metadata": {},
   "outputs": [],
   "source": [
    "df_trn = pd.read_csv(CLAS_PATH/'train.csv', header=None)\n",
    "df_val = pd.read_csv(CLAS_PATH/'test.csv', header=None)"
   ]
  },
  {
   "cell_type": "code",
   "execution_count": 86,
   "metadata": {},
   "outputs": [],
   "source": [
    "# from sklearn.preprocessing import LabelEncoder\n",
    "# lb = LabelEncoder()"
   ]
  },
  {
   "cell_type": "code",
   "execution_count": 87,
   "metadata": {},
   "outputs": [],
   "source": [
    "# df_trn[0] = lb.fit_transform(df_trn.values[::,0])\n",
    "# df_val[0] = lb.transform(df_val.values[::,0])"
   ]
  },
  {
   "cell_type": "code",
   "execution_count": 88,
   "metadata": {},
   "outputs": [],
   "source": [
    "df_trn.to_csv(CLAS_PATH/'train.csv', header=False, index=False)\n",
    "df_val.to_csv(CLAS_PATH/'test.csv', header=False, index=False)"
   ]
  },
  {
   "cell_type": "code",
   "execution_count": 89,
   "metadata": {},
   "outputs": [],
   "source": [
    "df_trn = pd.read_csv(CLAS_PATH/'train.csv', header=None,chunksize=chunksize)\n",
    "df_val = pd.read_csv(CLAS_PATH/'test.csv', header=None,chunksize=chunksize)"
   ]
  },
  {
   "cell_type": "code",
   "execution_count": 90,
   "metadata": {},
   "outputs": [
    {
     "name": "stdout",
     "output_type": "stream",
     "text": [
      "0\n",
      "0\n"
     ]
    }
   ],
   "source": [
    "tok_trn, trn_labels = get_all(df_trn, 1)\n",
    "tok_val, val_labels = get_all(df_val, 1)"
   ]
  },
  {
   "cell_type": "code",
   "execution_count": 91,
   "metadata": {},
   "outputs": [],
   "source": [
    "(CLAS_PATH/'tmp').mkdir(exist_ok=True)\n",
    "\n",
    "np.save(CLAS_PATH/'tmp'/'tok_trn.npy', tok_trn)\n",
    "np.save(CLAS_PATH/'tmp'/'tok_val.npy', tok_val)\n",
    "\n",
    "np.save(CLAS_PATH/'tmp'/'trn_labels.npy', trn_labels)\n",
    "np.save(CLAS_PATH/'tmp'/'val_labels.npy', val_labels)"
   ]
  },
  {
   "cell_type": "code",
   "execution_count": 92,
   "metadata": {},
   "outputs": [],
   "source": [
    "tok_trn = np.load(CLAS_PATH/'tmp'/'tok_trn.npy')\n",
    "tok_val = np.load(CLAS_PATH/'tmp'/'tok_val.npy')"
   ]
  },
  {
   "cell_type": "code",
   "execution_count": 93,
   "metadata": {},
   "outputs": [
    {
     "data": {
      "text/plain": [
       "60002"
      ]
     },
     "execution_count": 93,
     "metadata": {},
     "output_type": "execute_result"
    }
   ],
   "source": [
    "itos = pickle.load((LM_PATH/'tmp'/'itos.pkl').open('rb'))\n",
    "stoi = collections.defaultdict(lambda:0, {v:k for k,v in enumerate(itos)})\n",
    "len(itos)"
   ]
  },
  {
   "cell_type": "code",
   "execution_count": 94,
   "metadata": {},
   "outputs": [],
   "source": [
    "trn_clas = np.array([[stoi[o] for o in p] for p in tok_trn])\n",
    "val_clas = np.array([[stoi[o] for o in p] for p in tok_val])"
   ]
  },
  {
   "cell_type": "code",
   "execution_count": 95,
   "metadata": {},
   "outputs": [],
   "source": [
    "np.save(CLAS_PATH/'tmp'/'trn_ids.npy', trn_clas)\n",
    "np.save(CLAS_PATH/'tmp'/'val_ids.npy', val_clas)"
   ]
  },
  {
   "cell_type": "markdown",
   "metadata": {},
   "source": [
    "## Classifier"
   ]
  },
  {
   "cell_type": "markdown",
   "metadata": {},
   "source": [
    "Now we can create our final model, a classifier which is really a custom linear head over our trained news. The steps to create the classifier model are similar to the ones for the LM."
   ]
  },
  {
   "cell_type": "code",
   "execution_count": 96,
   "metadata": {},
   "outputs": [],
   "source": [
    "trn_clas = np.load(CLAS_PATH/'tmp'/'trn_ids.npy')\n",
    "val_clas = np.load(CLAS_PATH/'tmp'/'val_ids.npy')"
   ]
  },
  {
   "cell_type": "code",
   "execution_count": 97,
   "metadata": {},
   "outputs": [],
   "source": [
    "trn_labels = np.squeeze(np.load(CLAS_PATH/'tmp'/'trn_labels.npy'))\n",
    "val_labels = np.squeeze(np.load(CLAS_PATH/'tmp'/'val_labels.npy'))"
   ]
  },
  {
   "cell_type": "code",
   "execution_count": 98,
   "metadata": {},
   "outputs": [],
   "source": [
    "bptt,em_sz,nh,nl = 70,400,1150,3\n",
    "vs = len(itos)\n",
    "opt_fn = partial(optim.Adam, betas=(0.8, 0.99))\n",
    "bs = 48"
   ]
  },
  {
   "cell_type": "code",
   "execution_count": 99,
   "metadata": {},
   "outputs": [],
   "source": [
    "min_lbl = trn_labels.min()\n",
    "trn_labels -= min_lbl\n",
    "val_labels -= min_lbl\n",
    "c=int(trn_labels.max())+1"
   ]
  },
  {
   "cell_type": "code",
   "execution_count": 100,
   "metadata": {},
   "outputs": [],
   "source": [
    "trn_ds = TextDataset(trn_clas, trn_labels)\n",
    "val_ds = TextDataset(val_clas, val_labels)\n",
    "trn_samp = SortishSampler(trn_clas, key=lambda x: len(trn_clas[x]), bs=bs//2)\n",
    "val_samp = SortSampler(val_clas, key=lambda x: len(val_clas[x]))\n",
    "trn_dl = DataLoader(trn_ds, bs//2, transpose=True, num_workers=1, pad_idx=1, sampler=trn_samp)\n",
    "val_dl = DataLoader(val_ds, bs, transpose=True, num_workers=1, pad_idx=1, sampler=val_samp)\n",
    "md = ModelData(PATH, trn_dl, val_dl)"
   ]
  },
  {
   "cell_type": "code",
   "execution_count": 101,
   "metadata": {},
   "outputs": [],
   "source": [
    "# part 1\n",
    "dps = np.array([0.4, 0.5, 0.05, 0.3, 0.1])"
   ]
  },
  {
   "cell_type": "code",
   "execution_count": 102,
   "metadata": {},
   "outputs": [],
   "source": [
    "dps = np.array([0.4,0.5,0.05,0.3,0.4])*0.5"
   ]
  },
  {
   "cell_type": "code",
   "execution_count": 103,
   "metadata": {
    "scrolled": true
   },
   "outputs": [],
   "source": [
    "m = get_rnn_classifer(bptt, 20*70, c, vs, emb_sz=em_sz, n_hid=nh, n_layers=nl, pad_token=1,layers=[em_sz*3, 50, c], drops=[dps[4], 0.1],dropouti=dps[0], wdrop=dps[1], dropoute=dps[2], dropouth=dps[3])"
   ]
  },
  {
   "cell_type": "code",
   "execution_count": 104,
   "metadata": {},
   "outputs": [],
   "source": [
    "opt_fn = partial(optim.Adam, betas=(0.7, 0.99))"
   ]
  },
  {
   "cell_type": "code",
   "execution_count": 105,
   "metadata": {},
   "outputs": [],
   "source": [
    "learn = RNN_Learner(md, TextModel(to_gpu(m)), opt_fn=opt_fn)\n",
    "learn.reg_fn = partial(seq2seq_reg, alpha=2, beta=1)\n",
    "learn.clip=25.\n",
    "learn.metrics = [accuracy]"
   ]
  },
  {
   "cell_type": "code",
   "execution_count": 106,
   "metadata": {},
   "outputs": [],
   "source": [
    "lr=3e-3\n",
    "lrm = 2.6\n",
    "lrs = np.array([lr/(lrm**4), lr/(lrm**3), lr/(lrm**2), lr/lrm, lr])"
   ]
  },
  {
   "cell_type": "code",
   "execution_count": 107,
   "metadata": {},
   "outputs": [],
   "source": [
    "lrs=np.array([1e-4,1e-4,1e-4,1e-3,1e-2])"
   ]
  },
  {
   "cell_type": "code",
   "execution_count": 108,
   "metadata": {},
   "outputs": [],
   "source": [
    "wd = 1e-7\n",
    "wd = 0\n",
    "learn.load_encoder('lm1_enc')"
   ]
  },
  {
   "cell_type": "code",
   "execution_count": 109,
   "metadata": {},
   "outputs": [],
   "source": [
    "learn.freeze_to(-1)"
   ]
  },
  {
   "cell_type": "code",
   "execution_count": 110,
   "metadata": {},
   "outputs": [
    {
     "data": {
      "application/vnd.jupyter.widget-view+json": {
       "model_id": "69e784c132904424aa228444cd1f6dba",
       "version_major": 2,
       "version_minor": 0
      },
      "text/plain": [
       "HBox(children=(IntProgress(value=0, description='Epoch', max=1), HTML(value='')))"
      ]
     },
     "metadata": {},
     "output_type": "display_data"
    },
    {
     "name": "stdout",
     "output_type": "stream",
     "text": [
      " 78%|███████▊  | 276/352 [00:22<00:06, 12.13it/s, loss=2.75] "
     ]
    },
    {
     "data": {
      "image/png": "[encoded data removed]",
      "text/plain": [
       "<Figure size 432x288 with 1 Axes>"
      ]
     },
     "metadata": {
      "needs_background": "light"
     },
     "output_type": "display_data"
    }
   ],
   "source": [
    "learn.lr_find(lrs/1000)\n",
    "learn.sched.plot()"
   ]
  },
  {
   "cell_type": "code",
   "execution_count": 112,
   "metadata": {},
   "outputs": [
    {
     "data": {
      "application/vnd.jupyter.widget-view+json": {
       "model_id": "923b39f1fa1b44a9b14fe5df357b8e17",
       "version_major": 2,
       "version_minor": 0
      },
      "text/plain": [
       "HBox(children=(IntProgress(value=0, description='Epoch', max=1), HTML(value='')))"
      ]
     },
     "metadata": {},
     "output_type": "display_data"
    },
    {
     "name": "stdout",
     "output_type": "stream",
     "text": [
      "epoch      trn_loss   val_loss   accuracy                    \n",
      "    0      0.398827   0.274607   0.911355  \n"
     ]
    },
    {
     "data": {
      "text/plain": [
       "[array([0.27461]), 0.9113550519437481]"
      ]
     },
     "execution_count": 112,
     "metadata": {},
     "output_type": "execute_result"
    }
   ],
   "source": [
    "learn.fit(lrs, 1, wds=wd, cycle_len=1, use_clr=(8,3))"
   ]
  },
  {
   "cell_type": "code",
   "execution_count": 113,
   "metadata": {},
   "outputs": [],
   "source": [
    "learn.save('clas_0')"
   ]
  },
  {
   "cell_type": "code",
   "execution_count": 114,
   "metadata": {},
   "outputs": [],
   "source": [
    "learn.load('clas_0')"
   ]
  },
  {
   "cell_type": "code",
   "execution_count": 115,
   "metadata": {},
   "outputs": [],
   "source": [
    "learn.freeze_to(-2)"
   ]
  },
  {
   "cell_type": "code",
   "execution_count": 116,
   "metadata": {},
   "outputs": [
    {
     "data": {
      "application/vnd.jupyter.widget-view+json": {
       "model_id": "714f17b6ef7e482fb733c21a6df4f279",
       "version_major": 2,
       "version_minor": 0
      },
      "text/plain": [
       "HBox(children=(IntProgress(value=0, description='Epoch', max=1), HTML(value='')))"
      ]
     },
     "metadata": {},
     "output_type": "display_data"
    },
    {
     "name": "stdout",
     "output_type": "stream",
     "text": [
      "epoch      trn_loss   val_loss   accuracy                    \n",
      "    0      0.359585   0.267299   0.898516  \n"
     ]
    },
    {
     "data": {
      "text/plain": [
       "[array([0.2673]), 0.8985162197100847]"
      ]
     },
     "execution_count": 116,
     "metadata": {},
     "output_type": "execute_result"
    }
   ],
   "source": [
    "learn.fit(lrs, 1, wds=wd, cycle_len=1, use_clr=(8,3))"
   ]
  },
  {
   "cell_type": "code",
   "execution_count": 117,
   "metadata": {},
   "outputs": [],
   "source": [
    "learn.save('clas_1')"
   ]
  },
  {
   "cell_type": "code",
   "execution_count": 118,
   "metadata": {},
   "outputs": [],
   "source": [
    "learn.load('clas_1')"
   ]
  },
  {
   "cell_type": "code",
   "execution_count": 119,
   "metadata": {},
   "outputs": [],
   "source": [
    "learn.unfreeze()"
   ]
  },
  {
   "cell_type": "code",
   "execution_count": 120,
   "metadata": {},
   "outputs": [
    {
     "data": {
      "application/vnd.jupyter.widget-view+json": {
       "model_id": "ed3a5401db934540a44c25d4c32d2af4",
       "version_major": 2,
       "version_minor": 0
      },
      "text/plain": [
       "HBox(children=(IntProgress(value=0, description='Epoch', max=14), HTML(value='')))"
      ]
     },
     "metadata": {},
     "output_type": "display_data"
    },
    {
     "name": "stdout",
     "output_type": "stream",
     "text": [
      "epoch      trn_loss   val_loss   accuracy                    \n",
      "    0      0.335852   0.260034   0.90821   \n",
      "    1      0.330256   0.251528   0.905752                    \n",
      "    2      0.318251   0.265104   0.912205                    \n",
      "    3      0.212166   0.259973   0.902437                    \n",
      "    4      0.243213   0.272938   0.921619                    \n",
      "    5      0.138659   0.289464   0.908703                    \n",
      "    6      0.128009   0.322819   0.914114                    \n",
      "    7      0.120581   0.356914   0.922777                     \n",
      "    8      0.103825   0.387603   0.915233                     \n",
      "    9      0.075819   0.31809    0.914823                     \n",
      "    10     0.046834   0.379487   0.913247                     \n",
      "    11     0.0489     0.395307   0.920358                     \n",
      "    12     0.039453   0.397929   0.918573                     \n",
      "    13     0.033615   0.393666   0.920896                     \n"
     ]
    },
    {
     "data": {
      "text/plain": [
       "[array([0.39367]), 0.9208963442373963]"
      ]
     },
     "execution_count": 120,
     "metadata": {},
     "output_type": "execute_result"
    }
   ],
   "source": [
    "learn.fit(lrs, 1, wds=wd, cycle_len=14, use_clr=(32,10))"
   ]
  },
  {
   "cell_type": "code",
   "execution_count": 121,
   "metadata": {},
   "outputs": [
    {
     "data": {
      "image/png": "[encoded data removed]",
      "text/plain": [
       "<Figure size 432x288 with 1 Axes>"
      ]
     },
     "metadata": {
      "needs_background": "light"
     },
     "output_type": "display_data"
    }
   ],
   "source": [
    "learn.sched.plot_loss()"
   ]
  },
  {
   "cell_type": "code",
   "execution_count": 122,
   "metadata": {},
   "outputs": [],
   "source": [
    "#save the weight for prediction.\n",
    "learn.save('clas_2')"
   ]
  }
 ],
 "metadata": {
  "_draft": {
   "nbviewer_url": "https://gist.github.com/0dd0df21cf404cf2bb51d0148c8b7d8b"
  },
  "gist": {
   "data": {
    "description": "fastai.text imdb example",
    "public": true
   },
   "id": "0dd0df21cf404cf2bb51d0148c8b7d8b"
  },
  "kernelspec": {
   "display_name": "Python 3",
   "language": "python",
   "name": "python3"
  },
  "language_info": {
   "codemirror_mode": {
    "name": "ipython",
    "version": 3
   },
   "file_extension": ".py",
   "mimetype": "text/x-python",
   "name": "python",
   "nbconvert_exporter": "python",
   "pygments_lexer": "ipython3",
   "version": "3.6.6"
  },
  "toc": {
   "colors": {
    "hover_highlight": "#DAA520",
    "navigate_num": "#000000",
    "navigate_text": "#333333",
    "running_highlight": "#FF0000",
    "selected_highlight": "#FFD700",
    "sidebar_border": "#EEEEEE",
    "wrapper_background": "#FFFFFF"
   },
   "moveMenuLeft": true,
   "nav_menu": {
    "height": "86px",
    "width": "252px"
   },
   "navigate_menu": true,
   "number_sections": true,
   "sideBar": true,
   "threshold": 4,
   "toc_cell": false,
   "toc_section_display": "block",
   "toc_window_display": false,
   "widenNotebook": false
  }
 },
 "nbformat": 4,
 "nbformat_minor": 2
}
