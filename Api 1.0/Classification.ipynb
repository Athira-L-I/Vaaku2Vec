{
 "cells": [
  {
   "cell_type": "code",
   "execution_count": 1,
   "metadata": {},
   "outputs": [],
   "source": [
    "from fastai.text import *\n",
    "import numpy as np\n",
    "from nltk import word_tokenize"
   ]
  },
  {
   "cell_type": "code",
   "execution_count": 2,
   "metadata": {},
   "outputs": [],
   "source": [
    "class MalyalamTokenizer(BaseTokenizer):\n",
    "    def __init__(self, lang:str):\n",
    "        self.lang = lang\n",
    "        self.re1 = re.compile(r'  +')\n",
    "    \n",
    "    def fixup(self, x):\n",
    "        x = x.replace('#39;', \"'\").replace('amp;', '&').replace('#146;', \"'\").replace(\n",
    "            'nbsp;', ' ').replace('#36;', '$').replace('\\\\n', \"\\n\").replace('quot;', \"'\").replace(\n",
    "            '<br />', \"\\n\").replace('\\\\\"', '\"').replace('<unk>','u_n').replace(' @.@ ','.').replace(\n",
    "            ' @-@ ','-').replace('\\\\', ' \\\\ ').replace('\\u200d','').replace('\\xa0',' ').replace(\n",
    "            '\\u200c','').replace('“',' ').replace('”',' ').replace('\"',' ').replace('\\u200b','')\n",
    "        x = re.sub('[\\(\\[].*?[\\)\\]]', '', x)\n",
    "        x = re.sub('<[^<]+?>', '', x)\n",
    "        x = re.sub('[A-Za-z]+','ENG ', x)\n",
    "        x = re.sub(r'\\d+.?(\\d+)?','NUM ',x).replace(\"(\",\"\").replace(\")\",\"\")\n",
    "        return self.re1.sub(' ', html.unescape(x))\n",
    "\n",
    "        \n",
    "    def tokenizer(self, t:str) -> List[str]:\n",
    "        t = self.fixup(t)\n",
    "        return word_tokenize(t)"
   ]
  },
  {
   "cell_type": "code",
   "execution_count": 3,
   "metadata": {},
   "outputs": [],
   "source": [
    "tokenizer = Tokenizer(tok_func=MalyalamTokenizer, lang='ml')"
   ]
  },
  {
   "cell_type": "code",
   "execution_count": 4,
   "metadata": {},
   "outputs": [],
   "source": [
    "data_lm = TextLMDataBunch.from_csv(path='wiki/ml/', csv_name='train_class_lm.csv',text_cols=[1],\n",
    "                                 tokenizer=tokenizer)"
   ]
  },
  {
   "cell_type": "code",
   "execution_count": 5,
   "metadata": {},
   "outputs": [
    {
     "data": {
      "text/plain": [
       "60008"
      ]
     },
     "execution_count": 5,
     "metadata": {},
     "output_type": "execute_result"
    }
   ],
   "source": [
    "len(data_lm.vocab.itos)"
   ]
  },
  {
   "cell_type": "code",
   "execution_count": 6,
   "metadata": {},
   "outputs": [
    {
     "data": {
      "text/html": [
       "<table border=\"1\" class=\"dataframe\">\n",
       "  <thead>\n",
       "    <tr style=\"text-align: right;\">\n",
       "      <th>idx</th>\n",
       "      <th>text</th>\n",
       "    </tr>\n",
       "  </thead>\n",
       "  <tbody>\n",
       "    <tr>\n",
       "      <td>0</td>\n",
       "      <td>xxunk ജിഎസ്ടി ഈടാക്കും . ടയര് റീ xxunk xxunk കണക്കാക്കി xxup num ശതമാനം നികുതി ചുമത്തുമെന്നും പരോക്ഷ നികുതി വകുപ്പ് വ്യക്തമാക്കിയിട്ടുണ്ട് . ബസ് ബോഡി നിര്മാണത്തിന് ജിഎസ്ടി ബാധകമാണ് . xxunk അസംസ്കൃത വസ്തു , അവയുടെ വിതരണം , xxunk എല്ലാം കൂടി പരിഗണിച്ചാണ് ജിഎസ്ടി . xxup eng ട്രാന്സ്പോര്ട്ട് കമ്മീഷ്ണറുടെ xxunk വിരുദ്ധമായി ഗതാഗതവകുപ്പില് അധിക തസ്തിക xxunk തീരുമാനം വിവാദത്തിലേക്ക് xxunk കേരള പദ്ധതിക്കായി xxup num മോട്ടോര് വെഹിക്കിള് ഇന്സ്പെക്ടര്മാരുടെ ഉള്പ്പടെ xxup num പേരുടെ തസ്തിക xxunk നീക്കം ഗുണകരമല്ലെന്ന് ഗതാഗതവകുപ്പില് നിന്ന് തന്നെ വിമര്ശനമുയരുന്നു</td>\n",
       "    </tr>\n",
       "    <tr>\n",
       "      <td>1</td>\n",
       "      <td>രാജ്യത്തെ കോടിപതികളുടെ പട്ടികയിലും ക്രമാതീതമായ വളര്ച്ചയുണ്ടായതായും സര്വേയില് നിന്ന് വ്യക്തമാണ് . xxup num ശതകോടീശ്വരന്മാരാണ് കഴിഞ്ഞ വര്ഷം ഉണ്ടായത് . ഇതോടെ രാജ്യത്താകെ ശതകോടീശ്വരന്മാരുടെ എണ്ണം xxup num കടന്നു . xxup num മുതല് പ്രതിവര്ഷം xxup num ശതമാനം വളര്ച്ചയാണ് കോടിപതികളുടെ കാര്യത്തിലുണ്ടാവുന്നത് . ഒരു എ ക്ലാസ് സര്ക്കാര് ജീവനക്കാരന്റെ ഒരു വര്ഷത്തെ വരുമാനം , ഗ്രാമപ്രദേശങ്ങളിലെ മിനിമം വേതനം കൈപ്പറ്റുന്ന ഒരു തൊഴിലാളിക്ക് സമ്പാദിക്കാന് xxup num വര്ഷങ്ങള് വേണ്ടി വരുന്നു എന്നതും ഇന്ത്യയില് നിലനില്ക്കുന്ന കടുത്ത സാമ്പത്തിക അസമത്വത്തിന്റെ അളവ് സൂചിപ്പിക്കുന്നു . ഇന്ത്യയിലെ സമ്പത്തിന്റെ xxup num ശതമാനവും</td>\n",
       "    </tr>\n",
       "    <tr>\n",
       "      <td>2</td>\n",
       "      <td>xxunk ഖാദി ബോര്ഡ് . 'സഖാവ് ' ഷര്ട്ടുകളും മുണ്ടുകളുമാണ് മുഖ്യ ആകര്ഷണം മുപ്പത് ശതമാനം xxunk . 'സഖാവ് ' ഷര്ട്ടുകളും മുണ്ടുകളുമാണ് ഇത്തവണ xxunk താരങ്ങള് . ആകര്ഷകമായ നിറങ്ങളില് , ഡിസൈനുകളില് ഷര്ട്ടുകളും xxunk ഉപഭോക്താക്കളെ കാത്തിരിക്കുന്നു . xxup num രൂപയ്ക്ക് ഷര്ട്ടും xxup num രൂപയ്ക്ക് മുണ്ടും വാങ്ങാം . ഇതുമാത്രമല്ല , xxunk തരം സാരികള് , xxunk , ചുരിദാര് xxunk എല്ലാമുണ്ട് . സര്ക്കാര് – xxunk സ്ഥാപനങ്ങളിലെ ജീവനക്കാര്ക്ക് തുണിത്തരങ്ങളുടെ വില xxunk നല്കിയാല് മതി . പരിധി അമ്പതിനായിരം രൂപയായി വര്ധിപ്പിച്ചിട്ടുണ്ട് . xxunk</td>\n",
       "    </tr>\n",
       "    <tr>\n",
       "      <td>3</td>\n",
       "      <td>മികവ് പരിഗണിച്ചാല് ബല്ജിയം ഫുട്ബോളിലെ സുവര്ണതലമുറയാണ് ഇത്തവണയും ലോകകപ്പില് ഇറങ്ങുന്നത് . മാഞ്ചസ്റ്റര് സിറ്റിയുടെ വിന്സന്റ് കോംപനി , കെവിന് xxunk , മാഞ്ചസ്റ്റര് യുണൈറ്റഡിന്റെ റൊമേലു ലുക്കാക്കു , മൗറീന് xxunk , ചെല്സിയുടെ ഏദന് ഹസാഡ് ബാര്സിലോനയുടെ തോമസ് xxunk കുറഞ്ഞത് ഒരു ലോകകപ്പ് xxunk ഉറപ്പിക്കാന് കെല്പ്പുള്ള താരനിര . xxunk വിങ്ങര് സെക്കന്ഡ് സ്ട്രൈക്കര് പ്ലേ മേക്കര് xxunk വിശ്വസ്തനായ കെവിന് xxunk xxunk . xxunk ആക്സില് xxunk xxunk കൂടി ചേരുമ്പോള് ബല്ജിയം മധ്യനിര കരുത്താര്ജിക്കുന്നു . xxunk xxunk വിന്സന്റ് xxunk തോമസ് xxunk പരിചയസമ്പത്തും ചുവന്ന ചെകുത്താന്മാര്ക്ക്</td>\n",
       "    </tr>\n",
       "    <tr>\n",
       "      <td>4</td>\n",
       "      <td>വന്നെങ്കിലും കേസ് എടുക്കാൻ വിജിലൻസ് ഡയറക്ടർ നിർദേശം xxunk . ഭൂമി തട്ടിപ്പിന്റെ പരാതി നൽകിയ പൊതുപ്രവർത്തകർ വിജിലൻസ് ഡയറക്ടറെ ഉപരോധിക്കാൻ xxunk എഫ് ഐ ആർ ഇട്ട് അന്വേഷണം തുടങ്ങിയത് . വിജിലൻസ് കൊല്ലം xxunk പി കെ അശോക് അന്വേഷിക്കുന്ന കേസിൽ ലാൻഡ് റെക്കോർഡ്സ് വിഭാഗം ഡപ്യൂട്ടി കലക്ടറും xxunk xxunk എംഡിയും പ്രതികളാണ് . xxup num ൽ ഭൂമിക്ക് പട്ടയം നൽകിയിരുന്നുവെന്നും രേഖകൾ കൊട്ടാരക്കര സബ് റജിസ്ട്രാർ xxunk തീ xxunk xxunk റവന്യൂ ഉദ്യോഗസ്ഥരുടെ വാദം xxunk വിജിലൻസിന്റെ xxunk കണ്ടെത്തിയിരിക്കുന്നത് . xxup eng വിശ്വവിഖ്യാതമായ xxunk ലോകകപ്പിനെത്തിയ ടീമാണ്</td>\n",
       "    </tr>\n",
       "  </tbody>\n",
       "</table>"
      ],
      "text/plain": [
       "<IPython.core.display.HTML object>"
      ]
     },
     "metadata": {},
     "output_type": "display_data"
    }
   ],
   "source": [
    "data_lm.show_batch()"
   ]
  },
  {
   "cell_type": "code",
   "execution_count": 7,
   "metadata": {},
   "outputs": [],
   "source": [
    "# data_lm.save(\"data_lm_class.pkl\")"
   ]
  },
  {
   "cell_type": "code",
   "execution_count": 8,
   "metadata": {},
   "outputs": [],
   "source": [
    "data_lm = load_data('wiki/ml/','data_lm_class.pkl')"
   ]
  },
  {
   "cell_type": "code",
   "execution_count": 9,
   "metadata": {},
   "outputs": [],
   "source": [
    "learn = language_model_learner(data_lm,AWD_LSTM, drop_mult=0.3,pretrained=False)"
   ]
  },
  {
   "cell_type": "code",
   "execution_count": 10,
   "metadata": {},
   "outputs": [
    {
     "data": {
      "text/plain": [
       "LanguageLearner(data=TextLMDataBunch;\n",
       "\n",
       "Train: LabelList (7490 items)\n",
       "x: LMTextList\n",
       "xxup eng ഇന്ത്യൻ സിനിമാ ചരിത്രത്തിൽ തന്നെ xxunk xxunk പത്മാവത് ആദ്യ ദിനം നേടിയത് xxup num കോടി രൂപ മാത്രം . ഇതിനു പുറമേ ബുധനാഴ്ച നടന്ന പ്രിവ്യൂ ഷോയിലൂടെ ചിത്രം xxup num കോടി നേടി . xxup num കോടി ചെലവിട്ട് നിർമ്മിച്ച ബ്രഹ്മാണ്ഡ ചിത്രം ആദ്യ ദിനത്തിൽ xxup num xxup num കോടി വരുമാനം xxunk പ്രതീക്ഷ . ചിത്രത്തിനെതിരെ നടന്ന അക്രമ xxunk പ്രതിഷേധങ്ങളും xxunk ചിത്രം വൻ കുതിപ്പ് നടത്തുമെന്ന് തന്നെയാണ് അണിയറക്കാരുടെ പ്രതീക്ഷ . ഒരാഴ്ചയ്ക്കകം ചിത്രം xxup num കോടിയലധികം നേടുമെന്നാണ് പ്രതീക്ഷ . വൻ തോതിൽ പ്രതിഷേധം ഇനി ഉണ്ടാകാൻ xxunk അണിയറ പ്രവർത്തകരുടെ കണക്ക് കൂട്ടൽ . അങ്ങനെ വന്നാൽ ചിത്രം മികച്ച വിജയം നേടുമെന്ന് അവർ കണക്ക് കൂട്ടുന്നു . xxup eng xxup eng xxup -eng xxup eng xxup eng xxup eng xxup eng xxup eng / xxup eng , # xxup eng xxup eng xxup eng xxup eng xxup eng xxup eng xxup num .. xxup eng xxup eng xxup eng xxup eng xxup eng / xxup eng xxup eng xxup -eng xxup eng , xxup eng xxup eng xxup eng ’ xxup eng xxup eng ₹ xxup num / ₹ xxup num xxup eng ... xxup eng xxup num xxup eng , xxup eng xxup num xxup eng . xxup eng : ₹ xxup num xxup eng . xxup eng xxup eng . എന്നാൽ ബാഹുബലി സൃഷ്ടിച്ച ബോക്സ്ഓഫീസ് മാജിക് ആവർത്തിക്കാൻ പത്മാവതിന് xxunk തന്നെയാണ് കലക്ഷൻ സൂചിപ്പിക്കുന്നത് . xxunk xxunk ബാഹുബലി xxup num ആദ്യദിനം വാരിക്കൂട്ടിയത് xxup num കോടി രൂപയാണ് . ബോക്സ്ഓഫീസ് ചരിത്രത്തിൽ തന്നെ ഇത് റെക്കോര്ഡ് ആണ് . ബാഹുബലി ആദ്യ ഭാഗത്തിന്റെ ആദ്യദിന കലക്ഷൻ xxup num കോടിയായിരുന്നു . xxup eng xxup eng xxup eng xxup eng xxup eng xxup eng xxup eng , # xxup eng xxup eng ₹ xxup num xxup eng xxup eng xxup eng xxup eng xxup eng xxup eng . xxunk xxup num xxunk , പികെ കിക്ക് xxunk തുടങ്ങിയവയാണ് ആദ്യ ദിന xxunk റെക്കോർഡ് ഇട്ട മറ്റ് ചിത്രങ്ങൾ .,xxup eng ഇതരസംസ്ഥാന ലോബികളുടെ xxunk കേരളത്തിലെ ചെറുകിട xxunk അടച്ചുപൂട്ടൽ ഭീഷണിയിൽ . xxunk നടത്തിപ്പ് വൻകിട കമ്പനികൾ ഏറ്റെടുത്തതോടെയാണ് ചെറുകിട കർഷകർ പ്രതിസന്ധിയിലായത് . കേരളത്തിലേക്ക് xxunk മരുന്നും തീറ്റയും കയറ്റുമതി ചെയ്യുന്ന കമ്പനികളാണ് ഇവിടുത്തെ ചെറുകിട ഫാമുകൾ ഏറ്റെടുത്ത് തുടങ്ങിയിരിക്കുന്നത് . ഇത്തരത്തിൽ വൻകിട xxunk xxunk കോഴിയുടെ വിലയും കുറഞ്ഞു . പക്ഷേ xxunk അവശേഷിക്കുന്ന ചെറുകിട ഫാം ഉടമകളാണ് . ഉൽപാദന ചിലവ് xxunk രൂപയോളം വരുമ്പോൾ മുപ്പത് രൂപ xxunk വിൽപന . സർക്കാർ ഇടപെട്ട് ചെറുകിട ഫാമുകൾ xxunk കർഷകരുടെ ആവശ്യം . ഇല്ലെങ്കിൽ അവശേഷിക്കുന്ന ഫാമുകൾ xxunk വരുമെന്ന് xxunk പറയുന്നു,xxup eng ആൾക്കൂട്ട വിചാരണയ്ക്ക് ഇരയായി കൊല്ലപ്പെടും xxunk മുസ്ലിം യുവാവിനെ xxunk പൊലീസ് ഓഫീസർ ഗഗൻദീപ് സിങ് സാമൂഹിക മാധ്യമങ്ങളിൽ താരമാകുന്നത് . എന്നാൽ ഇപ്പോൾ ഗഗൻദീപിന് നിരവധി xxunk ലഭിക്കുന്നത് . ഇതുകാരണം ഗഗൻദീപിനെ നിർബന്ധിത അവധിയിൽ xxunk സഹപ്രവർത്തകർ പറയുന്നു . ഈ മാസം xxup num ് ആയിരുന്നു സംഭവം , ഉത്തരാഖണ്ഡിലെ ഗിരിജദേവി ക്ഷേത്രസമുച്ചയത്തില് വച്ചാണ് മുസ്ലിം യുവാവ് തന്റെ പെണ്സുഹൃത്തായ ഹിന്ദു യുവതിയുമായി xxunk അവിടെയെത്തിയ ജനങ്ങൾ യുവാവിനെ xxunk . ആള്ക്കൂട്ട വിചാരണ ഉറപ്പായ സന്ദര്ഭത്തിലാണ് സംഭവം അറിഞ്ഞെത്തിയ എസ്.ഐ . ഗഗന്ദീപ് സിങ്ങ് യുവാവിനെ ജനക്കൂട്ടത്തിനിടയില്നിന്ന് രക്ഷിക്കുന്നത് . ഇതിന്റെ വിഡിയോ സാമൂഹിക മാധ്യമങ്ങളിൽ വൈറലായിരുന്നു . എന്നാലിപ്പോൾ ആൾക്കൂട്ടത്തിന്റെ പ്രവൃത്തിയെ ന്യായീകരിച്ച് xxunk രംഗത്തെത്തിയിരിക്കുകയാണ് . ഒരു മുസ്ലിം യുവാവ് ഹിന്ദു പെൺകുട്ടിയെ കൂട്ടി xxunk വന്നത് ശരിയായില്ലെന്നും ഇത് മതവികാരത്തെ വ്രണപ്പെടുത്തുന്ന സംഭവമാണെന്നുമാണ് രാകേഷ് xxunk എന്ന ബിജെപി എംഎൽഎ പറഞ്ഞത് . സമാനമായ പ്രതികരണമായിരുന്നു മറ്റ് പ്രാദേശിക നേതാക്കളുടെയും . ഈ അവസരത്തിലാണ് സംഭവത്തിൽ പലരും റോൾ മോഡൽ എന്നു വരെ വിശേഷിപ്പിച്ച പൊലീസ് ഉദ്യോഗസ്ഥനെതിരെ വധഭീഷണി ഉയരുന്നത് . എന്നാൽ ഗഗൻദീപിനെ അനുമോദിച്ചും പിന്തുണച്ചും നിരവധി പ്രമുഖർ രംഗത്തെത്തി . ചേതൻ ഭഗത് . തസ്ലീമ xxunk , ഫർഹാൻ അക്തർ തുടങ്ങിയവർ അഭിനന്ദനം അറിയിച്ച് ട്വീറ്റ് ചെയ്തിരുന്നു .,xxup eng xxunk രണ്ടു പെണ്കുട്ടികള് ബുള്ളറ്റില് ഹിമാലയന് യാത്ര വിജയകരമായി പൂര്ത്തിയാക്കി തിരിച്ചെത്തി . പതിനാറു ദിവസമെടുത്താണ് xxunk ബുള്ളറ്റില് മടങ്ങി xxunk കൊടും തണുപ്പും മഞ്ഞും . ഉയരം xxunk xxunk അവസ്ഥ . പലപ്പോഴും മരണം മുന്നില് കണ്ടു . ഇടയ്ക്ക് ബുള്ളറ്റ് മഞ്ഞില് കുടുങ്ങി . അങ്ങനെ , നിരവധി പ്രതിസന്ധികള് മറികടന്ന് ഈ രണ്ടു പെണ്കുട്ടികള് ഹിമാലയം കീഴടക്കി . ചാലക്കുടി സ്വദേശികളായ ആന്ഫി മരിയ ബേബിയും അനഘയും . xxunk ബൈക്ക് യാത്ര ഈ പെണ്കുട്ടികളുടെ സ്വപ്നമായിരുന്നു . ആ സ്വപ്നമാണ് xxunk . xxunk നിന്ന് xxunk , മണാലി വഴിയായിരുന്നു യാത്ര . രണ്ടു പേരും xxunk തൊട്ടേ കൂട്ടുകാരായിരുന്നു . പ്ലസ്ടുവിന് പഠിക്കുമ്പോഴായിരുന്നു xxunk ബൈക്ക് യാത്ര ഇവരുടെ സ്വപ്നത്തില് ഇടംപിടിച്ചത് . വീട്ടുകാര് xxunk xxunk പരിശീലനവും xxunk xxunk യാത്ര കാമറയില് പകര്ത്താന് xxunk കൂടെക്കൂട്ടിയിരുന്നു . കോയമ്പത്തൂരില് xxunk . xxunk മാനേജ്മെന്റ് വിദ്യാര്ഥിനിയാണ് ആന്ഫി . xxunk xxunk ഡിസൈന് കോഴ്സിന് പഠിക്കുന്നു .,xxup eng എ.ഡി.ജി.പി സുധേഷ്കുമാറിന്റെ മകള് പഞ്ചാബിലേക്ക് പോയതോടെ ഗവാസ്കറെ മര്ദിച്ച കേസിലെ രഹസ്യമൊഴിയെടുപ്പ് മുടങ്ങി . ഇതോടെ രഹസ്യമൊഴി രേഖപ്പെടുത്താന് മറ്റൊരു തീയതി തേടി ക്രൈംബ്രാഞ്ച് കോടതിയില് അപേക്ഷ നല്കി . അതേസമയം ഗവാസ്കറുടെ രഹസ്യമൊഴി ഒന്നിന് രേഖപ്പെടുത്തും . എ.ഡി.ജി.പി സുധേഷ്കുമാറിന്റെ മകളുടെ രഹസ്യമൊഴി ചൊവ്വാഴ്ച xxunk കോടതി സമയം അനുവദിച്ചത് . ക്രൈംബ്രാഞ്ച് xxunk നടപടികളും പൂര്ത്തിയാക്കിയിരുന്നു . എന്നാല് എ.ഡി.ജി.പിയുടെ മകള് സ്വന്തം നാടായ പഞ്ചാബിലേക്ക് പോയതോടെ രഹസ്യമൊഴി xxunk . വിദ്യാഭ്യാസ സംബന്ധമായി ഒഴിവാക്കാനാവാത്ത xxunk മറ്റൊരു ദിവസം മൊഴിയെടുക്കാന് തയാറാണെന്നും എ.ഡി.ജി.പിയുടെ കുടുംബം അന്വേഷണസംഘത്തെ അറിയിച്ചിട്ടുണ്ട് . ഇതോടെ എ.ഡി.ജി.പിയുടെ മകള് മടങ്ങിയെത്തുന്ന xxup num ് ശേഷം സമയം അനുവദിക്കണമെന്ന് കാണിച്ച് ക്രൈംബ്രാഞ്ച് കോടതിയില് വീണ്ടും അപേക്ഷ xxunk പുറമെ ഗവാസ്കര് , എ.ഡി.ജി.പിയുടെ പഴ്സനല് xxunk , ചന്ദ്രശേഖരന് നായര് സ്റ്റേഡിയത്തിലെ പൊലീസ് പരിശീലക എന്നിവരുടെ രഹസ്യമൊഴിയാണ് രേഖപ്പെടുത്തുന്നത് . ഇതില് xxunk മൂന്ന് പേരുടെയും ഒന്നാം തീയതി രേഖപ്പെടുത്തും . എ.ഡി.ജി.പിയുടെ മകള് മര്ദിച്ചെന്ന് ഗവാസ്കറും ഗവാസ്കര് മോശമായി പെരുമാറിയെന്ന് പരാതിയില് എ.ഡി.ജി.പിയുടെ മകളും ഉറച്ച് xxunk രഹസ്യമൊഴി രേഖപ്പെടുത്തുന്നത് . രഹസ്യമൊഴിയെടുപ്പ് അടുത്ത മാസം ഒന്നാം തീയതി വരെ നീളുമെന്ന് ഉറപ്പായതോടെ അറസ്റ്റ് xxunk ഉറപ്പായി .\n",
       "y: LMLabelList\n",
       ",,,,\n",
       "Path: wiki/ml;\n",
       "\n",
       "Valid: LabelList (1873 items)\n",
       "x: LMTextList\n",
       "xxup eng xxunk xxunk റോഡിൽ xxunk ബിഎസ്എൻഎൽ ഓഫിസിനു മുന്നിൽ കാറുകൾ xxunk xxunk പരുക്ക് . നടി xxunk xxunk xxunk കെ . xxunk പരുക്കേറ്റത് . ഞായറാഴ്ച രാവിലെ xxunk അപകടം . xxunk xxunk വരികയായിരുന്ന , ഇവർ ഓടിച്ചിരുന്ന കാർ നിയന്ത്രണം വിട്ട് എതിരെ വന്ന കാറിൽ ഇടിക്കുകയായിരുന്നു . ഇടിയുടെ ആഘാതത്തിൽ xxunk കാർ തലകീഴായി മറിഞ്ഞു . തൃപ്പൂണിത്തുറയിലെ സ്വകാര്യ ആശുപത്രിയിൽ പ്രവേശിപ്പിച്ച യുവതിയെ xxunk xxunk പ്രാഥമിക ചികിൽസ നൽകി വിട്ടയച്ചു .,xxup eng xxunk സന്ദേശം മുന്പും ജെസ്ന xxunk സഹോദരന് ജെയ്സ് ജോണ് മനോരമ ന്യൂസ് കൗണ്ടർപോയിന്റിൽ പറഞ്ഞു . അവസാനം കൂട്ടുകാരന് അയച്ച സന്ദേശവും ഇതാണ് . ഈ വിവരങ്ങള് പൊലീസിന് നേരത്തെ കൈമാറിയിരുന്നു . xxunk xxunk . എന്നാല് കുറ്റപ്പെടുത്താന് തെളിവില്ല . ഇതിന്റെ പേരില് അയാള് xxunk ജെയ്സ് ജോണ് xxunk xxunk ' പറഞ്ഞു . xxunk വിളിച്ചത് ആയിരത്തിലേറെ തവണ , xxunk വസ്ത്രം നാളുകളായി കേരള പൊലീസിനെ xxunk ജസ്ന തിരോധാനവുമായി ബന്ധപ്പെട്ട് പൊലീസിന് നിര്ണ്ണായക വിവരങ്ങള് . കേസ് അന്വേഷണം ജസ്നയുടെ ആൺ xxunk നീങ്ങുകയാണ് . ജസ്ന അവസാനം xxunk ഈ xxunk പൊലീസ് സ്ഥിരീകരിച്ചു . പൊലീസ് സ്ഥാപിച്ച xxunk നിന്ന് നിർണായക വിവരങ്ങൾ ലഭിച്ചു . ജസ്നയുടെ വീട്ടിൽ നിന്ന് ലഭിച്ച രക്തക്കറ പുരണ്ട വസ്ത്രങ്ങൾ കേന്ദ്രീകരിച്ചും അന്വേഷണം നടക്കുന്നുണ്ടെന്ന് പത്തനംതിട്ട എസ്.പി . xxunk മനോരമ ന്യൂസിനോട് പറഞ്ഞു . xxunk ആയിരത്തിലേറെ തവണ xxunk വിളിച്ചതായി പൊലീസ് വെളിപ്പെടുത്തുന്നു . സുഹൃത്ത് ചോദ്യം xxunk സഹകരിക്കുന്നില്ല . ഒരു സാധ്യതയും xxunk പത്തനംതിട്ട എസ്.പി . പറഞ്ഞു . ഏറെയും വിവരങ്ങള് ലഭിച്ചത് പൊലീസ് വച്ച xxunk നിന്നാണ് . പത്തനംതിട്ട മുക്കൂട്ടുതറയില് നിന്ന് കാണാതായ ജസ്ന മരിയ xxunk പൊലീസ് xxunk xxunk അന്വേഷണം xxunk വഴിത്തിരിവ് . xxunk അടിസ്ഥാനത്തിലാണ് പ്രത്യേക അന്വേഷണസംഘത്തിന്റെ നീക്കം . xxunk ഗോവയിലും xxunk xxunk കേന്ദ്രീകരിച്ചാണ് പൊലീസിന്റെ അന്വേഷണം . നഗരങ്ങളില് ജസ്നയുടെ ചിത്രങ്ങള് xxunk മലയാളി അസോസിയേഷനുകളുടെ സഹായം തേടുകയും ചെയ്യുന്നുണ്ട് . xxunk കണ്ട പെണ്കുട്ടി xxunk സ്ഥിരീകരിക്കാന് മാത്രമേ ഇതുവരെയുള്ള അന്വേഷണത്തില് xxunk . കേരളത്തിനകത്തും പുറത്തും തിരച്ചില് നടത്തിയെങ്കിലും xxunk ലഭ്യമായിട്ടില്ല . പത്തനംതിട്ട xxunk തറയില് നിന്ന് xxunk മൂന്നുമാസം കഴിഞ്ഞു . അതേസമയം , ജസ്ന xxunk അന്വേഷണം xxunk xxunk ആവശ്യപ്പെട്ട് കോണ്ഗ്രസ് ഇന്ന് നിയമസഭയിലേക്ക് മാര്ച്ച് നടത്തി . പത്തനംതിട്ട xxunk നേതൃത്വത്തിലുള്ള മാര്ച്ചില് കെ.പി.സി.സി പ്രസിഡന്റ് എം.എം . ഹസന് , പ്രതിപക്ഷ നേതാവ് രമേശ് ചെന്നിത്തല തുടങ്ങിയവര് പങ്കെടുത്തു . കേരളത്തിലെ ജനങ്ങള്ക്ക് xxunk ഒരു xxunk ജസ്ന കേസിന്റെ xxunk xxunk ചെന്നിത്തല പരിഹസിച്ചു . ജസ്നയുടെ പിതാവും സഹോദരങ്ങളും മാര്ച്ചില് പങ്കെടുത്തു .,xxup eng ആദ്യത്തേത് സൂപ്പർഹിറ്റ് , പിന്നെ xxunk . തൊട്ടതെല്ലാം xxunk xxunk അങ്കിൾ . ഒരു ചെറിയ ഇടവേളക്കു ശേഷം അങ്കിൾ വീണ്ടും തിരിച്ചെത്തുന്നു . ഇത്തവണ ഹൃതിക് xxunk സൂപ്പർഹിറ്റ് ഗാനം xxunk xxunk ഹേ ക്ക് xxunk നൃത്തച്ചുവടുകളുമായാണ് സഞ്ജീവ് ശ്രീവാസ്തവ എത്തിയിരിക്കുന്നത് . ഹൃതിക് റോഷന് തന്നെയാണ് പ്രകടനം xxunk . xxunk പ്രതികരണം ഇതുവരെ xxunk . സഞ്ജീവ് ശ്രീവാസ്തവ ട്വിറ്ററിലൂടെ പങ്കുവെച്ച വിഡിയോ ഇതിനോടകം ജനങ്ങൾ ഏറ്റെടുത്തു കഴിഞ്ഞു . എന്നാൽ xxunk xxunk ഇതിലൂടെ വേണ്ടെന്നാണ് xxunk xxunk പറയാനുള്ളത് : `` എനിക്ക് ഇതിലൂടെ പണം ആവശ്യമില്ല . ജനങ്ങൾ ഇത് xxunk xxunk സന്തോഷം . ആളുകൾ എൻറെ വിഡിയോകൾ xxunk അവരോട് നന്ദിയുണ്ട് . എൻറെ അമ്മ വിഡിയോ കണ്ടപ്പോൾ ആ xxunk ഒരു xxunk . ആ ചിരി മറക്കാൻ കഴിയില്ല . എൻറെ ഇളയ സഹോദരൻ മരിച്ച ദു : xxunk മറന്ന് xxunk അത് അമ്മയെ സഹായിച്ചു '' . xxunk के xxunk @ xxup eng xxunk ये xxunk xxunk # xxup eng # xxup eng xxup eng xxup .eng xxup .eng / xxup eng xxup num xxup ng xxup num xxup ng xxunk ഒരു സ്വകാര്യ കോളേജിൽ ഇലക്ട്രോണിക്സ് അധ്യാപകനായ ശ്രീവാസ്തവ ശാസ്ത്രീയമായി നൃത്തം xxunk . എങ്കിലും ഏത് xxunk ഒട്ടും xxunk നൃത്തം ചെയ്യാറുണ്ട് . xxunk അമ്മ ഒരു xxunk . ബോളിവുഡ് നടൻ xxunk കടുത്ത ആരാധകനാണ് ഇദ്ദേഹം . ബോളിവുഡ് നടൻ xxunk വലിയ ആരാധകനായ xxunk xxunk ഒന്നിച്ച് നൃത്തം ചെയ്യാനുള്ള അവസരവും ഒരു റിയാലിറ്റി ഷോയിലൂടെ ലഭിച്ചിരുന്നു . ഒരു വിവാഹ xxunk വെച്ച ചുവടുകള് xxunk xxunk അങ്കിൾ തരംഗമായി മാറിയത് . അന്ന് xxunk കൂടെ xxunk . xxup eng xxup eng xxup eng xxup eng @ xxup eng xxup num xxup eng xxup eng xxup eng xxup eng xxup eng xxup eng xxup eng xxup eng xxup eng xxup eng xxup 'eng xxup eng xxup eng xxup eng ! xxup eng xxup eng xxup eng xxup eng xxup eng xxup num xxup eng xxup eng xxup eng xxup eng . # xxup eng xxup eng xxup .eng xxup .eng / xxup eng,xxup eng യു.എ.ഇ ബഹിരാകാശ പദ്ധതിയിലേക്ക് രണ്ടാം ഘട്ടത്തിൽ തിരഞ്ഞെടുക്കപ്പെട്ടത് xxunk പേർ . ശാരീരിക , മാനസിക xxunk xxunk xxunk ശേഷമായിരുന്നു തിരഞ്ഞെടുപ്പ് . യു.എ.ഇയുടെ ആദ്യ ബഹിരാകാശ xxunk അടുത്തവർഷം ഏപ്രിലിൽ രാജ്യാന്തര ബഹിരാകാശ xxunk . നാലായിരം xxunk ആദ്യഘട്ടത്തിൽ തിരഞ്ഞെടുത്ത xxup num xxunk xxunk xxunk മുഹമ്മദ് ബിൻ റാഷിദ് സ്പേസ് സെന്റർ മേധാവി യൂസഫ് അൽ xxunk പറഞ്ഞു . xxunk xxunk ഇടയിൽ xxunk . അവസാനഘട്ട തിരഞ്ഞെടുപ്പ് നടപടികൾ ചൊവ്വാഴ്ച ആരംഭിക്കും . xxunk xxunk നിന്ന് xxunk xxunk ആദ്യം പോകുന്നത് . അടുത്ത മൂന്നു വർഷത്തിനിടെ നാലുപേരെ xxunk എത്തിക്കാനാണ് ശ്രമം . xxunk , എൻജിനീയറിങ് , മെഡിസിൻ , പൊലീസ് , xxunk തുടങ്ങി വിവിധ xxunk തിരഞ്ഞെടുക്കപ്പെട്ടത് . രാജ്യാന്തര ബഹിരാകാശ കേന്ദ്രത്തിലെ സംവിധാനങ്ങൾ ഇവർക്കു xxunk കൂടാതെ , റഷ്യൻ ഭാഷയും xxunk . xxunk , xxunk , മെഡിക്കൽ xxunk , റിസോഴ്സ് മാനേജ്മെന്റ് തുടങ്ങിയ മേഖലകളിൽ xxunk അടുത്ത ഘട്ടം . അതേസമയം , റഷ്യൻ ബഹിരാകാശ xxunk xxunk യു.എ.ഇയുടെ ആദ്യ xxunk രാജ്യാന്തര ബഹിരാകാശ xxunk xxunk . റഷ്യയുടെ xxunk xxunk യാത്ര .,xxup eng ദക്ഷിണ റയിൽവേ ജനറൽ മാനേജർ വിളിച്ച യോഗം xxunk കേരള xxunk . xxunk xxunk പൂർണമായും യോഗത്തിൽ നിന്നു വിട്ടുനിന്നു . ഒരു xxunk ഉൾപ്പെടെ ആറ് xxunk മാത്രമാണ് യോഗത്തിൽ പങ്കെടുത്തത് . പുതുതായി ചുമതലയേറ്റ ജനറൽ മാനേജർ xxunk യോഗം വിളിച്ചത് . സംസ്ഥാനത്തിന്റെ ആവശ്യങ്ങളും പ്രശ്നങ്ങളും xxunk ലക്ഷ്യം . എന്നാൽ ഇരുപത് xxunk കെ സി വേണുഗോപാൽ , എംകെ രാഘവൻ , xxunk , xxunk സുരേഷ് , ആന്റോ ആന്റണി എന്നിവർ മാത്രമാണ് യോഗത്തിന് എത്തിയത് . xxunk നിന്നും പി വി അബ്ദുൽ വഹാബ് മാത്രം . പങ്കെടുത്തവർ തന്നെ യോഗത്തിൽ അവിശ്വാസം രേഖപ്പെടുത്തി . അതേസമയം തിരുവനന്തപുരത്തു നടക്കുന്ന യോഗത്തിൽ തമിഴ്നാട്ടിൽ നിന്നുള്ള രണ്ട് രാജ്യസഭാ xxunk പങ്കെടുത്തു . പാത xxunk പ്രത്യേക റയിൽവേ മേഖലയും ഉൾപ്പെടെ നിരവധി xxunk കേരള എം.പിമാരുടെ xxunk .\n",
       "y: LMLabelList\n",
       ",,,,\n",
       "Path: wiki/ml;\n",
       "\n",
       "Test: None, model=SequentialRNN(\n",
       "  (0): AWD_LSTM(\n",
       "    (encoder): Embedding(60007, 400, padding_idx=1)\n",
       "    (encoder_dp): EmbeddingDropout(\n",
       "      (emb): Embedding(60007, 400, padding_idx=1)\n",
       "    )\n",
       "    (rnns): ModuleList(\n",
       "      (0): WeightDropout(\n",
       "        (module): LSTM(400, 1150, batch_first=True)\n",
       "      )\n",
       "      (1): WeightDropout(\n",
       "        (module): LSTM(1150, 1150, batch_first=True)\n",
       "      )\n",
       "      (2): WeightDropout(\n",
       "        (module): LSTM(1150, 400, batch_first=True)\n",
       "      )\n",
       "    )\n",
       "    (input_dp): RNNDropout()\n",
       "    (hidden_dps): ModuleList(\n",
       "      (0): RNNDropout()\n",
       "      (1): RNNDropout()\n",
       "      (2): RNNDropout()\n",
       "    )\n",
       "  )\n",
       "  (1): LinearDecoder(\n",
       "    (decoder): Linear(in_features=400, out_features=60007, bias=True)\n",
       "    (output_dp): RNNDropout()\n",
       "  )\n",
       "), opt_func=functools.partial(<class 'torch.optim.adam.Adam'>, betas=(0.9, 0.99)), loss_func=FlattenedLoss of CrossEntropyLoss(), metrics=[<function accuracy at 0x7f7b43c4b6a8>], true_wd=True, bn_wd=True, wd=0.01, train_bn=True, path=PosixPath('wiki/ml'), model_dir='models', callback_fns=[functools.partial(<class 'fastai.basic_train.Recorder'>, add_time=True)], callbacks=[RNNTrainer\n",
       "learn: LanguageLearner(data=TextLMDataBunch;\n",
       "\n",
       "Train: LabelList (7490 items)\n",
       "x: LMTextList\n",
       "xxup eng ഇന്ത്യൻ സിനിമാ ചരിത്രത്തിൽ തന്നെ xxunk xxunk പത്മാവത് ആദ്യ ദിനം നേടിയത് xxup num കോടി രൂപ മാത്രം . ഇതിനു പുറമേ ബുധനാഴ്ച നടന്ന പ്രിവ്യൂ ഷോയിലൂടെ ചിത്രം xxup num കോടി നേടി . xxup num കോടി ചെലവിട്ട് നിർമ്മിച്ച ബ്രഹ്മാണ്ഡ ചിത്രം ആദ്യ ദിനത്തിൽ xxup num xxup num കോടി വരുമാനം xxunk പ്രതീക്ഷ . ചിത്രത്തിനെതിരെ നടന്ന അക്രമ xxunk പ്രതിഷേധങ്ങളും xxunk ചിത്രം വൻ കുതിപ്പ് നടത്തുമെന്ന് തന്നെയാണ് അണിയറക്കാരുടെ പ്രതീക്ഷ . ഒരാഴ്ചയ്ക്കകം ചിത്രം xxup num കോടിയലധികം നേടുമെന്നാണ് പ്രതീക്ഷ . വൻ തോതിൽ പ്രതിഷേധം ഇനി ഉണ്ടാകാൻ xxunk അണിയറ പ്രവർത്തകരുടെ കണക്ക് കൂട്ടൽ . അങ്ങനെ വന്നാൽ ചിത്രം മികച്ച വിജയം നേടുമെന്ന് അവർ കണക്ക് കൂട്ടുന്നു . xxup eng xxup eng xxup -eng xxup eng xxup eng xxup eng xxup eng xxup eng / xxup eng , # xxup eng xxup eng xxup eng xxup eng xxup eng xxup eng xxup num .. xxup eng xxup eng xxup eng xxup eng xxup eng / xxup eng xxup eng xxup -eng xxup eng , xxup eng xxup eng xxup eng ’ xxup eng xxup eng ₹ xxup num / ₹ xxup num xxup eng ... xxup eng xxup num xxup eng , xxup eng xxup num xxup eng . xxup eng : ₹ xxup num xxup eng . xxup eng xxup eng . എന്നാൽ ബാഹുബലി സൃഷ്ടിച്ച ബോക്സ്ഓഫീസ് മാജിക് ആവർത്തിക്കാൻ പത്മാവതിന് xxunk തന്നെയാണ് കലക്ഷൻ സൂചിപ്പിക്കുന്നത് . xxunk xxunk ബാഹുബലി xxup num ആദ്യദിനം വാരിക്കൂട്ടിയത് xxup num കോടി രൂപയാണ് . ബോക്സ്ഓഫീസ് ചരിത്രത്തിൽ തന്നെ ഇത് റെക്കോര്ഡ് ആണ് . ബാഹുബലി ആദ്യ ഭാഗത്തിന്റെ ആദ്യദിന കലക്ഷൻ xxup num കോടിയായിരുന്നു . xxup eng xxup eng xxup eng xxup eng xxup eng xxup eng xxup eng , # xxup eng xxup eng ₹ xxup num xxup eng xxup eng xxup eng xxup eng xxup eng xxup eng . xxunk xxup num xxunk , പികെ കിക്ക് xxunk തുടങ്ങിയവയാണ് ആദ്യ ദിന xxunk റെക്കോർഡ് ഇട്ട മറ്റ് ചിത്രങ്ങൾ .,xxup eng ഇതരസംസ്ഥാന ലോബികളുടെ xxunk കേരളത്തിലെ ചെറുകിട xxunk അടച്ചുപൂട്ടൽ ഭീഷണിയിൽ . xxunk നടത്തിപ്പ് വൻകിട കമ്പനികൾ ഏറ്റെടുത്തതോടെയാണ് ചെറുകിട കർഷകർ പ്രതിസന്ധിയിലായത് . കേരളത്തിലേക്ക് xxunk മരുന്നും തീറ്റയും കയറ്റുമതി ചെയ്യുന്ന കമ്പനികളാണ് ഇവിടുത്തെ ചെറുകിട ഫാമുകൾ ഏറ്റെടുത്ത് തുടങ്ങിയിരിക്കുന്നത് . ഇത്തരത്തിൽ വൻകിട xxunk xxunk കോഴിയുടെ വിലയും കുറഞ്ഞു . പക്ഷേ xxunk അവശേഷിക്കുന്ന ചെറുകിട ഫാം ഉടമകളാണ് . ഉൽപാദന ചിലവ് xxunk രൂപയോളം വരുമ്പോൾ മുപ്പത് രൂപ xxunk വിൽപന . സർക്കാർ ഇടപെട്ട് ചെറുകിട ഫാമുകൾ xxunk കർഷകരുടെ ആവശ്യം . ഇല്ലെങ്കിൽ അവശേഷിക്കുന്ന ഫാമുകൾ xxunk വരുമെന്ന് xxunk പറയുന്നു,xxup eng ആൾക്കൂട്ട വിചാരണയ്ക്ക് ഇരയായി കൊല്ലപ്പെടും xxunk മുസ്ലിം യുവാവിനെ xxunk പൊലീസ് ഓഫീസർ ഗഗൻദീപ് സിങ് സാമൂഹിക മാധ്യമങ്ങളിൽ താരമാകുന്നത് . എന്നാൽ ഇപ്പോൾ ഗഗൻദീപിന് നിരവധി xxunk ലഭിക്കുന്നത് . ഇതുകാരണം ഗഗൻദീപിനെ നിർബന്ധിത അവധിയിൽ xxunk സഹപ്രവർത്തകർ പറയുന്നു . ഈ മാസം xxup num ് ആയിരുന്നു സംഭവം , ഉത്തരാഖണ്ഡിലെ ഗിരിജദേവി ക്ഷേത്രസമുച്ചയത്തില് വച്ചാണ് മുസ്ലിം യുവാവ് തന്റെ പെണ്സുഹൃത്തായ ഹിന്ദു യുവതിയുമായി xxunk അവിടെയെത്തിയ ജനങ്ങൾ യുവാവിനെ xxunk . ആള്ക്കൂട്ട വിചാരണ ഉറപ്പായ സന്ദര്ഭത്തിലാണ് സംഭവം അറിഞ്ഞെത്തിയ എസ്.ഐ . ഗഗന്ദീപ് സിങ്ങ് യുവാവിനെ ജനക്കൂട്ടത്തിനിടയില്നിന്ന് രക്ഷിക്കുന്നത് . ഇതിന്റെ വിഡിയോ സാമൂഹിക മാധ്യമങ്ങളിൽ വൈറലായിരുന്നു . എന്നാലിപ്പോൾ ആൾക്കൂട്ടത്തിന്റെ പ്രവൃത്തിയെ ന്യായീകരിച്ച് xxunk രംഗത്തെത്തിയിരിക്കുകയാണ് . ഒരു മുസ്ലിം യുവാവ് ഹിന്ദു പെൺകുട്ടിയെ കൂട്ടി xxunk വന്നത് ശരിയായില്ലെന്നും ഇത് മതവികാരത്തെ വ്രണപ്പെടുത്തുന്ന സംഭവമാണെന്നുമാണ് രാകേഷ് xxunk എന്ന ബിജെപി എംഎൽഎ പറഞ്ഞത് . സമാനമായ പ്രതികരണമായിരുന്നു മറ്റ് പ്രാദേശിക നേതാക്കളുടെയും . ഈ അവസരത്തിലാണ് സംഭവത്തിൽ പലരും റോൾ മോഡൽ എന്നു വരെ വിശേഷിപ്പിച്ച പൊലീസ് ഉദ്യോഗസ്ഥനെതിരെ വധഭീഷണി ഉയരുന്നത് . എന്നാൽ ഗഗൻദീപിനെ അനുമോദിച്ചും പിന്തുണച്ചും നിരവധി പ്രമുഖർ രംഗത്തെത്തി . ചേതൻ ഭഗത് . തസ്ലീമ xxunk , ഫർഹാൻ അക്തർ തുടങ്ങിയവർ അഭിനന്ദനം അറിയിച്ച് ട്വീറ്റ് ചെയ്തിരുന്നു .,xxup eng xxunk രണ്ടു പെണ്കുട്ടികള് ബുള്ളറ്റില് ഹിമാലയന് യാത്ര വിജയകരമായി പൂര്ത്തിയാക്കി തിരിച്ചെത്തി . പതിനാറു ദിവസമെടുത്താണ് xxunk ബുള്ളറ്റില് മടങ്ങി xxunk കൊടും തണുപ്പും മഞ്ഞും . ഉയരം xxunk xxunk അവസ്ഥ . പലപ്പോഴും മരണം മുന്നില് കണ്ടു . ഇടയ്ക്ക് ബുള്ളറ്റ് മഞ്ഞില് കുടുങ്ങി . അങ്ങനെ , നിരവധി പ്രതിസന്ധികള് മറികടന്ന് ഈ രണ്ടു പെണ്കുട്ടികള് ഹിമാലയം കീഴടക്കി . ചാലക്കുടി സ്വദേശികളായ ആന്ഫി മരിയ ബേബിയും അനഘയും . xxunk ബൈക്ക് യാത്ര ഈ പെണ്കുട്ടികളുടെ സ്വപ്നമായിരുന്നു . ആ സ്വപ്നമാണ് xxunk . xxunk നിന്ന് xxunk , മണാലി വഴിയായിരുന്നു യാത്ര . രണ്ടു പേരും xxunk തൊട്ടേ കൂട്ടുകാരായിരുന്നു . പ്ലസ്ടുവിന് പഠിക്കുമ്പോഴായിരുന്നു xxunk ബൈക്ക് യാത്ര ഇവരുടെ സ്വപ്നത്തില് ഇടംപിടിച്ചത് . വീട്ടുകാര് xxunk xxunk പരിശീലനവും xxunk xxunk യാത്ര കാമറയില് പകര്ത്താന് xxunk കൂടെക്കൂട്ടിയിരുന്നു . കോയമ്പത്തൂരില് xxunk . xxunk മാനേജ്മെന്റ് വിദ്യാര്ഥിനിയാണ് ആന്ഫി . xxunk xxunk ഡിസൈന് കോഴ്സിന് പഠിക്കുന്നു .,xxup eng എ.ഡി.ജി.പി സുധേഷ്കുമാറിന്റെ മകള് പഞ്ചാബിലേക്ക് പോയതോടെ ഗവാസ്കറെ മര്ദിച്ച കേസിലെ രഹസ്യമൊഴിയെടുപ്പ് മുടങ്ങി . ഇതോടെ രഹസ്യമൊഴി രേഖപ്പെടുത്താന് മറ്റൊരു തീയതി തേടി ക്രൈംബ്രാഞ്ച് കോടതിയില് അപേക്ഷ നല്കി . അതേസമയം ഗവാസ്കറുടെ രഹസ്യമൊഴി ഒന്നിന് രേഖപ്പെടുത്തും . എ.ഡി.ജി.പി സുധേഷ്കുമാറിന്റെ മകളുടെ രഹസ്യമൊഴി ചൊവ്വാഴ്ച xxunk കോടതി സമയം അനുവദിച്ചത് . ക്രൈംബ്രാഞ്ച് xxunk നടപടികളും പൂര്ത്തിയാക്കിയിരുന്നു . എന്നാല് എ.ഡി.ജി.പിയുടെ മകള് സ്വന്തം നാടായ പഞ്ചാബിലേക്ക് പോയതോടെ രഹസ്യമൊഴി xxunk . വിദ്യാഭ്യാസ സംബന്ധമായി ഒഴിവാക്കാനാവാത്ത xxunk മറ്റൊരു ദിവസം മൊഴിയെടുക്കാന് തയാറാണെന്നും എ.ഡി.ജി.പിയുടെ കുടുംബം അന്വേഷണസംഘത്തെ അറിയിച്ചിട്ടുണ്ട് . ഇതോടെ എ.ഡി.ജി.പിയുടെ മകള് മടങ്ങിയെത്തുന്ന xxup num ് ശേഷം സമയം അനുവദിക്കണമെന്ന് കാണിച്ച് ക്രൈംബ്രാഞ്ച് കോടതിയില് വീണ്ടും അപേക്ഷ xxunk പുറമെ ഗവാസ്കര് , എ.ഡി.ജി.പിയുടെ പഴ്സനല് xxunk , ചന്ദ്രശേഖരന് നായര് സ്റ്റേഡിയത്തിലെ പൊലീസ് പരിശീലക എന്നിവരുടെ രഹസ്യമൊഴിയാണ് രേഖപ്പെടുത്തുന്നത് . ഇതില് xxunk മൂന്ന് പേരുടെയും ഒന്നാം തീയതി രേഖപ്പെടുത്തും . എ.ഡി.ജി.പിയുടെ മകള് മര്ദിച്ചെന്ന് ഗവാസ്കറും ഗവാസ്കര് മോശമായി പെരുമാറിയെന്ന് പരാതിയില് എ.ഡി.ജി.പിയുടെ മകളും ഉറച്ച് xxunk രഹസ്യമൊഴി രേഖപ്പെടുത്തുന്നത് . രഹസ്യമൊഴിയെടുപ്പ് അടുത്ത മാസം ഒന്നാം തീയതി വരെ നീളുമെന്ന് ഉറപ്പായതോടെ അറസ്റ്റ് xxunk ഉറപ്പായി .\n",
       "y: LMLabelList\n",
       ",,,,\n",
       "Path: wiki/ml;\n",
       "\n",
       "Valid: LabelList (1873 items)\n",
       "x: LMTextList\n",
       "xxup eng xxunk xxunk റോഡിൽ xxunk ബിഎസ്എൻഎൽ ഓഫിസിനു മുന്നിൽ കാറുകൾ xxunk xxunk പരുക്ക് . നടി xxunk xxunk xxunk കെ . xxunk പരുക്കേറ്റത് . ഞായറാഴ്ച രാവിലെ xxunk അപകടം . xxunk xxunk വരികയായിരുന്ന , ഇവർ ഓടിച്ചിരുന്ന കാർ നിയന്ത്രണം വിട്ട് എതിരെ വന്ന കാറിൽ ഇടിക്കുകയായിരുന്നു . ഇടിയുടെ ആഘാതത്തിൽ xxunk കാർ തലകീഴായി മറിഞ്ഞു . തൃപ്പൂണിത്തുറയിലെ സ്വകാര്യ ആശുപത്രിയിൽ പ്രവേശിപ്പിച്ച യുവതിയെ xxunk xxunk പ്രാഥമിക ചികിൽസ നൽകി വിട്ടയച്ചു .,xxup eng xxunk സന്ദേശം മുന്പും ജെസ്ന xxunk സഹോദരന് ജെയ്സ് ജോണ് മനോരമ ന്യൂസ് കൗണ്ടർപോയിന്റിൽ പറഞ്ഞു . അവസാനം കൂട്ടുകാരന് അയച്ച സന്ദേശവും ഇതാണ് . ഈ വിവരങ്ങള് പൊലീസിന് നേരത്തെ കൈമാറിയിരുന്നു . xxunk xxunk . എന്നാല് കുറ്റപ്പെടുത്താന് തെളിവില്ല . ഇതിന്റെ പേരില് അയാള് xxunk ജെയ്സ് ജോണ് xxunk xxunk ' പറഞ്ഞു . xxunk വിളിച്ചത് ആയിരത്തിലേറെ തവണ , xxunk വസ്ത്രം നാളുകളായി കേരള പൊലീസിനെ xxunk ജസ്ന തിരോധാനവുമായി ബന്ധപ്പെട്ട് പൊലീസിന് നിര്ണ്ണായക വിവരങ്ങള് . കേസ് അന്വേഷണം ജസ്നയുടെ ആൺ xxunk നീങ്ങുകയാണ് . ജസ്ന അവസാനം xxunk ഈ xxunk പൊലീസ് സ്ഥിരീകരിച്ചു . പൊലീസ് സ്ഥാപിച്ച xxunk നിന്ന് നിർണായക വിവരങ്ങൾ ലഭിച്ചു . ജസ്നയുടെ വീട്ടിൽ നിന്ന് ലഭിച്ച രക്തക്കറ പുരണ്ട വസ്ത്രങ്ങൾ കേന്ദ്രീകരിച്ചും അന്വേഷണം നടക്കുന്നുണ്ടെന്ന് പത്തനംതിട്ട എസ്.പി . xxunk മനോരമ ന്യൂസിനോട് പറഞ്ഞു . xxunk ആയിരത്തിലേറെ തവണ xxunk വിളിച്ചതായി പൊലീസ് വെളിപ്പെടുത്തുന്നു . സുഹൃത്ത് ചോദ്യം xxunk സഹകരിക്കുന്നില്ല . ഒരു സാധ്യതയും xxunk പത്തനംതിട്ട എസ്.പി . പറഞ്ഞു . ഏറെയും വിവരങ്ങള് ലഭിച്ചത് പൊലീസ് വച്ച xxunk നിന്നാണ് . പത്തനംതിട്ട മുക്കൂട്ടുതറയില് നിന്ന് കാണാതായ ജസ്ന മരിയ xxunk പൊലീസ് xxunk xxunk അന്വേഷണം xxunk വഴിത്തിരിവ് . xxunk അടിസ്ഥാനത്തിലാണ് പ്രത്യേക അന്വേഷണസംഘത്തിന്റെ നീക്കം . xxunk ഗോവയിലും xxunk xxunk കേന്ദ്രീകരിച്ചാണ് പൊലീസിന്റെ അന്വേഷണം . നഗരങ്ങളില് ജസ്നയുടെ ചിത്രങ്ങള് xxunk മലയാളി അസോസിയേഷനുകളുടെ സഹായം തേടുകയും ചെയ്യുന്നുണ്ട് . xxunk കണ്ട പെണ്കുട്ടി xxunk സ്ഥിരീകരിക്കാന് മാത്രമേ ഇതുവരെയുള്ള അന്വേഷണത്തില് xxunk . കേരളത്തിനകത്തും പുറത്തും തിരച്ചില് നടത്തിയെങ്കിലും xxunk ലഭ്യമായിട്ടില്ല . പത്തനംതിട്ട xxunk തറയില് നിന്ന് xxunk മൂന്നുമാസം കഴിഞ്ഞു . അതേസമയം , ജസ്ന xxunk അന്വേഷണം xxunk xxunk ആവശ്യപ്പെട്ട് കോണ്ഗ്രസ് ഇന്ന് നിയമസഭയിലേക്ക് മാര്ച്ച് നടത്തി . പത്തനംതിട്ട xxunk നേതൃത്വത്തിലുള്ള മാര്ച്ചില് കെ.പി.സി.സി പ്രസിഡന്റ് എം.എം . ഹസന് , പ്രതിപക്ഷ നേതാവ് രമേശ് ചെന്നിത്തല തുടങ്ങിയവര് പങ്കെടുത്തു . കേരളത്തിലെ ജനങ്ങള്ക്ക് xxunk ഒരു xxunk ജസ്ന കേസിന്റെ xxunk xxunk ചെന്നിത്തല പരിഹസിച്ചു . ജസ്നയുടെ പിതാവും സഹോദരങ്ങളും മാര്ച്ചില് പങ്കെടുത്തു .,xxup eng ആദ്യത്തേത് സൂപ്പർഹിറ്റ് , പിന്നെ xxunk . തൊട്ടതെല്ലാം xxunk xxunk അങ്കിൾ . ഒരു ചെറിയ ഇടവേളക്കു ശേഷം അങ്കിൾ വീണ്ടും തിരിച്ചെത്തുന്നു . ഇത്തവണ ഹൃതിക് xxunk സൂപ്പർഹിറ്റ് ഗാനം xxunk xxunk ഹേ ക്ക് xxunk നൃത്തച്ചുവടുകളുമായാണ് സഞ്ജീവ് ശ്രീവാസ്തവ എത്തിയിരിക്കുന്നത് . ഹൃതിക് റോഷന് തന്നെയാണ് പ്രകടനം xxunk . xxunk പ്രതികരണം ഇതുവരെ xxunk . സഞ്ജീവ് ശ്രീവാസ്തവ ട്വിറ്ററിലൂടെ പങ്കുവെച്ച വിഡിയോ ഇതിനോടകം ജനങ്ങൾ ഏറ്റെടുത്തു കഴിഞ്ഞു . എന്നാൽ xxunk xxunk ഇതിലൂടെ വേണ്ടെന്നാണ് xxunk xxunk പറയാനുള്ളത് : `` എനിക്ക് ഇതിലൂടെ പണം ആവശ്യമില്ല . ജനങ്ങൾ ഇത് xxunk xxunk സന്തോഷം . ആളുകൾ എൻറെ വിഡിയോകൾ xxunk അവരോട് നന്ദിയുണ്ട് . എൻറെ അമ്മ വിഡിയോ കണ്ടപ്പോൾ ആ xxunk ഒരു xxunk . ആ ചിരി മറക്കാൻ കഴിയില്ല . എൻറെ ഇളയ സഹോദരൻ മരിച്ച ദു : xxunk മറന്ന് xxunk അത് അമ്മയെ സഹായിച്ചു '' . xxunk के xxunk @ xxup eng xxunk ये xxunk xxunk # xxup eng # xxup eng xxup eng xxup .eng xxup .eng / xxup eng xxup num xxup ng xxup num xxup ng xxunk ഒരു സ്വകാര്യ കോളേജിൽ ഇലക്ട്രോണിക്സ് അധ്യാപകനായ ശ്രീവാസ്തവ ശാസ്ത്രീയമായി നൃത്തം xxunk . എങ്കിലും ഏത് xxunk ഒട്ടും xxunk നൃത്തം ചെയ്യാറുണ്ട് . xxunk അമ്മ ഒരു xxunk . ബോളിവുഡ് നടൻ xxunk കടുത്ത ആരാധകനാണ് ഇദ്ദേഹം . ബോളിവുഡ് നടൻ xxunk വലിയ ആരാധകനായ xxunk xxunk ഒന്നിച്ച് നൃത്തം ചെയ്യാനുള്ള അവസരവും ഒരു റിയാലിറ്റി ഷോയിലൂടെ ലഭിച്ചിരുന്നു . ഒരു വിവാഹ xxunk വെച്ച ചുവടുകള് xxunk xxunk അങ്കിൾ തരംഗമായി മാറിയത് . അന്ന് xxunk കൂടെ xxunk . xxup eng xxup eng xxup eng xxup eng @ xxup eng xxup num xxup eng xxup eng xxup eng xxup eng xxup eng xxup eng xxup eng xxup eng xxup eng xxup eng xxup 'eng xxup eng xxup eng xxup eng ! xxup eng xxup eng xxup eng xxup eng xxup eng xxup num xxup eng xxup eng xxup eng xxup eng . # xxup eng xxup eng xxup .eng xxup .eng / xxup eng,xxup eng യു.എ.ഇ ബഹിരാകാശ പദ്ധതിയിലേക്ക് രണ്ടാം ഘട്ടത്തിൽ തിരഞ്ഞെടുക്കപ്പെട്ടത് xxunk പേർ . ശാരീരിക , മാനസിക xxunk xxunk xxunk ശേഷമായിരുന്നു തിരഞ്ഞെടുപ്പ് . യു.എ.ഇയുടെ ആദ്യ ബഹിരാകാശ xxunk അടുത്തവർഷം ഏപ്രിലിൽ രാജ്യാന്തര ബഹിരാകാശ xxunk . നാലായിരം xxunk ആദ്യഘട്ടത്തിൽ തിരഞ്ഞെടുത്ത xxup num xxunk xxunk xxunk മുഹമ്മദ് ബിൻ റാഷിദ് സ്പേസ് സെന്റർ മേധാവി യൂസഫ് അൽ xxunk പറഞ്ഞു . xxunk xxunk ഇടയിൽ xxunk . അവസാനഘട്ട തിരഞ്ഞെടുപ്പ് നടപടികൾ ചൊവ്വാഴ്ച ആരംഭിക്കും . xxunk xxunk നിന്ന് xxunk xxunk ആദ്യം പോകുന്നത് . അടുത്ത മൂന്നു വർഷത്തിനിടെ നാലുപേരെ xxunk എത്തിക്കാനാണ് ശ്രമം . xxunk , എൻജിനീയറിങ് , മെഡിസിൻ , പൊലീസ് , xxunk തുടങ്ങി വിവിധ xxunk തിരഞ്ഞെടുക്കപ്പെട്ടത് . രാജ്യാന്തര ബഹിരാകാശ കേന്ദ്രത്തിലെ സംവിധാനങ്ങൾ ഇവർക്കു xxunk കൂടാതെ , റഷ്യൻ ഭാഷയും xxunk . xxunk , xxunk , മെഡിക്കൽ xxunk , റിസോഴ്സ് മാനേജ്മെന്റ് തുടങ്ങിയ മേഖലകളിൽ xxunk അടുത്ത ഘട്ടം . അതേസമയം , റഷ്യൻ ബഹിരാകാശ xxunk xxunk യു.എ.ഇയുടെ ആദ്യ xxunk രാജ്യാന്തര ബഹിരാകാശ xxunk xxunk . റഷ്യയുടെ xxunk xxunk യാത്ര .,xxup eng ദക്ഷിണ റയിൽവേ ജനറൽ മാനേജർ വിളിച്ച യോഗം xxunk കേരള xxunk . xxunk xxunk പൂർണമായും യോഗത്തിൽ നിന്നു വിട്ടുനിന്നു . ഒരു xxunk ഉൾപ്പെടെ ആറ് xxunk മാത്രമാണ് യോഗത്തിൽ പങ്കെടുത്തത് . പുതുതായി ചുമതലയേറ്റ ജനറൽ മാനേജർ xxunk യോഗം വിളിച്ചത് . സംസ്ഥാനത്തിന്റെ ആവശ്യങ്ങളും പ്രശ്നങ്ങളും xxunk ലക്ഷ്യം . എന്നാൽ ഇരുപത് xxunk കെ സി വേണുഗോപാൽ , എംകെ രാഘവൻ , xxunk , xxunk സുരേഷ് , ആന്റോ ആന്റണി എന്നിവർ മാത്രമാണ് യോഗത്തിന് എത്തിയത് . xxunk നിന്നും പി വി അബ്ദുൽ വഹാബ് മാത്രം . പങ്കെടുത്തവർ തന്നെ യോഗത്തിൽ അവിശ്വാസം രേഖപ്പെടുത്തി . അതേസമയം തിരുവനന്തപുരത്തു നടക്കുന്ന യോഗത്തിൽ തമിഴ്നാട്ടിൽ നിന്നുള്ള രണ്ട് രാജ്യസഭാ xxunk പങ്കെടുത്തു . പാത xxunk പ്രത്യേക റയിൽവേ മേഖലയും ഉൾപ്പെടെ നിരവധി xxunk കേരള എം.പിമാരുടെ xxunk .\n",
       "y: LMLabelList\n",
       ",,,,\n",
       "Path: wiki/ml;\n",
       "\n",
       "Test: None, model=SequentialRNN(\n",
       "  (0): AWD_LSTM(\n",
       "    (encoder): Embedding(60007, 400, padding_idx=1)\n",
       "    (encoder_dp): EmbeddingDropout(\n",
       "      (emb): Embedding(60007, 400, padding_idx=1)\n",
       "    )\n",
       "    (rnns): ModuleList(\n",
       "      (0): WeightDropout(\n",
       "        (module): LSTM(400, 1150, batch_first=True)\n",
       "      )\n",
       "      (1): WeightDropout(\n",
       "        (module): LSTM(1150, 1150, batch_first=True)\n",
       "      )\n",
       "      (2): WeightDropout(\n",
       "        (module): LSTM(1150, 400, batch_first=True)\n",
       "      )\n",
       "    )\n",
       "    (input_dp): RNNDropout()\n",
       "    (hidden_dps): ModuleList(\n",
       "      (0): RNNDropout()\n",
       "      (1): RNNDropout()\n",
       "      (2): RNNDropout()\n",
       "    )\n",
       "  )\n",
       "  (1): LinearDecoder(\n",
       "    (decoder): Linear(in_features=400, out_features=60007, bias=True)\n",
       "    (output_dp): RNNDropout()\n",
       "  )\n",
       "), opt_func=functools.partial(<class 'torch.optim.adam.Adam'>, betas=(0.9, 0.99)), loss_func=FlattenedLoss of CrossEntropyLoss(), metrics=[<function accuracy at 0x7f7b43c4b6a8>], true_wd=True, bn_wd=True, wd=0.01, train_bn=True, path=PosixPath('wiki/ml'), model_dir='models', callback_fns=[functools.partial(<class 'fastai.basic_train.Recorder'>, add_time=True)], callbacks=[...], layer_groups=[Sequential(\n",
       "  (0): WeightDropout(\n",
       "    (module): LSTM(400, 1150, batch_first=True)\n",
       "  )\n",
       "  (1): RNNDropout()\n",
       "), Sequential(\n",
       "  (0): WeightDropout(\n",
       "    (module): LSTM(1150, 1150, batch_first=True)\n",
       "  )\n",
       "  (1): RNNDropout()\n",
       "), Sequential(\n",
       "  (0): WeightDropout(\n",
       "    (module): LSTM(1150, 400, batch_first=True)\n",
       "  )\n",
       "  (1): RNNDropout()\n",
       "), Sequential(\n",
       "  (0): Embedding(60007, 400, padding_idx=1)\n",
       "  (1): EmbeddingDropout(\n",
       "    (emb): Embedding(60007, 400, padding_idx=1)\n",
       "  )\n",
       "  (2): LinearDecoder(\n",
       "    (decoder): Linear(in_features=400, out_features=60007, bias=True)\n",
       "    (output_dp): RNNDropout()\n",
       "  )\n",
       ")], add_time=True)\n",
       "alpha: 2.0\n",
       "beta: 1.0], layer_groups=[Sequential(\n",
       "  (0): WeightDropout(\n",
       "    (module): LSTM(400, 1150, batch_first=True)\n",
       "  )\n",
       "  (1): RNNDropout()\n",
       "), Sequential(\n",
       "  (0): WeightDropout(\n",
       "    (module): LSTM(1150, 1150, batch_first=True)\n",
       "  )\n",
       "  (1): RNNDropout()\n",
       "), Sequential(\n",
       "  (0): WeightDropout(\n",
       "    (module): LSTM(1150, 400, batch_first=True)\n",
       "  )\n",
       "  (1): RNNDropout()\n",
       "), Sequential(\n",
       "  (0): Embedding(60007, 400, padding_idx=1)\n",
       "  (1): EmbeddingDropout(\n",
       "    (emb): Embedding(60007, 400, padding_idx=1)\n",
       "  )\n",
       "  (2): LinearDecoder(\n",
       "    (decoder): Linear(in_features=400, out_features=60007, bias=True)\n",
       "    (output_dp): RNNDropout()\n",
       "  )\n",
       ")], add_time=True)"
      ]
     },
     "execution_count": 10,
     "metadata": {},
     "output_type": "execute_result"
    }
   ],
   "source": [
    "# Loading the pretrained language model on malyalam wikipedia\n",
    "learn.load('third_ml_lm', with_opt=True)"
   ]
  },
  {
   "cell_type": "code",
   "execution_count": 11,
   "metadata": {},
   "outputs": [
    {
     "data": {
      "text/html": [],
      "text/plain": [
       "<IPython.core.display.HTML object>"
      ]
     },
     "metadata": {},
     "output_type": "display_data"
    },
    {
     "name": "stdout",
     "output_type": "stream",
     "text": [
      "LR Finder is complete, type {learner_name}.recorder.plot() to see the graph.\n"
     ]
    }
   ],
   "source": [
    "learn.lr_find()"
   ]
  },
  {
   "cell_type": "code",
   "execution_count": 12,
   "metadata": {},
   "outputs": [
    {
     "data": {
      "image/png": "[encoded data removed]",
      "text/plain": [
       "<Figure size 432x288 with 1 Axes>"
      ]
     },
     "metadata": {
      "needs_background": "light"
     },
     "output_type": "display_data"
    }
   ],
   "source": [
    "learn.recorder.plot()"
   ]
  },
  {
   "cell_type": "code",
   "execution_count": 13,
   "metadata": {},
   "outputs": [],
   "source": [
    "learn.freeze()"
   ]
  },
  {
   "cell_type": "code",
   "execution_count": 14,
   "metadata": {},
   "outputs": [
    {
     "data": {
      "text/html": [
       "<table border=\"1\" class=\"dataframe\">\n",
       "  <thead>\n",
       "    <tr style=\"text-align: left;\">\n",
       "      <th>epoch</th>\n",
       "      <th>train_loss</th>\n",
       "      <th>valid_loss</th>\n",
       "      <th>accuracy</th>\n",
       "      <th>time</th>\n",
       "    </tr>\n",
       "  </thead>\n",
       "  <tbody>\n",
       "    <tr>\n",
       "      <td>0</td>\n",
       "      <td>7.448188</td>\n",
       "      <td>6.616826</td>\n",
       "      <td>0.280718</td>\n",
       "      <td>00:59</td>\n",
       "    </tr>\n",
       "  </tbody>\n",
       "</table>"
      ],
      "text/plain": [
       "<IPython.core.display.HTML object>"
      ]
     },
     "metadata": {},
     "output_type": "display_data"
    }
   ],
   "source": [
    "learn.fit_one_cycle(1, 1e-2, moms=(0.8,0.7))"
   ]
  },
  {
   "cell_type": "code",
   "execution_count": 15,
   "metadata": {},
   "outputs": [],
   "source": [
    "learn.save('fit_head', with_opt=True)"
   ]
  },
  {
   "cell_type": "code",
   "execution_count": 16,
   "metadata": {},
   "outputs": [
    {
     "data": {
      "text/plain": [
       "LanguageLearner(data=TextLMDataBunch;\n",
       "\n",
       "Train: LabelList (7490 items)\n",
       "x: LMTextList\n",
       "xxup eng ഇന്ത്യൻ സിനിമാ ചരിത്രത്തിൽ തന്നെ xxunk xxunk പത്മാവത് ആദ്യ ദിനം നേടിയത് xxup num കോടി രൂപ മാത്രം . ഇതിനു പുറമേ ബുധനാഴ്ച നടന്ന പ്രിവ്യൂ ഷോയിലൂടെ ചിത്രം xxup num കോടി നേടി . xxup num കോടി ചെലവിട്ട് നിർമ്മിച്ച ബ്രഹ്മാണ്ഡ ചിത്രം ആദ്യ ദിനത്തിൽ xxup num xxup num കോടി വരുമാനം xxunk പ്രതീക്ഷ . ചിത്രത്തിനെതിരെ നടന്ന അക്രമ xxunk പ്രതിഷേധങ്ങളും xxunk ചിത്രം വൻ കുതിപ്പ് നടത്തുമെന്ന് തന്നെയാണ് അണിയറക്കാരുടെ പ്രതീക്ഷ . ഒരാഴ്ചയ്ക്കകം ചിത്രം xxup num കോടിയലധികം നേടുമെന്നാണ് പ്രതീക്ഷ . വൻ തോതിൽ പ്രതിഷേധം ഇനി ഉണ്ടാകാൻ xxunk അണിയറ പ്രവർത്തകരുടെ കണക്ക് കൂട്ടൽ . അങ്ങനെ വന്നാൽ ചിത്രം മികച്ച വിജയം നേടുമെന്ന് അവർ കണക്ക് കൂട്ടുന്നു . xxup eng xxup eng xxup -eng xxup eng xxup eng xxup eng xxup eng xxup eng / xxup eng , # xxup eng xxup eng xxup eng xxup eng xxup eng xxup eng xxup num .. xxup eng xxup eng xxup eng xxup eng xxup eng / xxup eng xxup eng xxup -eng xxup eng , xxup eng xxup eng xxup eng ’ xxup eng xxup eng ₹ xxup num / ₹ xxup num xxup eng ... xxup eng xxup num xxup eng , xxup eng xxup num xxup eng . xxup eng : ₹ xxup num xxup eng . xxup eng xxup eng . എന്നാൽ ബാഹുബലി സൃഷ്ടിച്ച ബോക്സ്ഓഫീസ് മാജിക് ആവർത്തിക്കാൻ പത്മാവതിന് xxunk തന്നെയാണ് കലക്ഷൻ സൂചിപ്പിക്കുന്നത് . xxunk xxunk ബാഹുബലി xxup num ആദ്യദിനം വാരിക്കൂട്ടിയത് xxup num കോടി രൂപയാണ് . ബോക്സ്ഓഫീസ് ചരിത്രത്തിൽ തന്നെ ഇത് റെക്കോര്ഡ് ആണ് . ബാഹുബലി ആദ്യ ഭാഗത്തിന്റെ ആദ്യദിന കലക്ഷൻ xxup num കോടിയായിരുന്നു . xxup eng xxup eng xxup eng xxup eng xxup eng xxup eng xxup eng , # xxup eng xxup eng ₹ xxup num xxup eng xxup eng xxup eng xxup eng xxup eng xxup eng . xxunk xxup num xxunk , പികെ കിക്ക് xxunk തുടങ്ങിയവയാണ് ആദ്യ ദിന xxunk റെക്കോർഡ് ഇട്ട മറ്റ് ചിത്രങ്ങൾ .,xxup eng ഇതരസംസ്ഥാന ലോബികളുടെ xxunk കേരളത്തിലെ ചെറുകിട xxunk അടച്ചുപൂട്ടൽ ഭീഷണിയിൽ . xxunk നടത്തിപ്പ് വൻകിട കമ്പനികൾ ഏറ്റെടുത്തതോടെയാണ് ചെറുകിട കർഷകർ പ്രതിസന്ധിയിലായത് . കേരളത്തിലേക്ക് xxunk മരുന്നും തീറ്റയും കയറ്റുമതി ചെയ്യുന്ന കമ്പനികളാണ് ഇവിടുത്തെ ചെറുകിട ഫാമുകൾ ഏറ്റെടുത്ത് തുടങ്ങിയിരിക്കുന്നത് . ഇത്തരത്തിൽ വൻകിട xxunk xxunk കോഴിയുടെ വിലയും കുറഞ്ഞു . പക്ഷേ xxunk അവശേഷിക്കുന്ന ചെറുകിട ഫാം ഉടമകളാണ് . ഉൽപാദന ചിലവ് xxunk രൂപയോളം വരുമ്പോൾ മുപ്പത് രൂപ xxunk വിൽപന . സർക്കാർ ഇടപെട്ട് ചെറുകിട ഫാമുകൾ xxunk കർഷകരുടെ ആവശ്യം . ഇല്ലെങ്കിൽ അവശേഷിക്കുന്ന ഫാമുകൾ xxunk വരുമെന്ന് xxunk പറയുന്നു,xxup eng ആൾക്കൂട്ട വിചാരണയ്ക്ക് ഇരയായി കൊല്ലപ്പെടും xxunk മുസ്ലിം യുവാവിനെ xxunk പൊലീസ് ഓഫീസർ ഗഗൻദീപ് സിങ് സാമൂഹിക മാധ്യമങ്ങളിൽ താരമാകുന്നത് . എന്നാൽ ഇപ്പോൾ ഗഗൻദീപിന് നിരവധി xxunk ലഭിക്കുന്നത് . ഇതുകാരണം ഗഗൻദീപിനെ നിർബന്ധിത അവധിയിൽ xxunk സഹപ്രവർത്തകർ പറയുന്നു . ഈ മാസം xxup num ് ആയിരുന്നു സംഭവം , ഉത്തരാഖണ്ഡിലെ ഗിരിജദേവി ക്ഷേത്രസമുച്ചയത്തില് വച്ചാണ് മുസ്ലിം യുവാവ് തന്റെ പെണ്സുഹൃത്തായ ഹിന്ദു യുവതിയുമായി xxunk അവിടെയെത്തിയ ജനങ്ങൾ യുവാവിനെ xxunk . ആള്ക്കൂട്ട വിചാരണ ഉറപ്പായ സന്ദര്ഭത്തിലാണ് സംഭവം അറിഞ്ഞെത്തിയ എസ്.ഐ . ഗഗന്ദീപ് സിങ്ങ് യുവാവിനെ ജനക്കൂട്ടത്തിനിടയില്നിന്ന് രക്ഷിക്കുന്നത് . ഇതിന്റെ വിഡിയോ സാമൂഹിക മാധ്യമങ്ങളിൽ വൈറലായിരുന്നു . എന്നാലിപ്പോൾ ആൾക്കൂട്ടത്തിന്റെ പ്രവൃത്തിയെ ന്യായീകരിച്ച് xxunk രംഗത്തെത്തിയിരിക്കുകയാണ് . ഒരു മുസ്ലിം യുവാവ് ഹിന്ദു പെൺകുട്ടിയെ കൂട്ടി xxunk വന്നത് ശരിയായില്ലെന്നും ഇത് മതവികാരത്തെ വ്രണപ്പെടുത്തുന്ന സംഭവമാണെന്നുമാണ് രാകേഷ് xxunk എന്ന ബിജെപി എംഎൽഎ പറഞ്ഞത് . സമാനമായ പ്രതികരണമായിരുന്നു മറ്റ് പ്രാദേശിക നേതാക്കളുടെയും . ഈ അവസരത്തിലാണ് സംഭവത്തിൽ പലരും റോൾ മോഡൽ എന്നു വരെ വിശേഷിപ്പിച്ച പൊലീസ് ഉദ്യോഗസ്ഥനെതിരെ വധഭീഷണി ഉയരുന്നത് . എന്നാൽ ഗഗൻദീപിനെ അനുമോദിച്ചും പിന്തുണച്ചും നിരവധി പ്രമുഖർ രംഗത്തെത്തി . ചേതൻ ഭഗത് . തസ്ലീമ xxunk , ഫർഹാൻ അക്തർ തുടങ്ങിയവർ അഭിനന്ദനം അറിയിച്ച് ട്വീറ്റ് ചെയ്തിരുന്നു .,xxup eng xxunk രണ്ടു പെണ്കുട്ടികള് ബുള്ളറ്റില് ഹിമാലയന് യാത്ര വിജയകരമായി പൂര്ത്തിയാക്കി തിരിച്ചെത്തി . പതിനാറു ദിവസമെടുത്താണ് xxunk ബുള്ളറ്റില് മടങ്ങി xxunk കൊടും തണുപ്പും മഞ്ഞും . ഉയരം xxunk xxunk അവസ്ഥ . പലപ്പോഴും മരണം മുന്നില് കണ്ടു . ഇടയ്ക്ക് ബുള്ളറ്റ് മഞ്ഞില് കുടുങ്ങി . അങ്ങനെ , നിരവധി പ്രതിസന്ധികള് മറികടന്ന് ഈ രണ്ടു പെണ്കുട്ടികള് ഹിമാലയം കീഴടക്കി . ചാലക്കുടി സ്വദേശികളായ ആന്ഫി മരിയ ബേബിയും അനഘയും . xxunk ബൈക്ക് യാത്ര ഈ പെണ്കുട്ടികളുടെ സ്വപ്നമായിരുന്നു . ആ സ്വപ്നമാണ് xxunk . xxunk നിന്ന് xxunk , മണാലി വഴിയായിരുന്നു യാത്ര . രണ്ടു പേരും xxunk തൊട്ടേ കൂട്ടുകാരായിരുന്നു . പ്ലസ്ടുവിന് പഠിക്കുമ്പോഴായിരുന്നു xxunk ബൈക്ക് യാത്ര ഇവരുടെ സ്വപ്നത്തില് ഇടംപിടിച്ചത് . വീട്ടുകാര് xxunk xxunk പരിശീലനവും xxunk xxunk യാത്ര കാമറയില് പകര്ത്താന് xxunk കൂടെക്കൂട്ടിയിരുന്നു . കോയമ്പത്തൂരില് xxunk . xxunk മാനേജ്മെന്റ് വിദ്യാര്ഥിനിയാണ് ആന്ഫി . xxunk xxunk ഡിസൈന് കോഴ്സിന് പഠിക്കുന്നു .,xxup eng എ.ഡി.ജി.പി സുധേഷ്കുമാറിന്റെ മകള് പഞ്ചാബിലേക്ക് പോയതോടെ ഗവാസ്കറെ മര്ദിച്ച കേസിലെ രഹസ്യമൊഴിയെടുപ്പ് മുടങ്ങി . ഇതോടെ രഹസ്യമൊഴി രേഖപ്പെടുത്താന് മറ്റൊരു തീയതി തേടി ക്രൈംബ്രാഞ്ച് കോടതിയില് അപേക്ഷ നല്കി . അതേസമയം ഗവാസ്കറുടെ രഹസ്യമൊഴി ഒന്നിന് രേഖപ്പെടുത്തും . എ.ഡി.ജി.പി സുധേഷ്കുമാറിന്റെ മകളുടെ രഹസ്യമൊഴി ചൊവ്വാഴ്ച xxunk കോടതി സമയം അനുവദിച്ചത് . ക്രൈംബ്രാഞ്ച് xxunk നടപടികളും പൂര്ത്തിയാക്കിയിരുന്നു . എന്നാല് എ.ഡി.ജി.പിയുടെ മകള് സ്വന്തം നാടായ പഞ്ചാബിലേക്ക് പോയതോടെ രഹസ്യമൊഴി xxunk . വിദ്യാഭ്യാസ സംബന്ധമായി ഒഴിവാക്കാനാവാത്ത xxunk മറ്റൊരു ദിവസം മൊഴിയെടുക്കാന് തയാറാണെന്നും എ.ഡി.ജി.പിയുടെ കുടുംബം അന്വേഷണസംഘത്തെ അറിയിച്ചിട്ടുണ്ട് . ഇതോടെ എ.ഡി.ജി.പിയുടെ മകള് മടങ്ങിയെത്തുന്ന xxup num ് ശേഷം സമയം അനുവദിക്കണമെന്ന് കാണിച്ച് ക്രൈംബ്രാഞ്ച് കോടതിയില് വീണ്ടും അപേക്ഷ xxunk പുറമെ ഗവാസ്കര് , എ.ഡി.ജി.പിയുടെ പഴ്സനല് xxunk , ചന്ദ്രശേഖരന് നായര് സ്റ്റേഡിയത്തിലെ പൊലീസ് പരിശീലക എന്നിവരുടെ രഹസ്യമൊഴിയാണ് രേഖപ്പെടുത്തുന്നത് . ഇതില് xxunk മൂന്ന് പേരുടെയും ഒന്നാം തീയതി രേഖപ്പെടുത്തും . എ.ഡി.ജി.പിയുടെ മകള് മര്ദിച്ചെന്ന് ഗവാസ്കറും ഗവാസ്കര് മോശമായി പെരുമാറിയെന്ന് പരാതിയില് എ.ഡി.ജി.പിയുടെ മകളും ഉറച്ച് xxunk രഹസ്യമൊഴി രേഖപ്പെടുത്തുന്നത് . രഹസ്യമൊഴിയെടുപ്പ് അടുത്ത മാസം ഒന്നാം തീയതി വരെ നീളുമെന്ന് ഉറപ്പായതോടെ അറസ്റ്റ് xxunk ഉറപ്പായി .\n",
       "y: LMLabelList\n",
       ",,,,\n",
       "Path: wiki/ml;\n",
       "\n",
       "Valid: LabelList (1873 items)\n",
       "x: LMTextList\n",
       "xxup eng xxunk xxunk റോഡിൽ xxunk ബിഎസ്എൻഎൽ ഓഫിസിനു മുന്നിൽ കാറുകൾ xxunk xxunk പരുക്ക് . നടി xxunk xxunk xxunk കെ . xxunk പരുക്കേറ്റത് . ഞായറാഴ്ച രാവിലെ xxunk അപകടം . xxunk xxunk വരികയായിരുന്ന , ഇവർ ഓടിച്ചിരുന്ന കാർ നിയന്ത്രണം വിട്ട് എതിരെ വന്ന കാറിൽ ഇടിക്കുകയായിരുന്നു . ഇടിയുടെ ആഘാതത്തിൽ xxunk കാർ തലകീഴായി മറിഞ്ഞു . തൃപ്പൂണിത്തുറയിലെ സ്വകാര്യ ആശുപത്രിയിൽ പ്രവേശിപ്പിച്ച യുവതിയെ xxunk xxunk പ്രാഥമിക ചികിൽസ നൽകി വിട്ടയച്ചു .,xxup eng xxunk സന്ദേശം മുന്പും ജെസ്ന xxunk സഹോദരന് ജെയ്സ് ജോണ് മനോരമ ന്യൂസ് കൗണ്ടർപോയിന്റിൽ പറഞ്ഞു . അവസാനം കൂട്ടുകാരന് അയച്ച സന്ദേശവും ഇതാണ് . ഈ വിവരങ്ങള് പൊലീസിന് നേരത്തെ കൈമാറിയിരുന്നു . xxunk xxunk . എന്നാല് കുറ്റപ്പെടുത്താന് തെളിവില്ല . ഇതിന്റെ പേരില് അയാള് xxunk ജെയ്സ് ജോണ് xxunk xxunk ' പറഞ്ഞു . xxunk വിളിച്ചത് ആയിരത്തിലേറെ തവണ , xxunk വസ്ത്രം നാളുകളായി കേരള പൊലീസിനെ xxunk ജസ്ന തിരോധാനവുമായി ബന്ധപ്പെട്ട് പൊലീസിന് നിര്ണ്ണായക വിവരങ്ങള് . കേസ് അന്വേഷണം ജസ്നയുടെ ആൺ xxunk നീങ്ങുകയാണ് . ജസ്ന അവസാനം xxunk ഈ xxunk പൊലീസ് സ്ഥിരീകരിച്ചു . പൊലീസ് സ്ഥാപിച്ച xxunk നിന്ന് നിർണായക വിവരങ്ങൾ ലഭിച്ചു . ജസ്നയുടെ വീട്ടിൽ നിന്ന് ലഭിച്ച രക്തക്കറ പുരണ്ട വസ്ത്രങ്ങൾ കേന്ദ്രീകരിച്ചും അന്വേഷണം നടക്കുന്നുണ്ടെന്ന് പത്തനംതിട്ട എസ്.പി . xxunk മനോരമ ന്യൂസിനോട് പറഞ്ഞു . xxunk ആയിരത്തിലേറെ തവണ xxunk വിളിച്ചതായി പൊലീസ് വെളിപ്പെടുത്തുന്നു . സുഹൃത്ത് ചോദ്യം xxunk സഹകരിക്കുന്നില്ല . ഒരു സാധ്യതയും xxunk പത്തനംതിട്ട എസ്.പി . പറഞ്ഞു . ഏറെയും വിവരങ്ങള് ലഭിച്ചത് പൊലീസ് വച്ച xxunk നിന്നാണ് . പത്തനംതിട്ട മുക്കൂട്ടുതറയില് നിന്ന് കാണാതായ ജസ്ന മരിയ xxunk പൊലീസ് xxunk xxunk അന്വേഷണം xxunk വഴിത്തിരിവ് . xxunk അടിസ്ഥാനത്തിലാണ് പ്രത്യേക അന്വേഷണസംഘത്തിന്റെ നീക്കം . xxunk ഗോവയിലും xxunk xxunk കേന്ദ്രീകരിച്ചാണ് പൊലീസിന്റെ അന്വേഷണം . നഗരങ്ങളില് ജസ്നയുടെ ചിത്രങ്ങള് xxunk മലയാളി അസോസിയേഷനുകളുടെ സഹായം തേടുകയും ചെയ്യുന്നുണ്ട് . xxunk കണ്ട പെണ്കുട്ടി xxunk സ്ഥിരീകരിക്കാന് മാത്രമേ ഇതുവരെയുള്ള അന്വേഷണത്തില് xxunk . കേരളത്തിനകത്തും പുറത്തും തിരച്ചില് നടത്തിയെങ്കിലും xxunk ലഭ്യമായിട്ടില്ല . പത്തനംതിട്ട xxunk തറയില് നിന്ന് xxunk മൂന്നുമാസം കഴിഞ്ഞു . അതേസമയം , ജസ്ന xxunk അന്വേഷണം xxunk xxunk ആവശ്യപ്പെട്ട് കോണ്ഗ്രസ് ഇന്ന് നിയമസഭയിലേക്ക് മാര്ച്ച് നടത്തി . പത്തനംതിട്ട xxunk നേതൃത്വത്തിലുള്ള മാര്ച്ചില് കെ.പി.സി.സി പ്രസിഡന്റ് എം.എം . ഹസന് , പ്രതിപക്ഷ നേതാവ് രമേശ് ചെന്നിത്തല തുടങ്ങിയവര് പങ്കെടുത്തു . കേരളത്തിലെ ജനങ്ങള്ക്ക് xxunk ഒരു xxunk ജസ്ന കേസിന്റെ xxunk xxunk ചെന്നിത്തല പരിഹസിച്ചു . ജസ്നയുടെ പിതാവും സഹോദരങ്ങളും മാര്ച്ചില് പങ്കെടുത്തു .,xxup eng ആദ്യത്തേത് സൂപ്പർഹിറ്റ് , പിന്നെ xxunk . തൊട്ടതെല്ലാം xxunk xxunk അങ്കിൾ . ഒരു ചെറിയ ഇടവേളക്കു ശേഷം അങ്കിൾ വീണ്ടും തിരിച്ചെത്തുന്നു . ഇത്തവണ ഹൃതിക് xxunk സൂപ്പർഹിറ്റ് ഗാനം xxunk xxunk ഹേ ക്ക് xxunk നൃത്തച്ചുവടുകളുമായാണ് സഞ്ജീവ് ശ്രീവാസ്തവ എത്തിയിരിക്കുന്നത് . ഹൃതിക് റോഷന് തന്നെയാണ് പ്രകടനം xxunk . xxunk പ്രതികരണം ഇതുവരെ xxunk . സഞ്ജീവ് ശ്രീവാസ്തവ ട്വിറ്ററിലൂടെ പങ്കുവെച്ച വിഡിയോ ഇതിനോടകം ജനങ്ങൾ ഏറ്റെടുത്തു കഴിഞ്ഞു . എന്നാൽ xxunk xxunk ഇതിലൂടെ വേണ്ടെന്നാണ് xxunk xxunk പറയാനുള്ളത് : `` എനിക്ക് ഇതിലൂടെ പണം ആവശ്യമില്ല . ജനങ്ങൾ ഇത് xxunk xxunk സന്തോഷം . ആളുകൾ എൻറെ വിഡിയോകൾ xxunk അവരോട് നന്ദിയുണ്ട് . എൻറെ അമ്മ വിഡിയോ കണ്ടപ്പോൾ ആ xxunk ഒരു xxunk . ആ ചിരി മറക്കാൻ കഴിയില്ല . എൻറെ ഇളയ സഹോദരൻ മരിച്ച ദു : xxunk മറന്ന് xxunk അത് അമ്മയെ സഹായിച്ചു '' . xxunk के xxunk @ xxup eng xxunk ये xxunk xxunk # xxup eng # xxup eng xxup eng xxup .eng xxup .eng / xxup eng xxup num xxup ng xxup num xxup ng xxunk ഒരു സ്വകാര്യ കോളേജിൽ ഇലക്ട്രോണിക്സ് അധ്യാപകനായ ശ്രീവാസ്തവ ശാസ്ത്രീയമായി നൃത്തം xxunk . എങ്കിലും ഏത് xxunk ഒട്ടും xxunk നൃത്തം ചെയ്യാറുണ്ട് . xxunk അമ്മ ഒരു xxunk . ബോളിവുഡ് നടൻ xxunk കടുത്ത ആരാധകനാണ് ഇദ്ദേഹം . ബോളിവുഡ് നടൻ xxunk വലിയ ആരാധകനായ xxunk xxunk ഒന്നിച്ച് നൃത്തം ചെയ്യാനുള്ള അവസരവും ഒരു റിയാലിറ്റി ഷോയിലൂടെ ലഭിച്ചിരുന്നു . ഒരു വിവാഹ xxunk വെച്ച ചുവടുകള് xxunk xxunk അങ്കിൾ തരംഗമായി മാറിയത് . അന്ന് xxunk കൂടെ xxunk . xxup eng xxup eng xxup eng xxup eng @ xxup eng xxup num xxup eng xxup eng xxup eng xxup eng xxup eng xxup eng xxup eng xxup eng xxup eng xxup eng xxup 'eng xxup eng xxup eng xxup eng ! xxup eng xxup eng xxup eng xxup eng xxup eng xxup num xxup eng xxup eng xxup eng xxup eng . # xxup eng xxup eng xxup .eng xxup .eng / xxup eng,xxup eng യു.എ.ഇ ബഹിരാകാശ പദ്ധതിയിലേക്ക് രണ്ടാം ഘട്ടത്തിൽ തിരഞ്ഞെടുക്കപ്പെട്ടത് xxunk പേർ . ശാരീരിക , മാനസിക xxunk xxunk xxunk ശേഷമായിരുന്നു തിരഞ്ഞെടുപ്പ് . യു.എ.ഇയുടെ ആദ്യ ബഹിരാകാശ xxunk അടുത്തവർഷം ഏപ്രിലിൽ രാജ്യാന്തര ബഹിരാകാശ xxunk . നാലായിരം xxunk ആദ്യഘട്ടത്തിൽ തിരഞ്ഞെടുത്ത xxup num xxunk xxunk xxunk മുഹമ്മദ് ബിൻ റാഷിദ് സ്പേസ് സെന്റർ മേധാവി യൂസഫ് അൽ xxunk പറഞ്ഞു . xxunk xxunk ഇടയിൽ xxunk . അവസാനഘട്ട തിരഞ്ഞെടുപ്പ് നടപടികൾ ചൊവ്വാഴ്ച ആരംഭിക്കും . xxunk xxunk നിന്ന് xxunk xxunk ആദ്യം പോകുന്നത് . അടുത്ത മൂന്നു വർഷത്തിനിടെ നാലുപേരെ xxunk എത്തിക്കാനാണ് ശ്രമം . xxunk , എൻജിനീയറിങ് , മെഡിസിൻ , പൊലീസ് , xxunk തുടങ്ങി വിവിധ xxunk തിരഞ്ഞെടുക്കപ്പെട്ടത് . രാജ്യാന്തര ബഹിരാകാശ കേന്ദ്രത്തിലെ സംവിധാനങ്ങൾ ഇവർക്കു xxunk കൂടാതെ , റഷ്യൻ ഭാഷയും xxunk . xxunk , xxunk , മെഡിക്കൽ xxunk , റിസോഴ്സ് മാനേജ്മെന്റ് തുടങ്ങിയ മേഖലകളിൽ xxunk അടുത്ത ഘട്ടം . അതേസമയം , റഷ്യൻ ബഹിരാകാശ xxunk xxunk യു.എ.ഇയുടെ ആദ്യ xxunk രാജ്യാന്തര ബഹിരാകാശ xxunk xxunk . റഷ്യയുടെ xxunk xxunk യാത്ര .,xxup eng ദക്ഷിണ റയിൽവേ ജനറൽ മാനേജർ വിളിച്ച യോഗം xxunk കേരള xxunk . xxunk xxunk പൂർണമായും യോഗത്തിൽ നിന്നു വിട്ടുനിന്നു . ഒരു xxunk ഉൾപ്പെടെ ആറ് xxunk മാത്രമാണ് യോഗത്തിൽ പങ്കെടുത്തത് . പുതുതായി ചുമതലയേറ്റ ജനറൽ മാനേജർ xxunk യോഗം വിളിച്ചത് . സംസ്ഥാനത്തിന്റെ ആവശ്യങ്ങളും പ്രശ്നങ്ങളും xxunk ലക്ഷ്യം . എന്നാൽ ഇരുപത് xxunk കെ സി വേണുഗോപാൽ , എംകെ രാഘവൻ , xxunk , xxunk സുരേഷ് , ആന്റോ ആന്റണി എന്നിവർ മാത്രമാണ് യോഗത്തിന് എത്തിയത് . xxunk നിന്നും പി വി അബ്ദുൽ വഹാബ് മാത്രം . പങ്കെടുത്തവർ തന്നെ യോഗത്തിൽ അവിശ്വാസം രേഖപ്പെടുത്തി . അതേസമയം തിരുവനന്തപുരത്തു നടക്കുന്ന യോഗത്തിൽ തമിഴ്നാട്ടിൽ നിന്നുള്ള രണ്ട് രാജ്യസഭാ xxunk പങ്കെടുത്തു . പാത xxunk പ്രത്യേക റയിൽവേ മേഖലയും ഉൾപ്പെടെ നിരവധി xxunk കേരള എം.പിമാരുടെ xxunk .\n",
       "y: LMLabelList\n",
       ",,,,\n",
       "Path: wiki/ml;\n",
       "\n",
       "Test: None, model=SequentialRNN(\n",
       "  (0): AWD_LSTM(\n",
       "    (encoder): Embedding(60007, 400, padding_idx=1)\n",
       "    (encoder_dp): EmbeddingDropout(\n",
       "      (emb): Embedding(60007, 400, padding_idx=1)\n",
       "    )\n",
       "    (rnns): ModuleList(\n",
       "      (0): WeightDropout(\n",
       "        (module): LSTM(400, 1150, batch_first=True)\n",
       "      )\n",
       "      (1): WeightDropout(\n",
       "        (module): LSTM(1150, 1150, batch_first=True)\n",
       "      )\n",
       "      (2): WeightDropout(\n",
       "        (module): LSTM(1150, 400, batch_first=True)\n",
       "      )\n",
       "    )\n",
       "    (input_dp): RNNDropout()\n",
       "    (hidden_dps): ModuleList(\n",
       "      (0): RNNDropout()\n",
       "      (1): RNNDropout()\n",
       "      (2): RNNDropout()\n",
       "    )\n",
       "  )\n",
       "  (1): LinearDecoder(\n",
       "    (decoder): Linear(in_features=400, out_features=60007, bias=True)\n",
       "    (output_dp): RNNDropout()\n",
       "  )\n",
       "), opt_func=functools.partial(<class 'torch.optim.adam.Adam'>, betas=(0.9, 0.99)), loss_func=FlattenedLoss of CrossEntropyLoss(), metrics=[<function accuracy at 0x7f7b43c4b6a8>], true_wd=True, bn_wd=True, wd=0.01, train_bn=True, path=PosixPath('wiki/ml'), model_dir='models', callback_fns=[functools.partial(<class 'fastai.basic_train.Recorder'>, add_time=True)], callbacks=[RNNTrainer\n",
       "learn: LanguageLearner(data=TextLMDataBunch;\n",
       "\n",
       "Train: LabelList (7490 items)\n",
       "x: LMTextList\n",
       "xxup eng ഇന്ത്യൻ സിനിമാ ചരിത്രത്തിൽ തന്നെ xxunk xxunk പത്മാവത് ആദ്യ ദിനം നേടിയത് xxup num കോടി രൂപ മാത്രം . ഇതിനു പുറമേ ബുധനാഴ്ച നടന്ന പ്രിവ്യൂ ഷോയിലൂടെ ചിത്രം xxup num കോടി നേടി . xxup num കോടി ചെലവിട്ട് നിർമ്മിച്ച ബ്രഹ്മാണ്ഡ ചിത്രം ആദ്യ ദിനത്തിൽ xxup num xxup num കോടി വരുമാനം xxunk പ്രതീക്ഷ . ചിത്രത്തിനെതിരെ നടന്ന അക്രമ xxunk പ്രതിഷേധങ്ങളും xxunk ചിത്രം വൻ കുതിപ്പ് നടത്തുമെന്ന് തന്നെയാണ് അണിയറക്കാരുടെ പ്രതീക്ഷ . ഒരാഴ്ചയ്ക്കകം ചിത്രം xxup num കോടിയലധികം നേടുമെന്നാണ് പ്രതീക്ഷ . വൻ തോതിൽ പ്രതിഷേധം ഇനി ഉണ്ടാകാൻ xxunk അണിയറ പ്രവർത്തകരുടെ കണക്ക് കൂട്ടൽ . അങ്ങനെ വന്നാൽ ചിത്രം മികച്ച വിജയം നേടുമെന്ന് അവർ കണക്ക് കൂട്ടുന്നു . xxup eng xxup eng xxup -eng xxup eng xxup eng xxup eng xxup eng xxup eng / xxup eng , # xxup eng xxup eng xxup eng xxup eng xxup eng xxup eng xxup num .. xxup eng xxup eng xxup eng xxup eng xxup eng / xxup eng xxup eng xxup -eng xxup eng , xxup eng xxup eng xxup eng ’ xxup eng xxup eng ₹ xxup num / ₹ xxup num xxup eng ... xxup eng xxup num xxup eng , xxup eng xxup num xxup eng . xxup eng : ₹ xxup num xxup eng . xxup eng xxup eng . എന്നാൽ ബാഹുബലി സൃഷ്ടിച്ച ബോക്സ്ഓഫീസ് മാജിക് ആവർത്തിക്കാൻ പത്മാവതിന് xxunk തന്നെയാണ് കലക്ഷൻ സൂചിപ്പിക്കുന്നത് . xxunk xxunk ബാഹുബലി xxup num ആദ്യദിനം വാരിക്കൂട്ടിയത് xxup num കോടി രൂപയാണ് . ബോക്സ്ഓഫീസ് ചരിത്രത്തിൽ തന്നെ ഇത് റെക്കോര്ഡ് ആണ് . ബാഹുബലി ആദ്യ ഭാഗത്തിന്റെ ആദ്യദിന കലക്ഷൻ xxup num കോടിയായിരുന്നു . xxup eng xxup eng xxup eng xxup eng xxup eng xxup eng xxup eng , # xxup eng xxup eng ₹ xxup num xxup eng xxup eng xxup eng xxup eng xxup eng xxup eng . xxunk xxup num xxunk , പികെ കിക്ക് xxunk തുടങ്ങിയവയാണ് ആദ്യ ദിന xxunk റെക്കോർഡ് ഇട്ട മറ്റ് ചിത്രങ്ങൾ .,xxup eng ഇതരസംസ്ഥാന ലോബികളുടെ xxunk കേരളത്തിലെ ചെറുകിട xxunk അടച്ചുപൂട്ടൽ ഭീഷണിയിൽ . xxunk നടത്തിപ്പ് വൻകിട കമ്പനികൾ ഏറ്റെടുത്തതോടെയാണ് ചെറുകിട കർഷകർ പ്രതിസന്ധിയിലായത് . കേരളത്തിലേക്ക് xxunk മരുന്നും തീറ്റയും കയറ്റുമതി ചെയ്യുന്ന കമ്പനികളാണ് ഇവിടുത്തെ ചെറുകിട ഫാമുകൾ ഏറ്റെടുത്ത് തുടങ്ങിയിരിക്കുന്നത് . ഇത്തരത്തിൽ വൻകിട xxunk xxunk കോഴിയുടെ വിലയും കുറഞ്ഞു . പക്ഷേ xxunk അവശേഷിക്കുന്ന ചെറുകിട ഫാം ഉടമകളാണ് . ഉൽപാദന ചിലവ് xxunk രൂപയോളം വരുമ്പോൾ മുപ്പത് രൂപ xxunk വിൽപന . സർക്കാർ ഇടപെട്ട് ചെറുകിട ഫാമുകൾ xxunk കർഷകരുടെ ആവശ്യം . ഇല്ലെങ്കിൽ അവശേഷിക്കുന്ന ഫാമുകൾ xxunk വരുമെന്ന് xxunk പറയുന്നു,xxup eng ആൾക്കൂട്ട വിചാരണയ്ക്ക് ഇരയായി കൊല്ലപ്പെടും xxunk മുസ്ലിം യുവാവിനെ xxunk പൊലീസ് ഓഫീസർ ഗഗൻദീപ് സിങ് സാമൂഹിക മാധ്യമങ്ങളിൽ താരമാകുന്നത് . എന്നാൽ ഇപ്പോൾ ഗഗൻദീപിന് നിരവധി xxunk ലഭിക്കുന്നത് . ഇതുകാരണം ഗഗൻദീപിനെ നിർബന്ധിത അവധിയിൽ xxunk സഹപ്രവർത്തകർ പറയുന്നു . ഈ മാസം xxup num ് ആയിരുന്നു സംഭവം , ഉത്തരാഖണ്ഡിലെ ഗിരിജദേവി ക്ഷേത്രസമുച്ചയത്തില് വച്ചാണ് മുസ്ലിം യുവാവ് തന്റെ പെണ്സുഹൃത്തായ ഹിന്ദു യുവതിയുമായി xxunk അവിടെയെത്തിയ ജനങ്ങൾ യുവാവിനെ xxunk . ആള്ക്കൂട്ട വിചാരണ ഉറപ്പായ സന്ദര്ഭത്തിലാണ് സംഭവം അറിഞ്ഞെത്തിയ എസ്.ഐ . ഗഗന്ദീപ് സിങ്ങ് യുവാവിനെ ജനക്കൂട്ടത്തിനിടയില്നിന്ന് രക്ഷിക്കുന്നത് . ഇതിന്റെ വിഡിയോ സാമൂഹിക മാധ്യമങ്ങളിൽ വൈറലായിരുന്നു . എന്നാലിപ്പോൾ ആൾക്കൂട്ടത്തിന്റെ പ്രവൃത്തിയെ ന്യായീകരിച്ച് xxunk രംഗത്തെത്തിയിരിക്കുകയാണ് . ഒരു മുസ്ലിം യുവാവ് ഹിന്ദു പെൺകുട്ടിയെ കൂട്ടി xxunk വന്നത് ശരിയായില്ലെന്നും ഇത് മതവികാരത്തെ വ്രണപ്പെടുത്തുന്ന സംഭവമാണെന്നുമാണ് രാകേഷ് xxunk എന്ന ബിജെപി എംഎൽഎ പറഞ്ഞത് . സമാനമായ പ്രതികരണമായിരുന്നു മറ്റ് പ്രാദേശിക നേതാക്കളുടെയും . ഈ അവസരത്തിലാണ് സംഭവത്തിൽ പലരും റോൾ മോഡൽ എന്നു വരെ വിശേഷിപ്പിച്ച പൊലീസ് ഉദ്യോഗസ്ഥനെതിരെ വധഭീഷണി ഉയരുന്നത് . എന്നാൽ ഗഗൻദീപിനെ അനുമോദിച്ചും പിന്തുണച്ചും നിരവധി പ്രമുഖർ രംഗത്തെത്തി . ചേതൻ ഭഗത് . തസ്ലീമ xxunk , ഫർഹാൻ അക്തർ തുടങ്ങിയവർ അഭിനന്ദനം അറിയിച്ച് ട്വീറ്റ് ചെയ്തിരുന്നു .,xxup eng xxunk രണ്ടു പെണ്കുട്ടികള് ബുള്ളറ്റില് ഹിമാലയന് യാത്ര വിജയകരമായി പൂര്ത്തിയാക്കി തിരിച്ചെത്തി . പതിനാറു ദിവസമെടുത്താണ് xxunk ബുള്ളറ്റില് മടങ്ങി xxunk കൊടും തണുപ്പും മഞ്ഞും . ഉയരം xxunk xxunk അവസ്ഥ . പലപ്പോഴും മരണം മുന്നില് കണ്ടു . ഇടയ്ക്ക് ബുള്ളറ്റ് മഞ്ഞില് കുടുങ്ങി . അങ്ങനെ , നിരവധി പ്രതിസന്ധികള് മറികടന്ന് ഈ രണ്ടു പെണ്കുട്ടികള് ഹിമാലയം കീഴടക്കി . ചാലക്കുടി സ്വദേശികളായ ആന്ഫി മരിയ ബേബിയും അനഘയും . xxunk ബൈക്ക് യാത്ര ഈ പെണ്കുട്ടികളുടെ സ്വപ്നമായിരുന്നു . ആ സ്വപ്നമാണ് xxunk . xxunk നിന്ന് xxunk , മണാലി വഴിയായിരുന്നു യാത്ര . രണ്ടു പേരും xxunk തൊട്ടേ കൂട്ടുകാരായിരുന്നു . പ്ലസ്ടുവിന് പഠിക്കുമ്പോഴായിരുന്നു xxunk ബൈക്ക് യാത്ര ഇവരുടെ സ്വപ്നത്തില് ഇടംപിടിച്ചത് . വീട്ടുകാര് xxunk xxunk പരിശീലനവും xxunk xxunk യാത്ര കാമറയില് പകര്ത്താന് xxunk കൂടെക്കൂട്ടിയിരുന്നു . കോയമ്പത്തൂരില് xxunk . xxunk മാനേജ്മെന്റ് വിദ്യാര്ഥിനിയാണ് ആന്ഫി . xxunk xxunk ഡിസൈന് കോഴ്സിന് പഠിക്കുന്നു .,xxup eng എ.ഡി.ജി.പി സുധേഷ്കുമാറിന്റെ മകള് പഞ്ചാബിലേക്ക് പോയതോടെ ഗവാസ്കറെ മര്ദിച്ച കേസിലെ രഹസ്യമൊഴിയെടുപ്പ് മുടങ്ങി . ഇതോടെ രഹസ്യമൊഴി രേഖപ്പെടുത്താന് മറ്റൊരു തീയതി തേടി ക്രൈംബ്രാഞ്ച് കോടതിയില് അപേക്ഷ നല്കി . അതേസമയം ഗവാസ്കറുടെ രഹസ്യമൊഴി ഒന്നിന് രേഖപ്പെടുത്തും . എ.ഡി.ജി.പി സുധേഷ്കുമാറിന്റെ മകളുടെ രഹസ്യമൊഴി ചൊവ്വാഴ്ച xxunk കോടതി സമയം അനുവദിച്ചത് . ക്രൈംബ്രാഞ്ച് xxunk നടപടികളും പൂര്ത്തിയാക്കിയിരുന്നു . എന്നാല് എ.ഡി.ജി.പിയുടെ മകള് സ്വന്തം നാടായ പഞ്ചാബിലേക്ക് പോയതോടെ രഹസ്യമൊഴി xxunk . വിദ്യാഭ്യാസ സംബന്ധമായി ഒഴിവാക്കാനാവാത്ത xxunk മറ്റൊരു ദിവസം മൊഴിയെടുക്കാന് തയാറാണെന്നും എ.ഡി.ജി.പിയുടെ കുടുംബം അന്വേഷണസംഘത്തെ അറിയിച്ചിട്ടുണ്ട് . ഇതോടെ എ.ഡി.ജി.പിയുടെ മകള് മടങ്ങിയെത്തുന്ന xxup num ് ശേഷം സമയം അനുവദിക്കണമെന്ന് കാണിച്ച് ക്രൈംബ്രാഞ്ച് കോടതിയില് വീണ്ടും അപേക്ഷ xxunk പുറമെ ഗവാസ്കര് , എ.ഡി.ജി.പിയുടെ പഴ്സനല് xxunk , ചന്ദ്രശേഖരന് നായര് സ്റ്റേഡിയത്തിലെ പൊലീസ് പരിശീലക എന്നിവരുടെ രഹസ്യമൊഴിയാണ് രേഖപ്പെടുത്തുന്നത് . ഇതില് xxunk മൂന്ന് പേരുടെയും ഒന്നാം തീയതി രേഖപ്പെടുത്തും . എ.ഡി.ജി.പിയുടെ മകള് മര്ദിച്ചെന്ന് ഗവാസ്കറും ഗവാസ്കര് മോശമായി പെരുമാറിയെന്ന് പരാതിയില് എ.ഡി.ജി.പിയുടെ മകളും ഉറച്ച് xxunk രഹസ്യമൊഴി രേഖപ്പെടുത്തുന്നത് . രഹസ്യമൊഴിയെടുപ്പ് അടുത്ത മാസം ഒന്നാം തീയതി വരെ നീളുമെന്ന് ഉറപ്പായതോടെ അറസ്റ്റ് xxunk ഉറപ്പായി .\n",
       "y: LMLabelList\n",
       ",,,,\n",
       "Path: wiki/ml;\n",
       "\n",
       "Valid: LabelList (1873 items)\n",
       "x: LMTextList\n",
       "xxup eng xxunk xxunk റോഡിൽ xxunk ബിഎസ്എൻഎൽ ഓഫിസിനു മുന്നിൽ കാറുകൾ xxunk xxunk പരുക്ക് . നടി xxunk xxunk xxunk കെ . xxunk പരുക്കേറ്റത് . ഞായറാഴ്ച രാവിലെ xxunk അപകടം . xxunk xxunk വരികയായിരുന്ന , ഇവർ ഓടിച്ചിരുന്ന കാർ നിയന്ത്രണം വിട്ട് എതിരെ വന്ന കാറിൽ ഇടിക്കുകയായിരുന്നു . ഇടിയുടെ ആഘാതത്തിൽ xxunk കാർ തലകീഴായി മറിഞ്ഞു . തൃപ്പൂണിത്തുറയിലെ സ്വകാര്യ ആശുപത്രിയിൽ പ്രവേശിപ്പിച്ച യുവതിയെ xxunk xxunk പ്രാഥമിക ചികിൽസ നൽകി വിട്ടയച്ചു .,xxup eng xxunk സന്ദേശം മുന്പും ജെസ്ന xxunk സഹോദരന് ജെയ്സ് ജോണ് മനോരമ ന്യൂസ് കൗണ്ടർപോയിന്റിൽ പറഞ്ഞു . അവസാനം കൂട്ടുകാരന് അയച്ച സന്ദേശവും ഇതാണ് . ഈ വിവരങ്ങള് പൊലീസിന് നേരത്തെ കൈമാറിയിരുന്നു . xxunk xxunk . എന്നാല് കുറ്റപ്പെടുത്താന് തെളിവില്ല . ഇതിന്റെ പേരില് അയാള് xxunk ജെയ്സ് ജോണ് xxunk xxunk ' പറഞ്ഞു . xxunk വിളിച്ചത് ആയിരത്തിലേറെ തവണ , xxunk വസ്ത്രം നാളുകളായി കേരള പൊലീസിനെ xxunk ജസ്ന തിരോധാനവുമായി ബന്ധപ്പെട്ട് പൊലീസിന് നിര്ണ്ണായക വിവരങ്ങള് . കേസ് അന്വേഷണം ജസ്നയുടെ ആൺ xxunk നീങ്ങുകയാണ് . ജസ്ന അവസാനം xxunk ഈ xxunk പൊലീസ് സ്ഥിരീകരിച്ചു . പൊലീസ് സ്ഥാപിച്ച xxunk നിന്ന് നിർണായക വിവരങ്ങൾ ലഭിച്ചു . ജസ്നയുടെ വീട്ടിൽ നിന്ന് ലഭിച്ച രക്തക്കറ പുരണ്ട വസ്ത്രങ്ങൾ കേന്ദ്രീകരിച്ചും അന്വേഷണം നടക്കുന്നുണ്ടെന്ന് പത്തനംതിട്ട എസ്.പി . xxunk മനോരമ ന്യൂസിനോട് പറഞ്ഞു . xxunk ആയിരത്തിലേറെ തവണ xxunk വിളിച്ചതായി പൊലീസ് വെളിപ്പെടുത്തുന്നു . സുഹൃത്ത് ചോദ്യം xxunk സഹകരിക്കുന്നില്ല . ഒരു സാധ്യതയും xxunk പത്തനംതിട്ട എസ്.പി . പറഞ്ഞു . ഏറെയും വിവരങ്ങള് ലഭിച്ചത് പൊലീസ് വച്ച xxunk നിന്നാണ് . പത്തനംതിട്ട മുക്കൂട്ടുതറയില് നിന്ന് കാണാതായ ജസ്ന മരിയ xxunk പൊലീസ് xxunk xxunk അന്വേഷണം xxunk വഴിത്തിരിവ് . xxunk അടിസ്ഥാനത്തിലാണ് പ്രത്യേക അന്വേഷണസംഘത്തിന്റെ നീക്കം . xxunk ഗോവയിലും xxunk xxunk കേന്ദ്രീകരിച്ചാണ് പൊലീസിന്റെ അന്വേഷണം . നഗരങ്ങളില് ജസ്നയുടെ ചിത്രങ്ങള് xxunk മലയാളി അസോസിയേഷനുകളുടെ സഹായം തേടുകയും ചെയ്യുന്നുണ്ട് . xxunk കണ്ട പെണ്കുട്ടി xxunk സ്ഥിരീകരിക്കാന് മാത്രമേ ഇതുവരെയുള്ള അന്വേഷണത്തില് xxunk . കേരളത്തിനകത്തും പുറത്തും തിരച്ചില് നടത്തിയെങ്കിലും xxunk ലഭ്യമായിട്ടില്ല . പത്തനംതിട്ട xxunk തറയില് നിന്ന് xxunk മൂന്നുമാസം കഴിഞ്ഞു . അതേസമയം , ജസ്ന xxunk അന്വേഷണം xxunk xxunk ആവശ്യപ്പെട്ട് കോണ്ഗ്രസ് ഇന്ന് നിയമസഭയിലേക്ക് മാര്ച്ച് നടത്തി . പത്തനംതിട്ട xxunk നേതൃത്വത്തിലുള്ള മാര്ച്ചില് കെ.പി.സി.സി പ്രസിഡന്റ് എം.എം . ഹസന് , പ്രതിപക്ഷ നേതാവ് രമേശ് ചെന്നിത്തല തുടങ്ങിയവര് പങ്കെടുത്തു . കേരളത്തിലെ ജനങ്ങള്ക്ക് xxunk ഒരു xxunk ജസ്ന കേസിന്റെ xxunk xxunk ചെന്നിത്തല പരിഹസിച്ചു . ജസ്നയുടെ പിതാവും സഹോദരങ്ങളും മാര്ച്ചില് പങ്കെടുത്തു .,xxup eng ആദ്യത്തേത് സൂപ്പർഹിറ്റ് , പിന്നെ xxunk . തൊട്ടതെല്ലാം xxunk xxunk അങ്കിൾ . ഒരു ചെറിയ ഇടവേളക്കു ശേഷം അങ്കിൾ വീണ്ടും തിരിച്ചെത്തുന്നു . ഇത്തവണ ഹൃതിക് xxunk സൂപ്പർഹിറ്റ് ഗാനം xxunk xxunk ഹേ ക്ക് xxunk നൃത്തച്ചുവടുകളുമായാണ് സഞ്ജീവ് ശ്രീവാസ്തവ എത്തിയിരിക്കുന്നത് . ഹൃതിക് റോഷന് തന്നെയാണ് പ്രകടനം xxunk . xxunk പ്രതികരണം ഇതുവരെ xxunk . സഞ്ജീവ് ശ്രീവാസ്തവ ട്വിറ്ററിലൂടെ പങ്കുവെച്ച വിഡിയോ ഇതിനോടകം ജനങ്ങൾ ഏറ്റെടുത്തു കഴിഞ്ഞു . എന്നാൽ xxunk xxunk ഇതിലൂടെ വേണ്ടെന്നാണ് xxunk xxunk പറയാനുള്ളത് : `` എനിക്ക് ഇതിലൂടെ പണം ആവശ്യമില്ല . ജനങ്ങൾ ഇത് xxunk xxunk സന്തോഷം . ആളുകൾ എൻറെ വിഡിയോകൾ xxunk അവരോട് നന്ദിയുണ്ട് . എൻറെ അമ്മ വിഡിയോ കണ്ടപ്പോൾ ആ xxunk ഒരു xxunk . ആ ചിരി മറക്കാൻ കഴിയില്ല . എൻറെ ഇളയ സഹോദരൻ മരിച്ച ദു : xxunk മറന്ന് xxunk അത് അമ്മയെ സഹായിച്ചു '' . xxunk के xxunk @ xxup eng xxunk ये xxunk xxunk # xxup eng # xxup eng xxup eng xxup .eng xxup .eng / xxup eng xxup num xxup ng xxup num xxup ng xxunk ഒരു സ്വകാര്യ കോളേജിൽ ഇലക്ട്രോണിക്സ് അധ്യാപകനായ ശ്രീവാസ്തവ ശാസ്ത്രീയമായി നൃത്തം xxunk . എങ്കിലും ഏത് xxunk ഒട്ടും xxunk നൃത്തം ചെയ്യാറുണ്ട് . xxunk അമ്മ ഒരു xxunk . ബോളിവുഡ് നടൻ xxunk കടുത്ത ആരാധകനാണ് ഇദ്ദേഹം . ബോളിവുഡ് നടൻ xxunk വലിയ ആരാധകനായ xxunk xxunk ഒന്നിച്ച് നൃത്തം ചെയ്യാനുള്ള അവസരവും ഒരു റിയാലിറ്റി ഷോയിലൂടെ ലഭിച്ചിരുന്നു . ഒരു വിവാഹ xxunk വെച്ച ചുവടുകള് xxunk xxunk അങ്കിൾ തരംഗമായി മാറിയത് . അന്ന് xxunk കൂടെ xxunk . xxup eng xxup eng xxup eng xxup eng @ xxup eng xxup num xxup eng xxup eng xxup eng xxup eng xxup eng xxup eng xxup eng xxup eng xxup eng xxup eng xxup 'eng xxup eng xxup eng xxup eng ! xxup eng xxup eng xxup eng xxup eng xxup eng xxup num xxup eng xxup eng xxup eng xxup eng . # xxup eng xxup eng xxup .eng xxup .eng / xxup eng,xxup eng യു.എ.ഇ ബഹിരാകാശ പദ്ധതിയിലേക്ക് രണ്ടാം ഘട്ടത്തിൽ തിരഞ്ഞെടുക്കപ്പെട്ടത് xxunk പേർ . ശാരീരിക , മാനസിക xxunk xxunk xxunk ശേഷമായിരുന്നു തിരഞ്ഞെടുപ്പ് . യു.എ.ഇയുടെ ആദ്യ ബഹിരാകാശ xxunk അടുത്തവർഷം ഏപ്രിലിൽ രാജ്യാന്തര ബഹിരാകാശ xxunk . നാലായിരം xxunk ആദ്യഘട്ടത്തിൽ തിരഞ്ഞെടുത്ത xxup num xxunk xxunk xxunk മുഹമ്മദ് ബിൻ റാഷിദ് സ്പേസ് സെന്റർ മേധാവി യൂസഫ് അൽ xxunk പറഞ്ഞു . xxunk xxunk ഇടയിൽ xxunk . അവസാനഘട്ട തിരഞ്ഞെടുപ്പ് നടപടികൾ ചൊവ്വാഴ്ച ആരംഭിക്കും . xxunk xxunk നിന്ന് xxunk xxunk ആദ്യം പോകുന്നത് . അടുത്ത മൂന്നു വർഷത്തിനിടെ നാലുപേരെ xxunk എത്തിക്കാനാണ് ശ്രമം . xxunk , എൻജിനീയറിങ് , മെഡിസിൻ , പൊലീസ് , xxunk തുടങ്ങി വിവിധ xxunk തിരഞ്ഞെടുക്കപ്പെട്ടത് . രാജ്യാന്തര ബഹിരാകാശ കേന്ദ്രത്തിലെ സംവിധാനങ്ങൾ ഇവർക്കു xxunk കൂടാതെ , റഷ്യൻ ഭാഷയും xxunk . xxunk , xxunk , മെഡിക്കൽ xxunk , റിസോഴ്സ് മാനേജ്മെന്റ് തുടങ്ങിയ മേഖലകളിൽ xxunk അടുത്ത ഘട്ടം . അതേസമയം , റഷ്യൻ ബഹിരാകാശ xxunk xxunk യു.എ.ഇയുടെ ആദ്യ xxunk രാജ്യാന്തര ബഹിരാകാശ xxunk xxunk . റഷ്യയുടെ xxunk xxunk യാത്ര .,xxup eng ദക്ഷിണ റയിൽവേ ജനറൽ മാനേജർ വിളിച്ച യോഗം xxunk കേരള xxunk . xxunk xxunk പൂർണമായും യോഗത്തിൽ നിന്നു വിട്ടുനിന്നു . ഒരു xxunk ഉൾപ്പെടെ ആറ് xxunk മാത്രമാണ് യോഗത്തിൽ പങ്കെടുത്തത് . പുതുതായി ചുമതലയേറ്റ ജനറൽ മാനേജർ xxunk യോഗം വിളിച്ചത് . സംസ്ഥാനത്തിന്റെ ആവശ്യങ്ങളും പ്രശ്നങ്ങളും xxunk ലക്ഷ്യം . എന്നാൽ ഇരുപത് xxunk കെ സി വേണുഗോപാൽ , എംകെ രാഘവൻ , xxunk , xxunk സുരേഷ് , ആന്റോ ആന്റണി എന്നിവർ മാത്രമാണ് യോഗത്തിന് എത്തിയത് . xxunk നിന്നും പി വി അബ്ദുൽ വഹാബ് മാത്രം . പങ്കെടുത്തവർ തന്നെ യോഗത്തിൽ അവിശ്വാസം രേഖപ്പെടുത്തി . അതേസമയം തിരുവനന്തപുരത്തു നടക്കുന്ന യോഗത്തിൽ തമിഴ്നാട്ടിൽ നിന്നുള്ള രണ്ട് രാജ്യസഭാ xxunk പങ്കെടുത്തു . പാത xxunk പ്രത്യേക റയിൽവേ മേഖലയും ഉൾപ്പെടെ നിരവധി xxunk കേരള എം.പിമാരുടെ xxunk .\n",
       "y: LMLabelList\n",
       ",,,,\n",
       "Path: wiki/ml;\n",
       "\n",
       "Test: None, model=SequentialRNN(\n",
       "  (0): AWD_LSTM(\n",
       "    (encoder): Embedding(60007, 400, padding_idx=1)\n",
       "    (encoder_dp): EmbeddingDropout(\n",
       "      (emb): Embedding(60007, 400, padding_idx=1)\n",
       "    )\n",
       "    (rnns): ModuleList(\n",
       "      (0): WeightDropout(\n",
       "        (module): LSTM(400, 1150, batch_first=True)\n",
       "      )\n",
       "      (1): WeightDropout(\n",
       "        (module): LSTM(1150, 1150, batch_first=True)\n",
       "      )\n",
       "      (2): WeightDropout(\n",
       "        (module): LSTM(1150, 400, batch_first=True)\n",
       "      )\n",
       "    )\n",
       "    (input_dp): RNNDropout()\n",
       "    (hidden_dps): ModuleList(\n",
       "      (0): RNNDropout()\n",
       "      (1): RNNDropout()\n",
       "      (2): RNNDropout()\n",
       "    )\n",
       "  )\n",
       "  (1): LinearDecoder(\n",
       "    (decoder): Linear(in_features=400, out_features=60007, bias=True)\n",
       "    (output_dp): RNNDropout()\n",
       "  )\n",
       "), opt_func=functools.partial(<class 'torch.optim.adam.Adam'>, betas=(0.9, 0.99)), loss_func=FlattenedLoss of CrossEntropyLoss(), metrics=[<function accuracy at 0x7f7b43c4b6a8>], true_wd=True, bn_wd=True, wd=0.01, train_bn=True, path=PosixPath('wiki/ml'), model_dir='models', callback_fns=[functools.partial(<class 'fastai.basic_train.Recorder'>, add_time=True)], callbacks=[...], layer_groups=[Sequential(\n",
       "  (0): WeightDropout(\n",
       "    (module): LSTM(400, 1150, batch_first=True)\n",
       "  )\n",
       "  (1): RNNDropout()\n",
       "), Sequential(\n",
       "  (0): WeightDropout(\n",
       "    (module): LSTM(1150, 1150, batch_first=True)\n",
       "  )\n",
       "  (1): RNNDropout()\n",
       "), Sequential(\n",
       "  (0): WeightDropout(\n",
       "    (module): LSTM(1150, 400, batch_first=True)\n",
       "  )\n",
       "  (1): RNNDropout()\n",
       "), Sequential(\n",
       "  (0): Embedding(60007, 400, padding_idx=1)\n",
       "  (1): EmbeddingDropout(\n",
       "    (emb): Embedding(60007, 400, padding_idx=1)\n",
       "  )\n",
       "  (2): LinearDecoder(\n",
       "    (decoder): Linear(in_features=400, out_features=60007, bias=True)\n",
       "    (output_dp): RNNDropout()\n",
       "  )\n",
       ")], add_time=True)\n",
       "alpha: 2.0\n",
       "beta: 1.0], layer_groups=[Sequential(\n",
       "  (0): WeightDropout(\n",
       "    (module): LSTM(400, 1150, batch_first=True)\n",
       "  )\n",
       "  (1): RNNDropout()\n",
       "), Sequential(\n",
       "  (0): WeightDropout(\n",
       "    (module): LSTM(1150, 1150, batch_first=True)\n",
       "  )\n",
       "  (1): RNNDropout()\n",
       "), Sequential(\n",
       "  (0): WeightDropout(\n",
       "    (module): LSTM(1150, 400, batch_first=True)\n",
       "  )\n",
       "  (1): RNNDropout()\n",
       "), Sequential(\n",
       "  (0): Embedding(60007, 400, padding_idx=1)\n",
       "  (1): EmbeddingDropout(\n",
       "    (emb): Embedding(60007, 400, padding_idx=1)\n",
       "  )\n",
       "  (2): LinearDecoder(\n",
       "    (decoder): Linear(in_features=400, out_features=60007, bias=True)\n",
       "    (output_dp): RNNDropout()\n",
       "  )\n",
       ")], add_time=True)"
      ]
     },
     "execution_count": 16,
     "metadata": {},
     "output_type": "execute_result"
    }
   ],
   "source": [
    "learn.load('fit_head', with_opt=True)"
   ]
  },
  {
   "cell_type": "code",
   "execution_count": 17,
   "metadata": {},
   "outputs": [],
   "source": [
    "learn.unfreeze()"
   ]
  },
  {
   "cell_type": "code",
   "execution_count": 18,
   "metadata": {},
   "outputs": [
    {
     "data": {
      "text/html": [
       "<table border=\"1\" class=\"dataframe\">\n",
       "  <thead>\n",
       "    <tr style=\"text-align: left;\">\n",
       "      <th>epoch</th>\n",
       "      <th>train_loss</th>\n",
       "      <th>valid_loss</th>\n",
       "      <th>accuracy</th>\n",
       "      <th>time</th>\n",
       "    </tr>\n",
       "  </thead>\n",
       "  <tbody>\n",
       "    <tr>\n",
       "      <td>0</td>\n",
       "      <td>6.915137</td>\n",
       "      <td>6.505189</td>\n",
       "      <td>0.287618</td>\n",
       "      <td>01:05</td>\n",
       "    </tr>\n",
       "    <tr>\n",
       "      <td>1</td>\n",
       "      <td>6.811839</td>\n",
       "      <td>6.427526</td>\n",
       "      <td>0.293954</td>\n",
       "      <td>01:05</td>\n",
       "    </tr>\n",
       "    <tr>\n",
       "      <td>2</td>\n",
       "      <td>6.757213</td>\n",
       "      <td>6.351612</td>\n",
       "      <td>0.301047</td>\n",
       "      <td>01:06</td>\n",
       "    </tr>\n",
       "    <tr>\n",
       "      <td>3</td>\n",
       "      <td>6.603992</td>\n",
       "      <td>6.261285</td>\n",
       "      <td>0.308469</td>\n",
       "      <td>01:06</td>\n",
       "    </tr>\n",
       "    <tr>\n",
       "      <td>4</td>\n",
       "      <td>6.462730</td>\n",
       "      <td>6.171619</td>\n",
       "      <td>0.314286</td>\n",
       "      <td>01:06</td>\n",
       "    </tr>\n",
       "    <tr>\n",
       "      <td>5</td>\n",
       "      <td>6.322495</td>\n",
       "      <td>6.078988</td>\n",
       "      <td>0.319472</td>\n",
       "      <td>01:06</td>\n",
       "    </tr>\n",
       "    <tr>\n",
       "      <td>6</td>\n",
       "      <td>6.064376</td>\n",
       "      <td>6.018590</td>\n",
       "      <td>0.322262</td>\n",
       "      <td>01:06</td>\n",
       "    </tr>\n",
       "    <tr>\n",
       "      <td>7</td>\n",
       "      <td>5.912098</td>\n",
       "      <td>5.971808</td>\n",
       "      <td>0.325374</td>\n",
       "      <td>01:06</td>\n",
       "    </tr>\n",
       "    <tr>\n",
       "      <td>8</td>\n",
       "      <td>5.742988</td>\n",
       "      <td>5.940405</td>\n",
       "      <td>0.326576</td>\n",
       "      <td>01:06</td>\n",
       "    </tr>\n",
       "    <tr>\n",
       "      <td>9</td>\n",
       "      <td>5.625899</td>\n",
       "      <td>5.911166</td>\n",
       "      <td>0.327695</td>\n",
       "      <td>01:06</td>\n",
       "    </tr>\n",
       "    <tr>\n",
       "      <td>10</td>\n",
       "      <td>5.432641</td>\n",
       "      <td>5.890293</td>\n",
       "      <td>0.329297</td>\n",
       "      <td>01:06</td>\n",
       "    </tr>\n",
       "    <tr>\n",
       "      <td>11</td>\n",
       "      <td>5.334363</td>\n",
       "      <td>5.885586</td>\n",
       "      <td>0.329251</td>\n",
       "      <td>01:06</td>\n",
       "    </tr>\n",
       "    <tr>\n",
       "      <td>12</td>\n",
       "      <td>5.229106</td>\n",
       "      <td>5.879097</td>\n",
       "      <td>0.329743</td>\n",
       "      <td>01:06</td>\n",
       "    </tr>\n",
       "    <tr>\n",
       "      <td>13</td>\n",
       "      <td>5.118078</td>\n",
       "      <td>5.879481</td>\n",
       "      <td>0.330127</td>\n",
       "      <td>01:06</td>\n",
       "    </tr>\n",
       "    <tr>\n",
       "      <td>14</td>\n",
       "      <td>5.078564</td>\n",
       "      <td>5.873973</td>\n",
       "      <td>0.330551</td>\n",
       "      <td>01:06</td>\n",
       "    </tr>\n",
       "    <tr>\n",
       "      <td>15</td>\n",
       "      <td>5.041084</td>\n",
       "      <td>5.875698</td>\n",
       "      <td>0.330472</td>\n",
       "      <td>01:06</td>\n",
       "    </tr>\n",
       "    <tr>\n",
       "      <td>16</td>\n",
       "      <td>4.998145</td>\n",
       "      <td>5.878479</td>\n",
       "      <td>0.330607</td>\n",
       "      <td>01:06</td>\n",
       "    </tr>\n",
       "    <tr>\n",
       "      <td>17</td>\n",
       "      <td>4.945888</td>\n",
       "      <td>5.879369</td>\n",
       "      <td>0.330751</td>\n",
       "      <td>01:06</td>\n",
       "    </tr>\n",
       "    <tr>\n",
       "      <td>18</td>\n",
       "      <td>4.933945</td>\n",
       "      <td>5.881214</td>\n",
       "      <td>0.330702</td>\n",
       "      <td>01:06</td>\n",
       "    </tr>\n",
       "    <tr>\n",
       "      <td>19</td>\n",
       "      <td>4.916196</td>\n",
       "      <td>5.880988</td>\n",
       "      <td>0.330603</td>\n",
       "      <td>01:06</td>\n",
       "    </tr>\n",
       "  </tbody>\n",
       "</table>"
      ],
      "text/plain": [
       "<IPython.core.display.HTML object>"
      ]
     },
     "metadata": {},
     "output_type": "display_data"
    }
   ],
   "source": [
    "learn.fit_one_cycle(20, 1e-3, moms=(0.8,0.7))"
   ]
  },
  {
   "cell_type": "code",
   "execution_count": 19,
   "metadata": {},
   "outputs": [],
   "source": [
    "learn.save('fine_tuned', with_opt=True)"
   ]
  },
  {
   "cell_type": "code",
   "execution_count": 20,
   "metadata": {},
   "outputs": [],
   "source": [
    "learn.load('fine_tuned', with_opt=True);"
   ]
  },
  {
   "cell_type": "code",
   "execution_count": 21,
   "metadata": {},
   "outputs": [],
   "source": [
    "learn.save_encoder('fine_tuned_enc')"
   ]
  },
  {
   "cell_type": "code",
   "execution_count": 22,
   "metadata": {},
   "outputs": [],
   "source": [
    "data_cls = TextClasDataBunch.from_csv(path='wiki/ml/', csv_name='train_class.csv',test='test_class.csv',\n",
    "                                    text_cols=[1], label_cols=[0],tokenizer=tokenizer,vocab=data_lm.vocab)"
   ]
  },
  {
   "cell_type": "code",
   "execution_count": 23,
   "metadata": {},
   "outputs": [
    {
     "data": {
      "text/html": [
       "<table border=\"1\" class=\"dataframe\">\n",
       "  <thead>\n",
       "    <tr style=\"text-align: right;\">\n",
       "      <th>text</th>\n",
       "      <th>target</th>\n",
       "    </tr>\n",
       "  </thead>\n",
       "  <tbody>\n",
       "    <tr>\n",
       "      <td>xxup eng xxunk പിന്നാലെ എം . കരുണാനിധിയും xxunk . പല റെക്കോര്ഡുകളും മുത്തുവേല് xxunk ഇന്ത്യന് രാഷ്ട്രീയം വിളിച്ച xxunk xxunk മുഖ്യമന്ത്രി ' എന്ന xxunk ഏറെ xxunk . xxunk ഒരു പരിധിവരെ ദേശീയ രാഷ്ട്രീയത്തിന്റെയും xxunk ആ xxunk xxunk വഴിക്കും കഴിഞ്ഞു . ഒന്പത് പതിറ്റാണ്ട് പിന്നിട്ട ജീവിത സഞ്ചാരം സ്വയം xxunk xxunk . ദ്രാവിഡ രാഷ്ട്രീയം നിര്ണായക xxunk നില്ക്കുമ്പോഴാണ് കരുണാനിധിയുടെ വിയോഗം . xxunk . ഒറ്റവാക്കില് അങ്ങനെ വിശേഷിപ്പിക്കാം . വെളിച്ചവും xxunk വ്യക്തിത്വം . xxunk xxunk വിവാദങ്ങളും ഇഴചേര്ന്ന xxunk .</td>\n",
       "      <td>India</td>\n",
       "    </tr>\n",
       "    <tr>\n",
       "      <td>xxup eng ആട് xxup num വൻ xxunk ഈ അവസരത്തിൽ ആടിന്റെ അടുത്ത xxunk സ്കോപ്പ് ഉണ്ടാകുമോ എന്ന് ആരാധകരില് പലരും xxunk വിജയ് xxunk മറ്റ് അണിയറ xxunk ചോദിച്ചിരുന്നു . ആദ്യ ഭാഗം xxunk രണ്ടാം ഭാഗത്തെ കുറിച്ച് xxunk മൂന്നാം ഭാഗത്തിനായി പദ്ധതി ഇല്ലെന്നും അവര് വ്യക്തമാക്കുകയും ചെയ്തു . എന്നാല് ആട് xxup num വന്നാല് എങ്ങനെ ആയിരിക്കും xxunk . ഇതാ വളരെ രസകരമായ ഒരു കഥയുമായി മഹേഷ് ഗോപാൽ മുന്നോട്ടു വന്നിരിക്കുകയാണ് . ആട് ഒരുക്കിയ മിഥുൻ മാനുവൽ തോമസ് സംവിധാനം ചെയ്ത അലമാര എന്ന ചിത്രത്തിന്റെ xxunk</td>\n",
       "      <td>Entertainment</td>\n",
       "    </tr>\n",
       "    <tr>\n",
       "      <td>xxup eng നല്ല നാളുകള് കൊണ്ടുവരുമെന്ന് പ്രഖ്യാപിച്ച് അധികാരത്തിലേറിയ നരേന്ദ്ര മോദി സര്ക്കാര് നാലു വര്ഷം xxunk . ഇനിയുള്ളത് അവസാന ലാപ്പിലെ ഒാട്ടം . മോദിയുടെ ഭരണത്തിന് ജനം xxunk xxunk ദിനം xxunk . ഒരു സര്ക്കാരിനെ വിലയിരുത്താന് ആവശ്യമായ xxunk കടന്നുപോയത് . നരേന്ദ്ര മോദി അധികാരം xxunk ? സമകാലിക ഇന്ത്യന് രാഷ്ട്രീയത്തിലെ xxunk വീഴ്ത്താന് xxunk xxunk ? കഷ്ടിച്ച് ഒരു വര്ഷമാണ് നരേന്ദ്ര മോദിക്ക് മുന്നിലുള്ളത് . അത് xxunk . xxunk xxunk കൊണ്ടുവരുമെന്ന് പ്രഖ്യാപിച്ചാണ് ബിജെപി xxunk . പെട്രോള് , ഡീസല് വില വര്ധനയില് ജനം</td>\n",
       "      <td>India</td>\n",
       "    </tr>\n",
       "    <tr>\n",
       "      <td>xxup eng ജനാധിപത്യത്തിന് തെറ്റുകള് തിരുത്താനുള്ള കഴിവുണ്ടെന്ന് ചരിത്രം തരുന്ന ഒരു ആത്മവിശ്വാസമുണ്ട് . കഴിഞ്ഞ തവണ പറയാതെ വയ്യ അവസാനിച്ചത് ഇങ്ങനെയാണ് . കര്ണാടക ആ വിശ്വാസം ഉറപ്പിക്കുന്നു . കേന്ദ്രാധികാരത്തിന്റെ ബലത്തില് xxup num മണിക്കൂര് മുഖ്യമന്ത്രിക്കസേരയിലിരുന്ന യെഡിയൂരപ്പ xxunk പടിയിറങ്ങി . കീഴ്വഴക്കങ്ങളും ചട്ടങ്ങളും ജനാധിപത്യ മര്യാദയും അട്ടിമറിച്ച ഭരണകൂട രാഷ്ട്രീയത്തെ ചെറുത്തു xxunk കോണ്ഗ്രസിനും ജെ.ഡി.എസിനും അഭിനന്ദനങ്ങള് . ഏതു xxunk xxunk xxunk ഇന്ത്യന് xxunk xxunk . xxunk xxunk xxunk പ്രതിരോധം xxunk xxunk xxunk . അതിന്റെ ആയുസ് എത്രയാണെന്ന് ഇപ്പോള് xxunk xxunk xxunk രാജ്യത്ത്</td>\n",
       "      <td>India</td>\n",
       "    </tr>\n",
       "    <tr>\n",
       "      <td>xxup eng xxunk ശേഷം യൂത്ത് ലീഗ് നേതാവ് പികെ xxunk തുറന്ന xxunk സമസ്ത രംഗത്ത് . ഫറൂഖ് കോളജ് വിവാദത്തില് കടുത്ത സ്ത്രീ xxunk നടത്തിയ അധ്യാപകനെതിരെ ഫെയ്സ്ബുക്കില് xxunk സമസ്ത നേതാക്കളെ ചൊടിപ്പിച്ചത് . മുസ്ലിം xxunk വളര്ന്നു വരുന്ന ഫാഷന് xxunk മുജാഹിദ് വിഭാഗം xxunk xxunk xxunk xxunk നടത്തിയ xxunk ഭാഗം xxunk xxunk സ്ത്രീ പക്ഷ നിലപാടിനെ xxunk അതിന്റെ പേരില് അധ്യാപകനെ xxunk ചെയ്യുന്ന കപട xxunk മതേതര xxunk xxunk പ്രഖ്യാപിച്ച പി.കെ xxunk സമീപനം xxunk നേതാക്കള് സംയുക്തമായി പുറപ്പെടുവിച്ച ഫെയ്സ്ബുക്ക് പോസ്റ്റില് വ്യക്തമാക്കി</td>\n",
       "      <td>Kerala</td>\n",
       "    </tr>\n",
       "  </tbody>\n",
       "</table>"
      ],
      "text/plain": [
       "<IPython.core.display.HTML object>"
      ]
     },
     "metadata": {},
     "output_type": "display_data"
    }
   ],
   "source": [
    "data_cls.show_batch()"
   ]
  },
  {
   "cell_type": "code",
   "execution_count": 24,
   "metadata": {},
   "outputs": [],
   "source": [
    "# data_cls.save(\"data_cls.pkl\")"
   ]
  },
  {
   "cell_type": "code",
   "execution_count": 25,
   "metadata": {},
   "outputs": [],
   "source": [
    "data_cls = load_data(\"wiki/ml/\",'data_cls.pkl')"
   ]
  },
  {
   "cell_type": "code",
   "execution_count": 26,
   "metadata": {},
   "outputs": [],
   "source": [
    "data_cls.sanity_check()"
   ]
  },
  {
   "cell_type": "code",
   "execution_count": 27,
   "metadata": {},
   "outputs": [],
   "source": [
    "learn = text_classifier_learner(data_cls,AWD_LSTM, drop_mult=0.5,pretrained=False)"
   ]
  },
  {
   "cell_type": "code",
   "execution_count": 28,
   "metadata": {},
   "outputs": [],
   "source": [
    "learn.load_encoder('fine_tuned_enc')"
   ]
  },
  {
   "cell_type": "code",
   "execution_count": 29,
   "metadata": {},
   "outputs": [],
   "source": [
    "learn.freeze()"
   ]
  },
  {
   "cell_type": "code",
   "execution_count": 30,
   "metadata": {},
   "outputs": [
    {
     "data": {
      "text/html": [],
      "text/plain": [
       "<IPython.core.display.HTML object>"
      ]
     },
     "metadata": {},
     "output_type": "display_data"
    },
    {
     "name": "stdout",
     "output_type": "stream",
     "text": [
      "LR Finder is complete, type {learner_name}.recorder.plot() to see the graph.\n"
     ]
    }
   ],
   "source": [
    "learn.lr_find()"
   ]
  },
  {
   "cell_type": "code",
   "execution_count": 31,
   "metadata": {},
   "outputs": [
    {
     "data": {
      "image/png": "[encoded data removed]",
      "text/plain": [
       "<Figure size 432x288 with 1 Axes>"
      ]
     },
     "metadata": {
      "needs_background": "light"
     },
     "output_type": "display_data"
    }
   ],
   "source": [
    "learn.recorder.plot()"
   ]
  },
  {
   "cell_type": "code",
   "execution_count": 32,
   "metadata": {},
   "outputs": [],
   "source": [
    "learn.metrics = [accuracy]"
   ]
  },
  {
   "cell_type": "code",
   "execution_count": 33,
   "metadata": {},
   "outputs": [
    {
     "data": {
      "text/html": [
       "<table border=\"1\" class=\"dataframe\">\n",
       "  <thead>\n",
       "    <tr style=\"text-align: left;\">\n",
       "      <th>epoch</th>\n",
       "      <th>train_loss</th>\n",
       "      <th>valid_loss</th>\n",
       "      <th>accuracy</th>\n",
       "      <th>time</th>\n",
       "    </tr>\n",
       "  </thead>\n",
       "  <tbody>\n",
       "    <tr>\n",
       "      <td>0</td>\n",
       "      <td>0.919955</td>\n",
       "      <td>0.618002</td>\n",
       "      <td>0.791222</td>\n",
       "      <td>00:18</td>\n",
       "    </tr>\n",
       "  </tbody>\n",
       "</table>"
      ],
      "text/plain": [
       "<IPython.core.display.HTML object>"
      ]
     },
     "metadata": {},
     "output_type": "display_data"
    }
   ],
   "source": [
    "learn.fit_one_cycle(1, 1e-1, moms=(0.8,0.7))"
   ]
  },
  {
   "cell_type": "code",
   "execution_count": 34,
   "metadata": {},
   "outputs": [],
   "source": [
    "learn.save('first-full')"
   ]
  },
  {
   "cell_type": "code",
   "execution_count": 35,
   "metadata": {},
   "outputs": [
    {
     "data": {
      "text/plain": [
       "RNNLearner(data=TextClasDataBunch;\n",
       "\n",
       "Train: LabelList (6740 items)\n",
       "x: TextList\n",
       "xxup eng കനത്ത xxunk പ്രളയക്കെടുതിയിൽ മുങ്ങി വയനാട് ജില്ല . ദുരന്തനിവാരണസേന റെഡ് അലര്ട്ട് പ്രഖ്യാപിച്ചു . xxunk മണ്ണിടിഞ്ഞ് ഗതാഗത തടസം xxunk ജില്ല ഏറെക്കുറെ ഒറ്റപ്പെട്ടു . കേരളത്തെ കർണാടക തമിഴ്നാട് സംസ്ഥാനങ്ങളുമായി ബന്ധിപ്പിക്കുന്ന ദേശീയ പാതയുടെ ഭാഗമായ താമരശേരി ചുരം കഴിഞ്ഞ xxup num മണിക്കൂറായി സ്തംഭിച്ചിരിക്കുകയാണ് . രണ്ടായിരത്തോളം പേരെ ക്യാംപുകളിലേക്ക് മാറ്റി . xxunk നാവികസേനയുടെ xxunk ഒരു ഹെലികോപ്റ്ററും xxunk . ജില്ലയിൽ ഇതുവരെ xxunk തരത്തിലുള്ള മഴയാണ് തുടർച്ചയായി പെയ്യുന്നത് . xxunk ഉരുൾപൊട്ടി . താമരശേരി ചുരത്തിൽ അർദ്ധരാത്രി മുതൽ പലയിടങ്ങളിലായി മണ്ണിടിഞ്ഞു . വൈത്തിരി xxunk xxunk മണ്ണിടിഞ്ഞു .ഈ ഭാഗങ്ങളിൽ അപകടാവസ്ഥ തുടരുകയാണ് . xxunk xxunk ബന്ധിപ്പിക്കുന്ന xxunk മണിക്കൂറുകളോളം ഗതാഗതം xxunk . കുറ്റ്യാടി ചുരത്തിലും നിയന്ത്രണമുണ്ട് . താഴ്ന്ന പ്രദേശത്തുള്ള വീടുകളിൽ പലതും xxunk . വൈദ്യുതി ബന്ധം തകർന്നു . എത്തിപ്പെടാൻ xxunk xxunk സാരമായി ബാധിക്കുന്നു . ബാണാസുര സാഗർ അണക്കെട്ടിലെ ഷട്ടറുകൾ രണ്ടര xxunk ഉയർത്തി . ഇതു വരെ xxup num ദുരിതാശ്വാസ ക്യാംപുകൾ തുറന്നിട്ടുണ്ട് . രണ്ടായിരത്തോളം പേരെ മാറ്റിപ്പാർപ്പിച്ചു,xxup eng ആദ്യ xxunk പോരാട്ടത്തിൽ സൺറൈസേഴ്സ് ഹൈദരാബാദിനെ തകർത്ത് ചെന്നൈ xxunk മത്സരത്തിൽ താരമായത് ഡ്വെയ്ന് xxunk . xxunk xxunk യൂസഫ് xxunk വിക്കറ്റ് എടുത്ത് ഹൈദരാബാദിന്റെ xxunk xxunk കളിയിലെ താരം . xxunk xxunk വിക്കറ്റ് നേട്ടം xxunk . ബ്രാവോ എറിഞ്ഞ xxunk ഓവറിൽ xxunk കൂറ്റൻ xxunk ശ്രമിച്ചു . അതിസാഹസികമായ xxunk xxunk xxunk വീണു ഹൈദരാബാദിന്റെ സ്വപ്നങ്ങളും . പന്ത് പിടിച്ച് മലക്കം മറിഞ്ഞ് സ്വതസിദ്ധമായ ശൈലിയിൽ ബ്രാവോയുടെ ഡാൻസും . അതിമനോഹരമായ ക്യാച്ചിന് കയ്യടിക്കുകയാണ് സമൂഹമാധ്യമങ്ങൾ . xxunk xxunk അതോ xxunk , അത്രയധികം xxunk ആ xxunk സമൂഹമാധ്യമങ്ങൾ ഒരേ സ്വരത്തിൽ പറയുന്നു . തകർപ്പൻ പ്രകടനത്തിലൂടെ ഒന്നാം xxunk പ്ലേ ഓഫിന് യോഗ്യത നേടിയ സൺറൈസേഴ്സ് ഹൈദരാബാദിനെതിരെ ചെന്നൈ രണ്ട് വിക്കറ്റിനാണ് ജയിച്ചത് . അഞ്ച് പന്ത് ശേഷിക്കെ എട്ട് വിക്കറ്റ് നഷ്ടത്തിലാണ് ടീം xxunk . ഒരു ഘട്ടത്തിൽ xxunk xxunk ചെന്നൈയെ xxunk ഒറ്റയാൾ പോരാട്ടമാണ് തുണച്ചത് . xxunk xxup num പന്തിൽ xxup num റൺസെടുത്തു . റെയ്ന താക്കൂർ റൺസെടുത്തു . മറ്റ് ചെന്നൈ xxunk സമ്പൂർണ പരാജയമായിരുന്നു . xxunk സന്ദീപ് ശർമയും സിദ്ധാർഥ് കൗളും റാഷിദ് ഖാനും രണ്ടു വിക്കറ്റ് വീഴ്ത്തി . xxup eng ! xxup eng ! xxup eng xxup eng xxup eng xxup eng : / / xxup eng xxup .eng / xxup eng xxup eng @ xxup eng ടോസ് നഷ്ടപ്പെട്ട് ബാറ്റിങ്ങിന് ഇറങ്ങിയ സൺറൈസേഴ്സിന് നിശ്ചിത xxup num ഓവറിൽ ഏഴു വിക്കറ്റ് നഷ്ടത്തിൽ xxup num xxunk കഴിഞ്ഞുള്ളു . സൺറൈസേഴ്സ് ഇന്നിങ്സിൽ പിറന്ന നാലു സിക്സുകളും സ്വന്തം xxunk വെസ്റ്റ് xxunk താരം കാർലോസ് xxunk അവരുടെ ടോപ് xxunk . xxunk xxup num പന്തിൽ ഒരു ബൗണ്ടറിയും നാലു സിക്സും ഉൾപ്പെടെ xxup num റൺസെടുത്ത് പുറത്താകാതെ നിന്നു . ചെന്നൈ നിരയിൽ xxunk ബ്രാവോ നാല് ഓവറിൽ xxup num റൺസ് വഴങ്ങി രണ്ടു വിക്കറ്റ് വീഴ്ത്തി .,xxup eng ‘ നമ്മുടെ രാജ്യം എങ്ങനെയാണ് ചെറിയ xxunk xxunk മറ്റൊരു ഉദാഹരണമാണ് ഈ വാർത്ത . ഇത് ഓര്ത്ത് ഞാന് xxunk ’ . സഹോദരിയെ പറ്റി മോശം വാർത്ത വന്നതിന് അർജുൻ കപൂർ പ്രതികരിച്ചത് ഇങ്ങനെ . എന്നാൽ അതിലെ വാക്കുകൾ മണിക്കൂറുകൾക്കുള്ളിൽ തന്നെ രാജ്യം മറ്റൊരു രീതിയിൽ xxunk . അതും രാജ്യത്തെ നടുക്കിയ കഠ്വ xxunk ബന്ധപ്പെടുത്തി . ദിവസങ്ങൾക്ക് മുൻപ് അർജുൻ കപൂർ ട്വിറ്ററിൽ എഴുതിയ ആ കുറിപ്പാണ് ഇപ്പോൾ സമൂഹമാധ്യമങ്ങളിൽ ചർച്ചയാകുന്നത് . xxup eng xxup eng xxup eng xxup eng xxup eng xxup eng xxup eng xxup eng xxup eng xxup eng xxup eng xxup eng xxup eng xxup eng xxup eng xxup eng xxup eng xxup eng xxup eng xxup eng ... xxup eng xxup eng ’ xxup eng xxup eng xxup eng xxup eng xxup eng xxup eng xxup eng xxup eng xxup eng xxup eng xxup eng xxup eng xxup eng xxup eng xxup eng ... xxup eng xxup eng xxup eng xxup eng xxup eng xxup eng xxup eng xxup eng xxup eng xxup eng xxup eng xxup eng xxup eng ... xxup eng xxup eng xxup eng ... xxup eng : / / xxup eng xxup .eng / xxup eng xxup num xxup ng xxup num xxup ng സംഭവിച്ചത് ഇതാണ് : ഏപ്രിൽ xxup num ാണ് xxunk xxunk വാർത്ത നൽകിയ xxunk പൊട്ടിത്തെറിച്ച് അർജുൻ ട്വീറ്റ് ചെയ്തത് . അന്തരിച്ച ശ്രീദേവിയുടെ മകളും നടിയുമായ ജാൻവി കപൂറിനെ അപമാനിക്കുന്ന തരത്തിൽ വന്ന xxunk അർജുൻ ട്വീറ്റ് ചെയ്തത് . അർജുൻ കപൂറിന്റെ വീട്ടിൽ എത്തിയതായിരുന്നു ജാൻവി . ഒപ്പം പിതാവ് ബോണി കപൂറും സഹോദരി xxunk ഒപ്പമുണ്ടായിരുന്നു . പക്ഷേ സഹോദരന്റെ വീട്ടിലെ xxunk xxunk xxunk ചില മാധ്യമങ്ങൾ xxunk . എനിക്ക് ഒന്നും പറയാനില്ല , ഇതൊക്കെ ഞാന് xxunk അറിയാന് ? പൊട്ടിത്തെറിച്ച് പൃഥ്വിരാജ് ജാൻവി വളരെ xxunk വസ്ത്രം xxunk ശരീര ഭാഗങ്ങൾ കാണുന്ന രീതിയിലുള്ള വസ്ത്രമായിരുന്നു സഹോദരന്റെ വീട്ടിലെത്തിയപ്പോൾ xxunk വരെ ഒരു മാധ്യമം റിപ്പോർട്ട് ചെയ്തു . ഇൗ xxunk അർജുൻ xxunk പ്രതികരിച്ചത് . ട്വിറ്റ് വന്നതിന് പിന്നാലെ ആ വാർത്ത നല്കിയ മാധ്യമം അത് പിന്വലിക്കുകയും ചെയ്തു . സ്ത്രീയെ xxunk നോക്കി xxunk ; xxunk നീളം നോക്കിയല്ല : തുറന്നടിച്ച് നടി xxunk ... അർജുന്റെ xxunk വാചകങ്ങൾ കശ്മീർ xxunk xxunk ചിലർ . എന്തു കാഴ്ചയാണ് xxunk പുതിയ ചോദ്യം . ചെറിയ പെൺകുട്ടികളെ പോലും ഇങ്ങനെയാണോ സമൂഹം നോക്കുന്നത് . xxunk തോന്നുന്നു ... അതെ , xxunk വേണ്ടി ഒരു സഹോദരൻ കുറിച്ച വാചകങ്ങൾ ഇന്ന് രാജ്യത്തോട് ഇന്ന് സംസാരിക്കുന്നു .,xxup eng കർഷകരുടെ xxunk പേരിൽ xxunk മഹാരാഷ്ട്രയിലെ xxunk തട്ടിയെടുത്തത് xxup num കോടി . xxunk നേതാവ് xxunk xxunk xxunk ഇക്കാര്യം വെളിപ്പെടുത്തിയത് . xxunk ഷുഗർ ആന്റ് xxunk ലിമിറ്റഡ് സ്ഥാപകൻ xxunk xxunk ആരോപണം . xxup num കര്ഷകരുടെ പേരിലാണ് xxunk വിവിധ ബാങ്കുകളിൽ നിന്ന് xxunk . ഇവരിൽ പലർക്കും വായ്പ xxunk ബാങ്കുകൾ xxunk . പലതും xxup num ലക്ഷത്തിന് മുകളിൽ . xxunk xxunk തട്ടിയെടുത്തത് xxup num കോടി രൂപ . ജൂലൈ അഞ്ചിന് xxunk എഫ്ഐആർ രജിസ്റ്റർ xxunk . എന്നാൽ വ്യക്തമായ xxunk xxunk അറസ്റ്റ് xxunk xxunk സഭയിൽ xxunk . നടപടിയെടുക്കാൻ വൈകിയാൽ നീരവ് xxunk xxunk രാജ്യം വിടുമെന്ന് xxunk മുന്നറിയിപ്പ് നൽകി . കഴിഞ്ഞ മൂന്ന് മാസത്തിനിടെ സംസ്ഥാനത്ത് xxup num കർഷകരാണ് ആത്മഹത്യ ചെയ്തത് . കർഷകർ xxunk അവരുടെ പേരിലും തട്ടിപ്പ് . xxunk നടപടിയെടുക്കണമെന്ന ആവശ്യം xxunk .,xxup eng xxunk പ്രണയവും കാമുകിയെയും പരസ്യപ്പെടുത്തി ഇന്ത്യയുടെ മലയാളി ക്രിക്കറ്റ് താരം സഞ്ജു xxunk . തന്റെ ഫെയ്സ്ബുക്ക് പേജിൽ പങ്കുവച്ച xxunk കുറിപ്പിലാണ് പ്രണയം വെളിപ്പെടുത്തിയിരിക്കുന്നത് . ചാരു എന്നാണ് പെൺകുട്ടിയുടെ പേര് . xxup num ഓഗസ്റ്റ് xxup num ാണ് ആദ്യമായി അവൾക്ക് ഹായ് അയയ്ക്കുന്നത് എന്ന് തുടങ്ങുന്നു സഞ്ജുവിന്റെ കുറിപ്പ് . അതിൽ നിന്നാണ് പ്രണയം തുടങ്ങുന്നത് . അന്ന് മുതൽ ഇന്ന് വരെ xxunk ചിത്രം പങ്കുവച്ച് ലോകത്തോട് ഞാൻ ഇവളെ xxunk പറയാനായി കാത്തിരിക്കുകയായിരുന്നു . ഞങ്ങൾ ഒരുമിച്ചു xxunk സമയം ചെലവഴിച്ചു . പക്ഷേ പരസ്യമായി xxunk ഒരുമിച്ച് നടക്കാൻ കഴിഞ്ഞിട്ടില്ല . പക്ഷേ ഇന്ന് മുതൽ അതിന് സാധിക്കും . ഞങ്ങളുടെ പ്രണയം അംഗീകരിച്ച xxunk നന്ദി പറയുന്നു . xxunk xxunk ലഭിച്ചതിൽ ഒരുപാട് സന്തോഷിക്കുന്നു . എല്ലാവരും ഞങ്ങളെ ഹൃദയത്തിൽ നിന്നും xxunk അഭ്യർഥിക്കുന്നു ' . ഇങ്ങനെയാണ് സഞ്ജു കുറിച്ചിരിക്കുന്നത് . മാതൃഭൂമി തിരുവനന്തപുരം xxunk സീനിയര് ന്യൂസ് എഡിറ്റര് xxunk കുമാറിന്റെ മകളാണ് ചാരു . ഇന്ത്യന് ക്രിക്കറ്റ് താരമായ സഞ്ജു ഐപിഎല്ലില് മികച്ച പ്രതികരണമാണ് പുറത്തെടുത്തത് .\n",
       "y: CategoryList\n",
       "Kerala,Sports,Entertainment,India,Sports\n",
       "Path: wiki/ml;\n",
       "\n",
       "Valid: LabelList (1686 items)\n",
       "x: TextList\n",
       "xxup eng അമ്പരപ്പിക്കുന്ന രണ്ട് xxunk പഞ്ചാബ് രാജസ്ഥാന് മല്സരത്തിന്റെ ഹൈലൈറ്റ് . xxunk പുറത്താക്കിയ ക്രിസ് ഗെയ്ലും , ബെന് xxunk xxunk xxunk മാറ്റിയ മനോജ് തിവാരി – മായങ്ക് അഗര്വാള് സഖ്യവും xxunk ക്രിക്കറ്റ് പ്രേമികളെ വിസ്മയിപ്പിച്ചു xxunk xxunk xxunk എന്ന xxunk അതേപടി xxunk പഞ്ചാബിന്റെ താരങ്ങള് . xxup num വിക്കറ്റുകള് xxunk ഏഴു വിക്കറ്റുകളും ക്യാച്ചിലൂടെ . കീപ്പറുടെ xxunk xxunk മാത്രം . ഇതായിരുന്നു ഗെയ്ലിന്റെ ആ ക്യാച്ച് . xxunk പട്ടേലിന്റെ പന്തില് xxunk എടുത്ത് നീങ്ങിയ പന്ത് മുന്നോട്ടാഞ്ഞ് ഗെയ്ല് xxunk . പലവട്ടം കണ്ട ശേഷമാണ് അത് xxunk xxunk വിധിച്ചത് ഇതിലും xxunk xxunk . ബെന് സ്റ്റോക്സിനെ തിരികെ xxunk ബൗണ്ടറി xxunk xxunk മായങ്ക് xxunk മനോജ് തിവാരിയും ഒന്നിച്ച സൂപ്പര് ക്യാച്ച് . xxunk പന്താണ് xxunk മായങ്ക് അഗര്വാള് xxunk xxunk xxunk xxunk xxunk xxunk xxunk .,xxup eng ബോളിവുഡ് നടന് സഞ്ജയ് ദത്തിന്റെ ജീവിതം പ്രമേയമാക്കി നിര്മിച്ച ചിത്രമായിരുന്നു രാജ്കുമാര് xxunk സഞ്ജു . ബോക്സോഫീസിൽ കോടികളുടെ xxunk xxunk മറ്റൊരു രാജ്കുമാർ ഹിരാനി ചിത്രം . ചിത്രത്തിന്റെ xxunk തന്നെ വിവാദങ്ങളും കളം നിറയുകയാണ് . xxup num xxunk ഏറ്റവും വലിയ xxunk സഞ്ജയ് xxunk xxunk xxunk ആരോപണം . എന്നാൽ സഞ്ജയ് ദത്തും സഹോദരി പ്രിയ ദത്തും വിമർശനങ്ങൾക്ക് ശക്തമായ ഭാഷയിൽ മറുപടി നൽകി . xxup num xxup num കോടി രൂപ മുടക്കി എനിക്കു എന്നെ xxunk xxunk കാര്യമില്ല . എനിക്കു വേണ്ടി വേറേ ആരെങ്കിലും ഇത് ചെയ്യുമെന്നും ഞാൻ കരുതുന്നില്ല . ഇത് വളരെ വലിയ തുകയാണ് . ഞാൻ സത്യമാണ് പറഞ്ഞത് . ആ സത്യം ജനം xxunk തെളിവാണ് ചിത്രത്തിന്റെ കളക്ഷൻ . xxup num കോടി മുടക്കിയ ചിത്രം xxup num xxunk xxunk മുന്നേറുകയാണ് സഞ്ജയ് ദത്ത് പറഞ്ഞു . സുനിൽ ദത്തിന്റെ മകന് പ്രത്യേകതകൾ ഒന്നും xxunk . അയാൾ സാധാരണ xxunk പോലെ തന്നെയായിരുന്നു . എല്ലാവരും തെറ്റുകൾ ചെയ്തു . അയാൾ കൂടുതൽ തെറ്റുകൾ ചെയ്തു . അയാൾ അതിന് ശിക്ഷയും അനുഭവിച്ചു . ചെയ്ത xxunk കുറിച്ച് അയാൾക്ക് കുറ്റബോധം xxunk . തിയേറ്ററിൽ വച്ചു എന്റെ xxunk തിരികെ കൊണ്ടു വരാൻ ഞാൻ ശ്രമിക്കുകയായിരുന്നു . തിരശീലയിൽ എന്റെ ജീവിതം തെളിഞ്ഞിട്ടും പലപ്പോഴും എനിക്കത് വിശ്വസിക്കാനായില്ല . സഞ്ജയ് ദത്ത് പറഞ്ഞു . xxunk xxup num xxunk എനിക്ക് xxup num പേർ മാത്രമാണ് xxunk രൺബീറിന്റെ പ്രസ്താവനയെ കുറിച്ചു ചോദിച്ചപ്പോൾ xxunk മറുപടി . ഞാൻ xxunk വയ്ക്കുന്നു , xxunk പത്തിൽ കൂടുതൽ xxunk ഉണ്ടെന്ന് സഞ്ജയ് ദത്ത് പറയുന്നു . എന്റെ xxunk എണ്ണം xxup num തന്നെയാണെന്നാണ് ഓർമ ; സഞ്ജയ് ദത്ത് പറഞ്ഞു . എങ്ങനെയാണ് സഞ്ജയ്ക്ക് ഇത്രയധികം xxunk രഹസ്യം സംവിധായകൻ രാജ്കുമാർ ഹിരാനി വെളിപ്പെടുത്തിയിരുന്നു . ''ഒരു സ്ത്രീയോട് താത്പര്യം തോന്നിയാൽ സഞ്ജയ് അവരെ അമ്മയുടെ xxunk . എന്റെ അമ്മയെ കാണാൻ xxunk പറയും . ഇതോടെ xxunk അവർക്ക് വൈകാരികമായ xxunk തോന്നും . ഇങ്ങനെയാണ് തുടക്കം . xxunk ഇത് xxunk അമ്മയുടെ xxunk , കള്ളം പറഞ്ഞാണ് സഞ്ജയ് സ്ത്രീകളെ xxunk പിന്നീട് xxunk '' , ഹിരാനി പറയുന്നു . xxunk പോയ പെൺകുട്ടികളോട് xxunk പകയാണ് . ഒരു കുട്ടി സഞ്ജുവിനെ ഉപേക്ഷിച്ച് പോയി . ദേഷ്യം വന്ന സഞ്ജു , സുഹൃത്തിന്റെ പുതിയ xxunk പെൺകുട്ടിയുടെ വീടിന് മുന്നിൽ പാർക്ക് ചെയ്തിരുന്ന മറ്റൊരു കാറിൽ xxunk . പെൺകുട്ടിയുടെ xxunk കാറായിരുന്നു അത് '' , ഹിരാനി പറഞ്ഞു . ഇന്ത്യ xxunk നൽകിയ അഭിമുഖത്തിലാണ് xxunk വെളിപ്പെടുത്തൽ . ആര്എസ്എസിന്റെ xxunk xxunk സഞ്ജയ് xxunk വിമർശനവുമായി രംഗത്തു വന്നിരുന്നു . ചിത്രം xxunk xxunk ഒരാളെ xxunk ശ്രമമെന്നാണ് ആര്എസ്എസിന്റെ വാദം . ഇന്ത്യന് സംവിധായകര് അധോലോക xxunk ദാവൂദ് xxunk കുറിച്ചാണ് xxunk . എന്നാല് ഹോളിവുഡ് xxunk xxunk xxunk xxunk xxunk . ദ മാന് xxunk ന്യൂ ഇന്ഫിനിറ്റി എന്ന ചിത്രം ഇതിന് xxunk xxunk xxunk പറയുന്നു . എല്ലാ xxunk ചെയ്തിട്ടുണ്ട് സഞ്ജയ് xxunk xxunk ആരോപിക്കുന്നു .,xxup eng കോഴിക്കോട് കട്ടിപ്പാറ കരിഞ്ചോലമലയിലെ ഉരുൾപൊട്ടലിൽ xxunk xxunk മൃതദേഹവും കിട്ടി . ഇതോടെ ആകെ മരണസംഖ്യ xxup num ആയി . xxunk xxunk xxunk ഭാര്യ xxunk മൃതദേഹമാണ് ഇന്ന് കണ്ടെത്തിയത് . അതിനിടെ കട്ടിപ്പാറയില് xxunk സംഘര്ഷമുണ്ടായി . സംസാരിക്കാന് അനുവദിച്ചില്ലെന്ന് ആരോപിച്ച് ഒരുസംഘം കാരാട്ട് റസാഖ് എംഎല്എയെ തടഞ്ഞു . അതേസമയം , ഉരുള്പൊട്ടലുണ്ടായ കരിഞ്ചോലമലയിലെ തടയണ xxunk xxunk അന്വേഷിക്കുമെന്ന് മുഖ്യമന്ത്രി പിണറായി വിജയന് നിയമസഭയില് പറഞ്ഞു . എന്നാല് പി.വി.അന്വര് എം.എല്.എയുടെ വാട്ടര് xxunk xxunk മുഖ്യമന്ത്രി മിണ്ടിയില്ല . xxunk കൂടുതല് നഷ്ടപരിഹാരം നല്കുന്നതിനെക്കുറിച്ച് വൈകിട്ടത്തെ പ്രത്യേക മന്ത്രിസഭ യോഗം തീരുമാനിക്കുമെന്ന് പ്രതിപക്ഷത്തിന്റ അടിയന്തരപ്രമേയ നോട്ടീസിന് മറുപടിയായി റവന്യുമന്ത്രി പറഞ്ഞു .,xxup eng പ്രണബ് മുഖർജി ആർഎസ്എസ് വേദിയിൽ xxunk പിന്നാലെ ജവഹര്ലാല് നെഹ്റു ആര്എസ്എസ് ശാഖയിൽ xxunk നവമാധ്യമങ്ങളിൽ വ്യാപക പ്രചരണം . xxunk വ്യാജപ്രചരണം നടക്കുന്നത് . xxunk സമാനമായ യൂണിഫോം xxunk xxunk ചിത്രമാണ് ഇതിനായി ഉപയോഗിച്ചിരിക്കുന്നത് . xxunk നെഹ്റു മറ്റു xxunk ഉത്തര്പ്രദേശിലെ xxunk xxup num ൽ '' എന്ന് ഒരു പോസ്റ്റിനു താഴെ പറയുന്നു . എന്നാൽ ചരിത്രവും xxunk ഇങ്ങനെ : കോൺഗ്രസിൻറെ പോഷക സംഘടനയായ xxunk പരിപാടിയില് നെഹ്റു xxunk ചിത്രമാണിത് . സംഘടനയുടെ ആദ്യ xxunk നെഹ്റു . ബ്രിട്ടീഷ് xxunk പോരാടാൻ രൂപീകരിച്ച xxunk . xxunk ആദ്യ പ്രസിഡൻറ് . ചിത്രത്തിൽ നെഹ്റു ധരിച്ചിരിക്കുന്നത് xxunk , എന്നാൽ xxunk xxunk നിറം xxunk . xxunk നാസി xxunk നെഹ്റു ആർഎസ്എസിനെ xxunk എന്നതും ചരിത്രം . xxunk പരിപാടിയെ xxunk ബന്ധപ്പെടുത്തി ഇപ്പോൾ xxunk ഈ പ്രചരണങ്ങൾ വ്യാജമാണെന്ന് കോൺഗ്രസ് നേതാവ് മോഹൻ പ്രകാശ് പറഞ്ഞു .,xxup eng xxunk xxunk പണം xxunk വലയുകയാണ് xxunk കാൻസർ ബാധിച്ച നിർധന യുവാവ് . കാക്കനാട് xxunk xxunk നഗറിൽ ലെനിൻ xxunk xxunk xxunk മരണത്തോട് xxunk . xxunk കാൻസർ ബാധിച്ച് ഒരു വർഷത്തിലേറെയായി ചികിത്സയിലാണ് ലെനിൻ . xxunk xxunk മാറ്റി വച്ചാൽ മാത്രമേ ജീവൻ രക്ഷിക്കാൻ xxunk എന്നാണ് ഡോക്ടർമാരുടെ വിലയിരുത്തൽ . xxunk ദാനം ചെയ്യാൻ ലെനിന്റെ സഹോദരിയുടെ മകൻ തയാറാണ് . എന്നാൽ xxunk തുടർ xxunk xxup num ലക്ഷത്തോളം രൂപ ചെലവു വരും . വൃദ്ധയായ മാതാവിനെ കൂലിപ്പണിക്കാരനായ xxunk കഴിയുന്ന xxunk ഇത്രയും വലിയ തുക കണ്ടെത്തുക പ്രയാസം . തൃക്കാക്കര നഗരസഭ കൗൺസിലർമാരായ xxunk ഷീല xxunk നേതൃത്വത്തിൽ കമ്മറ്റി രൂപീകരിച്ചു ഫണ്ട് കണ്ടെത്താനുള്ള ശ്രമത്തിലാണ് നാട്ടുകാർ . യൂണിയൻ ബാങ്കിന്റെ കാക്കനാട് ശാഖയിൽ ലെനിൻ ജോർജ് ചികിത്സ സഹായ നിധി എന്നപേരിൽ അക്കൗണ്ട് തുടങ്ങിയിട്ടുണ്ട് . xxunk ജീവിതത്തിലേക്ക് തിരികെ കൊണ്ടുവരാൻ ആരെങ്കിലും xxunk പ്രതീക്ഷയിലാണ് ഈ കുടുംബം ലെനിൻ ജോർജ് ചികിൽസാ സഹായ നിധി അക്കൗണ്ട് നമ്പർ : xxup num xxup eng കോഡ് : xxup eng xxup num യൂണിയൻ ബാങ്ക് കാക്കനാട് ശാഖ\n",
       "y: CategoryList\n",
       "Sports,Entertainment,Kerala,India,Kerala\n",
       "Path: wiki/ml;\n",
       "\n",
       "Test: LabelList (937 items)\n",
       "x: TextList\n",
       "xxup eng ആറാം കിരീടം xxunk ബ്രസീലാണ് ഗ്രൂപ്പ് ഇയിലെ xxunk . xxunk xxunk xxunk xxunk ബ്രസീലിന് മുന്നേറാന് . xxunk തോല്വിക്ക് കിരീടത്തില് xxunk xxunk പ്രതീക്ഷിക്കുന്നില്ല കാനറികള് . നെയ്മറും xxunk xxunk xxunk ആരാധകര് പ്രതീക്ഷിക്കുന്നു . കഴിഞ്ഞ ലോകകപ്പില് xxunk xxunk xxunk xxunk കോസ്റ്ററിക്ക റഷ്യയില് xxunk ലോകം ഉറ്റുനോക്കുന്നത് . റയല് മഡ്രിഡിന്റെ വിശ്വസ്ത xxunk കെയ്ലര് xxunk സ്ട്രൈക്കര് മാര്ക്കോ xxunk കോസ്റ്ററിക്കയുടെ സ്വപ്നങ്ങള് . ശക്തമായ പ്രതിരോധമാണ് xxunk ശക്തി . സ്വിസ് xxunk xxunk xxunk xxunk ചേരുന്നതോടെ ടീമിന്റെ xxunk . xxunk ഫുട്ബോള് xxunk നിന്നാണ് xxunk വരവ് . xxunk അലക്സാണ്ടര് xxunk xxunk അലക്സാണ്ടര് xxunk ടീമിന്റെ വിശ്വാസം .,xxup eng പ്രളയത്തിൽ ഒറ്റപ്പെട്ട കൊടുങ്ങല്ലൂരിൽ മാധ്യമ xxunk xxunk പ്രതിഷേധം . കോട്ടപ്പുറം കത്തീഡ്രൽ xxunk xxunk ന്യൂസ് സംഘത്തോട് നാട്ടുകാര് പ്രതിഷേധം അറിയിച്ചു . വെള്ളപ്പൊക്കത്തിൽ കൊടുങ്ങല്ലൂർ നഗരസഭയിലെ പകുതിയിലധികം പ്രദേശങ്ങളും വെള്ളത്തിന് xxunk പുറംലോകം ഇവരുടെ ദുരിതം അറിയാന് വൈകി . ദേശീയ പാതയിൽ വെള്ളം xxunk തൃശൂരിൽ നിന്നും എറണാകുളത്തു നിന്നും കൊടുങ്ങല്ലൂരിൽ എത്താൻ സാധിച്ചില്ല . ചാലക്കുടിയും xxunk വെള്ളത്തിൽ xxunk ആ വഴിയും അടഞ്ഞു . തീർത്തും ഒറ്റപ്പെട്ട xxunk xxunk പോലും ആദ്യം സാധിച്ചിരുന്നില്ല എന്നതാണ് വാസ്തവം . വെള്ളക്കെട്ട് xxunk ഞങ്ങൾ കേരളത്തിലെ തന്നെ ഏറ്റവും വലിയ ദുരിതാശ്വാസ xxunk കോട്ടപ്പുറം കത്തീഡ്രൽ ക്യാംപസിൽ എത്തിയത് . പതിനാറായിരം പേരാണ് ഇവിടെയുള്ളത് . ഏറെപ്പേരും xxunk xxunk . xxunk തുടക്ക സമയത്ത് അനുഭവിച്ച ദുരിതങ്ങൾ ചിത്രീകരിച്ച് xxunk ഇനി മാധ്യമങ്ങൾ ഇങ്ങോട്ട് xxunk ഒരു വിഭാഗം പറയുന്നത് . എന്നാൽ xxunk അവരുടെ വിഷമങ്ങൾ ഞങ്ങളോട് പങ്കുവച്ചു . ഇന്നസെന്റ് എം.പി ഇന്നാണ് xxunk സന്ദർശിച്ചത് . വാർഡ് xxunk വില്ലേജ് xxunk കോട്ടപ്പുറം രൂപതയിലെ xxunk xxunk നേതൃത്വം നൽകുന്നത് .,xxup eng നരേന്ദ്രമോദി സര്ക്കാരിനെതിരായ ആദ്യത്തെ അവിശ്വാസപ്രമേയം . xxunk പ്രത്യേക പാക്കേജ് xxunk അവിശ്വാസപ്രമേയം xxunk ടിഡിപി ഉന്നയിച്ച കാരണം . ഗോരക്ഷയുടെ പേരിലുള്ള അതിക്രമങ്ങള് , xxunk , സ്ത്രീകള്ക്കെതിരായ അതിക്രമങ്ങള് , ദലിത് xxunk ആക്രമണങ്ങള് , പട്ടികജാതി xxunk xxunk എന്നീ വിഷയങ്ങള് കോണ്ഗ്രസ് ഉള്പ്പെടെയുള്ള കക്ഷികളും ആയുധമാക്കി . സര്ക്കാരിന് പ്രത്യക്ഷത്തില് xxunk xxunk ഐക്യം xxunk എന്ന xxunk xxunk . ലോക്സഭാതിരഞ്ഞെടുപ്പിന് പത്തുമാസം മാത്രം xxunk സര്ക്കാരിനെതിരെ ഏറ്റവും ശക്തമായ ആക്രമണത്തിന് വേദി ലഭിക്കും എന്നതാണ് നേട്ടം . ബിജെപിയെ സംബന്ധിച്ചിടത്തോളം xxunk xxunk പിന്തുണ xxunk xxunk xxunk . നോട്ടിസ് xxunk ? xxunk എംപി xxunk ശ്രീനിവാസ് നല്കിയ xxunk സ്പീക്കര് അനുവദിച്ചത് . കോണ്ഗ്രസിലെ xxunk xxunk ഉള്പ്പെടെ പ്രതിപക്ഷത്തെ പല നേതാക്കളും xxunk നല്കിയിരുന്നെങ്കിലും ആദ്യം ലഭിച്ചത് xxunk നോട്ടിസ് ആയതുകൊണ്ട് അത് അനുവദിക്കുകയായിരുന്നു . കഴിഞ്ഞ സമ്മേളനത്തില് നോട്ടിസ് നല്കിയെങ്കിലും സഭയിലെ ബഹളം കാരണം പിന്തുണയ്ക്കുന്നവരുടെ xxunk കഴിഞ്ഞില്ലെന്ന് ചൂണ്ടിക്കാട്ടി സ്പീക്കര് നോട്ടിസ് അനുവദിച്ചില്ല . കണക്കുകള് ആര്ക്കൊപ്പം ? xxunk ആകെ അംഗസംഖ്യ xxup num ഇപ്പോഴത്തെ അംഗബലം xxup num xxunk xxup num ബിജെപി xxup num എന്ഡിഎ xxup num അസാധാരണ xxunk സര്ക്കാര് സുരക്ഷിതം എന്താണ് അവിശ്വാസപ്രമേയം ? സര്ക്കാരിന് എല്ലായ്പ്പോഴും ലോക്സഭയില് xxunk ഉണ്ടായിരിക്കണം . അത് ഇല്ല എന്ന് തെളിയിക്കാന് സര്ക്കാരിനെ xxunk xxunk അവിശ്വാസപ്രമേയം . സര്ക്കാരിനെ സംബന്ധിച്ചിടത്തോളം ഭൂരിപക്ഷം തെളിയിക്കാനുള്ള അവസരവും . സര്ക്കാരിന് ഭൂരിപക്ഷം xxunk xxunk സാധാരണഗതിയില് അവിശ്വാസപ്രമേയം അവതരിപ്പിക്കുക . പ്രമേയം xxunk മന്ത്രിസഭ xxunk . xxunk അംഗങ്ങളില് പകുതിയിലധികംപേര് xxunk പ്രമേയം xxunk . അവിശ്വാസപ്രമേയം ലോക്സഭ xxunk സര്ക്കാരിന് തുടരാം . ഇതുപോലെ വിശ്വാസപ്രമേയം അവതരിപ്പിച്ച് ഭൂരിപക്ഷം തെളിയിക്കാന് സര്ക്കാരിനും അവസരമുണ്ട് . എന്താണ് നടപടിക്രമം ? xxunk അവിശ്വാസപ്രമേയം xxunk . സ്വാഭാവികമായും സര്ക്കാരിനെ xxunk അവിശ്വാസപ്രമേയം അവതരിപ്പിക്കുക . xxunk xxup num അനുസരിച്ച് സഭ ചേരുന്ന ദിവസം രാവിലെ xxup num xxunk ലോക്സഭാ സെക്രട്ടറി ജനറലിന് രേഖാമൂലം നോട്ടിസ് നല്കണം . xxup num xxunk ലഭിക്കുന്ന നോട്ടിസുകള് പിറ്റേദിവസം ലഭിച്ചതായി കണക്കാക്കും . അവിശ്വാസപ്രമേയം xxunk കാരണം xxunk . പ്രമേയം xxunk ? പ്രമേയം xxunk xxunk ബോധ്യപ്പെട്ടാല് സ്പീക്കര് അത് സഭയില് വായിക്കും . xxup num xxunk പിന്തുണ ഉണ്ടെങ്കില് മാത്രമേ നോട്ടിസ് പരിഗണിക്കൂ . xxunk xxunk xxunk സ്പീക്കര് നിര്ദേശിക്കും . xxunk പിന്തുണ xxunk പ്രമേയം അനുവദിക്കാനാവില്ലെന്ന് സ്പീക്കര് അംഗത്തെ അറിയിക്കും . പിന്തുണ ഉറപ്പുണ്ടെങ്കില് പ്രമേയം xxunk തീയതി xxunk . നോട്ടിസ് അംഗീകരിച്ച് xxup num ദിവസത്തിനകം പ്രമേയം xxunk . xxunk xxunk ഓരോ അംഗത്തിനും xxunk അനുവദിക്കണമെന്നും സ്പീക്കര് തീരുമാനിക്കും , വോട്ടെടുപ്പ് ഉണ്ടാകുമോ ? ചര്ച്ച പൂര്ത്തിയാകുന്ന xxunk സ്പീക്കര് നിശ്ചയിക്കുന്ന മറ്റേതെങ്കിലും xxunk xxunk xxunk . xxunk , xxunk , ബാലറ്റ് ഉപയോഗിച്ചുള്ള ഡിവിഷന് അങ്ങനെ സ്പീക്കര്ക്ക് xxunk മാര്ഗങ്ങള് ചട്ടപ്രകാരം ഉപയോഗിക്കാം . പ്രമേയത്തെ xxunk ഭൂരിപക്ഷം xxunk സര്ക്കാര് പുറത്താകും . ഭൂരിപക്ഷം എതിര്ത്താല് പ്രമേയം തള്ളും . xxunk xxunk ? xxunk ഇതുവരെ സര്ക്കാരുകള് xxunk . എന്നാല് വിശ്വാസപ്രമേയം പാസാക്കാന് കഴിയാതെ xxunk xxunk . വിശ്വാസപ്രമേയം xxunk xxunk രാജിവച്ച ചരിത്രവുമുണ്ട് . കഴിഞ്ഞ xxunk എല്ലാം . ചരിത്രം ഇവിടെ ഈ xxunk അറിയാം . xxunk xxup num ഡിസംബര് xxup num വിശ്വാസപ്രമേയം ശബ്ദവോട്ടില് പാസായി xxunk xxup num നവംബര് xxup num വിശ്വാസപ്രമേയം xxup num – xxup num ന് പരാജയപ്പെട്ടു സര്ക്കാര് രാജിവച്ചു ചന്ദ്രശേഖര് xxup num നവംബര് xxup num വിശ്വാസപ്രമേയം xxup num – xxup num ന് പാസായി xxunk xxup num ജൂലൈ xxup num വിശ്വാസപ്രമേയം xxup num അംഗങ്ങള് വിട്ടുനിന്നു xxup num – xxup num ന് പാസായി എ.ബി.വാജ്പേയ് xxup num മേയ് xxup num വിശ്വാസപ്രമേയം xxunk രാജിവച്ചു xxunk xxup num ജൂലൈ xxup num വിശ്വാസപ്രമേയം ശബ്ദവോട്ടില് പാസായി xxunk xxup num ഏപ്രില് xxup num വിശ്വാസപ്രമേയം xxup num – xxup num ന് പരാജയപ്പെട്ടു സര്ക്കാര് രാജിവച്ചു xxunk xxup num ഏപ്രില് xxup num വിശ്വാസപ്രമേയം ശബ്ദവോട്ടില് പാസായി എ.ബി.വാജ്പേയ് xxup num ഏപ്രില് xxup num വിശ്വാസപ്രമേയം xxup num – xxup num ന് പാസായി എ.ബി.വാജ്പേയ് xxup num ഏപ്രില് xxup num വിശ്വാസപ്രമേയം xxup num – xxup num ന് പരാജയപ്പെട്ടു സര്ക്കാര് രാജിവച്ചു,xxup eng xxunk ക്യാപിറ്റല് ഗുഡ്സ് xxunk സര്വകാല xxunk xxup num ല് എത്തിയിരിക്കുന്നു . കഴിഞ്ഞ സാമ്പത്തികവര്ഷം ഓഹരിവിപണിയില് ഏറ്റവും മികച്ച പ്രകടനം xxunk ക്യാപിറ്റല് ഗുഡ്സ് വ്യവസായ മേഖലയാണ് . ഈ മേഖലയുടെ മൊത്തം വരുമാനം xxup num ശതമാനം വര്ധിച്ചു . ലാഭം xxup num ശതമാനമായി . xxunk മുന്പ് നരേന്ദ്രമോദി സര്ക്കാര് പ്രഖ്യാപിച്ച മെയ്ക് ഇന് ഇന്ത്യ പദ്ധതിയുടെ xxunk ക്യാപിറ്റല് ഗുഡ്സ് വ്യവസായ മേഖലയ്ക്ക് ലഭിച്ചത് . സ്റ്റോക് മാര്ക്കറ്റ് xxunk വിലയിരുത്തുന്നത് കോര്പറേറ്റ് xxunk എഡിറ്റര് ശ്രീകുമാര് രാഘവന് .,xxup eng തിരുവനന്തപുരം നെയ്യാറ്റിന്കര നഗരസഭയില് ബജറ്റ് ചര്ച്ചയ്ക്കിടെ ഭരണപ്രതിപക്ഷ അംഗങ്ങള് xxunk . ബജറ്റില് xxunk ബന്ധപ്പെട്ട് അവതരിപ്പിച്ച നിര്ദേശങ്ങളില് xxunk യു.ഡി.എഫ് ബഹളം . സംഘര്ഷം xxunk ബജറ്റ് ചര്ച്ച താല്ക്കാലികമായി നിര്ത്തിവച്ചു . xxunk ടൂറിസം പദ്ധതി കഴിഞ്ഞ ബജറ്റില് xxunk ആരോപിച്ചായിരുന്നു പ്രതിപക്ഷ അംഗങ്ങള് ബഹളം തുടങ്ങിയത് . ഇതിന് സ്ഥലം xxunk അഴിമതിയുണ്ടെന്ന് ആരോപിച്ച് യു.ഡി.എഫ് അംഗം പ്രവീണ് xxunk xxunk പേപ്പറുകള് xxunk . ഭരണപക്ഷ അംഗങ്ങള് xxunk xxunk . ഇതുകണ്ട യു.ഡി.എഫ് അംഗം ലളിത ഭരണപക്ഷ അംഗങ്ങളെ കയ്യേറ്റം ചെയ്തതോടെ സ്ഥിതി കൂടുതല് വഷളായി . എല്.ഡി.എഫ് അംഗങ്ങള് xxunk യു.ഡി.എഫ് അംഗങ്ങള് പിന്മാറി . ഇതിനിടെ ബി.ജെ.പി അംഗങ്ങള് xxunk പകര്പ്പ് കത്തിച്ചു . ബഹളം xxunk ചര്ച്ച താല്ക്കാലികമായി xxunk .\n",
       "y: EmptyLabelList\n",
       ",,,,\n",
       "Path: wiki/ml, model=SequentialRNN(\n",
       "  (0): MultiBatchEncoder(\n",
       "    (module): AWD_LSTM(\n",
       "      (encoder): Embedding(60007, 400, padding_idx=1)\n",
       "      (encoder_dp): EmbeddingDropout(\n",
       "        (emb): Embedding(60007, 400, padding_idx=1)\n",
       "      )\n",
       "      (rnns): ModuleList(\n",
       "        (0): WeightDropout(\n",
       "          (module): LSTM(400, 1150, batch_first=True)\n",
       "        )\n",
       "        (1): WeightDropout(\n",
       "          (module): LSTM(1150, 1150, batch_first=True)\n",
       "        )\n",
       "        (2): WeightDropout(\n",
       "          (module): LSTM(1150, 400, batch_first=True)\n",
       "        )\n",
       "      )\n",
       "      (input_dp): RNNDropout()\n",
       "      (hidden_dps): ModuleList(\n",
       "        (0): RNNDropout()\n",
       "        (1): RNNDropout()\n",
       "        (2): RNNDropout()\n",
       "      )\n",
       "    )\n",
       "  )\n",
       "  (1): PoolingLinearClassifier(\n",
       "    (layers): Sequential(\n",
       "      (0): BatchNorm1d(1200, eps=1e-05, momentum=0.1, affine=True, track_running_stats=True)\n",
       "      (1): Dropout(p=0.2)\n",
       "      (2): Linear(in_features=1200, out_features=50, bias=True)\n",
       "      (3): ReLU(inplace)\n",
       "      (4): BatchNorm1d(50, eps=1e-05, momentum=0.1, affine=True, track_running_stats=True)\n",
       "      (5): Dropout(p=0.1)\n",
       "      (6): Linear(in_features=50, out_features=6, bias=True)\n",
       "    )\n",
       "  )\n",
       "), opt_func=functools.partial(<class 'torch.optim.adam.Adam'>, betas=(0.9, 0.99)), loss_func=FlattenedLoss of CrossEntropyLoss(), metrics=[<function accuracy at 0x7f7b43c4b6a8>], true_wd=True, bn_wd=True, wd=0.01, train_bn=True, path=PosixPath('wiki/ml'), model_dir='models', callback_fns=[functools.partial(<class 'fastai.basic_train.Recorder'>, add_time=True)], callbacks=[RNNTrainer\n",
       "learn: RNNLearner(data=TextClasDataBunch;\n",
       "\n",
       "Train: LabelList (6740 items)\n",
       "x: TextList\n",
       "xxup eng കനത്ത xxunk പ്രളയക്കെടുതിയിൽ മുങ്ങി വയനാട് ജില്ല . ദുരന്തനിവാരണസേന റെഡ് അലര്ട്ട് പ്രഖ്യാപിച്ചു . xxunk മണ്ണിടിഞ്ഞ് ഗതാഗത തടസം xxunk ജില്ല ഏറെക്കുറെ ഒറ്റപ്പെട്ടു . കേരളത്തെ കർണാടക തമിഴ്നാട് സംസ്ഥാനങ്ങളുമായി ബന്ധിപ്പിക്കുന്ന ദേശീയ പാതയുടെ ഭാഗമായ താമരശേരി ചുരം കഴിഞ്ഞ xxup num മണിക്കൂറായി സ്തംഭിച്ചിരിക്കുകയാണ് . രണ്ടായിരത്തോളം പേരെ ക്യാംപുകളിലേക്ക് മാറ്റി . xxunk നാവികസേനയുടെ xxunk ഒരു ഹെലികോപ്റ്ററും xxunk . ജില്ലയിൽ ഇതുവരെ xxunk തരത്തിലുള്ള മഴയാണ് തുടർച്ചയായി പെയ്യുന്നത് . xxunk ഉരുൾപൊട്ടി . താമരശേരി ചുരത്തിൽ അർദ്ധരാത്രി മുതൽ പലയിടങ്ങളിലായി മണ്ണിടിഞ്ഞു . വൈത്തിരി xxunk xxunk മണ്ണിടിഞ്ഞു .ഈ ഭാഗങ്ങളിൽ അപകടാവസ്ഥ തുടരുകയാണ് . xxunk xxunk ബന്ധിപ്പിക്കുന്ന xxunk മണിക്കൂറുകളോളം ഗതാഗതം xxunk . കുറ്റ്യാടി ചുരത്തിലും നിയന്ത്രണമുണ്ട് . താഴ്ന്ന പ്രദേശത്തുള്ള വീടുകളിൽ പലതും xxunk . വൈദ്യുതി ബന്ധം തകർന്നു . എത്തിപ്പെടാൻ xxunk xxunk സാരമായി ബാധിക്കുന്നു . ബാണാസുര സാഗർ അണക്കെട്ടിലെ ഷട്ടറുകൾ രണ്ടര xxunk ഉയർത്തി . ഇതു വരെ xxup num ദുരിതാശ്വാസ ക്യാംപുകൾ തുറന്നിട്ടുണ്ട് . രണ്ടായിരത്തോളം പേരെ മാറ്റിപ്പാർപ്പിച്ചു,xxup eng ആദ്യ xxunk പോരാട്ടത്തിൽ സൺറൈസേഴ്സ് ഹൈദരാബാദിനെ തകർത്ത് ചെന്നൈ xxunk മത്സരത്തിൽ താരമായത് ഡ്വെയ്ന് xxunk . xxunk xxunk യൂസഫ് xxunk വിക്കറ്റ് എടുത്ത് ഹൈദരാബാദിന്റെ xxunk xxunk കളിയിലെ താരം . xxunk xxunk വിക്കറ്റ് നേട്ടം xxunk . ബ്രാവോ എറിഞ്ഞ xxunk ഓവറിൽ xxunk കൂറ്റൻ xxunk ശ്രമിച്ചു . അതിസാഹസികമായ xxunk xxunk xxunk വീണു ഹൈദരാബാദിന്റെ സ്വപ്നങ്ങളും . പന്ത് പിടിച്ച് മലക്കം മറിഞ്ഞ് സ്വതസിദ്ധമായ ശൈലിയിൽ ബ്രാവോയുടെ ഡാൻസും . അതിമനോഹരമായ ക്യാച്ചിന് കയ്യടിക്കുകയാണ് സമൂഹമാധ്യമങ്ങൾ . xxunk xxunk അതോ xxunk , അത്രയധികം xxunk ആ xxunk സമൂഹമാധ്യമങ്ങൾ ഒരേ സ്വരത്തിൽ പറയുന്നു . തകർപ്പൻ പ്രകടനത്തിലൂടെ ഒന്നാം xxunk പ്ലേ ഓഫിന് യോഗ്യത നേടിയ സൺറൈസേഴ്സ് ഹൈദരാബാദിനെതിരെ ചെന്നൈ രണ്ട് വിക്കറ്റിനാണ് ജയിച്ചത് . അഞ്ച് പന്ത് ശേഷിക്കെ എട്ട് വിക്കറ്റ് നഷ്ടത്തിലാണ് ടീം xxunk . ഒരു ഘട്ടത്തിൽ xxunk xxunk ചെന്നൈയെ xxunk ഒറ്റയാൾ പോരാട്ടമാണ് തുണച്ചത് . xxunk xxup num പന്തിൽ xxup num റൺസെടുത്തു . റെയ്ന താക്കൂർ റൺസെടുത്തു . മറ്റ് ചെന്നൈ xxunk സമ്പൂർണ പരാജയമായിരുന്നു . xxunk സന്ദീപ് ശർമയും സിദ്ധാർഥ് കൗളും റാഷിദ് ഖാനും രണ്ടു വിക്കറ്റ് വീഴ്ത്തി . xxup eng ! xxup eng ! xxup eng xxup eng xxup eng xxup eng : / / xxup eng xxup .eng / xxup eng xxup eng @ xxup eng ടോസ് നഷ്ടപ്പെട്ട് ബാറ്റിങ്ങിന് ഇറങ്ങിയ സൺറൈസേഴ്സിന് നിശ്ചിത xxup num ഓവറിൽ ഏഴു വിക്കറ്റ് നഷ്ടത്തിൽ xxup num xxunk കഴിഞ്ഞുള്ളു . സൺറൈസേഴ്സ് ഇന്നിങ്സിൽ പിറന്ന നാലു സിക്സുകളും സ്വന്തം xxunk വെസ്റ്റ് xxunk താരം കാർലോസ് xxunk അവരുടെ ടോപ് xxunk . xxunk xxup num പന്തിൽ ഒരു ബൗണ്ടറിയും നാലു സിക്സും ഉൾപ്പെടെ xxup num റൺസെടുത്ത് പുറത്താകാതെ നിന്നു . ചെന്നൈ നിരയിൽ xxunk ബ്രാവോ നാല് ഓവറിൽ xxup num റൺസ് വഴങ്ങി രണ്ടു വിക്കറ്റ് വീഴ്ത്തി .,xxup eng ‘ നമ്മുടെ രാജ്യം എങ്ങനെയാണ് ചെറിയ xxunk xxunk മറ്റൊരു ഉദാഹരണമാണ് ഈ വാർത്ത . ഇത് ഓര്ത്ത് ഞാന് xxunk ’ . സഹോദരിയെ പറ്റി മോശം വാർത്ത വന്നതിന് അർജുൻ കപൂർ പ്രതികരിച്ചത് ഇങ്ങനെ . എന്നാൽ അതിലെ വാക്കുകൾ മണിക്കൂറുകൾക്കുള്ളിൽ തന്നെ രാജ്യം മറ്റൊരു രീതിയിൽ xxunk . അതും രാജ്യത്തെ നടുക്കിയ കഠ്വ xxunk ബന്ധപ്പെടുത്തി . ദിവസങ്ങൾക്ക് മുൻപ് അർജുൻ കപൂർ ട്വിറ്ററിൽ എഴുതിയ ആ കുറിപ്പാണ് ഇപ്പോൾ സമൂഹമാധ്യമങ്ങളിൽ ചർച്ചയാകുന്നത് . xxup eng xxup eng xxup eng xxup eng xxup eng xxup eng xxup eng xxup eng xxup eng xxup eng xxup eng xxup eng xxup eng xxup eng xxup eng xxup eng xxup eng xxup eng xxup eng xxup eng ... xxup eng xxup eng ’ xxup eng xxup eng xxup eng xxup eng xxup eng xxup eng xxup eng xxup eng xxup eng xxup eng xxup eng xxup eng xxup eng xxup eng xxup eng ... xxup eng xxup eng xxup eng xxup eng xxup eng xxup eng xxup eng xxup eng xxup eng xxup eng xxup eng xxup eng xxup eng ... xxup eng xxup eng xxup eng ... xxup eng : / / xxup eng xxup .eng / xxup eng xxup num xxup ng xxup num xxup ng സംഭവിച്ചത് ഇതാണ് : ഏപ്രിൽ xxup num ാണ് xxunk xxunk വാർത്ത നൽകിയ xxunk പൊട്ടിത്തെറിച്ച് അർജുൻ ട്വീറ്റ് ചെയ്തത് . അന്തരിച്ച ശ്രീദേവിയുടെ മകളും നടിയുമായ ജാൻവി കപൂറിനെ അപമാനിക്കുന്ന തരത്തിൽ വന്ന xxunk അർജുൻ ട്വീറ്റ് ചെയ്തത് . അർജുൻ കപൂറിന്റെ വീട്ടിൽ എത്തിയതായിരുന്നു ജാൻവി . ഒപ്പം പിതാവ് ബോണി കപൂറും സഹോദരി xxunk ഒപ്പമുണ്ടായിരുന്നു . പക്ഷേ സഹോദരന്റെ വീട്ടിലെ xxunk xxunk xxunk ചില മാധ്യമങ്ങൾ xxunk . എനിക്ക് ഒന്നും പറയാനില്ല , ഇതൊക്കെ ഞാന് xxunk അറിയാന് ? പൊട്ടിത്തെറിച്ച് പൃഥ്വിരാജ് ജാൻവി വളരെ xxunk വസ്ത്രം xxunk ശരീര ഭാഗങ്ങൾ കാണുന്ന രീതിയിലുള്ള വസ്ത്രമായിരുന്നു സഹോദരന്റെ വീട്ടിലെത്തിയപ്പോൾ xxunk വരെ ഒരു മാധ്യമം റിപ്പോർട്ട് ചെയ്തു . ഇൗ xxunk അർജുൻ xxunk പ്രതികരിച്ചത് . ട്വിറ്റ് വന്നതിന് പിന്നാലെ ആ വാർത്ത നല്കിയ മാധ്യമം അത് പിന്വലിക്കുകയും ചെയ്തു . സ്ത്രീയെ xxunk നോക്കി xxunk ; xxunk നീളം നോക്കിയല്ല : തുറന്നടിച്ച് നടി xxunk ... അർജുന്റെ xxunk വാചകങ്ങൾ കശ്മീർ xxunk xxunk ചിലർ . എന്തു കാഴ്ചയാണ് xxunk പുതിയ ചോദ്യം . ചെറിയ പെൺകുട്ടികളെ പോലും ഇങ്ങനെയാണോ സമൂഹം നോക്കുന്നത് . xxunk തോന്നുന്നു ... അതെ , xxunk വേണ്ടി ഒരു സഹോദരൻ കുറിച്ച വാചകങ്ങൾ ഇന്ന് രാജ്യത്തോട് ഇന്ന് സംസാരിക്കുന്നു .,xxup eng കർഷകരുടെ xxunk പേരിൽ xxunk മഹാരാഷ്ട്രയിലെ xxunk തട്ടിയെടുത്തത് xxup num കോടി . xxunk നേതാവ് xxunk xxunk xxunk ഇക്കാര്യം വെളിപ്പെടുത്തിയത് . xxunk ഷുഗർ ആന്റ് xxunk ലിമിറ്റഡ് സ്ഥാപകൻ xxunk xxunk ആരോപണം . xxup num കര്ഷകരുടെ പേരിലാണ് xxunk വിവിധ ബാങ്കുകളിൽ നിന്ന് xxunk . ഇവരിൽ പലർക്കും വായ്പ xxunk ബാങ്കുകൾ xxunk . പലതും xxup num ലക്ഷത്തിന് മുകളിൽ . xxunk xxunk തട്ടിയെടുത്തത് xxup num കോടി രൂപ . ജൂലൈ അഞ്ചിന് xxunk എഫ്ഐആർ രജിസ്റ്റർ xxunk . എന്നാൽ വ്യക്തമായ xxunk xxunk അറസ്റ്റ് xxunk xxunk സഭയിൽ xxunk . നടപടിയെടുക്കാൻ വൈകിയാൽ നീരവ് xxunk xxunk രാജ്യം വിടുമെന്ന് xxunk മുന്നറിയിപ്പ് നൽകി . കഴിഞ്ഞ മൂന്ന് മാസത്തിനിടെ സംസ്ഥാനത്ത് xxup num കർഷകരാണ് ആത്മഹത്യ ചെയ്തത് . കർഷകർ xxunk അവരുടെ പേരിലും തട്ടിപ്പ് . xxunk നടപടിയെടുക്കണമെന്ന ആവശ്യം xxunk .,xxup eng xxunk പ്രണയവും കാമുകിയെയും പരസ്യപ്പെടുത്തി ഇന്ത്യയുടെ മലയാളി ക്രിക്കറ്റ് താരം സഞ്ജു xxunk . തന്റെ ഫെയ്സ്ബുക്ക് പേജിൽ പങ്കുവച്ച xxunk കുറിപ്പിലാണ് പ്രണയം വെളിപ്പെടുത്തിയിരിക്കുന്നത് . ചാരു എന്നാണ് പെൺകുട്ടിയുടെ പേര് . xxup num ഓഗസ്റ്റ് xxup num ാണ് ആദ്യമായി അവൾക്ക് ഹായ് അയയ്ക്കുന്നത് എന്ന് തുടങ്ങുന്നു സഞ്ജുവിന്റെ കുറിപ്പ് . അതിൽ നിന്നാണ് പ്രണയം തുടങ്ങുന്നത് . അന്ന് മുതൽ ഇന്ന് വരെ xxunk ചിത്രം പങ്കുവച്ച് ലോകത്തോട് ഞാൻ ഇവളെ xxunk പറയാനായി കാത്തിരിക്കുകയായിരുന്നു . ഞങ്ങൾ ഒരുമിച്ചു xxunk സമയം ചെലവഴിച്ചു . പക്ഷേ പരസ്യമായി xxunk ഒരുമിച്ച് നടക്കാൻ കഴിഞ്ഞിട്ടില്ല . പക്ഷേ ഇന്ന് മുതൽ അതിന് സാധിക്കും . ഞങ്ങളുടെ പ്രണയം അംഗീകരിച്ച xxunk നന്ദി പറയുന്നു . xxunk xxunk ലഭിച്ചതിൽ ഒരുപാട് സന്തോഷിക്കുന്നു . എല്ലാവരും ഞങ്ങളെ ഹൃദയത്തിൽ നിന്നും xxunk അഭ്യർഥിക്കുന്നു ' . ഇങ്ങനെയാണ് സഞ്ജു കുറിച്ചിരിക്കുന്നത് . മാതൃഭൂമി തിരുവനന്തപുരം xxunk സീനിയര് ന്യൂസ് എഡിറ്റര് xxunk കുമാറിന്റെ മകളാണ് ചാരു . ഇന്ത്യന് ക്രിക്കറ്റ് താരമായ സഞ്ജു ഐപിഎല്ലില് മികച്ച പ്രതികരണമാണ് പുറത്തെടുത്തത് .\n",
       "y: CategoryList\n",
       "Kerala,Sports,Entertainment,India,Sports\n",
       "Path: wiki/ml;\n",
       "\n",
       "Valid: LabelList (1686 items)\n",
       "x: TextList\n",
       "xxup eng അമ്പരപ്പിക്കുന്ന രണ്ട് xxunk പഞ്ചാബ് രാജസ്ഥാന് മല്സരത്തിന്റെ ഹൈലൈറ്റ് . xxunk പുറത്താക്കിയ ക്രിസ് ഗെയ്ലും , ബെന് xxunk xxunk xxunk മാറ്റിയ മനോജ് തിവാരി – മായങ്ക് അഗര്വാള് സഖ്യവും xxunk ക്രിക്കറ്റ് പ്രേമികളെ വിസ്മയിപ്പിച്ചു xxunk xxunk xxunk എന്ന xxunk അതേപടി xxunk പഞ്ചാബിന്റെ താരങ്ങള് . xxup num വിക്കറ്റുകള് xxunk ഏഴു വിക്കറ്റുകളും ക്യാച്ചിലൂടെ . കീപ്പറുടെ xxunk xxunk മാത്രം . ഇതായിരുന്നു ഗെയ്ലിന്റെ ആ ക്യാച്ച് . xxunk പട്ടേലിന്റെ പന്തില് xxunk എടുത്ത് നീങ്ങിയ പന്ത് മുന്നോട്ടാഞ്ഞ് ഗെയ്ല് xxunk . പലവട്ടം കണ്ട ശേഷമാണ് അത് xxunk xxunk വിധിച്ചത് ഇതിലും xxunk xxunk . ബെന് സ്റ്റോക്സിനെ തിരികെ xxunk ബൗണ്ടറി xxunk xxunk മായങ്ക് xxunk മനോജ് തിവാരിയും ഒന്നിച്ച സൂപ്പര് ക്യാച്ച് . xxunk പന്താണ് xxunk മായങ്ക് അഗര്വാള് xxunk xxunk xxunk xxunk xxunk xxunk xxunk .,xxup eng ബോളിവുഡ് നടന് സഞ്ജയ് ദത്തിന്റെ ജീവിതം പ്രമേയമാക്കി നിര്മിച്ച ചിത്രമായിരുന്നു രാജ്കുമാര് xxunk സഞ്ജു . ബോക്സോഫീസിൽ കോടികളുടെ xxunk xxunk മറ്റൊരു രാജ്കുമാർ ഹിരാനി ചിത്രം . ചിത്രത്തിന്റെ xxunk തന്നെ വിവാദങ്ങളും കളം നിറയുകയാണ് . xxup num xxunk ഏറ്റവും വലിയ xxunk സഞ്ജയ് xxunk xxunk xxunk ആരോപണം . എന്നാൽ സഞ്ജയ് ദത്തും സഹോദരി പ്രിയ ദത്തും വിമർശനങ്ങൾക്ക് ശക്തമായ ഭാഷയിൽ മറുപടി നൽകി . xxup num xxup num കോടി രൂപ മുടക്കി എനിക്കു എന്നെ xxunk xxunk കാര്യമില്ല . എനിക്കു വേണ്ടി വേറേ ആരെങ്കിലും ഇത് ചെയ്യുമെന്നും ഞാൻ കരുതുന്നില്ല . ഇത് വളരെ വലിയ തുകയാണ് . ഞാൻ സത്യമാണ് പറഞ്ഞത് . ആ സത്യം ജനം xxunk തെളിവാണ് ചിത്രത്തിന്റെ കളക്ഷൻ . xxup num കോടി മുടക്കിയ ചിത്രം xxup num xxunk xxunk മുന്നേറുകയാണ് സഞ്ജയ് ദത്ത് പറഞ്ഞു . സുനിൽ ദത്തിന്റെ മകന് പ്രത്യേകതകൾ ഒന്നും xxunk . അയാൾ സാധാരണ xxunk പോലെ തന്നെയായിരുന്നു . എല്ലാവരും തെറ്റുകൾ ചെയ്തു . അയാൾ കൂടുതൽ തെറ്റുകൾ ചെയ്തു . അയാൾ അതിന് ശിക്ഷയും അനുഭവിച്ചു . ചെയ്ത xxunk കുറിച്ച് അയാൾക്ക് കുറ്റബോധം xxunk . തിയേറ്ററിൽ വച്ചു എന്റെ xxunk തിരികെ കൊണ്ടു വരാൻ ഞാൻ ശ്രമിക്കുകയായിരുന്നു . തിരശീലയിൽ എന്റെ ജീവിതം തെളിഞ്ഞിട്ടും പലപ്പോഴും എനിക്കത് വിശ്വസിക്കാനായില്ല . സഞ്ജയ് ദത്ത് പറഞ്ഞു . xxunk xxup num xxunk എനിക്ക് xxup num പേർ മാത്രമാണ് xxunk രൺബീറിന്റെ പ്രസ്താവനയെ കുറിച്ചു ചോദിച്ചപ്പോൾ xxunk മറുപടി . ഞാൻ xxunk വയ്ക്കുന്നു , xxunk പത്തിൽ കൂടുതൽ xxunk ഉണ്ടെന്ന് സഞ്ജയ് ദത്ത് പറയുന്നു . എന്റെ xxunk എണ്ണം xxup num തന്നെയാണെന്നാണ് ഓർമ ; സഞ്ജയ് ദത്ത് പറഞ്ഞു . എങ്ങനെയാണ് സഞ്ജയ്ക്ക് ഇത്രയധികം xxunk രഹസ്യം സംവിധായകൻ രാജ്കുമാർ ഹിരാനി വെളിപ്പെടുത്തിയിരുന്നു . ''ഒരു സ്ത്രീയോട് താത്പര്യം തോന്നിയാൽ സഞ്ജയ് അവരെ അമ്മയുടെ xxunk . എന്റെ അമ്മയെ കാണാൻ xxunk പറയും . ഇതോടെ xxunk അവർക്ക് വൈകാരികമായ xxunk തോന്നും . ഇങ്ങനെയാണ് തുടക്കം . xxunk ഇത് xxunk അമ്മയുടെ xxunk , കള്ളം പറഞ്ഞാണ് സഞ്ജയ് സ്ത്രീകളെ xxunk പിന്നീട് xxunk '' , ഹിരാനി പറയുന്നു . xxunk പോയ പെൺകുട്ടികളോട് xxunk പകയാണ് . ഒരു കുട്ടി സഞ്ജുവിനെ ഉപേക്ഷിച്ച് പോയി . ദേഷ്യം വന്ന സഞ്ജു , സുഹൃത്തിന്റെ പുതിയ xxunk പെൺകുട്ടിയുടെ വീടിന് മുന്നിൽ പാർക്ക് ചെയ്തിരുന്ന മറ്റൊരു കാറിൽ xxunk . പെൺകുട്ടിയുടെ xxunk കാറായിരുന്നു അത് '' , ഹിരാനി പറഞ്ഞു . ഇന്ത്യ xxunk നൽകിയ അഭിമുഖത്തിലാണ് xxunk വെളിപ്പെടുത്തൽ . ആര്എസ്എസിന്റെ xxunk xxunk സഞ്ജയ് xxunk വിമർശനവുമായി രംഗത്തു വന്നിരുന്നു . ചിത്രം xxunk xxunk ഒരാളെ xxunk ശ്രമമെന്നാണ് ആര്എസ്എസിന്റെ വാദം . ഇന്ത്യന് സംവിധായകര് അധോലോക xxunk ദാവൂദ് xxunk കുറിച്ചാണ് xxunk . എന്നാല് ഹോളിവുഡ് xxunk xxunk xxunk xxunk xxunk . ദ മാന് xxunk ന്യൂ ഇന്ഫിനിറ്റി എന്ന ചിത്രം ഇതിന് xxunk xxunk xxunk പറയുന്നു . എല്ലാ xxunk ചെയ്തിട്ടുണ്ട് സഞ്ജയ് xxunk xxunk ആരോപിക്കുന്നു .,xxup eng കോഴിക്കോട് കട്ടിപ്പാറ കരിഞ്ചോലമലയിലെ ഉരുൾപൊട്ടലിൽ xxunk xxunk മൃതദേഹവും കിട്ടി . ഇതോടെ ആകെ മരണസംഖ്യ xxup num ആയി . xxunk xxunk xxunk ഭാര്യ xxunk മൃതദേഹമാണ് ഇന്ന് കണ്ടെത്തിയത് . അതിനിടെ കട്ടിപ്പാറയില് xxunk സംഘര്ഷമുണ്ടായി . സംസാരിക്കാന് അനുവദിച്ചില്ലെന്ന് ആരോപിച്ച് ഒരുസംഘം കാരാട്ട് റസാഖ് എംഎല്എയെ തടഞ്ഞു . അതേസമയം , ഉരുള്പൊട്ടലുണ്ടായ കരിഞ്ചോലമലയിലെ തടയണ xxunk xxunk അന്വേഷിക്കുമെന്ന് മുഖ്യമന്ത്രി പിണറായി വിജയന് നിയമസഭയില് പറഞ്ഞു . എന്നാല് പി.വി.അന്വര് എം.എല്.എയുടെ വാട്ടര് xxunk xxunk മുഖ്യമന്ത്രി മിണ്ടിയില്ല . xxunk കൂടുതല് നഷ്ടപരിഹാരം നല്കുന്നതിനെക്കുറിച്ച് വൈകിട്ടത്തെ പ്രത്യേക മന്ത്രിസഭ യോഗം തീരുമാനിക്കുമെന്ന് പ്രതിപക്ഷത്തിന്റ അടിയന്തരപ്രമേയ നോട്ടീസിന് മറുപടിയായി റവന്യുമന്ത്രി പറഞ്ഞു .,xxup eng പ്രണബ് മുഖർജി ആർഎസ്എസ് വേദിയിൽ xxunk പിന്നാലെ ജവഹര്ലാല് നെഹ്റു ആര്എസ്എസ് ശാഖയിൽ xxunk നവമാധ്യമങ്ങളിൽ വ്യാപക പ്രചരണം . xxunk വ്യാജപ്രചരണം നടക്കുന്നത് . xxunk സമാനമായ യൂണിഫോം xxunk xxunk ചിത്രമാണ് ഇതിനായി ഉപയോഗിച്ചിരിക്കുന്നത് . xxunk നെഹ്റു മറ്റു xxunk ഉത്തര്പ്രദേശിലെ xxunk xxup num ൽ '' എന്ന് ഒരു പോസ്റ്റിനു താഴെ പറയുന്നു . എന്നാൽ ചരിത്രവും xxunk ഇങ്ങനെ : കോൺഗ്രസിൻറെ പോഷക സംഘടനയായ xxunk പരിപാടിയില് നെഹ്റു xxunk ചിത്രമാണിത് . സംഘടനയുടെ ആദ്യ xxunk നെഹ്റു . ബ്രിട്ടീഷ് xxunk പോരാടാൻ രൂപീകരിച്ച xxunk . xxunk ആദ്യ പ്രസിഡൻറ് . ചിത്രത്തിൽ നെഹ്റു ധരിച്ചിരിക്കുന്നത് xxunk , എന്നാൽ xxunk xxunk നിറം xxunk . xxunk നാസി xxunk നെഹ്റു ആർഎസ്എസിനെ xxunk എന്നതും ചരിത്രം . xxunk പരിപാടിയെ xxunk ബന്ധപ്പെടുത്തി ഇപ്പോൾ xxunk ഈ പ്രചരണങ്ങൾ വ്യാജമാണെന്ന് കോൺഗ്രസ് നേതാവ് മോഹൻ പ്രകാശ് പറഞ്ഞു .,xxup eng xxunk xxunk പണം xxunk വലയുകയാണ് xxunk കാൻസർ ബാധിച്ച നിർധന യുവാവ് . കാക്കനാട് xxunk xxunk നഗറിൽ ലെനിൻ xxunk xxunk xxunk മരണത്തോട് xxunk . xxunk കാൻസർ ബാധിച്ച് ഒരു വർഷത്തിലേറെയായി ചികിത്സയിലാണ് ലെനിൻ . xxunk xxunk മാറ്റി വച്ചാൽ മാത്രമേ ജീവൻ രക്ഷിക്കാൻ xxunk എന്നാണ് ഡോക്ടർമാരുടെ വിലയിരുത്തൽ . xxunk ദാനം ചെയ്യാൻ ലെനിന്റെ സഹോദരിയുടെ മകൻ തയാറാണ് . എന്നാൽ xxunk തുടർ xxunk xxup num ലക്ഷത്തോളം രൂപ ചെലവു വരും . വൃദ്ധയായ മാതാവിനെ കൂലിപ്പണിക്കാരനായ xxunk കഴിയുന്ന xxunk ഇത്രയും വലിയ തുക കണ്ടെത്തുക പ്രയാസം . തൃക്കാക്കര നഗരസഭ കൗൺസിലർമാരായ xxunk ഷീല xxunk നേതൃത്വത്തിൽ കമ്മറ്റി രൂപീകരിച്ചു ഫണ്ട് കണ്ടെത്താനുള്ള ശ്രമത്തിലാണ് നാട്ടുകാർ . യൂണിയൻ ബാങ്കിന്റെ കാക്കനാട് ശാഖയിൽ ലെനിൻ ജോർജ് ചികിത്സ സഹായ നിധി എന്നപേരിൽ അക്കൗണ്ട് തുടങ്ങിയിട്ടുണ്ട് . xxunk ജീവിതത്തിലേക്ക് തിരികെ കൊണ്ടുവരാൻ ആരെങ്കിലും xxunk പ്രതീക്ഷയിലാണ് ഈ കുടുംബം ലെനിൻ ജോർജ് ചികിൽസാ സഹായ നിധി അക്കൗണ്ട് നമ്പർ : xxup num xxup eng കോഡ് : xxup eng xxup num യൂണിയൻ ബാങ്ക് കാക്കനാട് ശാഖ\n",
       "y: CategoryList\n",
       "Sports,Entertainment,Kerala,India,Kerala\n",
       "Path: wiki/ml;\n",
       "\n",
       "Test: LabelList (937 items)\n",
       "x: TextList\n",
       "xxup eng ആറാം കിരീടം xxunk ബ്രസീലാണ് ഗ്രൂപ്പ് ഇയിലെ xxunk . xxunk xxunk xxunk xxunk ബ്രസീലിന് മുന്നേറാന് . xxunk തോല്വിക്ക് കിരീടത്തില് xxunk xxunk പ്രതീക്ഷിക്കുന്നില്ല കാനറികള് . നെയ്മറും xxunk xxunk xxunk ആരാധകര് പ്രതീക്ഷിക്കുന്നു . കഴിഞ്ഞ ലോകകപ്പില് xxunk xxunk xxunk xxunk കോസ്റ്ററിക്ക റഷ്യയില് xxunk ലോകം ഉറ്റുനോക്കുന്നത് . റയല് മഡ്രിഡിന്റെ വിശ്വസ്ത xxunk കെയ്ലര് xxunk സ്ട്രൈക്കര് മാര്ക്കോ xxunk കോസ്റ്ററിക്കയുടെ സ്വപ്നങ്ങള് . ശക്തമായ പ്രതിരോധമാണ് xxunk ശക്തി . സ്വിസ് xxunk xxunk xxunk xxunk ചേരുന്നതോടെ ടീമിന്റെ xxunk . xxunk ഫുട്ബോള് xxunk നിന്നാണ് xxunk വരവ് . xxunk അലക്സാണ്ടര് xxunk xxunk അലക്സാണ്ടര് xxunk ടീമിന്റെ വിശ്വാസം .,xxup eng പ്രളയത്തിൽ ഒറ്റപ്പെട്ട കൊടുങ്ങല്ലൂരിൽ മാധ്യമ xxunk xxunk പ്രതിഷേധം . കോട്ടപ്പുറം കത്തീഡ്രൽ xxunk xxunk ന്യൂസ് സംഘത്തോട് നാട്ടുകാര് പ്രതിഷേധം അറിയിച്ചു . വെള്ളപ്പൊക്കത്തിൽ കൊടുങ്ങല്ലൂർ നഗരസഭയിലെ പകുതിയിലധികം പ്രദേശങ്ങളും വെള്ളത്തിന് xxunk പുറംലോകം ഇവരുടെ ദുരിതം അറിയാന് വൈകി . ദേശീയ പാതയിൽ വെള്ളം xxunk തൃശൂരിൽ നിന്നും എറണാകുളത്തു നിന്നും കൊടുങ്ങല്ലൂരിൽ എത്താൻ സാധിച്ചില്ല . ചാലക്കുടിയും xxunk വെള്ളത്തിൽ xxunk ആ വഴിയും അടഞ്ഞു . തീർത്തും ഒറ്റപ്പെട്ട xxunk xxunk പോലും ആദ്യം സാധിച്ചിരുന്നില്ല എന്നതാണ് വാസ്തവം . വെള്ളക്കെട്ട് xxunk ഞങ്ങൾ കേരളത്തിലെ തന്നെ ഏറ്റവും വലിയ ദുരിതാശ്വാസ xxunk കോട്ടപ്പുറം കത്തീഡ്രൽ ക്യാംപസിൽ എത്തിയത് . പതിനാറായിരം പേരാണ് ഇവിടെയുള്ളത് . ഏറെപ്പേരും xxunk xxunk . xxunk തുടക്ക സമയത്ത് അനുഭവിച്ച ദുരിതങ്ങൾ ചിത്രീകരിച്ച് xxunk ഇനി മാധ്യമങ്ങൾ ഇങ്ങോട്ട് xxunk ഒരു വിഭാഗം പറയുന്നത് . എന്നാൽ xxunk അവരുടെ വിഷമങ്ങൾ ഞങ്ങളോട് പങ്കുവച്ചു . ഇന്നസെന്റ് എം.പി ഇന്നാണ് xxunk സന്ദർശിച്ചത് . വാർഡ് xxunk വില്ലേജ് xxunk കോട്ടപ്പുറം രൂപതയിലെ xxunk xxunk നേതൃത്വം നൽകുന്നത് .,xxup eng നരേന്ദ്രമോദി സര്ക്കാരിനെതിരായ ആദ്യത്തെ അവിശ്വാസപ്രമേയം . xxunk പ്രത്യേക പാക്കേജ് xxunk അവിശ്വാസപ്രമേയം xxunk ടിഡിപി ഉന്നയിച്ച കാരണം . ഗോരക്ഷയുടെ പേരിലുള്ള അതിക്രമങ്ങള് , xxunk , സ്ത്രീകള്ക്കെതിരായ അതിക്രമങ്ങള് , ദലിത് xxunk ആക്രമണങ്ങള് , പട്ടികജാതി xxunk xxunk എന്നീ വിഷയങ്ങള് കോണ്ഗ്രസ് ഉള്പ്പെടെയുള്ള കക്ഷികളും ആയുധമാക്കി . സര്ക്കാരിന് പ്രത്യക്ഷത്തില് xxunk xxunk ഐക്യം xxunk എന്ന xxunk xxunk . ലോക്സഭാതിരഞ്ഞെടുപ്പിന് പത്തുമാസം മാത്രം xxunk സര്ക്കാരിനെതിരെ ഏറ്റവും ശക്തമായ ആക്രമണത്തിന് വേദി ലഭിക്കും എന്നതാണ് നേട്ടം . ബിജെപിയെ സംബന്ധിച്ചിടത്തോളം xxunk xxunk പിന്തുണ xxunk xxunk xxunk . നോട്ടിസ് xxunk ? xxunk എംപി xxunk ശ്രീനിവാസ് നല്കിയ xxunk സ്പീക്കര് അനുവദിച്ചത് . കോണ്ഗ്രസിലെ xxunk xxunk ഉള്പ്പെടെ പ്രതിപക്ഷത്തെ പല നേതാക്കളും xxunk നല്കിയിരുന്നെങ്കിലും ആദ്യം ലഭിച്ചത് xxunk നോട്ടിസ് ആയതുകൊണ്ട് അത് അനുവദിക്കുകയായിരുന്നു . കഴിഞ്ഞ സമ്മേളനത്തില് നോട്ടിസ് നല്കിയെങ്കിലും സഭയിലെ ബഹളം കാരണം പിന്തുണയ്ക്കുന്നവരുടെ xxunk കഴിഞ്ഞില്ലെന്ന് ചൂണ്ടിക്കാട്ടി സ്പീക്കര് നോട്ടിസ് അനുവദിച്ചില്ല . കണക്കുകള് ആര്ക്കൊപ്പം ? xxunk ആകെ അംഗസംഖ്യ xxup num ഇപ്പോഴത്തെ അംഗബലം xxup num xxunk xxup num ബിജെപി xxup num എന്ഡിഎ xxup num അസാധാരണ xxunk സര്ക്കാര് സുരക്ഷിതം എന്താണ് അവിശ്വാസപ്രമേയം ? സര്ക്കാരിന് എല്ലായ്പ്പോഴും ലോക്സഭയില് xxunk ഉണ്ടായിരിക്കണം . അത് ഇല്ല എന്ന് തെളിയിക്കാന് സര്ക്കാരിനെ xxunk xxunk അവിശ്വാസപ്രമേയം . സര്ക്കാരിനെ സംബന്ധിച്ചിടത്തോളം ഭൂരിപക്ഷം തെളിയിക്കാനുള്ള അവസരവും . സര്ക്കാരിന് ഭൂരിപക്ഷം xxunk xxunk സാധാരണഗതിയില് അവിശ്വാസപ്രമേയം അവതരിപ്പിക്കുക . പ്രമേയം xxunk മന്ത്രിസഭ xxunk . xxunk അംഗങ്ങളില് പകുതിയിലധികംപേര് xxunk പ്രമേയം xxunk . അവിശ്വാസപ്രമേയം ലോക്സഭ xxunk സര്ക്കാരിന് തുടരാം . ഇതുപോലെ വിശ്വാസപ്രമേയം അവതരിപ്പിച്ച് ഭൂരിപക്ഷം തെളിയിക്കാന് സര്ക്കാരിനും അവസരമുണ്ട് . എന്താണ് നടപടിക്രമം ? xxunk അവിശ്വാസപ്രമേയം xxunk . സ്വാഭാവികമായും സര്ക്കാരിനെ xxunk അവിശ്വാസപ്രമേയം അവതരിപ്പിക്കുക . xxunk xxup num അനുസരിച്ച് സഭ ചേരുന്ന ദിവസം രാവിലെ xxup num xxunk ലോക്സഭാ സെക്രട്ടറി ജനറലിന് രേഖാമൂലം നോട്ടിസ് നല്കണം . xxup num xxunk ലഭിക്കുന്ന നോട്ടിസുകള് പിറ്റേദിവസം ലഭിച്ചതായി കണക്കാക്കും . അവിശ്വാസപ്രമേയം xxunk കാരണം xxunk . പ്രമേയം xxunk ? പ്രമേയം xxunk xxunk ബോധ്യപ്പെട്ടാല് സ്പീക്കര് അത് സഭയില് വായിക്കും . xxup num xxunk പിന്തുണ ഉണ്ടെങ്കില് മാത്രമേ നോട്ടിസ് പരിഗണിക്കൂ . xxunk xxunk xxunk സ്പീക്കര് നിര്ദേശിക്കും . xxunk പിന്തുണ xxunk പ്രമേയം അനുവദിക്കാനാവില്ലെന്ന് സ്പീക്കര് അംഗത്തെ അറിയിക്കും . പിന്തുണ ഉറപ്പുണ്ടെങ്കില് പ്രമേയം xxunk തീയതി xxunk . നോട്ടിസ് അംഗീകരിച്ച് xxup num ദിവസത്തിനകം പ്രമേയം xxunk . xxunk xxunk ഓരോ അംഗത്തിനും xxunk അനുവദിക്കണമെന്നും സ്പീക്കര് തീരുമാനിക്കും , വോട്ടെടുപ്പ് ഉണ്ടാകുമോ ? ചര്ച്ച പൂര്ത്തിയാകുന്ന xxunk സ്പീക്കര് നിശ്ചയിക്കുന്ന മറ്റേതെങ്കിലും xxunk xxunk xxunk . xxunk , xxunk , ബാലറ്റ് ഉപയോഗിച്ചുള്ള ഡിവിഷന് അങ്ങനെ സ്പീക്കര്ക്ക് xxunk മാര്ഗങ്ങള് ചട്ടപ്രകാരം ഉപയോഗിക്കാം . പ്രമേയത്തെ xxunk ഭൂരിപക്ഷം xxunk സര്ക്കാര് പുറത്താകും . ഭൂരിപക്ഷം എതിര്ത്താല് പ്രമേയം തള്ളും . xxunk xxunk ? xxunk ഇതുവരെ സര്ക്കാരുകള് xxunk . എന്നാല് വിശ്വാസപ്രമേയം പാസാക്കാന് കഴിയാതെ xxunk xxunk . വിശ്വാസപ്രമേയം xxunk xxunk രാജിവച്ച ചരിത്രവുമുണ്ട് . കഴിഞ്ഞ xxunk എല്ലാം . ചരിത്രം ഇവിടെ ഈ xxunk അറിയാം . xxunk xxup num ഡിസംബര് xxup num വിശ്വാസപ്രമേയം ശബ്ദവോട്ടില് പാസായി xxunk xxup num നവംബര് xxup num വിശ്വാസപ്രമേയം xxup num – xxup num ന് പരാജയപ്പെട്ടു സര്ക്കാര് രാജിവച്ചു ചന്ദ്രശേഖര് xxup num നവംബര് xxup num വിശ്വാസപ്രമേയം xxup num – xxup num ന് പാസായി xxunk xxup num ജൂലൈ xxup num വിശ്വാസപ്രമേയം xxup num അംഗങ്ങള് വിട്ടുനിന്നു xxup num – xxup num ന് പാസായി എ.ബി.വാജ്പേയ് xxup num മേയ് xxup num വിശ്വാസപ്രമേയം xxunk രാജിവച്ചു xxunk xxup num ജൂലൈ xxup num വിശ്വാസപ്രമേയം ശബ്ദവോട്ടില് പാസായി xxunk xxup num ഏപ്രില് xxup num വിശ്വാസപ്രമേയം xxup num – xxup num ന് പരാജയപ്പെട്ടു സര്ക്കാര് രാജിവച്ചു xxunk xxup num ഏപ്രില് xxup num വിശ്വാസപ്രമേയം ശബ്ദവോട്ടില് പാസായി എ.ബി.വാജ്പേയ് xxup num ഏപ്രില് xxup num വിശ്വാസപ്രമേയം xxup num – xxup num ന് പാസായി എ.ബി.വാജ്പേയ് xxup num ഏപ്രില് xxup num വിശ്വാസപ്രമേയം xxup num – xxup num ന് പരാജയപ്പെട്ടു സര്ക്കാര് രാജിവച്ചു,xxup eng xxunk ക്യാപിറ്റല് ഗുഡ്സ് xxunk സര്വകാല xxunk xxup num ല് എത്തിയിരിക്കുന്നു . കഴിഞ്ഞ സാമ്പത്തികവര്ഷം ഓഹരിവിപണിയില് ഏറ്റവും മികച്ച പ്രകടനം xxunk ക്യാപിറ്റല് ഗുഡ്സ് വ്യവസായ മേഖലയാണ് . ഈ മേഖലയുടെ മൊത്തം വരുമാനം xxup num ശതമാനം വര്ധിച്ചു . ലാഭം xxup num ശതമാനമായി . xxunk മുന്പ് നരേന്ദ്രമോദി സര്ക്കാര് പ്രഖ്യാപിച്ച മെയ്ക് ഇന് ഇന്ത്യ പദ്ധതിയുടെ xxunk ക്യാപിറ്റല് ഗുഡ്സ് വ്യവസായ മേഖലയ്ക്ക് ലഭിച്ചത് . സ്റ്റോക് മാര്ക്കറ്റ് xxunk വിലയിരുത്തുന്നത് കോര്പറേറ്റ് xxunk എഡിറ്റര് ശ്രീകുമാര് രാഘവന് .,xxup eng തിരുവനന്തപുരം നെയ്യാറ്റിന്കര നഗരസഭയില് ബജറ്റ് ചര്ച്ചയ്ക്കിടെ ഭരണപ്രതിപക്ഷ അംഗങ്ങള് xxunk . ബജറ്റില് xxunk ബന്ധപ്പെട്ട് അവതരിപ്പിച്ച നിര്ദേശങ്ങളില് xxunk യു.ഡി.എഫ് ബഹളം . സംഘര്ഷം xxunk ബജറ്റ് ചര്ച്ച താല്ക്കാലികമായി നിര്ത്തിവച്ചു . xxunk ടൂറിസം പദ്ധതി കഴിഞ്ഞ ബജറ്റില് xxunk ആരോപിച്ചായിരുന്നു പ്രതിപക്ഷ അംഗങ്ങള് ബഹളം തുടങ്ങിയത് . ഇതിന് സ്ഥലം xxunk അഴിമതിയുണ്ടെന്ന് ആരോപിച്ച് യു.ഡി.എഫ് അംഗം പ്രവീണ് xxunk xxunk പേപ്പറുകള് xxunk . ഭരണപക്ഷ അംഗങ്ങള് xxunk xxunk . ഇതുകണ്ട യു.ഡി.എഫ് അംഗം ലളിത ഭരണപക്ഷ അംഗങ്ങളെ കയ്യേറ്റം ചെയ്തതോടെ സ്ഥിതി കൂടുതല് വഷളായി . എല്.ഡി.എഫ് അംഗങ്ങള് xxunk യു.ഡി.എഫ് അംഗങ്ങള് പിന്മാറി . ഇതിനിടെ ബി.ജെ.പി അംഗങ്ങള് xxunk പകര്പ്പ് കത്തിച്ചു . ബഹളം xxunk ചര്ച്ച താല്ക്കാലികമായി xxunk .\n",
       "y: EmptyLabelList\n",
       ",,,,\n",
       "Path: wiki/ml, model=SequentialRNN(\n",
       "  (0): MultiBatchEncoder(\n",
       "    (module): AWD_LSTM(\n",
       "      (encoder): Embedding(60007, 400, padding_idx=1)\n",
       "      (encoder_dp): EmbeddingDropout(\n",
       "        (emb): Embedding(60007, 400, padding_idx=1)\n",
       "      )\n",
       "      (rnns): ModuleList(\n",
       "        (0): WeightDropout(\n",
       "          (module): LSTM(400, 1150, batch_first=True)\n",
       "        )\n",
       "        (1): WeightDropout(\n",
       "          (module): LSTM(1150, 1150, batch_first=True)\n",
       "        )\n",
       "        (2): WeightDropout(\n",
       "          (module): LSTM(1150, 400, batch_first=True)\n",
       "        )\n",
       "      )\n",
       "      (input_dp): RNNDropout()\n",
       "      (hidden_dps): ModuleList(\n",
       "        (0): RNNDropout()\n",
       "        (1): RNNDropout()\n",
       "        (2): RNNDropout()\n",
       "      )\n",
       "    )\n",
       "  )\n",
       "  (1): PoolingLinearClassifier(\n",
       "    (layers): Sequential(\n",
       "      (0): BatchNorm1d(1200, eps=1e-05, momentum=0.1, affine=True, track_running_stats=True)\n",
       "      (1): Dropout(p=0.2)\n",
       "      (2): Linear(in_features=1200, out_features=50, bias=True)\n",
       "      (3): ReLU(inplace)\n",
       "      (4): BatchNorm1d(50, eps=1e-05, momentum=0.1, affine=True, track_running_stats=True)\n",
       "      (5): Dropout(p=0.1)\n",
       "      (6): Linear(in_features=50, out_features=6, bias=True)\n",
       "    )\n",
       "  )\n",
       "), opt_func=functools.partial(<class 'torch.optim.adam.Adam'>, betas=(0.9, 0.99)), loss_func=FlattenedLoss of CrossEntropyLoss(), metrics=[<function accuracy at 0x7f7b43c4b6a8>], true_wd=True, bn_wd=True, wd=0.01, train_bn=True, path=PosixPath('wiki/ml'), model_dir='models', callback_fns=[functools.partial(<class 'fastai.basic_train.Recorder'>, add_time=True)], callbacks=[...], layer_groups=[Sequential(\n",
       "  (0): Embedding(60007, 400, padding_idx=1)\n",
       "  (1): EmbeddingDropout(\n",
       "    (emb): Embedding(60007, 400, padding_idx=1)\n",
       "  )\n",
       "), Sequential(\n",
       "  (0): WeightDropout(\n",
       "    (module): LSTM(400, 1150, batch_first=True)\n",
       "  )\n",
       "  (1): RNNDropout()\n",
       "), Sequential(\n",
       "  (0): WeightDropout(\n",
       "    (module): LSTM(1150, 1150, batch_first=True)\n",
       "  )\n",
       "  (1): RNNDropout()\n",
       "), Sequential(\n",
       "  (0): WeightDropout(\n",
       "    (module): LSTM(1150, 400, batch_first=True)\n",
       "  )\n",
       "  (1): RNNDropout()\n",
       "), Sequential(\n",
       "  (0): PoolingLinearClassifier(\n",
       "    (layers): Sequential(\n",
       "      (0): BatchNorm1d(1200, eps=1e-05, momentum=0.1, affine=True, track_running_stats=True)\n",
       "      (1): Dropout(p=0.2)\n",
       "      (2): Linear(in_features=1200, out_features=50, bias=True)\n",
       "      (3): ReLU(inplace)\n",
       "      (4): BatchNorm1d(50, eps=1e-05, momentum=0.1, affine=True, track_running_stats=True)\n",
       "      (5): Dropout(p=0.1)\n",
       "      (6): Linear(in_features=50, out_features=6, bias=True)\n",
       "    )\n",
       "  )\n",
       ")], add_time=True)\n",
       "alpha: 2.0\n",
       "beta: 1.0], layer_groups=[Sequential(\n",
       "  (0): Embedding(60007, 400, padding_idx=1)\n",
       "  (1): EmbeddingDropout(\n",
       "    (emb): Embedding(60007, 400, padding_idx=1)\n",
       "  )\n",
       "), Sequential(\n",
       "  (0): WeightDropout(\n",
       "    (module): LSTM(400, 1150, batch_first=True)\n",
       "  )\n",
       "  (1): RNNDropout()\n",
       "), Sequential(\n",
       "  (0): WeightDropout(\n",
       "    (module): LSTM(1150, 1150, batch_first=True)\n",
       "  )\n",
       "  (1): RNNDropout()\n",
       "), Sequential(\n",
       "  (0): WeightDropout(\n",
       "    (module): LSTM(1150, 400, batch_first=True)\n",
       "  )\n",
       "  (1): RNNDropout()\n",
       "), Sequential(\n",
       "  (0): PoolingLinearClassifier(\n",
       "    (layers): Sequential(\n",
       "      (0): BatchNorm1d(1200, eps=1e-05, momentum=0.1, affine=True, track_running_stats=True)\n",
       "      (1): Dropout(p=0.2)\n",
       "      (2): Linear(in_features=1200, out_features=50, bias=True)\n",
       "      (3): ReLU(inplace)\n",
       "      (4): BatchNorm1d(50, eps=1e-05, momentum=0.1, affine=True, track_running_stats=True)\n",
       "      (5): Dropout(p=0.1)\n",
       "      (6): Linear(in_features=50, out_features=6, bias=True)\n",
       "    )\n",
       "  )\n",
       ")], add_time=True)"
      ]
     },
     "execution_count": 35,
     "metadata": {},
     "output_type": "execute_result"
    }
   ],
   "source": [
    "learn.load('first-full')"
   ]
  },
  {
   "cell_type": "code",
   "execution_count": 36,
   "metadata": {},
   "outputs": [
    {
     "data": {
      "text/html": [
       "<table border=\"1\" class=\"dataframe\">\n",
       "  <thead>\n",
       "    <tr style=\"text-align: left;\">\n",
       "      <th>epoch</th>\n",
       "      <th>train_loss</th>\n",
       "      <th>valid_loss</th>\n",
       "      <th>accuracy</th>\n",
       "      <th>time</th>\n",
       "    </tr>\n",
       "  </thead>\n",
       "  <tbody>\n",
       "    <tr>\n",
       "      <td>0</td>\n",
       "      <td>0.794574</td>\n",
       "      <td>0.582848</td>\n",
       "      <td>0.802491</td>\n",
       "      <td>00:23</td>\n",
       "    </tr>\n",
       "    <tr>\n",
       "      <td>1</td>\n",
       "      <td>0.756918</td>\n",
       "      <td>0.557617</td>\n",
       "      <td>0.808422</td>\n",
       "      <td>00:23</td>\n",
       "    </tr>\n",
       "    <tr>\n",
       "      <td>2</td>\n",
       "      <td>0.697413</td>\n",
       "      <td>0.532253</td>\n",
       "      <td>0.814947</td>\n",
       "      <td>00:23</td>\n",
       "    </tr>\n",
       "    <tr>\n",
       "      <td>3</td>\n",
       "      <td>0.678499</td>\n",
       "      <td>0.533219</td>\n",
       "      <td>0.816133</td>\n",
       "      <td>00:23</td>\n",
       "    </tr>\n",
       "    <tr>\n",
       "      <td>4</td>\n",
       "      <td>0.613379</td>\n",
       "      <td>0.489471</td>\n",
       "      <td>0.829775</td>\n",
       "      <td>00:22</td>\n",
       "    </tr>\n",
       "    <tr>\n",
       "      <td>5</td>\n",
       "      <td>0.562143</td>\n",
       "      <td>0.528258</td>\n",
       "      <td>0.823843</td>\n",
       "      <td>00:23</td>\n",
       "    </tr>\n",
       "    <tr>\n",
       "      <td>6</td>\n",
       "      <td>0.506367</td>\n",
       "      <td>0.501187</td>\n",
       "      <td>0.845789</td>\n",
       "      <td>00:22</td>\n",
       "    </tr>\n",
       "    <tr>\n",
       "      <td>7</td>\n",
       "      <td>0.448366</td>\n",
       "      <td>0.489022</td>\n",
       "      <td>0.842823</td>\n",
       "      <td>00:23</td>\n",
       "    </tr>\n",
       "    <tr>\n",
       "      <td>8</td>\n",
       "      <td>0.403032</td>\n",
       "      <td>0.488620</td>\n",
       "      <td>0.858244</td>\n",
       "      <td>00:23</td>\n",
       "    </tr>\n",
       "    <tr>\n",
       "      <td>9</td>\n",
       "      <td>0.359662</td>\n",
       "      <td>0.480244</td>\n",
       "      <td>0.862396</td>\n",
       "      <td>00:22</td>\n",
       "    </tr>\n",
       "    <tr>\n",
       "      <td>10</td>\n",
       "      <td>0.317677</td>\n",
       "      <td>0.488902</td>\n",
       "      <td>0.863582</td>\n",
       "      <td>00:23</td>\n",
       "    </tr>\n",
       "    <tr>\n",
       "      <td>11</td>\n",
       "      <td>0.287417</td>\n",
       "      <td>0.503521</td>\n",
       "      <td>0.865362</td>\n",
       "      <td>00:22</td>\n",
       "    </tr>\n",
       "    <tr>\n",
       "      <td>12</td>\n",
       "      <td>0.245897</td>\n",
       "      <td>0.546545</td>\n",
       "      <td>0.865955</td>\n",
       "      <td>00:22</td>\n",
       "    </tr>\n",
       "    <tr>\n",
       "      <td>13</td>\n",
       "      <td>0.229348</td>\n",
       "      <td>0.566968</td>\n",
       "      <td>0.863582</td>\n",
       "      <td>00:23</td>\n",
       "    </tr>\n",
       "    <tr>\n",
       "      <td>14</td>\n",
       "      <td>0.194891</td>\n",
       "      <td>0.558792</td>\n",
       "      <td>0.865955</td>\n",
       "      <td>00:24</td>\n",
       "    </tr>\n",
       "    <tr>\n",
       "      <td>15</td>\n",
       "      <td>0.189244</td>\n",
       "      <td>0.582441</td>\n",
       "      <td>0.864769</td>\n",
       "      <td>00:24</td>\n",
       "    </tr>\n",
       "    <tr>\n",
       "      <td>16</td>\n",
       "      <td>0.176651</td>\n",
       "      <td>0.568464</td>\n",
       "      <td>0.866548</td>\n",
       "      <td>00:22</td>\n",
       "    </tr>\n",
       "    <tr>\n",
       "      <td>17</td>\n",
       "      <td>0.171282</td>\n",
       "      <td>0.573281</td>\n",
       "      <td>0.867141</td>\n",
       "      <td>00:24</td>\n",
       "    </tr>\n",
       "    <tr>\n",
       "      <td>18</td>\n",
       "      <td>0.162452</td>\n",
       "      <td>0.583178</td>\n",
       "      <td>0.867734</td>\n",
       "      <td>00:23</td>\n",
       "    </tr>\n",
       "    <tr>\n",
       "      <td>19</td>\n",
       "      <td>0.151082</td>\n",
       "      <td>0.581002</td>\n",
       "      <td>0.870107</td>\n",
       "      <td>00:23</td>\n",
       "    </tr>\n",
       "  </tbody>\n",
       "</table>"
      ],
      "text/plain": [
       "<IPython.core.display.HTML object>"
      ]
     },
     "metadata": {},
     "output_type": "display_data"
    }
   ],
   "source": [
    "learn.freeze_to(-2)\n",
    "learn.fit_one_cycle(20, slice(1e-2/(2.6**4),1e-2), moms=(0.8,0.7))"
   ]
  },
  {
   "cell_type": "code",
   "execution_count": 37,
   "metadata": {},
   "outputs": [],
   "source": [
    "learn.save('second')"
   ]
  },
  {
   "cell_type": "code",
   "execution_count": 38,
   "metadata": {},
   "outputs": [
    {
     "data": {
      "text/plain": [
       "RNNLearner(data=TextClasDataBunch;\n",
       "\n",
       "Train: LabelList (6740 items)\n",
       "x: TextList\n",
       "xxup eng കനത്ത xxunk പ്രളയക്കെടുതിയിൽ മുങ്ങി വയനാട് ജില്ല . ദുരന്തനിവാരണസേന റെഡ് അലര്ട്ട് പ്രഖ്യാപിച്ചു . xxunk മണ്ണിടിഞ്ഞ് ഗതാഗത തടസം xxunk ജില്ല ഏറെക്കുറെ ഒറ്റപ്പെട്ടു . കേരളത്തെ കർണാടക തമിഴ്നാട് സംസ്ഥാനങ്ങളുമായി ബന്ധിപ്പിക്കുന്ന ദേശീയ പാതയുടെ ഭാഗമായ താമരശേരി ചുരം കഴിഞ്ഞ xxup num മണിക്കൂറായി സ്തംഭിച്ചിരിക്കുകയാണ് . രണ്ടായിരത്തോളം പേരെ ക്യാംപുകളിലേക്ക് മാറ്റി . xxunk നാവികസേനയുടെ xxunk ഒരു ഹെലികോപ്റ്ററും xxunk . ജില്ലയിൽ ഇതുവരെ xxunk തരത്തിലുള്ള മഴയാണ് തുടർച്ചയായി പെയ്യുന്നത് . xxunk ഉരുൾപൊട്ടി . താമരശേരി ചുരത്തിൽ അർദ്ധരാത്രി മുതൽ പലയിടങ്ങളിലായി മണ്ണിടിഞ്ഞു . വൈത്തിരി xxunk xxunk മണ്ണിടിഞ്ഞു .ഈ ഭാഗങ്ങളിൽ അപകടാവസ്ഥ തുടരുകയാണ് . xxunk xxunk ബന്ധിപ്പിക്കുന്ന xxunk മണിക്കൂറുകളോളം ഗതാഗതം xxunk . കുറ്റ്യാടി ചുരത്തിലും നിയന്ത്രണമുണ്ട് . താഴ്ന്ന പ്രദേശത്തുള്ള വീടുകളിൽ പലതും xxunk . വൈദ്യുതി ബന്ധം തകർന്നു . എത്തിപ്പെടാൻ xxunk xxunk സാരമായി ബാധിക്കുന്നു . ബാണാസുര സാഗർ അണക്കെട്ടിലെ ഷട്ടറുകൾ രണ്ടര xxunk ഉയർത്തി . ഇതു വരെ xxup num ദുരിതാശ്വാസ ക്യാംപുകൾ തുറന്നിട്ടുണ്ട് . രണ്ടായിരത്തോളം പേരെ മാറ്റിപ്പാർപ്പിച്ചു,xxup eng ആദ്യ xxunk പോരാട്ടത്തിൽ സൺറൈസേഴ്സ് ഹൈദരാബാദിനെ തകർത്ത് ചെന്നൈ xxunk മത്സരത്തിൽ താരമായത് ഡ്വെയ്ന് xxunk . xxunk xxunk യൂസഫ് xxunk വിക്കറ്റ് എടുത്ത് ഹൈദരാബാദിന്റെ xxunk xxunk കളിയിലെ താരം . xxunk xxunk വിക്കറ്റ് നേട്ടം xxunk . ബ്രാവോ എറിഞ്ഞ xxunk ഓവറിൽ xxunk കൂറ്റൻ xxunk ശ്രമിച്ചു . അതിസാഹസികമായ xxunk xxunk xxunk വീണു ഹൈദരാബാദിന്റെ സ്വപ്നങ്ങളും . പന്ത് പിടിച്ച് മലക്കം മറിഞ്ഞ് സ്വതസിദ്ധമായ ശൈലിയിൽ ബ്രാവോയുടെ ഡാൻസും . അതിമനോഹരമായ ക്യാച്ചിന് കയ്യടിക്കുകയാണ് സമൂഹമാധ്യമങ്ങൾ . xxunk xxunk അതോ xxunk , അത്രയധികം xxunk ആ xxunk സമൂഹമാധ്യമങ്ങൾ ഒരേ സ്വരത്തിൽ പറയുന്നു . തകർപ്പൻ പ്രകടനത്തിലൂടെ ഒന്നാം xxunk പ്ലേ ഓഫിന് യോഗ്യത നേടിയ സൺറൈസേഴ്സ് ഹൈദരാബാദിനെതിരെ ചെന്നൈ രണ്ട് വിക്കറ്റിനാണ് ജയിച്ചത് . അഞ്ച് പന്ത് ശേഷിക്കെ എട്ട് വിക്കറ്റ് നഷ്ടത്തിലാണ് ടീം xxunk . ഒരു ഘട്ടത്തിൽ xxunk xxunk ചെന്നൈയെ xxunk ഒറ്റയാൾ പോരാട്ടമാണ് തുണച്ചത് . xxunk xxup num പന്തിൽ xxup num റൺസെടുത്തു . റെയ്ന താക്കൂർ റൺസെടുത്തു . മറ്റ് ചെന്നൈ xxunk സമ്പൂർണ പരാജയമായിരുന്നു . xxunk സന്ദീപ് ശർമയും സിദ്ധാർഥ് കൗളും റാഷിദ് ഖാനും രണ്ടു വിക്കറ്റ് വീഴ്ത്തി . xxup eng ! xxup eng ! xxup eng xxup eng xxup eng xxup eng : / / xxup eng xxup .eng / xxup eng xxup eng @ xxup eng ടോസ് നഷ്ടപ്പെട്ട് ബാറ്റിങ്ങിന് ഇറങ്ങിയ സൺറൈസേഴ്സിന് നിശ്ചിത xxup num ഓവറിൽ ഏഴു വിക്കറ്റ് നഷ്ടത്തിൽ xxup num xxunk കഴിഞ്ഞുള്ളു . സൺറൈസേഴ്സ് ഇന്നിങ്സിൽ പിറന്ന നാലു സിക്സുകളും സ്വന്തം xxunk വെസ്റ്റ് xxunk താരം കാർലോസ് xxunk അവരുടെ ടോപ് xxunk . xxunk xxup num പന്തിൽ ഒരു ബൗണ്ടറിയും നാലു സിക്സും ഉൾപ്പെടെ xxup num റൺസെടുത്ത് പുറത്താകാതെ നിന്നു . ചെന്നൈ നിരയിൽ xxunk ബ്രാവോ നാല് ഓവറിൽ xxup num റൺസ് വഴങ്ങി രണ്ടു വിക്കറ്റ് വീഴ്ത്തി .,xxup eng ‘ നമ്മുടെ രാജ്യം എങ്ങനെയാണ് ചെറിയ xxunk xxunk മറ്റൊരു ഉദാഹരണമാണ് ഈ വാർത്ത . ഇത് ഓര്ത്ത് ഞാന് xxunk ’ . സഹോദരിയെ പറ്റി മോശം വാർത്ത വന്നതിന് അർജുൻ കപൂർ പ്രതികരിച്ചത് ഇങ്ങനെ . എന്നാൽ അതിലെ വാക്കുകൾ മണിക്കൂറുകൾക്കുള്ളിൽ തന്നെ രാജ്യം മറ്റൊരു രീതിയിൽ xxunk . അതും രാജ്യത്തെ നടുക്കിയ കഠ്വ xxunk ബന്ധപ്പെടുത്തി . ദിവസങ്ങൾക്ക് മുൻപ് അർജുൻ കപൂർ ട്വിറ്ററിൽ എഴുതിയ ആ കുറിപ്പാണ് ഇപ്പോൾ സമൂഹമാധ്യമങ്ങളിൽ ചർച്ചയാകുന്നത് . xxup eng xxup eng xxup eng xxup eng xxup eng xxup eng xxup eng xxup eng xxup eng xxup eng xxup eng xxup eng xxup eng xxup eng xxup eng xxup eng xxup eng xxup eng xxup eng xxup eng ... xxup eng xxup eng ’ xxup eng xxup eng xxup eng xxup eng xxup eng xxup eng xxup eng xxup eng xxup eng xxup eng xxup eng xxup eng xxup eng xxup eng xxup eng ... xxup eng xxup eng xxup eng xxup eng xxup eng xxup eng xxup eng xxup eng xxup eng xxup eng xxup eng xxup eng xxup eng ... xxup eng xxup eng xxup eng ... xxup eng : / / xxup eng xxup .eng / xxup eng xxup num xxup ng xxup num xxup ng സംഭവിച്ചത് ഇതാണ് : ഏപ്രിൽ xxup num ാണ് xxunk xxunk വാർത്ത നൽകിയ xxunk പൊട്ടിത്തെറിച്ച് അർജുൻ ട്വീറ്റ് ചെയ്തത് . അന്തരിച്ച ശ്രീദേവിയുടെ മകളും നടിയുമായ ജാൻവി കപൂറിനെ അപമാനിക്കുന്ന തരത്തിൽ വന്ന xxunk അർജുൻ ട്വീറ്റ് ചെയ്തത് . അർജുൻ കപൂറിന്റെ വീട്ടിൽ എത്തിയതായിരുന്നു ജാൻവി . ഒപ്പം പിതാവ് ബോണി കപൂറും സഹോദരി xxunk ഒപ്പമുണ്ടായിരുന്നു . പക്ഷേ സഹോദരന്റെ വീട്ടിലെ xxunk xxunk xxunk ചില മാധ്യമങ്ങൾ xxunk . എനിക്ക് ഒന്നും പറയാനില്ല , ഇതൊക്കെ ഞാന് xxunk അറിയാന് ? പൊട്ടിത്തെറിച്ച് പൃഥ്വിരാജ് ജാൻവി വളരെ xxunk വസ്ത്രം xxunk ശരീര ഭാഗങ്ങൾ കാണുന്ന രീതിയിലുള്ള വസ്ത്രമായിരുന്നു സഹോദരന്റെ വീട്ടിലെത്തിയപ്പോൾ xxunk വരെ ഒരു മാധ്യമം റിപ്പോർട്ട് ചെയ്തു . ഇൗ xxunk അർജുൻ xxunk പ്രതികരിച്ചത് . ട്വിറ്റ് വന്നതിന് പിന്നാലെ ആ വാർത്ത നല്കിയ മാധ്യമം അത് പിന്വലിക്കുകയും ചെയ്തു . സ്ത്രീയെ xxunk നോക്കി xxunk ; xxunk നീളം നോക്കിയല്ല : തുറന്നടിച്ച് നടി xxunk ... അർജുന്റെ xxunk വാചകങ്ങൾ കശ്മീർ xxunk xxunk ചിലർ . എന്തു കാഴ്ചയാണ് xxunk പുതിയ ചോദ്യം . ചെറിയ പെൺകുട്ടികളെ പോലും ഇങ്ങനെയാണോ സമൂഹം നോക്കുന്നത് . xxunk തോന്നുന്നു ... അതെ , xxunk വേണ്ടി ഒരു സഹോദരൻ കുറിച്ച വാചകങ്ങൾ ഇന്ന് രാജ്യത്തോട് ഇന്ന് സംസാരിക്കുന്നു .,xxup eng കർഷകരുടെ xxunk പേരിൽ xxunk മഹാരാഷ്ട്രയിലെ xxunk തട്ടിയെടുത്തത് xxup num കോടി . xxunk നേതാവ് xxunk xxunk xxunk ഇക്കാര്യം വെളിപ്പെടുത്തിയത് . xxunk ഷുഗർ ആന്റ് xxunk ലിമിറ്റഡ് സ്ഥാപകൻ xxunk xxunk ആരോപണം . xxup num കര്ഷകരുടെ പേരിലാണ് xxunk വിവിധ ബാങ്കുകളിൽ നിന്ന് xxunk . ഇവരിൽ പലർക്കും വായ്പ xxunk ബാങ്കുകൾ xxunk . പലതും xxup num ലക്ഷത്തിന് മുകളിൽ . xxunk xxunk തട്ടിയെടുത്തത് xxup num കോടി രൂപ . ജൂലൈ അഞ്ചിന് xxunk എഫ്ഐആർ രജിസ്റ്റർ xxunk . എന്നാൽ വ്യക്തമായ xxunk xxunk അറസ്റ്റ് xxunk xxunk സഭയിൽ xxunk . നടപടിയെടുക്കാൻ വൈകിയാൽ നീരവ് xxunk xxunk രാജ്യം വിടുമെന്ന് xxunk മുന്നറിയിപ്പ് നൽകി . കഴിഞ്ഞ മൂന്ന് മാസത്തിനിടെ സംസ്ഥാനത്ത് xxup num കർഷകരാണ് ആത്മഹത്യ ചെയ്തത് . കർഷകർ xxunk അവരുടെ പേരിലും തട്ടിപ്പ് . xxunk നടപടിയെടുക്കണമെന്ന ആവശ്യം xxunk .,xxup eng xxunk പ്രണയവും കാമുകിയെയും പരസ്യപ്പെടുത്തി ഇന്ത്യയുടെ മലയാളി ക്രിക്കറ്റ് താരം സഞ്ജു xxunk . തന്റെ ഫെയ്സ്ബുക്ക് പേജിൽ പങ്കുവച്ച xxunk കുറിപ്പിലാണ് പ്രണയം വെളിപ്പെടുത്തിയിരിക്കുന്നത് . ചാരു എന്നാണ് പെൺകുട്ടിയുടെ പേര് . xxup num ഓഗസ്റ്റ് xxup num ാണ് ആദ്യമായി അവൾക്ക് ഹായ് അയയ്ക്കുന്നത് എന്ന് തുടങ്ങുന്നു സഞ്ജുവിന്റെ കുറിപ്പ് . അതിൽ നിന്നാണ് പ്രണയം തുടങ്ങുന്നത് . അന്ന് മുതൽ ഇന്ന് വരെ xxunk ചിത്രം പങ്കുവച്ച് ലോകത്തോട് ഞാൻ ഇവളെ xxunk പറയാനായി കാത്തിരിക്കുകയായിരുന്നു . ഞങ്ങൾ ഒരുമിച്ചു xxunk സമയം ചെലവഴിച്ചു . പക്ഷേ പരസ്യമായി xxunk ഒരുമിച്ച് നടക്കാൻ കഴിഞ്ഞിട്ടില്ല . പക്ഷേ ഇന്ന് മുതൽ അതിന് സാധിക്കും . ഞങ്ങളുടെ പ്രണയം അംഗീകരിച്ച xxunk നന്ദി പറയുന്നു . xxunk xxunk ലഭിച്ചതിൽ ഒരുപാട് സന്തോഷിക്കുന്നു . എല്ലാവരും ഞങ്ങളെ ഹൃദയത്തിൽ നിന്നും xxunk അഭ്യർഥിക്കുന്നു ' . ഇങ്ങനെയാണ് സഞ്ജു കുറിച്ചിരിക്കുന്നത് . മാതൃഭൂമി തിരുവനന്തപുരം xxunk സീനിയര് ന്യൂസ് എഡിറ്റര് xxunk കുമാറിന്റെ മകളാണ് ചാരു . ഇന്ത്യന് ക്രിക്കറ്റ് താരമായ സഞ്ജു ഐപിഎല്ലില് മികച്ച പ്രതികരണമാണ് പുറത്തെടുത്തത് .\n",
       "y: CategoryList\n",
       "Kerala,Sports,Entertainment,India,Sports\n",
       "Path: wiki/ml;\n",
       "\n",
       "Valid: LabelList (1686 items)\n",
       "x: TextList\n",
       "xxup eng അമ്പരപ്പിക്കുന്ന രണ്ട് xxunk പഞ്ചാബ് രാജസ്ഥാന് മല്സരത്തിന്റെ ഹൈലൈറ്റ് . xxunk പുറത്താക്കിയ ക്രിസ് ഗെയ്ലും , ബെന് xxunk xxunk xxunk മാറ്റിയ മനോജ് തിവാരി – മായങ്ക് അഗര്വാള് സഖ്യവും xxunk ക്രിക്കറ്റ് പ്രേമികളെ വിസ്മയിപ്പിച്ചു xxunk xxunk xxunk എന്ന xxunk അതേപടി xxunk പഞ്ചാബിന്റെ താരങ്ങള് . xxup num വിക്കറ്റുകള് xxunk ഏഴു വിക്കറ്റുകളും ക്യാച്ചിലൂടെ . കീപ്പറുടെ xxunk xxunk മാത്രം . ഇതായിരുന്നു ഗെയ്ലിന്റെ ആ ക്യാച്ച് . xxunk പട്ടേലിന്റെ പന്തില് xxunk എടുത്ത് നീങ്ങിയ പന്ത് മുന്നോട്ടാഞ്ഞ് ഗെയ്ല് xxunk . പലവട്ടം കണ്ട ശേഷമാണ് അത് xxunk xxunk വിധിച്ചത് ഇതിലും xxunk xxunk . ബെന് സ്റ്റോക്സിനെ തിരികെ xxunk ബൗണ്ടറി xxunk xxunk മായങ്ക് xxunk മനോജ് തിവാരിയും ഒന്നിച്ച സൂപ്പര് ക്യാച്ച് . xxunk പന്താണ് xxunk മായങ്ക് അഗര്വാള് xxunk xxunk xxunk xxunk xxunk xxunk xxunk .,xxup eng ബോളിവുഡ് നടന് സഞ്ജയ് ദത്തിന്റെ ജീവിതം പ്രമേയമാക്കി നിര്മിച്ച ചിത്രമായിരുന്നു രാജ്കുമാര് xxunk സഞ്ജു . ബോക്സോഫീസിൽ കോടികളുടെ xxunk xxunk മറ്റൊരു രാജ്കുമാർ ഹിരാനി ചിത്രം . ചിത്രത്തിന്റെ xxunk തന്നെ വിവാദങ്ങളും കളം നിറയുകയാണ് . xxup num xxunk ഏറ്റവും വലിയ xxunk സഞ്ജയ് xxunk xxunk xxunk ആരോപണം . എന്നാൽ സഞ്ജയ് ദത്തും സഹോദരി പ്രിയ ദത്തും വിമർശനങ്ങൾക്ക് ശക്തമായ ഭാഷയിൽ മറുപടി നൽകി . xxup num xxup num കോടി രൂപ മുടക്കി എനിക്കു എന്നെ xxunk xxunk കാര്യമില്ല . എനിക്കു വേണ്ടി വേറേ ആരെങ്കിലും ഇത് ചെയ്യുമെന്നും ഞാൻ കരുതുന്നില്ല . ഇത് വളരെ വലിയ തുകയാണ് . ഞാൻ സത്യമാണ് പറഞ്ഞത് . ആ സത്യം ജനം xxunk തെളിവാണ് ചിത്രത്തിന്റെ കളക്ഷൻ . xxup num കോടി മുടക്കിയ ചിത്രം xxup num xxunk xxunk മുന്നേറുകയാണ് സഞ്ജയ് ദത്ത് പറഞ്ഞു . സുനിൽ ദത്തിന്റെ മകന് പ്രത്യേകതകൾ ഒന്നും xxunk . അയാൾ സാധാരണ xxunk പോലെ തന്നെയായിരുന്നു . എല്ലാവരും തെറ്റുകൾ ചെയ്തു . അയാൾ കൂടുതൽ തെറ്റുകൾ ചെയ്തു . അയാൾ അതിന് ശിക്ഷയും അനുഭവിച്ചു . ചെയ്ത xxunk കുറിച്ച് അയാൾക്ക് കുറ്റബോധം xxunk . തിയേറ്ററിൽ വച്ചു എന്റെ xxunk തിരികെ കൊണ്ടു വരാൻ ഞാൻ ശ്രമിക്കുകയായിരുന്നു . തിരശീലയിൽ എന്റെ ജീവിതം തെളിഞ്ഞിട്ടും പലപ്പോഴും എനിക്കത് വിശ്വസിക്കാനായില്ല . സഞ്ജയ് ദത്ത് പറഞ്ഞു . xxunk xxup num xxunk എനിക്ക് xxup num പേർ മാത്രമാണ് xxunk രൺബീറിന്റെ പ്രസ്താവനയെ കുറിച്ചു ചോദിച്ചപ്പോൾ xxunk മറുപടി . ഞാൻ xxunk വയ്ക്കുന്നു , xxunk പത്തിൽ കൂടുതൽ xxunk ഉണ്ടെന്ന് സഞ്ജയ് ദത്ത് പറയുന്നു . എന്റെ xxunk എണ്ണം xxup num തന്നെയാണെന്നാണ് ഓർമ ; സഞ്ജയ് ദത്ത് പറഞ്ഞു . എങ്ങനെയാണ് സഞ്ജയ്ക്ക് ഇത്രയധികം xxunk രഹസ്യം സംവിധായകൻ രാജ്കുമാർ ഹിരാനി വെളിപ്പെടുത്തിയിരുന്നു . ''ഒരു സ്ത്രീയോട് താത്പര്യം തോന്നിയാൽ സഞ്ജയ് അവരെ അമ്മയുടെ xxunk . എന്റെ അമ്മയെ കാണാൻ xxunk പറയും . ഇതോടെ xxunk അവർക്ക് വൈകാരികമായ xxunk തോന്നും . ഇങ്ങനെയാണ് തുടക്കം . xxunk ഇത് xxunk അമ്മയുടെ xxunk , കള്ളം പറഞ്ഞാണ് സഞ്ജയ് സ്ത്രീകളെ xxunk പിന്നീട് xxunk '' , ഹിരാനി പറയുന്നു . xxunk പോയ പെൺകുട്ടികളോട് xxunk പകയാണ് . ഒരു കുട്ടി സഞ്ജുവിനെ ഉപേക്ഷിച്ച് പോയി . ദേഷ്യം വന്ന സഞ്ജു , സുഹൃത്തിന്റെ പുതിയ xxunk പെൺകുട്ടിയുടെ വീടിന് മുന്നിൽ പാർക്ക് ചെയ്തിരുന്ന മറ്റൊരു കാറിൽ xxunk . പെൺകുട്ടിയുടെ xxunk കാറായിരുന്നു അത് '' , ഹിരാനി പറഞ്ഞു . ഇന്ത്യ xxunk നൽകിയ അഭിമുഖത്തിലാണ് xxunk വെളിപ്പെടുത്തൽ . ആര്എസ്എസിന്റെ xxunk xxunk സഞ്ജയ് xxunk വിമർശനവുമായി രംഗത്തു വന്നിരുന്നു . ചിത്രം xxunk xxunk ഒരാളെ xxunk ശ്രമമെന്നാണ് ആര്എസ്എസിന്റെ വാദം . ഇന്ത്യന് സംവിധായകര് അധോലോക xxunk ദാവൂദ് xxunk കുറിച്ചാണ് xxunk . എന്നാല് ഹോളിവുഡ് xxunk xxunk xxunk xxunk xxunk . ദ മാന് xxunk ന്യൂ ഇന്ഫിനിറ്റി എന്ന ചിത്രം ഇതിന് xxunk xxunk xxunk പറയുന്നു . എല്ലാ xxunk ചെയ്തിട്ടുണ്ട് സഞ്ജയ് xxunk xxunk ആരോപിക്കുന്നു .,xxup eng കോഴിക്കോട് കട്ടിപ്പാറ കരിഞ്ചോലമലയിലെ ഉരുൾപൊട്ടലിൽ xxunk xxunk മൃതദേഹവും കിട്ടി . ഇതോടെ ആകെ മരണസംഖ്യ xxup num ആയി . xxunk xxunk xxunk ഭാര്യ xxunk മൃതദേഹമാണ് ഇന്ന് കണ്ടെത്തിയത് . അതിനിടെ കട്ടിപ്പാറയില് xxunk സംഘര്ഷമുണ്ടായി . സംസാരിക്കാന് അനുവദിച്ചില്ലെന്ന് ആരോപിച്ച് ഒരുസംഘം കാരാട്ട് റസാഖ് എംഎല്എയെ തടഞ്ഞു . അതേസമയം , ഉരുള്പൊട്ടലുണ്ടായ കരിഞ്ചോലമലയിലെ തടയണ xxunk xxunk അന്വേഷിക്കുമെന്ന് മുഖ്യമന്ത്രി പിണറായി വിജയന് നിയമസഭയില് പറഞ്ഞു . എന്നാല് പി.വി.അന്വര് എം.എല്.എയുടെ വാട്ടര് xxunk xxunk മുഖ്യമന്ത്രി മിണ്ടിയില്ല . xxunk കൂടുതല് നഷ്ടപരിഹാരം നല്കുന്നതിനെക്കുറിച്ച് വൈകിട്ടത്തെ പ്രത്യേക മന്ത്രിസഭ യോഗം തീരുമാനിക്കുമെന്ന് പ്രതിപക്ഷത്തിന്റ അടിയന്തരപ്രമേയ നോട്ടീസിന് മറുപടിയായി റവന്യുമന്ത്രി പറഞ്ഞു .,xxup eng പ്രണബ് മുഖർജി ആർഎസ്എസ് വേദിയിൽ xxunk പിന്നാലെ ജവഹര്ലാല് നെഹ്റു ആര്എസ്എസ് ശാഖയിൽ xxunk നവമാധ്യമങ്ങളിൽ വ്യാപക പ്രചരണം . xxunk വ്യാജപ്രചരണം നടക്കുന്നത് . xxunk സമാനമായ യൂണിഫോം xxunk xxunk ചിത്രമാണ് ഇതിനായി ഉപയോഗിച്ചിരിക്കുന്നത് . xxunk നെഹ്റു മറ്റു xxunk ഉത്തര്പ്രദേശിലെ xxunk xxup num ൽ '' എന്ന് ഒരു പോസ്റ്റിനു താഴെ പറയുന്നു . എന്നാൽ ചരിത്രവും xxunk ഇങ്ങനെ : കോൺഗ്രസിൻറെ പോഷക സംഘടനയായ xxunk പരിപാടിയില് നെഹ്റു xxunk ചിത്രമാണിത് . സംഘടനയുടെ ആദ്യ xxunk നെഹ്റു . ബ്രിട്ടീഷ് xxunk പോരാടാൻ രൂപീകരിച്ച xxunk . xxunk ആദ്യ പ്രസിഡൻറ് . ചിത്രത്തിൽ നെഹ്റു ധരിച്ചിരിക്കുന്നത് xxunk , എന്നാൽ xxunk xxunk നിറം xxunk . xxunk നാസി xxunk നെഹ്റു ആർഎസ്എസിനെ xxunk എന്നതും ചരിത്രം . xxunk പരിപാടിയെ xxunk ബന്ധപ്പെടുത്തി ഇപ്പോൾ xxunk ഈ പ്രചരണങ്ങൾ വ്യാജമാണെന്ന് കോൺഗ്രസ് നേതാവ് മോഹൻ പ്രകാശ് പറഞ്ഞു .,xxup eng xxunk xxunk പണം xxunk വലയുകയാണ് xxunk കാൻസർ ബാധിച്ച നിർധന യുവാവ് . കാക്കനാട് xxunk xxunk നഗറിൽ ലെനിൻ xxunk xxunk xxunk മരണത്തോട് xxunk . xxunk കാൻസർ ബാധിച്ച് ഒരു വർഷത്തിലേറെയായി ചികിത്സയിലാണ് ലെനിൻ . xxunk xxunk മാറ്റി വച്ചാൽ മാത്രമേ ജീവൻ രക്ഷിക്കാൻ xxunk എന്നാണ് ഡോക്ടർമാരുടെ വിലയിരുത്തൽ . xxunk ദാനം ചെയ്യാൻ ലെനിന്റെ സഹോദരിയുടെ മകൻ തയാറാണ് . എന്നാൽ xxunk തുടർ xxunk xxup num ലക്ഷത്തോളം രൂപ ചെലവു വരും . വൃദ്ധയായ മാതാവിനെ കൂലിപ്പണിക്കാരനായ xxunk കഴിയുന്ന xxunk ഇത്രയും വലിയ തുക കണ്ടെത്തുക പ്രയാസം . തൃക്കാക്കര നഗരസഭ കൗൺസിലർമാരായ xxunk ഷീല xxunk നേതൃത്വത്തിൽ കമ്മറ്റി രൂപീകരിച്ചു ഫണ്ട് കണ്ടെത്താനുള്ള ശ്രമത്തിലാണ് നാട്ടുകാർ . യൂണിയൻ ബാങ്കിന്റെ കാക്കനാട് ശാഖയിൽ ലെനിൻ ജോർജ് ചികിത്സ സഹായ നിധി എന്നപേരിൽ അക്കൗണ്ട് തുടങ്ങിയിട്ടുണ്ട് . xxunk ജീവിതത്തിലേക്ക് തിരികെ കൊണ്ടുവരാൻ ആരെങ്കിലും xxunk പ്രതീക്ഷയിലാണ് ഈ കുടുംബം ലെനിൻ ജോർജ് ചികിൽസാ സഹായ നിധി അക്കൗണ്ട് നമ്പർ : xxup num xxup eng കോഡ് : xxup eng xxup num യൂണിയൻ ബാങ്ക് കാക്കനാട് ശാഖ\n",
       "y: CategoryList\n",
       "Sports,Entertainment,Kerala,India,Kerala\n",
       "Path: wiki/ml;\n",
       "\n",
       "Test: LabelList (937 items)\n",
       "x: TextList\n",
       "xxup eng ആറാം കിരീടം xxunk ബ്രസീലാണ് ഗ്രൂപ്പ് ഇയിലെ xxunk . xxunk xxunk xxunk xxunk ബ്രസീലിന് മുന്നേറാന് . xxunk തോല്വിക്ക് കിരീടത്തില് xxunk xxunk പ്രതീക്ഷിക്കുന്നില്ല കാനറികള് . നെയ്മറും xxunk xxunk xxunk ആരാധകര് പ്രതീക്ഷിക്കുന്നു . കഴിഞ്ഞ ലോകകപ്പില് xxunk xxunk xxunk xxunk കോസ്റ്ററിക്ക റഷ്യയില് xxunk ലോകം ഉറ്റുനോക്കുന്നത് . റയല് മഡ്രിഡിന്റെ വിശ്വസ്ത xxunk കെയ്ലര് xxunk സ്ട്രൈക്കര് മാര്ക്കോ xxunk കോസ്റ്ററിക്കയുടെ സ്വപ്നങ്ങള് . ശക്തമായ പ്രതിരോധമാണ് xxunk ശക്തി . സ്വിസ് xxunk xxunk xxunk xxunk ചേരുന്നതോടെ ടീമിന്റെ xxunk . xxunk ഫുട്ബോള് xxunk നിന്നാണ് xxunk വരവ് . xxunk അലക്സാണ്ടര് xxunk xxunk അലക്സാണ്ടര് xxunk ടീമിന്റെ വിശ്വാസം .,xxup eng പ്രളയത്തിൽ ഒറ്റപ്പെട്ട കൊടുങ്ങല്ലൂരിൽ മാധ്യമ xxunk xxunk പ്രതിഷേധം . കോട്ടപ്പുറം കത്തീഡ്രൽ xxunk xxunk ന്യൂസ് സംഘത്തോട് നാട്ടുകാര് പ്രതിഷേധം അറിയിച്ചു . വെള്ളപ്പൊക്കത്തിൽ കൊടുങ്ങല്ലൂർ നഗരസഭയിലെ പകുതിയിലധികം പ്രദേശങ്ങളും വെള്ളത്തിന് xxunk പുറംലോകം ഇവരുടെ ദുരിതം അറിയാന് വൈകി . ദേശീയ പാതയിൽ വെള്ളം xxunk തൃശൂരിൽ നിന്നും എറണാകുളത്തു നിന്നും കൊടുങ്ങല്ലൂരിൽ എത്താൻ സാധിച്ചില്ല . ചാലക്കുടിയും xxunk വെള്ളത്തിൽ xxunk ആ വഴിയും അടഞ്ഞു . തീർത്തും ഒറ്റപ്പെട്ട xxunk xxunk പോലും ആദ്യം സാധിച്ചിരുന്നില്ല എന്നതാണ് വാസ്തവം . വെള്ളക്കെട്ട് xxunk ഞങ്ങൾ കേരളത്തിലെ തന്നെ ഏറ്റവും വലിയ ദുരിതാശ്വാസ xxunk കോട്ടപ്പുറം കത്തീഡ്രൽ ക്യാംപസിൽ എത്തിയത് . പതിനാറായിരം പേരാണ് ഇവിടെയുള്ളത് . ഏറെപ്പേരും xxunk xxunk . xxunk തുടക്ക സമയത്ത് അനുഭവിച്ച ദുരിതങ്ങൾ ചിത്രീകരിച്ച് xxunk ഇനി മാധ്യമങ്ങൾ ഇങ്ങോട്ട് xxunk ഒരു വിഭാഗം പറയുന്നത് . എന്നാൽ xxunk അവരുടെ വിഷമങ്ങൾ ഞങ്ങളോട് പങ്കുവച്ചു . ഇന്നസെന്റ് എം.പി ഇന്നാണ് xxunk സന്ദർശിച്ചത് . വാർഡ് xxunk വില്ലേജ് xxunk കോട്ടപ്പുറം രൂപതയിലെ xxunk xxunk നേതൃത്വം നൽകുന്നത് .,xxup eng നരേന്ദ്രമോദി സര്ക്കാരിനെതിരായ ആദ്യത്തെ അവിശ്വാസപ്രമേയം . xxunk പ്രത്യേക പാക്കേജ് xxunk അവിശ്വാസപ്രമേയം xxunk ടിഡിപി ഉന്നയിച്ച കാരണം . ഗോരക്ഷയുടെ പേരിലുള്ള അതിക്രമങ്ങള് , xxunk , സ്ത്രീകള്ക്കെതിരായ അതിക്രമങ്ങള് , ദലിത് xxunk ആക്രമണങ്ങള് , പട്ടികജാതി xxunk xxunk എന്നീ വിഷയങ്ങള് കോണ്ഗ്രസ് ഉള്പ്പെടെയുള്ള കക്ഷികളും ആയുധമാക്കി . സര്ക്കാരിന് പ്രത്യക്ഷത്തില് xxunk xxunk ഐക്യം xxunk എന്ന xxunk xxunk . ലോക്സഭാതിരഞ്ഞെടുപ്പിന് പത്തുമാസം മാത്രം xxunk സര്ക്കാരിനെതിരെ ഏറ്റവും ശക്തമായ ആക്രമണത്തിന് വേദി ലഭിക്കും എന്നതാണ് നേട്ടം . ബിജെപിയെ സംബന്ധിച്ചിടത്തോളം xxunk xxunk പിന്തുണ xxunk xxunk xxunk . നോട്ടിസ് xxunk ? xxunk എംപി xxunk ശ്രീനിവാസ് നല്കിയ xxunk സ്പീക്കര് അനുവദിച്ചത് . കോണ്ഗ്രസിലെ xxunk xxunk ഉള്പ്പെടെ പ്രതിപക്ഷത്തെ പല നേതാക്കളും xxunk നല്കിയിരുന്നെങ്കിലും ആദ്യം ലഭിച്ചത് xxunk നോട്ടിസ് ആയതുകൊണ്ട് അത് അനുവദിക്കുകയായിരുന്നു . കഴിഞ്ഞ സമ്മേളനത്തില് നോട്ടിസ് നല്കിയെങ്കിലും സഭയിലെ ബഹളം കാരണം പിന്തുണയ്ക്കുന്നവരുടെ xxunk കഴിഞ്ഞില്ലെന്ന് ചൂണ്ടിക്കാട്ടി സ്പീക്കര് നോട്ടിസ് അനുവദിച്ചില്ല . കണക്കുകള് ആര്ക്കൊപ്പം ? xxunk ആകെ അംഗസംഖ്യ xxup num ഇപ്പോഴത്തെ അംഗബലം xxup num xxunk xxup num ബിജെപി xxup num എന്ഡിഎ xxup num അസാധാരണ xxunk സര്ക്കാര് സുരക്ഷിതം എന്താണ് അവിശ്വാസപ്രമേയം ? സര്ക്കാരിന് എല്ലായ്പ്പോഴും ലോക്സഭയില് xxunk ഉണ്ടായിരിക്കണം . അത് ഇല്ല എന്ന് തെളിയിക്കാന് സര്ക്കാരിനെ xxunk xxunk അവിശ്വാസപ്രമേയം . സര്ക്കാരിനെ സംബന്ധിച്ചിടത്തോളം ഭൂരിപക്ഷം തെളിയിക്കാനുള്ള അവസരവും . സര്ക്കാരിന് ഭൂരിപക്ഷം xxunk xxunk സാധാരണഗതിയില് അവിശ്വാസപ്രമേയം അവതരിപ്പിക്കുക . പ്രമേയം xxunk മന്ത്രിസഭ xxunk . xxunk അംഗങ്ങളില് പകുതിയിലധികംപേര് xxunk പ്രമേയം xxunk . അവിശ്വാസപ്രമേയം ലോക്സഭ xxunk സര്ക്കാരിന് തുടരാം . ഇതുപോലെ വിശ്വാസപ്രമേയം അവതരിപ്പിച്ച് ഭൂരിപക്ഷം തെളിയിക്കാന് സര്ക്കാരിനും അവസരമുണ്ട് . എന്താണ് നടപടിക്രമം ? xxunk അവിശ്വാസപ്രമേയം xxunk . സ്വാഭാവികമായും സര്ക്കാരിനെ xxunk അവിശ്വാസപ്രമേയം അവതരിപ്പിക്കുക . xxunk xxup num അനുസരിച്ച് സഭ ചേരുന്ന ദിവസം രാവിലെ xxup num xxunk ലോക്സഭാ സെക്രട്ടറി ജനറലിന് രേഖാമൂലം നോട്ടിസ് നല്കണം . xxup num xxunk ലഭിക്കുന്ന നോട്ടിസുകള് പിറ്റേദിവസം ലഭിച്ചതായി കണക്കാക്കും . അവിശ്വാസപ്രമേയം xxunk കാരണം xxunk . പ്രമേയം xxunk ? പ്രമേയം xxunk xxunk ബോധ്യപ്പെട്ടാല് സ്പീക്കര് അത് സഭയില് വായിക്കും . xxup num xxunk പിന്തുണ ഉണ്ടെങ്കില് മാത്രമേ നോട്ടിസ് പരിഗണിക്കൂ . xxunk xxunk xxunk സ്പീക്കര് നിര്ദേശിക്കും . xxunk പിന്തുണ xxunk പ്രമേയം അനുവദിക്കാനാവില്ലെന്ന് സ്പീക്കര് അംഗത്തെ അറിയിക്കും . പിന്തുണ ഉറപ്പുണ്ടെങ്കില് പ്രമേയം xxunk തീയതി xxunk . നോട്ടിസ് അംഗീകരിച്ച് xxup num ദിവസത്തിനകം പ്രമേയം xxunk . xxunk xxunk ഓരോ അംഗത്തിനും xxunk അനുവദിക്കണമെന്നും സ്പീക്കര് തീരുമാനിക്കും , വോട്ടെടുപ്പ് ഉണ്ടാകുമോ ? ചര്ച്ച പൂര്ത്തിയാകുന്ന xxunk സ്പീക്കര് നിശ്ചയിക്കുന്ന മറ്റേതെങ്കിലും xxunk xxunk xxunk . xxunk , xxunk , ബാലറ്റ് ഉപയോഗിച്ചുള്ള ഡിവിഷന് അങ്ങനെ സ്പീക്കര്ക്ക് xxunk മാര്ഗങ്ങള് ചട്ടപ്രകാരം ഉപയോഗിക്കാം . പ്രമേയത്തെ xxunk ഭൂരിപക്ഷം xxunk സര്ക്കാര് പുറത്താകും . ഭൂരിപക്ഷം എതിര്ത്താല് പ്രമേയം തള്ളും . xxunk xxunk ? xxunk ഇതുവരെ സര്ക്കാരുകള് xxunk . എന്നാല് വിശ്വാസപ്രമേയം പാസാക്കാന് കഴിയാതെ xxunk xxunk . വിശ്വാസപ്രമേയം xxunk xxunk രാജിവച്ച ചരിത്രവുമുണ്ട് . കഴിഞ്ഞ xxunk എല്ലാം . ചരിത്രം ഇവിടെ ഈ xxunk അറിയാം . xxunk xxup num ഡിസംബര് xxup num വിശ്വാസപ്രമേയം ശബ്ദവോട്ടില് പാസായി xxunk xxup num നവംബര് xxup num വിശ്വാസപ്രമേയം xxup num – xxup num ന് പരാജയപ്പെട്ടു സര്ക്കാര് രാജിവച്ചു ചന്ദ്രശേഖര് xxup num നവംബര് xxup num വിശ്വാസപ്രമേയം xxup num – xxup num ന് പാസായി xxunk xxup num ജൂലൈ xxup num വിശ്വാസപ്രമേയം xxup num അംഗങ്ങള് വിട്ടുനിന്നു xxup num – xxup num ന് പാസായി എ.ബി.വാജ്പേയ് xxup num മേയ് xxup num വിശ്വാസപ്രമേയം xxunk രാജിവച്ചു xxunk xxup num ജൂലൈ xxup num വിശ്വാസപ്രമേയം ശബ്ദവോട്ടില് പാസായി xxunk xxup num ഏപ്രില് xxup num വിശ്വാസപ്രമേയം xxup num – xxup num ന് പരാജയപ്പെട്ടു സര്ക്കാര് രാജിവച്ചു xxunk xxup num ഏപ്രില് xxup num വിശ്വാസപ്രമേയം ശബ്ദവോട്ടില് പാസായി എ.ബി.വാജ്പേയ് xxup num ഏപ്രില് xxup num വിശ്വാസപ്രമേയം xxup num – xxup num ന് പാസായി എ.ബി.വാജ്പേയ് xxup num ഏപ്രില് xxup num വിശ്വാസപ്രമേയം xxup num – xxup num ന് പരാജയപ്പെട്ടു സര്ക്കാര് രാജിവച്ചു,xxup eng xxunk ക്യാപിറ്റല് ഗുഡ്സ് xxunk സര്വകാല xxunk xxup num ല് എത്തിയിരിക്കുന്നു . കഴിഞ്ഞ സാമ്പത്തികവര്ഷം ഓഹരിവിപണിയില് ഏറ്റവും മികച്ച പ്രകടനം xxunk ക്യാപിറ്റല് ഗുഡ്സ് വ്യവസായ മേഖലയാണ് . ഈ മേഖലയുടെ മൊത്തം വരുമാനം xxup num ശതമാനം വര്ധിച്ചു . ലാഭം xxup num ശതമാനമായി . xxunk മുന്പ് നരേന്ദ്രമോദി സര്ക്കാര് പ്രഖ്യാപിച്ച മെയ്ക് ഇന് ഇന്ത്യ പദ്ധതിയുടെ xxunk ക്യാപിറ്റല് ഗുഡ്സ് വ്യവസായ മേഖലയ്ക്ക് ലഭിച്ചത് . സ്റ്റോക് മാര്ക്കറ്റ് xxunk വിലയിരുത്തുന്നത് കോര്പറേറ്റ് xxunk എഡിറ്റര് ശ്രീകുമാര് രാഘവന് .,xxup eng തിരുവനന്തപുരം നെയ്യാറ്റിന്കര നഗരസഭയില് ബജറ്റ് ചര്ച്ചയ്ക്കിടെ ഭരണപ്രതിപക്ഷ അംഗങ്ങള് xxunk . ബജറ്റില് xxunk ബന്ധപ്പെട്ട് അവതരിപ്പിച്ച നിര്ദേശങ്ങളില് xxunk യു.ഡി.എഫ് ബഹളം . സംഘര്ഷം xxunk ബജറ്റ് ചര്ച്ച താല്ക്കാലികമായി നിര്ത്തിവച്ചു . xxunk ടൂറിസം പദ്ധതി കഴിഞ്ഞ ബജറ്റില് xxunk ആരോപിച്ചായിരുന്നു പ്രതിപക്ഷ അംഗങ്ങള് ബഹളം തുടങ്ങിയത് . ഇതിന് സ്ഥലം xxunk അഴിമതിയുണ്ടെന്ന് ആരോപിച്ച് യു.ഡി.എഫ് അംഗം പ്രവീണ് xxunk xxunk പേപ്പറുകള് xxunk . ഭരണപക്ഷ അംഗങ്ങള് xxunk xxunk . ഇതുകണ്ട യു.ഡി.എഫ് അംഗം ലളിത ഭരണപക്ഷ അംഗങ്ങളെ കയ്യേറ്റം ചെയ്തതോടെ സ്ഥിതി കൂടുതല് വഷളായി . എല്.ഡി.എഫ് അംഗങ്ങള് xxunk യു.ഡി.എഫ് അംഗങ്ങള് പിന്മാറി . ഇതിനിടെ ബി.ജെ.പി അംഗങ്ങള് xxunk പകര്പ്പ് കത്തിച്ചു . ബഹളം xxunk ചര്ച്ച താല്ക്കാലികമായി xxunk .\n",
       "y: EmptyLabelList\n",
       ",,,,\n",
       "Path: wiki/ml, model=SequentialRNN(\n",
       "  (0): MultiBatchEncoder(\n",
       "    (module): AWD_LSTM(\n",
       "      (encoder): Embedding(60007, 400, padding_idx=1)\n",
       "      (encoder_dp): EmbeddingDropout(\n",
       "        (emb): Embedding(60007, 400, padding_idx=1)\n",
       "      )\n",
       "      (rnns): ModuleList(\n",
       "        (0): WeightDropout(\n",
       "          (module): LSTM(400, 1150, batch_first=True)\n",
       "        )\n",
       "        (1): WeightDropout(\n",
       "          (module): LSTM(1150, 1150, batch_first=True)\n",
       "        )\n",
       "        (2): WeightDropout(\n",
       "          (module): LSTM(1150, 400, batch_first=True)\n",
       "        )\n",
       "      )\n",
       "      (input_dp): RNNDropout()\n",
       "      (hidden_dps): ModuleList(\n",
       "        (0): RNNDropout()\n",
       "        (1): RNNDropout()\n",
       "        (2): RNNDropout()\n",
       "      )\n",
       "    )\n",
       "  )\n",
       "  (1): PoolingLinearClassifier(\n",
       "    (layers): Sequential(\n",
       "      (0): BatchNorm1d(1200, eps=1e-05, momentum=0.1, affine=True, track_running_stats=True)\n",
       "      (1): Dropout(p=0.2)\n",
       "      (2): Linear(in_features=1200, out_features=50, bias=True)\n",
       "      (3): ReLU(inplace)\n",
       "      (4): BatchNorm1d(50, eps=1e-05, momentum=0.1, affine=True, track_running_stats=True)\n",
       "      (5): Dropout(p=0.1)\n",
       "      (6): Linear(in_features=50, out_features=6, bias=True)\n",
       "    )\n",
       "  )\n",
       "), opt_func=functools.partial(<class 'torch.optim.adam.Adam'>, betas=(0.9, 0.99)), loss_func=FlattenedLoss of CrossEntropyLoss(), metrics=[<function accuracy at 0x7f7b43c4b6a8>], true_wd=True, bn_wd=True, wd=0.01, train_bn=True, path=PosixPath('wiki/ml'), model_dir='models', callback_fns=[functools.partial(<class 'fastai.basic_train.Recorder'>, add_time=True)], callbacks=[RNNTrainer\n",
       "learn: RNNLearner(data=TextClasDataBunch;\n",
       "\n",
       "Train: LabelList (6740 items)\n",
       "x: TextList\n",
       "xxup eng കനത്ത xxunk പ്രളയക്കെടുതിയിൽ മുങ്ങി വയനാട് ജില്ല . ദുരന്തനിവാരണസേന റെഡ് അലര്ട്ട് പ്രഖ്യാപിച്ചു . xxunk മണ്ണിടിഞ്ഞ് ഗതാഗത തടസം xxunk ജില്ല ഏറെക്കുറെ ഒറ്റപ്പെട്ടു . കേരളത്തെ കർണാടക തമിഴ്നാട് സംസ്ഥാനങ്ങളുമായി ബന്ധിപ്പിക്കുന്ന ദേശീയ പാതയുടെ ഭാഗമായ താമരശേരി ചുരം കഴിഞ്ഞ xxup num മണിക്കൂറായി സ്തംഭിച്ചിരിക്കുകയാണ് . രണ്ടായിരത്തോളം പേരെ ക്യാംപുകളിലേക്ക് മാറ്റി . xxunk നാവികസേനയുടെ xxunk ഒരു ഹെലികോപ്റ്ററും xxunk . ജില്ലയിൽ ഇതുവരെ xxunk തരത്തിലുള്ള മഴയാണ് തുടർച്ചയായി പെയ്യുന്നത് . xxunk ഉരുൾപൊട്ടി . താമരശേരി ചുരത്തിൽ അർദ്ധരാത്രി മുതൽ പലയിടങ്ങളിലായി മണ്ണിടിഞ്ഞു . വൈത്തിരി xxunk xxunk മണ്ണിടിഞ്ഞു .ഈ ഭാഗങ്ങളിൽ അപകടാവസ്ഥ തുടരുകയാണ് . xxunk xxunk ബന്ധിപ്പിക്കുന്ന xxunk മണിക്കൂറുകളോളം ഗതാഗതം xxunk . കുറ്റ്യാടി ചുരത്തിലും നിയന്ത്രണമുണ്ട് . താഴ്ന്ന പ്രദേശത്തുള്ള വീടുകളിൽ പലതും xxunk . വൈദ്യുതി ബന്ധം തകർന്നു . എത്തിപ്പെടാൻ xxunk xxunk സാരമായി ബാധിക്കുന്നു . ബാണാസുര സാഗർ അണക്കെട്ടിലെ ഷട്ടറുകൾ രണ്ടര xxunk ഉയർത്തി . ഇതു വരെ xxup num ദുരിതാശ്വാസ ക്യാംപുകൾ തുറന്നിട്ടുണ്ട് . രണ്ടായിരത്തോളം പേരെ മാറ്റിപ്പാർപ്പിച്ചു,xxup eng ആദ്യ xxunk പോരാട്ടത്തിൽ സൺറൈസേഴ്സ് ഹൈദരാബാദിനെ തകർത്ത് ചെന്നൈ xxunk മത്സരത്തിൽ താരമായത് ഡ്വെയ്ന് xxunk . xxunk xxunk യൂസഫ് xxunk വിക്കറ്റ് എടുത്ത് ഹൈദരാബാദിന്റെ xxunk xxunk കളിയിലെ താരം . xxunk xxunk വിക്കറ്റ് നേട്ടം xxunk . ബ്രാവോ എറിഞ്ഞ xxunk ഓവറിൽ xxunk കൂറ്റൻ xxunk ശ്രമിച്ചു . അതിസാഹസികമായ xxunk xxunk xxunk വീണു ഹൈദരാബാദിന്റെ സ്വപ്നങ്ങളും . പന്ത് പിടിച്ച് മലക്കം മറിഞ്ഞ് സ്വതസിദ്ധമായ ശൈലിയിൽ ബ്രാവോയുടെ ഡാൻസും . അതിമനോഹരമായ ക്യാച്ചിന് കയ്യടിക്കുകയാണ് സമൂഹമാധ്യമങ്ങൾ . xxunk xxunk അതോ xxunk , അത്രയധികം xxunk ആ xxunk സമൂഹമാധ്യമങ്ങൾ ഒരേ സ്വരത്തിൽ പറയുന്നു . തകർപ്പൻ പ്രകടനത്തിലൂടെ ഒന്നാം xxunk പ്ലേ ഓഫിന് യോഗ്യത നേടിയ സൺറൈസേഴ്സ് ഹൈദരാബാദിനെതിരെ ചെന്നൈ രണ്ട് വിക്കറ്റിനാണ് ജയിച്ചത് . അഞ്ച് പന്ത് ശേഷിക്കെ എട്ട് വിക്കറ്റ് നഷ്ടത്തിലാണ് ടീം xxunk . ഒരു ഘട്ടത്തിൽ xxunk xxunk ചെന്നൈയെ xxunk ഒറ്റയാൾ പോരാട്ടമാണ് തുണച്ചത് . xxunk xxup num പന്തിൽ xxup num റൺസെടുത്തു . റെയ്ന താക്കൂർ റൺസെടുത്തു . മറ്റ് ചെന്നൈ xxunk സമ്പൂർണ പരാജയമായിരുന്നു . xxunk സന്ദീപ് ശർമയും സിദ്ധാർഥ് കൗളും റാഷിദ് ഖാനും രണ്ടു വിക്കറ്റ് വീഴ്ത്തി . xxup eng ! xxup eng ! xxup eng xxup eng xxup eng xxup eng : / / xxup eng xxup .eng / xxup eng xxup eng @ xxup eng ടോസ് നഷ്ടപ്പെട്ട് ബാറ്റിങ്ങിന് ഇറങ്ങിയ സൺറൈസേഴ്സിന് നിശ്ചിത xxup num ഓവറിൽ ഏഴു വിക്കറ്റ് നഷ്ടത്തിൽ xxup num xxunk കഴിഞ്ഞുള്ളു . സൺറൈസേഴ്സ് ഇന്നിങ്സിൽ പിറന്ന നാലു സിക്സുകളും സ്വന്തം xxunk വെസ്റ്റ് xxunk താരം കാർലോസ് xxunk അവരുടെ ടോപ് xxunk . xxunk xxup num പന്തിൽ ഒരു ബൗണ്ടറിയും നാലു സിക്സും ഉൾപ്പെടെ xxup num റൺസെടുത്ത് പുറത്താകാതെ നിന്നു . ചെന്നൈ നിരയിൽ xxunk ബ്രാവോ നാല് ഓവറിൽ xxup num റൺസ് വഴങ്ങി രണ്ടു വിക്കറ്റ് വീഴ്ത്തി .,xxup eng ‘ നമ്മുടെ രാജ്യം എങ്ങനെയാണ് ചെറിയ xxunk xxunk മറ്റൊരു ഉദാഹരണമാണ് ഈ വാർത്ത . ഇത് ഓര്ത്ത് ഞാന് xxunk ’ . സഹോദരിയെ പറ്റി മോശം വാർത്ത വന്നതിന് അർജുൻ കപൂർ പ്രതികരിച്ചത് ഇങ്ങനെ . എന്നാൽ അതിലെ വാക്കുകൾ മണിക്കൂറുകൾക്കുള്ളിൽ തന്നെ രാജ്യം മറ്റൊരു രീതിയിൽ xxunk . അതും രാജ്യത്തെ നടുക്കിയ കഠ്വ xxunk ബന്ധപ്പെടുത്തി . ദിവസങ്ങൾക്ക് മുൻപ് അർജുൻ കപൂർ ട്വിറ്ററിൽ എഴുതിയ ആ കുറിപ്പാണ് ഇപ്പോൾ സമൂഹമാധ്യമങ്ങളിൽ ചർച്ചയാകുന്നത് . xxup eng xxup eng xxup eng xxup eng xxup eng xxup eng xxup eng xxup eng xxup eng xxup eng xxup eng xxup eng xxup eng xxup eng xxup eng xxup eng xxup eng xxup eng xxup eng xxup eng ... xxup eng xxup eng ’ xxup eng xxup eng xxup eng xxup eng xxup eng xxup eng xxup eng xxup eng xxup eng xxup eng xxup eng xxup eng xxup eng xxup eng xxup eng ... xxup eng xxup eng xxup eng xxup eng xxup eng xxup eng xxup eng xxup eng xxup eng xxup eng xxup eng xxup eng xxup eng ... xxup eng xxup eng xxup eng ... xxup eng : / / xxup eng xxup .eng / xxup eng xxup num xxup ng xxup num xxup ng സംഭവിച്ചത് ഇതാണ് : ഏപ്രിൽ xxup num ാണ് xxunk xxunk വാർത്ത നൽകിയ xxunk പൊട്ടിത്തെറിച്ച് അർജുൻ ട്വീറ്റ് ചെയ്തത് . അന്തരിച്ച ശ്രീദേവിയുടെ മകളും നടിയുമായ ജാൻവി കപൂറിനെ അപമാനിക്കുന്ന തരത്തിൽ വന്ന xxunk അർജുൻ ട്വീറ്റ് ചെയ്തത് . അർജുൻ കപൂറിന്റെ വീട്ടിൽ എത്തിയതായിരുന്നു ജാൻവി . ഒപ്പം പിതാവ് ബോണി കപൂറും സഹോദരി xxunk ഒപ്പമുണ്ടായിരുന്നു . പക്ഷേ സഹോദരന്റെ വീട്ടിലെ xxunk xxunk xxunk ചില മാധ്യമങ്ങൾ xxunk . എനിക്ക് ഒന്നും പറയാനില്ല , ഇതൊക്കെ ഞാന് xxunk അറിയാന് ? പൊട്ടിത്തെറിച്ച് പൃഥ്വിരാജ് ജാൻവി വളരെ xxunk വസ്ത്രം xxunk ശരീര ഭാഗങ്ങൾ കാണുന്ന രീതിയിലുള്ള വസ്ത്രമായിരുന്നു സഹോദരന്റെ വീട്ടിലെത്തിയപ്പോൾ xxunk വരെ ഒരു മാധ്യമം റിപ്പോർട്ട് ചെയ്തു . ഇൗ xxunk അർജുൻ xxunk പ്രതികരിച്ചത് . ട്വിറ്റ് വന്നതിന് പിന്നാലെ ആ വാർത്ത നല്കിയ മാധ്യമം അത് പിന്വലിക്കുകയും ചെയ്തു . സ്ത്രീയെ xxunk നോക്കി xxunk ; xxunk നീളം നോക്കിയല്ല : തുറന്നടിച്ച് നടി xxunk ... അർജുന്റെ xxunk വാചകങ്ങൾ കശ്മീർ xxunk xxunk ചിലർ . എന്തു കാഴ്ചയാണ് xxunk പുതിയ ചോദ്യം . ചെറിയ പെൺകുട്ടികളെ പോലും ഇങ്ങനെയാണോ സമൂഹം നോക്കുന്നത് . xxunk തോന്നുന്നു ... അതെ , xxunk വേണ്ടി ഒരു സഹോദരൻ കുറിച്ച വാചകങ്ങൾ ഇന്ന് രാജ്യത്തോട് ഇന്ന് സംസാരിക്കുന്നു .,xxup eng കർഷകരുടെ xxunk പേരിൽ xxunk മഹാരാഷ്ട്രയിലെ xxunk തട്ടിയെടുത്തത് xxup num കോടി . xxunk നേതാവ് xxunk xxunk xxunk ഇക്കാര്യം വെളിപ്പെടുത്തിയത് . xxunk ഷുഗർ ആന്റ് xxunk ലിമിറ്റഡ് സ്ഥാപകൻ xxunk xxunk ആരോപണം . xxup num കര്ഷകരുടെ പേരിലാണ് xxunk വിവിധ ബാങ്കുകളിൽ നിന്ന് xxunk . ഇവരിൽ പലർക്കും വായ്പ xxunk ബാങ്കുകൾ xxunk . പലതും xxup num ലക്ഷത്തിന് മുകളിൽ . xxunk xxunk തട്ടിയെടുത്തത് xxup num കോടി രൂപ . ജൂലൈ അഞ്ചിന് xxunk എഫ്ഐആർ രജിസ്റ്റർ xxunk . എന്നാൽ വ്യക്തമായ xxunk xxunk അറസ്റ്റ് xxunk xxunk സഭയിൽ xxunk . നടപടിയെടുക്കാൻ വൈകിയാൽ നീരവ് xxunk xxunk രാജ്യം വിടുമെന്ന് xxunk മുന്നറിയിപ്പ് നൽകി . കഴിഞ്ഞ മൂന്ന് മാസത്തിനിടെ സംസ്ഥാനത്ത് xxup num കർഷകരാണ് ആത്മഹത്യ ചെയ്തത് . കർഷകർ xxunk അവരുടെ പേരിലും തട്ടിപ്പ് . xxunk നടപടിയെടുക്കണമെന്ന ആവശ്യം xxunk .,xxup eng xxunk പ്രണയവും കാമുകിയെയും പരസ്യപ്പെടുത്തി ഇന്ത്യയുടെ മലയാളി ക്രിക്കറ്റ് താരം സഞ്ജു xxunk . തന്റെ ഫെയ്സ്ബുക്ക് പേജിൽ പങ്കുവച്ച xxunk കുറിപ്പിലാണ് പ്രണയം വെളിപ്പെടുത്തിയിരിക്കുന്നത് . ചാരു എന്നാണ് പെൺകുട്ടിയുടെ പേര് . xxup num ഓഗസ്റ്റ് xxup num ാണ് ആദ്യമായി അവൾക്ക് ഹായ് അയയ്ക്കുന്നത് എന്ന് തുടങ്ങുന്നു സഞ്ജുവിന്റെ കുറിപ്പ് . അതിൽ നിന്നാണ് പ്രണയം തുടങ്ങുന്നത് . അന്ന് മുതൽ ഇന്ന് വരെ xxunk ചിത്രം പങ്കുവച്ച് ലോകത്തോട് ഞാൻ ഇവളെ xxunk പറയാനായി കാത്തിരിക്കുകയായിരുന്നു . ഞങ്ങൾ ഒരുമിച്ചു xxunk സമയം ചെലവഴിച്ചു . പക്ഷേ പരസ്യമായി xxunk ഒരുമിച്ച് നടക്കാൻ കഴിഞ്ഞിട്ടില്ല . പക്ഷേ ഇന്ന് മുതൽ അതിന് സാധിക്കും . ഞങ്ങളുടെ പ്രണയം അംഗീകരിച്ച xxunk നന്ദി പറയുന്നു . xxunk xxunk ലഭിച്ചതിൽ ഒരുപാട് സന്തോഷിക്കുന്നു . എല്ലാവരും ഞങ്ങളെ ഹൃദയത്തിൽ നിന്നും xxunk അഭ്യർഥിക്കുന്നു ' . ഇങ്ങനെയാണ് സഞ്ജു കുറിച്ചിരിക്കുന്നത് . മാതൃഭൂമി തിരുവനന്തപുരം xxunk സീനിയര് ന്യൂസ് എഡിറ്റര് xxunk കുമാറിന്റെ മകളാണ് ചാരു . ഇന്ത്യന് ക്രിക്കറ്റ് താരമായ സഞ്ജു ഐപിഎല്ലില് മികച്ച പ്രതികരണമാണ് പുറത്തെടുത്തത് .\n",
       "y: CategoryList\n",
       "Kerala,Sports,Entertainment,India,Sports\n",
       "Path: wiki/ml;\n",
       "\n",
       "Valid: LabelList (1686 items)\n",
       "x: TextList\n",
       "xxup eng അമ്പരപ്പിക്കുന്ന രണ്ട് xxunk പഞ്ചാബ് രാജസ്ഥാന് മല്സരത്തിന്റെ ഹൈലൈറ്റ് . xxunk പുറത്താക്കിയ ക്രിസ് ഗെയ്ലും , ബെന് xxunk xxunk xxunk മാറ്റിയ മനോജ് തിവാരി – മായങ്ക് അഗര്വാള് സഖ്യവും xxunk ക്രിക്കറ്റ് പ്രേമികളെ വിസ്മയിപ്പിച്ചു xxunk xxunk xxunk എന്ന xxunk അതേപടി xxunk പഞ്ചാബിന്റെ താരങ്ങള് . xxup num വിക്കറ്റുകള് xxunk ഏഴു വിക്കറ്റുകളും ക്യാച്ചിലൂടെ . കീപ്പറുടെ xxunk xxunk മാത്രം . ഇതായിരുന്നു ഗെയ്ലിന്റെ ആ ക്യാച്ച് . xxunk പട്ടേലിന്റെ പന്തില് xxunk എടുത്ത് നീങ്ങിയ പന്ത് മുന്നോട്ടാഞ്ഞ് ഗെയ്ല് xxunk . പലവട്ടം കണ്ട ശേഷമാണ് അത് xxunk xxunk വിധിച്ചത് ഇതിലും xxunk xxunk . ബെന് സ്റ്റോക്സിനെ തിരികെ xxunk ബൗണ്ടറി xxunk xxunk മായങ്ക് xxunk മനോജ് തിവാരിയും ഒന്നിച്ച സൂപ്പര് ക്യാച്ച് . xxunk പന്താണ് xxunk മായങ്ക് അഗര്വാള് xxunk xxunk xxunk xxunk xxunk xxunk xxunk .,xxup eng ബോളിവുഡ് നടന് സഞ്ജയ് ദത്തിന്റെ ജീവിതം പ്രമേയമാക്കി നിര്മിച്ച ചിത്രമായിരുന്നു രാജ്കുമാര് xxunk സഞ്ജു . ബോക്സോഫീസിൽ കോടികളുടെ xxunk xxunk മറ്റൊരു രാജ്കുമാർ ഹിരാനി ചിത്രം . ചിത്രത്തിന്റെ xxunk തന്നെ വിവാദങ്ങളും കളം നിറയുകയാണ് . xxup num xxunk ഏറ്റവും വലിയ xxunk സഞ്ജയ് xxunk xxunk xxunk ആരോപണം . എന്നാൽ സഞ്ജയ് ദത്തും സഹോദരി പ്രിയ ദത്തും വിമർശനങ്ങൾക്ക് ശക്തമായ ഭാഷയിൽ മറുപടി നൽകി . xxup num xxup num കോടി രൂപ മുടക്കി എനിക്കു എന്നെ xxunk xxunk കാര്യമില്ല . എനിക്കു വേണ്ടി വേറേ ആരെങ്കിലും ഇത് ചെയ്യുമെന്നും ഞാൻ കരുതുന്നില്ല . ഇത് വളരെ വലിയ തുകയാണ് . ഞാൻ സത്യമാണ് പറഞ്ഞത് . ആ സത്യം ജനം xxunk തെളിവാണ് ചിത്രത്തിന്റെ കളക്ഷൻ . xxup num കോടി മുടക്കിയ ചിത്രം xxup num xxunk xxunk മുന്നേറുകയാണ് സഞ്ജയ് ദത്ത് പറഞ്ഞു . സുനിൽ ദത്തിന്റെ മകന് പ്രത്യേകതകൾ ഒന്നും xxunk . അയാൾ സാധാരണ xxunk പോലെ തന്നെയായിരുന്നു . എല്ലാവരും തെറ്റുകൾ ചെയ്തു . അയാൾ കൂടുതൽ തെറ്റുകൾ ചെയ്തു . അയാൾ അതിന് ശിക്ഷയും അനുഭവിച്ചു . ചെയ്ത xxunk കുറിച്ച് അയാൾക്ക് കുറ്റബോധം xxunk . തിയേറ്ററിൽ വച്ചു എന്റെ xxunk തിരികെ കൊണ്ടു വരാൻ ഞാൻ ശ്രമിക്കുകയായിരുന്നു . തിരശീലയിൽ എന്റെ ജീവിതം തെളിഞ്ഞിട്ടും പലപ്പോഴും എനിക്കത് വിശ്വസിക്കാനായില്ല . സഞ്ജയ് ദത്ത് പറഞ്ഞു . xxunk xxup num xxunk എനിക്ക് xxup num പേർ മാത്രമാണ് xxunk രൺബീറിന്റെ പ്രസ്താവനയെ കുറിച്ചു ചോദിച്ചപ്പോൾ xxunk മറുപടി . ഞാൻ xxunk വയ്ക്കുന്നു , xxunk പത്തിൽ കൂടുതൽ xxunk ഉണ്ടെന്ന് സഞ്ജയ് ദത്ത് പറയുന്നു . എന്റെ xxunk എണ്ണം xxup num തന്നെയാണെന്നാണ് ഓർമ ; സഞ്ജയ് ദത്ത് പറഞ്ഞു . എങ്ങനെയാണ് സഞ്ജയ്ക്ക് ഇത്രയധികം xxunk രഹസ്യം സംവിധായകൻ രാജ്കുമാർ ഹിരാനി വെളിപ്പെടുത്തിയിരുന്നു . ''ഒരു സ്ത്രീയോട് താത്പര്യം തോന്നിയാൽ സഞ്ജയ് അവരെ അമ്മയുടെ xxunk . എന്റെ അമ്മയെ കാണാൻ xxunk പറയും . ഇതോടെ xxunk അവർക്ക് വൈകാരികമായ xxunk തോന്നും . ഇങ്ങനെയാണ് തുടക്കം . xxunk ഇത് xxunk അമ്മയുടെ xxunk , കള്ളം പറഞ്ഞാണ് സഞ്ജയ് സ്ത്രീകളെ xxunk പിന്നീട് xxunk '' , ഹിരാനി പറയുന്നു . xxunk പോയ പെൺകുട്ടികളോട് xxunk പകയാണ് . ഒരു കുട്ടി സഞ്ജുവിനെ ഉപേക്ഷിച്ച് പോയി . ദേഷ്യം വന്ന സഞ്ജു , സുഹൃത്തിന്റെ പുതിയ xxunk പെൺകുട്ടിയുടെ വീടിന് മുന്നിൽ പാർക്ക് ചെയ്തിരുന്ന മറ്റൊരു കാറിൽ xxunk . പെൺകുട്ടിയുടെ xxunk കാറായിരുന്നു അത് '' , ഹിരാനി പറഞ്ഞു . ഇന്ത്യ xxunk നൽകിയ അഭിമുഖത്തിലാണ് xxunk വെളിപ്പെടുത്തൽ . ആര്എസ്എസിന്റെ xxunk xxunk സഞ്ജയ് xxunk വിമർശനവുമായി രംഗത്തു വന്നിരുന്നു . ചിത്രം xxunk xxunk ഒരാളെ xxunk ശ്രമമെന്നാണ് ആര്എസ്എസിന്റെ വാദം . ഇന്ത്യന് സംവിധായകര് അധോലോക xxunk ദാവൂദ് xxunk കുറിച്ചാണ് xxunk . എന്നാല് ഹോളിവുഡ് xxunk xxunk xxunk xxunk xxunk . ദ മാന് xxunk ന്യൂ ഇന്ഫിനിറ്റി എന്ന ചിത്രം ഇതിന് xxunk xxunk xxunk പറയുന്നു . എല്ലാ xxunk ചെയ്തിട്ടുണ്ട് സഞ്ജയ് xxunk xxunk ആരോപിക്കുന്നു .,xxup eng കോഴിക്കോട് കട്ടിപ്പാറ കരിഞ്ചോലമലയിലെ ഉരുൾപൊട്ടലിൽ xxunk xxunk മൃതദേഹവും കിട്ടി . ഇതോടെ ആകെ മരണസംഖ്യ xxup num ആയി . xxunk xxunk xxunk ഭാര്യ xxunk മൃതദേഹമാണ് ഇന്ന് കണ്ടെത്തിയത് . അതിനിടെ കട്ടിപ്പാറയില് xxunk സംഘര്ഷമുണ്ടായി . സംസാരിക്കാന് അനുവദിച്ചില്ലെന്ന് ആരോപിച്ച് ഒരുസംഘം കാരാട്ട് റസാഖ് എംഎല്എയെ തടഞ്ഞു . അതേസമയം , ഉരുള്പൊട്ടലുണ്ടായ കരിഞ്ചോലമലയിലെ തടയണ xxunk xxunk അന്വേഷിക്കുമെന്ന് മുഖ്യമന്ത്രി പിണറായി വിജയന് നിയമസഭയില് പറഞ്ഞു . എന്നാല് പി.വി.അന്വര് എം.എല്.എയുടെ വാട്ടര് xxunk xxunk മുഖ്യമന്ത്രി മിണ്ടിയില്ല . xxunk കൂടുതല് നഷ്ടപരിഹാരം നല്കുന്നതിനെക്കുറിച്ച് വൈകിട്ടത്തെ പ്രത്യേക മന്ത്രിസഭ യോഗം തീരുമാനിക്കുമെന്ന് പ്രതിപക്ഷത്തിന്റ അടിയന്തരപ്രമേയ നോട്ടീസിന് മറുപടിയായി റവന്യുമന്ത്രി പറഞ്ഞു .,xxup eng പ്രണബ് മുഖർജി ആർഎസ്എസ് വേദിയിൽ xxunk പിന്നാലെ ജവഹര്ലാല് നെഹ്റു ആര്എസ്എസ് ശാഖയിൽ xxunk നവമാധ്യമങ്ങളിൽ വ്യാപക പ്രചരണം . xxunk വ്യാജപ്രചരണം നടക്കുന്നത് . xxunk സമാനമായ യൂണിഫോം xxunk xxunk ചിത്രമാണ് ഇതിനായി ഉപയോഗിച്ചിരിക്കുന്നത് . xxunk നെഹ്റു മറ്റു xxunk ഉത്തര്പ്രദേശിലെ xxunk xxup num ൽ '' എന്ന് ഒരു പോസ്റ്റിനു താഴെ പറയുന്നു . എന്നാൽ ചരിത്രവും xxunk ഇങ്ങനെ : കോൺഗ്രസിൻറെ പോഷക സംഘടനയായ xxunk പരിപാടിയില് നെഹ്റു xxunk ചിത്രമാണിത് . സംഘടനയുടെ ആദ്യ xxunk നെഹ്റു . ബ്രിട്ടീഷ് xxunk പോരാടാൻ രൂപീകരിച്ച xxunk . xxunk ആദ്യ പ്രസിഡൻറ് . ചിത്രത്തിൽ നെഹ്റു ധരിച്ചിരിക്കുന്നത് xxunk , എന്നാൽ xxunk xxunk നിറം xxunk . xxunk നാസി xxunk നെഹ്റു ആർഎസ്എസിനെ xxunk എന്നതും ചരിത്രം . xxunk പരിപാടിയെ xxunk ബന്ധപ്പെടുത്തി ഇപ്പോൾ xxunk ഈ പ്രചരണങ്ങൾ വ്യാജമാണെന്ന് കോൺഗ്രസ് നേതാവ് മോഹൻ പ്രകാശ് പറഞ്ഞു .,xxup eng xxunk xxunk പണം xxunk വലയുകയാണ് xxunk കാൻസർ ബാധിച്ച നിർധന യുവാവ് . കാക്കനാട് xxunk xxunk നഗറിൽ ലെനിൻ xxunk xxunk xxunk മരണത്തോട് xxunk . xxunk കാൻസർ ബാധിച്ച് ഒരു വർഷത്തിലേറെയായി ചികിത്സയിലാണ് ലെനിൻ . xxunk xxunk മാറ്റി വച്ചാൽ മാത്രമേ ജീവൻ രക്ഷിക്കാൻ xxunk എന്നാണ് ഡോക്ടർമാരുടെ വിലയിരുത്തൽ . xxunk ദാനം ചെയ്യാൻ ലെനിന്റെ സഹോദരിയുടെ മകൻ തയാറാണ് . എന്നാൽ xxunk തുടർ xxunk xxup num ലക്ഷത്തോളം രൂപ ചെലവു വരും . വൃദ്ധയായ മാതാവിനെ കൂലിപ്പണിക്കാരനായ xxunk കഴിയുന്ന xxunk ഇത്രയും വലിയ തുക കണ്ടെത്തുക പ്രയാസം . തൃക്കാക്കര നഗരസഭ കൗൺസിലർമാരായ xxunk ഷീല xxunk നേതൃത്വത്തിൽ കമ്മറ്റി രൂപീകരിച്ചു ഫണ്ട് കണ്ടെത്താനുള്ള ശ്രമത്തിലാണ് നാട്ടുകാർ . യൂണിയൻ ബാങ്കിന്റെ കാക്കനാട് ശാഖയിൽ ലെനിൻ ജോർജ് ചികിത്സ സഹായ നിധി എന്നപേരിൽ അക്കൗണ്ട് തുടങ്ങിയിട്ടുണ്ട് . xxunk ജീവിതത്തിലേക്ക് തിരികെ കൊണ്ടുവരാൻ ആരെങ്കിലും xxunk പ്രതീക്ഷയിലാണ് ഈ കുടുംബം ലെനിൻ ജോർജ് ചികിൽസാ സഹായ നിധി അക്കൗണ്ട് നമ്പർ : xxup num xxup eng കോഡ് : xxup eng xxup num യൂണിയൻ ബാങ്ക് കാക്കനാട് ശാഖ\n",
       "y: CategoryList\n",
       "Sports,Entertainment,Kerala,India,Kerala\n",
       "Path: wiki/ml;\n",
       "\n",
       "Test: LabelList (937 items)\n",
       "x: TextList\n",
       "xxup eng ആറാം കിരീടം xxunk ബ്രസീലാണ് ഗ്രൂപ്പ് ഇയിലെ xxunk . xxunk xxunk xxunk xxunk ബ്രസീലിന് മുന്നേറാന് . xxunk തോല്വിക്ക് കിരീടത്തില് xxunk xxunk പ്രതീക്ഷിക്കുന്നില്ല കാനറികള് . നെയ്മറും xxunk xxunk xxunk ആരാധകര് പ്രതീക്ഷിക്കുന്നു . കഴിഞ്ഞ ലോകകപ്പില് xxunk xxunk xxunk xxunk കോസ്റ്ററിക്ക റഷ്യയില് xxunk ലോകം ഉറ്റുനോക്കുന്നത് . റയല് മഡ്രിഡിന്റെ വിശ്വസ്ത xxunk കെയ്ലര് xxunk സ്ട്രൈക്കര് മാര്ക്കോ xxunk കോസ്റ്ററിക്കയുടെ സ്വപ്നങ്ങള് . ശക്തമായ പ്രതിരോധമാണ് xxunk ശക്തി . സ്വിസ് xxunk xxunk xxunk xxunk ചേരുന്നതോടെ ടീമിന്റെ xxunk . xxunk ഫുട്ബോള് xxunk നിന്നാണ് xxunk വരവ് . xxunk അലക്സാണ്ടര് xxunk xxunk അലക്സാണ്ടര് xxunk ടീമിന്റെ വിശ്വാസം .,xxup eng പ്രളയത്തിൽ ഒറ്റപ്പെട്ട കൊടുങ്ങല്ലൂരിൽ മാധ്യമ xxunk xxunk പ്രതിഷേധം . കോട്ടപ്പുറം കത്തീഡ്രൽ xxunk xxunk ന്യൂസ് സംഘത്തോട് നാട്ടുകാര് പ്രതിഷേധം അറിയിച്ചു . വെള്ളപ്പൊക്കത്തിൽ കൊടുങ്ങല്ലൂർ നഗരസഭയിലെ പകുതിയിലധികം പ്രദേശങ്ങളും വെള്ളത്തിന് xxunk പുറംലോകം ഇവരുടെ ദുരിതം അറിയാന് വൈകി . ദേശീയ പാതയിൽ വെള്ളം xxunk തൃശൂരിൽ നിന്നും എറണാകുളത്തു നിന്നും കൊടുങ്ങല്ലൂരിൽ എത്താൻ സാധിച്ചില്ല . ചാലക്കുടിയും xxunk വെള്ളത്തിൽ xxunk ആ വഴിയും അടഞ്ഞു . തീർത്തും ഒറ്റപ്പെട്ട xxunk xxunk പോലും ആദ്യം സാധിച്ചിരുന്നില്ല എന്നതാണ് വാസ്തവം . വെള്ളക്കെട്ട് xxunk ഞങ്ങൾ കേരളത്തിലെ തന്നെ ഏറ്റവും വലിയ ദുരിതാശ്വാസ xxunk കോട്ടപ്പുറം കത്തീഡ്രൽ ക്യാംപസിൽ എത്തിയത് . പതിനാറായിരം പേരാണ് ഇവിടെയുള്ളത് . ഏറെപ്പേരും xxunk xxunk . xxunk തുടക്ക സമയത്ത് അനുഭവിച്ച ദുരിതങ്ങൾ ചിത്രീകരിച്ച് xxunk ഇനി മാധ്യമങ്ങൾ ഇങ്ങോട്ട് xxunk ഒരു വിഭാഗം പറയുന്നത് . എന്നാൽ xxunk അവരുടെ വിഷമങ്ങൾ ഞങ്ങളോട് പങ്കുവച്ചു . ഇന്നസെന്റ് എം.പി ഇന്നാണ് xxunk സന്ദർശിച്ചത് . വാർഡ് xxunk വില്ലേജ് xxunk കോട്ടപ്പുറം രൂപതയിലെ xxunk xxunk നേതൃത്വം നൽകുന്നത് .,xxup eng നരേന്ദ്രമോദി സര്ക്കാരിനെതിരായ ആദ്യത്തെ അവിശ്വാസപ്രമേയം . xxunk പ്രത്യേക പാക്കേജ് xxunk അവിശ്വാസപ്രമേയം xxunk ടിഡിപി ഉന്നയിച്ച കാരണം . ഗോരക്ഷയുടെ പേരിലുള്ള അതിക്രമങ്ങള് , xxunk , സ്ത്രീകള്ക്കെതിരായ അതിക്രമങ്ങള് , ദലിത് xxunk ആക്രമണങ്ങള് , പട്ടികജാതി xxunk xxunk എന്നീ വിഷയങ്ങള് കോണ്ഗ്രസ് ഉള്പ്പെടെയുള്ള കക്ഷികളും ആയുധമാക്കി . സര്ക്കാരിന് പ്രത്യക്ഷത്തില് xxunk xxunk ഐക്യം xxunk എന്ന xxunk xxunk . ലോക്സഭാതിരഞ്ഞെടുപ്പിന് പത്തുമാസം മാത്രം xxunk സര്ക്കാരിനെതിരെ ഏറ്റവും ശക്തമായ ആക്രമണത്തിന് വേദി ലഭിക്കും എന്നതാണ് നേട്ടം . ബിജെപിയെ സംബന്ധിച്ചിടത്തോളം xxunk xxunk പിന്തുണ xxunk xxunk xxunk . നോട്ടിസ് xxunk ? xxunk എംപി xxunk ശ്രീനിവാസ് നല്കിയ xxunk സ്പീക്കര് അനുവദിച്ചത് . കോണ്ഗ്രസിലെ xxunk xxunk ഉള്പ്പെടെ പ്രതിപക്ഷത്തെ പല നേതാക്കളും xxunk നല്കിയിരുന്നെങ്കിലും ആദ്യം ലഭിച്ചത് xxunk നോട്ടിസ് ആയതുകൊണ്ട് അത് അനുവദിക്കുകയായിരുന്നു . കഴിഞ്ഞ സമ്മേളനത്തില് നോട്ടിസ് നല്കിയെങ്കിലും സഭയിലെ ബഹളം കാരണം പിന്തുണയ്ക്കുന്നവരുടെ xxunk കഴിഞ്ഞില്ലെന്ന് ചൂണ്ടിക്കാട്ടി സ്പീക്കര് നോട്ടിസ് അനുവദിച്ചില്ല . കണക്കുകള് ആര്ക്കൊപ്പം ? xxunk ആകെ അംഗസംഖ്യ xxup num ഇപ്പോഴത്തെ അംഗബലം xxup num xxunk xxup num ബിജെപി xxup num എന്ഡിഎ xxup num അസാധാരണ xxunk സര്ക്കാര് സുരക്ഷിതം എന്താണ് അവിശ്വാസപ്രമേയം ? സര്ക്കാരിന് എല്ലായ്പ്പോഴും ലോക്സഭയില് xxunk ഉണ്ടായിരിക്കണം . അത് ഇല്ല എന്ന് തെളിയിക്കാന് സര്ക്കാരിനെ xxunk xxunk അവിശ്വാസപ്രമേയം . സര്ക്കാരിനെ സംബന്ധിച്ചിടത്തോളം ഭൂരിപക്ഷം തെളിയിക്കാനുള്ള അവസരവും . സര്ക്കാരിന് ഭൂരിപക്ഷം xxunk xxunk സാധാരണഗതിയില് അവിശ്വാസപ്രമേയം അവതരിപ്പിക്കുക . പ്രമേയം xxunk മന്ത്രിസഭ xxunk . xxunk അംഗങ്ങളില് പകുതിയിലധികംപേര് xxunk പ്രമേയം xxunk . അവിശ്വാസപ്രമേയം ലോക്സഭ xxunk സര്ക്കാരിന് തുടരാം . ഇതുപോലെ വിശ്വാസപ്രമേയം അവതരിപ്പിച്ച് ഭൂരിപക്ഷം തെളിയിക്കാന് സര്ക്കാരിനും അവസരമുണ്ട് . എന്താണ് നടപടിക്രമം ? xxunk അവിശ്വാസപ്രമേയം xxunk . സ്വാഭാവികമായും സര്ക്കാരിനെ xxunk അവിശ്വാസപ്രമേയം അവതരിപ്പിക്കുക . xxunk xxup num അനുസരിച്ച് സഭ ചേരുന്ന ദിവസം രാവിലെ xxup num xxunk ലോക്സഭാ സെക്രട്ടറി ജനറലിന് രേഖാമൂലം നോട്ടിസ് നല്കണം . xxup num xxunk ലഭിക്കുന്ന നോട്ടിസുകള് പിറ്റേദിവസം ലഭിച്ചതായി കണക്കാക്കും . അവിശ്വാസപ്രമേയം xxunk കാരണം xxunk . പ്രമേയം xxunk ? പ്രമേയം xxunk xxunk ബോധ്യപ്പെട്ടാല് സ്പീക്കര് അത് സഭയില് വായിക്കും . xxup num xxunk പിന്തുണ ഉണ്ടെങ്കില് മാത്രമേ നോട്ടിസ് പരിഗണിക്കൂ . xxunk xxunk xxunk സ്പീക്കര് നിര്ദേശിക്കും . xxunk പിന്തുണ xxunk പ്രമേയം അനുവദിക്കാനാവില്ലെന്ന് സ്പീക്കര് അംഗത്തെ അറിയിക്കും . പിന്തുണ ഉറപ്പുണ്ടെങ്കില് പ്രമേയം xxunk തീയതി xxunk . നോട്ടിസ് അംഗീകരിച്ച് xxup num ദിവസത്തിനകം പ്രമേയം xxunk . xxunk xxunk ഓരോ അംഗത്തിനും xxunk അനുവദിക്കണമെന്നും സ്പീക്കര് തീരുമാനിക്കും , വോട്ടെടുപ്പ് ഉണ്ടാകുമോ ? ചര്ച്ച പൂര്ത്തിയാകുന്ന xxunk സ്പീക്കര് നിശ്ചയിക്കുന്ന മറ്റേതെങ്കിലും xxunk xxunk xxunk . xxunk , xxunk , ബാലറ്റ് ഉപയോഗിച്ചുള്ള ഡിവിഷന് അങ്ങനെ സ്പീക്കര്ക്ക് xxunk മാര്ഗങ്ങള് ചട്ടപ്രകാരം ഉപയോഗിക്കാം . പ്രമേയത്തെ xxunk ഭൂരിപക്ഷം xxunk സര്ക്കാര് പുറത്താകും . ഭൂരിപക്ഷം എതിര്ത്താല് പ്രമേയം തള്ളും . xxunk xxunk ? xxunk ഇതുവരെ സര്ക്കാരുകള് xxunk . എന്നാല് വിശ്വാസപ്രമേയം പാസാക്കാന് കഴിയാതെ xxunk xxunk . വിശ്വാസപ്രമേയം xxunk xxunk രാജിവച്ച ചരിത്രവുമുണ്ട് . കഴിഞ്ഞ xxunk എല്ലാം . ചരിത്രം ഇവിടെ ഈ xxunk അറിയാം . xxunk xxup num ഡിസംബര് xxup num വിശ്വാസപ്രമേയം ശബ്ദവോട്ടില് പാസായി xxunk xxup num നവംബര് xxup num വിശ്വാസപ്രമേയം xxup num – xxup num ന് പരാജയപ്പെട്ടു സര്ക്കാര് രാജിവച്ചു ചന്ദ്രശേഖര് xxup num നവംബര് xxup num വിശ്വാസപ്രമേയം xxup num – xxup num ന് പാസായി xxunk xxup num ജൂലൈ xxup num വിശ്വാസപ്രമേയം xxup num അംഗങ്ങള് വിട്ടുനിന്നു xxup num – xxup num ന് പാസായി എ.ബി.വാജ്പേയ് xxup num മേയ് xxup num വിശ്വാസപ്രമേയം xxunk രാജിവച്ചു xxunk xxup num ജൂലൈ xxup num വിശ്വാസപ്രമേയം ശബ്ദവോട്ടില് പാസായി xxunk xxup num ഏപ്രില് xxup num വിശ്വാസപ്രമേയം xxup num – xxup num ന് പരാജയപ്പെട്ടു സര്ക്കാര് രാജിവച്ചു xxunk xxup num ഏപ്രില് xxup num വിശ്വാസപ്രമേയം ശബ്ദവോട്ടില് പാസായി എ.ബി.വാജ്പേയ് xxup num ഏപ്രില് xxup num വിശ്വാസപ്രമേയം xxup num – xxup num ന് പാസായി എ.ബി.വാജ്പേയ് xxup num ഏപ്രില് xxup num വിശ്വാസപ്രമേയം xxup num – xxup num ന് പരാജയപ്പെട്ടു സര്ക്കാര് രാജിവച്ചു,xxup eng xxunk ക്യാപിറ്റല് ഗുഡ്സ് xxunk സര്വകാല xxunk xxup num ല് എത്തിയിരിക്കുന്നു . കഴിഞ്ഞ സാമ്പത്തികവര്ഷം ഓഹരിവിപണിയില് ഏറ്റവും മികച്ച പ്രകടനം xxunk ക്യാപിറ്റല് ഗുഡ്സ് വ്യവസായ മേഖലയാണ് . ഈ മേഖലയുടെ മൊത്തം വരുമാനം xxup num ശതമാനം വര്ധിച്ചു . ലാഭം xxup num ശതമാനമായി . xxunk മുന്പ് നരേന്ദ്രമോദി സര്ക്കാര് പ്രഖ്യാപിച്ച മെയ്ക് ഇന് ഇന്ത്യ പദ്ധതിയുടെ xxunk ക്യാപിറ്റല് ഗുഡ്സ് വ്യവസായ മേഖലയ്ക്ക് ലഭിച്ചത് . സ്റ്റോക് മാര്ക്കറ്റ് xxunk വിലയിരുത്തുന്നത് കോര്പറേറ്റ് xxunk എഡിറ്റര് ശ്രീകുമാര് രാഘവന് .,xxup eng തിരുവനന്തപുരം നെയ്യാറ്റിന്കര നഗരസഭയില് ബജറ്റ് ചര്ച്ചയ്ക്കിടെ ഭരണപ്രതിപക്ഷ അംഗങ്ങള് xxunk . ബജറ്റില് xxunk ബന്ധപ്പെട്ട് അവതരിപ്പിച്ച നിര്ദേശങ്ങളില് xxunk യു.ഡി.എഫ് ബഹളം . സംഘര്ഷം xxunk ബജറ്റ് ചര്ച്ച താല്ക്കാലികമായി നിര്ത്തിവച്ചു . xxunk ടൂറിസം പദ്ധതി കഴിഞ്ഞ ബജറ്റില് xxunk ആരോപിച്ചായിരുന്നു പ്രതിപക്ഷ അംഗങ്ങള് ബഹളം തുടങ്ങിയത് . ഇതിന് സ്ഥലം xxunk അഴിമതിയുണ്ടെന്ന് ആരോപിച്ച് യു.ഡി.എഫ് അംഗം പ്രവീണ് xxunk xxunk പേപ്പറുകള് xxunk . ഭരണപക്ഷ അംഗങ്ങള് xxunk xxunk . ഇതുകണ്ട യു.ഡി.എഫ് അംഗം ലളിത ഭരണപക്ഷ അംഗങ്ങളെ കയ്യേറ്റം ചെയ്തതോടെ സ്ഥിതി കൂടുതല് വഷളായി . എല്.ഡി.എഫ് അംഗങ്ങള് xxunk യു.ഡി.എഫ് അംഗങ്ങള് പിന്മാറി . ഇതിനിടെ ബി.ജെ.പി അംഗങ്ങള് xxunk പകര്പ്പ് കത്തിച്ചു . ബഹളം xxunk ചര്ച്ച താല്ക്കാലികമായി xxunk .\n",
       "y: EmptyLabelList\n",
       ",,,,\n",
       "Path: wiki/ml, model=SequentialRNN(\n",
       "  (0): MultiBatchEncoder(\n",
       "    (module): AWD_LSTM(\n",
       "      (encoder): Embedding(60007, 400, padding_idx=1)\n",
       "      (encoder_dp): EmbeddingDropout(\n",
       "        (emb): Embedding(60007, 400, padding_idx=1)\n",
       "      )\n",
       "      (rnns): ModuleList(\n",
       "        (0): WeightDropout(\n",
       "          (module): LSTM(400, 1150, batch_first=True)\n",
       "        )\n",
       "        (1): WeightDropout(\n",
       "          (module): LSTM(1150, 1150, batch_first=True)\n",
       "        )\n",
       "        (2): WeightDropout(\n",
       "          (module): LSTM(1150, 400, batch_first=True)\n",
       "        )\n",
       "      )\n",
       "      (input_dp): RNNDropout()\n",
       "      (hidden_dps): ModuleList(\n",
       "        (0): RNNDropout()\n",
       "        (1): RNNDropout()\n",
       "        (2): RNNDropout()\n",
       "      )\n",
       "    )\n",
       "  )\n",
       "  (1): PoolingLinearClassifier(\n",
       "    (layers): Sequential(\n",
       "      (0): BatchNorm1d(1200, eps=1e-05, momentum=0.1, affine=True, track_running_stats=True)\n",
       "      (1): Dropout(p=0.2)\n",
       "      (2): Linear(in_features=1200, out_features=50, bias=True)\n",
       "      (3): ReLU(inplace)\n",
       "      (4): BatchNorm1d(50, eps=1e-05, momentum=0.1, affine=True, track_running_stats=True)\n",
       "      (5): Dropout(p=0.1)\n",
       "      (6): Linear(in_features=50, out_features=6, bias=True)\n",
       "    )\n",
       "  )\n",
       "), opt_func=functools.partial(<class 'torch.optim.adam.Adam'>, betas=(0.9, 0.99)), loss_func=FlattenedLoss of CrossEntropyLoss(), metrics=[<function accuracy at 0x7f7b43c4b6a8>], true_wd=True, bn_wd=True, wd=0.01, train_bn=True, path=PosixPath('wiki/ml'), model_dir='models', callback_fns=[functools.partial(<class 'fastai.basic_train.Recorder'>, add_time=True)], callbacks=[...], layer_groups=[Sequential(\n",
       "  (0): Embedding(60007, 400, padding_idx=1)\n",
       "  (1): EmbeddingDropout(\n",
       "    (emb): Embedding(60007, 400, padding_idx=1)\n",
       "  )\n",
       "), Sequential(\n",
       "  (0): WeightDropout(\n",
       "    (module): LSTM(400, 1150, batch_first=True)\n",
       "  )\n",
       "  (1): RNNDropout()\n",
       "), Sequential(\n",
       "  (0): WeightDropout(\n",
       "    (module): LSTM(1150, 1150, batch_first=True)\n",
       "  )\n",
       "  (1): RNNDropout()\n",
       "), Sequential(\n",
       "  (0): WeightDropout(\n",
       "    (module): LSTM(1150, 400, batch_first=True)\n",
       "  )\n",
       "  (1): RNNDropout()\n",
       "), Sequential(\n",
       "  (0): PoolingLinearClassifier(\n",
       "    (layers): Sequential(\n",
       "      (0): BatchNorm1d(1200, eps=1e-05, momentum=0.1, affine=True, track_running_stats=True)\n",
       "      (1): Dropout(p=0.2)\n",
       "      (2): Linear(in_features=1200, out_features=50, bias=True)\n",
       "      (3): ReLU(inplace)\n",
       "      (4): BatchNorm1d(50, eps=1e-05, momentum=0.1, affine=True, track_running_stats=True)\n",
       "      (5): Dropout(p=0.1)\n",
       "      (6): Linear(in_features=50, out_features=6, bias=True)\n",
       "    )\n",
       "  )\n",
       ")], add_time=True)\n",
       "alpha: 2.0\n",
       "beta: 1.0], layer_groups=[Sequential(\n",
       "  (0): Embedding(60007, 400, padding_idx=1)\n",
       "  (1): EmbeddingDropout(\n",
       "    (emb): Embedding(60007, 400, padding_idx=1)\n",
       "  )\n",
       "), Sequential(\n",
       "  (0): WeightDropout(\n",
       "    (module): LSTM(400, 1150, batch_first=True)\n",
       "  )\n",
       "  (1): RNNDropout()\n",
       "), Sequential(\n",
       "  (0): WeightDropout(\n",
       "    (module): LSTM(1150, 1150, batch_first=True)\n",
       "  )\n",
       "  (1): RNNDropout()\n",
       "), Sequential(\n",
       "  (0): WeightDropout(\n",
       "    (module): LSTM(1150, 400, batch_first=True)\n",
       "  )\n",
       "  (1): RNNDropout()\n",
       "), Sequential(\n",
       "  (0): PoolingLinearClassifier(\n",
       "    (layers): Sequential(\n",
       "      (0): BatchNorm1d(1200, eps=1e-05, momentum=0.1, affine=True, track_running_stats=True)\n",
       "      (1): Dropout(p=0.2)\n",
       "      (2): Linear(in_features=1200, out_features=50, bias=True)\n",
       "      (3): ReLU(inplace)\n",
       "      (4): BatchNorm1d(50, eps=1e-05, momentum=0.1, affine=True, track_running_stats=True)\n",
       "      (5): Dropout(p=0.1)\n",
       "      (6): Linear(in_features=50, out_features=6, bias=True)\n",
       "    )\n",
       "  )\n",
       ")], add_time=True)"
      ]
     },
     "execution_count": 38,
     "metadata": {},
     "output_type": "execute_result"
    }
   ],
   "source": [
    "learn.load('second')"
   ]
  },
  {
   "cell_type": "code",
   "execution_count": 39,
   "metadata": {},
   "outputs": [
    {
     "data": {
      "text/plain": [
       "(Category Entertainment,\n",
       " tensor(1),\n",
       " tensor([1.5609e-10, 1.0000e+00, 1.2379e-08, 1.5966e-12, 4.2246e-08, 5.4596e-07]))"
      ]
     },
     "execution_count": 39,
     "metadata": {},
     "output_type": "execute_result"
    }
   ],
   "source": [
    "learn.predict(\"ബിഗ് ബോസ് എന്ന റിയാലിറ്റി ഷോയിലൂടെ മലയാളികളുടെ പ്രിയങ്കരനായി മാറിയ ടെലിവിഷന്‍ താരമാണ് ഷിയാസ് \")"
   ]
  },
  {
   "cell_type": "code",
   "execution_count": 40,
   "metadata": {},
   "outputs": [
    {
     "data": {
      "text/plain": [
       "(Category Gulf,\n",
       " tensor(2),\n",
       " tensor([5.6457e-03, 6.3099e-05, 9.9352e-01, 2.8604e-04, 8.9906e-06, 4.7447e-04]))"
      ]
     },
     "execution_count": 40,
     "metadata": {},
     "output_type": "execute_result"
    }
   ],
   "source": [
    "learn.predict(\"ന്യൂഡല്‍ഹി: തിരഞ്ഞെടുപ്പിന് മാസങ്ങൾമാത്രം ശേഷിക്കെ മോദി സർക്കാരിന്റെ അഞ്ചുവർഷത്തെ നേട്ടങ്ങൾ\")"
   ]
  },
  {
   "cell_type": "code",
   "execution_count": 41,
   "metadata": {},
   "outputs": [
    {
     "data": {
      "text/plain": [
       "(Category Kerala,\n",
       " tensor(4),\n",
       " tensor([3.7398e-04, 1.0019e-03, 1.6606e-03, 4.2050e-06, 9.4429e-01, 5.2668e-02]))"
      ]
     },
     "execution_count": 41,
     "metadata": {},
     "output_type": "execute_result"
    }
   ],
   "source": [
    "learn.predict(\"കോഴിക്കോട്: ഏറെ പ്രതീക്ഷയോടെ ഐ ലീഗ് സീസണിന് ഇറങ്ങിയ ഗോകുലം കേരള എഫ്.സിക്ക് ഒടുവില്‍ നിരാശയായിരുന്നു\")"
   ]
  }
 ],
 "metadata": {
  "kernelspec": {
   "display_name": "Python 3",
   "language": "python",
   "name": "python3"
  },
  "language_info": {
   "codemirror_mode": {
    "name": "ipython",
    "version": 3
   },
   "file_extension": ".py",
   "mimetype": "text/x-python",
   "name": "python",
   "nbconvert_exporter": "python",
   "pygments_lexer": "ipython3",
   "version": "3.6.3"
  }
 },
 "nbformat": 4,
 "nbformat_minor": 2
}
