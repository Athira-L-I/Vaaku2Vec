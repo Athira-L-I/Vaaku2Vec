{
 "cells": [
  {
   "cell_type": "code",
   "execution_count": 1,
   "metadata": {},
   "outputs": [],
   "source": [
    "from fastai.text import *\n",
    "import numpy as np\n",
    "from nltk import word_tokenize"
   ]
  },
  {
   "cell_type": "code",
   "execution_count": 2,
   "metadata": {},
   "outputs": [],
   "source": [
    "class MalyalamTokenizer(BaseTokenizer):\n",
    "    def __init__(self, lang:str):\n",
    "        self.lang = lang\n",
    "        self.re1 = re.compile(r'  +')\n",
    "    \n",
    "    def fixup(self, x):\n",
    "        x = x.replace('#39;', \"'\").replace('amp;', '&').replace('#146;', \"'\").replace(\n",
    "            'nbsp;', ' ').replace('#36;', '$').replace('\\\\n', \"\\n\").replace('quot;', \"'\").replace(\n",
    "            '<br />', \"\\n\").replace('\\\\\"', '\"').replace('<unk>','u_n').replace(' @.@ ','.').replace(\n",
    "            ' @-@ ','-').replace('\\\\', ' \\\\ ').replace('\\u200d','').replace('\\xa0',' ').replace(\n",
    "            '\\u200c','').replace('“',' ').replace('”',' ').replace('\"',' ').replace('\\u200b','')\n",
    "        x = re.sub('[\\(\\[].*?[\\)\\]]', '', x)\n",
    "        x = re.sub('<[^<]+?>', '', x)\n",
    "        x = re.sub('[A-Za-z]+','ENG ', x)\n",
    "        x = re.sub(r'\\d+.?(\\d+)?','NUM ',x).replace(\"(\",\"\").replace(\")\",\"\")\n",
    "        return self.re1.sub(' ', html.unescape(x))\n",
    "\n",
    "        \n",
    "    def tokenizer(self, t:str) -> List[str]:\n",
    "        t = self.fixup(t)\n",
    "        return word_tokenize(t)"
   ]
  },
  {
   "cell_type": "code",
   "execution_count": 3,
   "metadata": {},
   "outputs": [],
   "source": [
    "tokenizer = Tokenizer(tok_func=MalyalamTokenizer, lang='ml')"
   ]
  },
  {
   "cell_type": "code",
   "execution_count": 4,
   "metadata": {},
   "outputs": [],
   "source": [
    "data_lm = TextLMDataBunch.from_csv(path='wiki/ml/',csv_name=\"train.csv\",test=\"val.csv\",header=None,\n",
    "                                   tokenizer=tokenizer,text_cols=0)"
   ]
  },
  {
   "cell_type": "code",
   "execution_count": 5,
   "metadata": {},
   "outputs": [
    {
     "data": {
      "text/html": [
       "<table border=\"1\" class=\"dataframe\">\n",
       "  <thead>\n",
       "    <tr style=\"text-align: right;\">\n",
       "      <th>idx</th>\n",
       "      <th>text</th>\n",
       "    </tr>\n",
       "  </thead>\n",
       "  <tbody>\n",
       "    <tr>\n",
       "      <td>0</td>\n",
       "      <td>നേരെ xxunk അതിനു പുറമേ xxunk ചെയ്യുന്നത് . xxup eng xxunk ഇന്ത്യൻ ജനത xxunk വടക്കേ അമേരിക്കയിൽ xxunk xxunk ഭാഷ xxunk തദ്ദേശീയ അമേരിക്കൻ ഇന്ത്യൻ വംശക്കാരുടെ ഒരു കൂട്ടമാണ് . ചരിത്രപരമായി ഇവർ ജീവിച്ചിരുന്ന മേഖല , xxunk തടാകത്തിന് xxunk . ഈ ജനത , xxup num നും xxup num ും ഇടയ്ക്കു നടന്ന അമേരിക്കൻ xxunk മുമ്പ് xxunk ഏറ്റവും പടിഞ്ഞാറേ അറ്റത്ത് ന്യൂയോർക്ക് പ്രദേശത്ത് നിലവിലിരുന്ന സിക്സ് നേഷൻസ് അഥവാ xxunk ലീഗ് എന്നറിയപ്പെട്ടിരുന്ന ദീർഘകാല xxunk . xxunk ലീഗിലെ മറ്റ് അംഗരാഷ്ട്രങ്ങൾ xxunk</td>\n",
       "    </tr>\n",
       "    <tr>\n",
       "      <td>1</td>\n",
       "      <td>. പവർ ആൻഡ് എനർജി ലിമിറ്റഡ് എന്ന മലേഷ്യൻ കമ്പനിയിൽ നിന്ന് ഒരു സിംഗപ്പൂർ കമ്പനിയെ xxunk പാമോയിൽ ഇറക്കുമതി ചെയ്തതിൽ xxunk ഉണ്ടെന്ന് xxunk ഈ കേസ് . മുൻ ചീഫ് വിജിലൻസ് xxunk പി ജെ തോമസ് ആയിരുന്നു അക്കാലത്ത് കേരളത്തിലെ സിവിൽ xxunk സെക്രട്ടറി . പ്രസ്തുത കേസിൽ എട്ടാം പ്രതിയായിരുന്ന അദ്ദേഹം ചീഫ് വിജിലൻസ് xxunk തുടരുന്നത് xxunk സുപ്രീം കോടതി xxunk അദ്ദേഹം xxup num മാർച്ചിൽ xxunk രാജി xxunk . കേസ് . അന്താരാഷ്ട്ര മാർക്കറ്റിൽ xxunk വില xxunk xxup num xxunk അക്കാലത്ത് xxunk xxup</td>\n",
       "    </tr>\n",
       "    <tr>\n",
       "      <td>2</td>\n",
       "      <td>ആൽബം ഇന്ത്യയിലെ ഏറ്റവും വലിയ xxunk . ആദ്യ ആൽബത്തിന്റെ xxup num ലക്ഷം കോപ്പികളാണ് ലോകത്താകമാനം xxunk . xxunk xxunk സിനിമാ ലോകത്തിനും നിരവധി ഹിറ്റ് ഗാനങ്ങൾ xxunk xxunk . xxunk സംഗീതം നിലനിൽക്കുന്ന ഒരു കുടുംബത്തിലാണ് xxunk xxunk ജനിച്ചത് . xxup num xxunk xxup num ന് ബീഹാറിലെ xxunk ജനനം . ആദ്യകാലങ്ങളിൽ സ്വാധീനിച്ചത് രക്ഷിതാക്കൾ തന്നെയായിരുന്നു . അവർ അദ്ദേഹത്തെ ഗുരു ഗ്രന്ഥ് xxunk രാഗങ്ങളും ശബ്ദങ്ങളും പഠിപ്പിച്ചു . ഇന്ത്യൻ xxunk പട്യാല xxunk രീതിയിൽ xxunk അദ്ദേഹം പതിനൊന്നാം വയസ്സിൽ xxunk . xxunk</td>\n",
       "    </tr>\n",
       "    <tr>\n",
       "      <td>3</td>\n",
       "      <td>വിഭാഗത്തിന്റെ xxunk അമേരിക്കൻ xxunk പുസ്തക മേഖലയിൽ അത് ആധിപത്യം സ്ഥാപിക്കുന്നതിനും കാരണമായി . xxup eng ട്രൈ xxunk തൈറോയ്ഡ് xxunk സ്രവിക്കുന്ന മൂന്ന് xxunk ഒന്നാണ് ട്രൈ xxunk . xxup eng ഖലീഫ ബിൻ സായിദ് അൽ xxunk യാൻ xxup eng മംഗളം ദിനപ്പത്രം എം.സി . വർഗ്ഗീസ് സ്ഥാപിച്ച മംഗളം ഗ്രൂപ്പിന്റെ ഉടമസ്ഥതയിലുള്ള ദിനപ്പത്രമാണ് മംഗളം ദിനപ്പത്രം . കോട്ടയം ആസ്ഥാനം ആക്കി ആണ് പത്രം പ്രവർത്തിക്കുന്നത് . മംഗളം വാരിക , ബാലമംഗളം , ബാലമംഗളം ചിത്രകഥ , കന്യക ദ്വൈവാരിക , xxunk , xxunk ദ്വൈവാരിക എന്നിവയും</td>\n",
       "    </tr>\n",
       "    <tr>\n",
       "      <td>4</td>\n",
       "      <td>xxunk xxunk പ്രമാണ xxunk വേദാന്ത xxunk , പ്രത്യേകിച്ചും , xxunk xxunk പരമ്പരാഗത ചിന്താ xxunk പ്രവേശനകവാടം തുറന്നുകൊടുത്തു . xxunk കീഴിൽ ഉപരിപഠനം . തിരുനെൽവേലി ജില്ലയിലെ xxunk xxunk xxunk എന്ന xxunk xxunk xxunk xxunk xxunk , xxunk xxunk xxunk . xxunk xxunk മുഴുവൻ അറിയപ്പെടുന്ന ആചാര്യനായിരുന്നു . തർക്കശാസ്ത്രം , വ്യാകരണം , മീമാംസ , ഭാരതീയ xxunk xxunk , വേദങ്ങൾ , വേദാന്തം ഇവയിൽ അദ്ദേഹത്തിനു xxunk xxunk . അദ്ദേഹത്തിന്റെ കുടുംബം വേണാട്ടു രാജാക്കന്മാരുമായി xxunk പുലർത്തിയിരുന്നു . അദ്ദേഹത്തിന്റ ഭവനത്തിൽ</td>\n",
       "    </tr>\n",
       "  </tbody>\n",
       "</table>"
      ],
      "text/plain": [
       "<IPython.core.display.HTML object>"
      ]
     },
     "metadata": {},
     "output_type": "display_data"
    }
   ],
   "source": [
    "data_lm.show_batch()"
   ]
  },
  {
   "cell_type": "code",
   "execution_count": 6,
   "metadata": {},
   "outputs": [],
   "source": [
    "data_lm.save(\"data_lm.pkl\")"
   ]
  },
  {
   "cell_type": "code",
   "execution_count": 7,
   "metadata": {},
   "outputs": [
    {
     "data": {
      "text/plain": [
       "60007"
      ]
     },
     "execution_count": 7,
     "metadata": {},
     "output_type": "execute_result"
    }
   ],
   "source": [
    "len(data_lm.vocab.itos)"
   ]
  },
  {
   "cell_type": "code",
   "execution_count": 8,
   "metadata": {},
   "outputs": [],
   "source": [
    "learn = language_model_learner(data_lm,AWD_LSTM,drop_mult=0.3,pretrained=False)"
   ]
  },
  {
   "cell_type": "code",
   "execution_count": 9,
   "metadata": {},
   "outputs": [
    {
     "data": {
      "text/plain": [
       "0"
      ]
     },
     "execution_count": 9,
     "metadata": {},
     "output_type": "execute_result"
    }
   ],
   "source": [
    "gc.collect()"
   ]
  },
  {
   "cell_type": "code",
   "execution_count": 10,
   "metadata": {},
   "outputs": [
    {
     "data": {
      "text/html": [],
      "text/plain": [
       "<IPython.core.display.HTML object>"
      ]
     },
     "metadata": {},
     "output_type": "display_data"
    },
    {
     "name": "stdout",
     "output_type": "stream",
     "text": [
      "LR Finder is complete, type {learner_name}.recorder.plot() to see the graph.\n"
     ]
    }
   ],
   "source": [
    "learn.lr_find()"
   ]
  },
  {
   "cell_type": "code",
   "execution_count": 11,
   "metadata": {},
   "outputs": [
    {
     "data": {
      "image/png": "[encoded data removed]",
      "text/plain": [
       "<Figure size 432x288 with 1 Axes>"
      ]
     },
     "metadata": {
      "needs_background": "light"
     },
     "output_type": "display_data"
    }
   ],
   "source": [
    "learn.recorder.plot()"
   ]
  },
  {
   "cell_type": "code",
   "execution_count": 12,
   "metadata": {},
   "outputs": [
    {
     "data": {
      "text/html": [
       "<table border=\"1\" class=\"dataframe\">\n",
       "  <thead>\n",
       "    <tr style=\"text-align: left;\">\n",
       "      <th>epoch</th>\n",
       "      <th>train_loss</th>\n",
       "      <th>valid_loss</th>\n",
       "      <th>accuracy</th>\n",
       "      <th>time</th>\n",
       "    </tr>\n",
       "  </thead>\n",
       "  <tbody>\n",
       "    <tr>\n",
       "      <td>0</td>\n",
       "      <td>4.885980</td>\n",
       "      <td>4.726018</td>\n",
       "      <td>0.376665</td>\n",
       "      <td>07:17</td>\n",
       "    </tr>\n",
       "  </tbody>\n",
       "</table>"
      ],
      "text/plain": [
       "<IPython.core.display.HTML object>"
      ]
     },
     "metadata": {},
     "output_type": "display_data"
    }
   ],
   "source": [
    "learn.fit_one_cycle(1, 1e-2, moms=(0.8,0.7))"
   ]
  },
  {
   "cell_type": "code",
   "execution_count": 13,
   "metadata": {},
   "outputs": [],
   "source": [
    "learn.save('first', with_opt=True)"
   ]
  },
  {
   "cell_type": "code",
   "execution_count": 14,
   "metadata": {},
   "outputs": [],
   "source": [
    "learn.load('first', with_opt=True);"
   ]
  },
  {
   "cell_type": "code",
   "execution_count": 15,
   "metadata": {},
   "outputs": [],
   "source": [
    "learn.unfreeze()"
   ]
  },
  {
   "cell_type": "code",
   "execution_count": 16,
   "metadata": {},
   "outputs": [
    {
     "data": {
      "text/html": [
       "<table border=\"1\" class=\"dataframe\">\n",
       "  <thead>\n",
       "    <tr style=\"text-align: left;\">\n",
       "      <th>epoch</th>\n",
       "      <th>train_loss</th>\n",
       "      <th>valid_loss</th>\n",
       "      <th>accuracy</th>\n",
       "      <th>time</th>\n",
       "    </tr>\n",
       "  </thead>\n",
       "  <tbody>\n",
       "    <tr>\n",
       "      <td>0</td>\n",
       "      <td>4.775585</td>\n",
       "      <td>4.672848</td>\n",
       "      <td>0.374132</td>\n",
       "      <td>07:17</td>\n",
       "    </tr>\n",
       "    <tr>\n",
       "      <td>1</td>\n",
       "      <td>4.651245</td>\n",
       "      <td>4.545925</td>\n",
       "      <td>0.377620</td>\n",
       "      <td>07:17</td>\n",
       "    </tr>\n",
       "    <tr>\n",
       "      <td>2</td>\n",
       "      <td>4.510017</td>\n",
       "      <td>4.401812</td>\n",
       "      <td>0.384027</td>\n",
       "      <td>07:17</td>\n",
       "    </tr>\n",
       "    <tr>\n",
       "      <td>3</td>\n",
       "      <td>4.192162</td>\n",
       "      <td>4.284790</td>\n",
       "      <td>0.390445</td>\n",
       "      <td>07:18</td>\n",
       "    </tr>\n",
       "    <tr>\n",
       "      <td>4</td>\n",
       "      <td>4.051014</td>\n",
       "      <td>4.262812</td>\n",
       "      <td>0.391998</td>\n",
       "      <td>07:18</td>\n",
       "    </tr>\n",
       "  </tbody>\n",
       "</table>"
      ],
      "text/plain": [
       "<IPython.core.display.HTML object>"
      ]
     },
     "metadata": {},
     "output_type": "display_data"
    }
   ],
   "source": [
    "learn.fit_one_cycle(5, 1e-2, moms=(0.8,0.7))"
   ]
  },
  {
   "cell_type": "code",
   "execution_count": 17,
   "metadata": {},
   "outputs": [],
   "source": [
    "learn.save('second_ml_lm', with_opt=True)"
   ]
  },
  {
   "cell_type": "code",
   "execution_count": 18,
   "metadata": {},
   "outputs": [
    {
     "data": {
      "text/plain": [
       "LanguageLearner(data=TextLMDataBunch;\n",
       "\n",
       "Train: LabelList (45151 items)\n",
       "x: LMTextList\n",
       "xxup eng xxunk മുസ്ലീങ്ങളുടെ വിശുദ്ധ ഗ്രന്ഥമായ ഖുർആനിലെ xxunk അദ്ധ്യായമാണ് xxunk . അവതരണം : മദീനയിൽ സൂക്തങ്ങൾ : xxup num,xxup eng xxunk xxunk , xxunk , xxunk എന്നെല്ലാം അറിയപ്പെടുന്ന xxunk പശ്ചിമഘട്ടത്തിലെ ഒരു xxunk . . xxup num മീറ്റർ വരെ ഉയരം വയ്ക്കുന്ന വലിയ മരം . കേരളത്തിലെ കോട്ടൂർ റിസർവ് xxunk xxunk കാണി വർഗ്ഗക്കാരുടെ xxunk xxunk xxunk xxunk xxunk . എല്ല് xxunk xxunk തടിയുടെ പുറത്തുള്ള xxunk തൊലി നീക്കം ചെയ്തതിനുശേഷം തടി ചതച്ച് വെള്ളം xxunk എല്ല് നേരെ xxunk അതിനു പുറമേ xxunk ചെയ്യുന്നത് .,xxup eng xxunk ഇന്ത്യൻ ജനത xxunk വടക്കേ അമേരിക്കയിൽ xxunk xxunk ഭാഷ xxunk തദ്ദേശീയ അമേരിക്കൻ ഇന്ത്യൻ വംശക്കാരുടെ ഒരു കൂട്ടമാണ് . ചരിത്രപരമായി ഇവർ ജീവിച്ചിരുന്ന മേഖല , xxunk തടാകത്തിന് xxunk . ഈ ജനത , xxup num നും xxup num ും ഇടയ്ക്കു നടന്ന അമേരിക്കൻ xxunk മുമ്പ് xxunk ഏറ്റവും പടിഞ്ഞാറേ അറ്റത്ത് ന്യൂയോർക്ക് പ്രദേശത്ത് നിലവിലിരുന്ന സിക്സ് നേഷൻസ് അഥവാ xxunk ലീഗ് എന്നറിയപ്പെട്ടിരുന്ന ദീർഘകാല xxunk . xxunk ലീഗിലെ മറ്റ് അംഗരാഷ്ട്രങ്ങൾ xxunk , xxunk , xxunk , xxunk , xxunk എന്നിവയായിരുന്നു . ഇരുപത്തിയൊന്നാം നൂറ്റാണ്ടിൽ ഐക്യനാടുകളിൽ മാത്രം , ഫെഡറൽ അംഗീകാരം ലഭിച്ച മൂന്നു xxunk xxunk xxup num അംഗങ്ങളുണ്ട് . ഇവയിൽ രണ്ട് ഗോത്രങ്ങൾ ന്യൂയോർക്കിൽ xxunk സമീപം xxunk നേഷൻ ഓഫ് ന്യൂയോർക്കിലെ രണ്ടു xxunk xxunk xxunk ഓഫ് xxunk xxunk അമേരിക്കൻ xxunk ഒക്ലാഹോമയിലെ xxunk xxunk . . ഇന്ത്യൻ xxunk xxunk കാലത്ത് xxunk നിന്ന് xxunk xxunk xxunk പൂർവ്വികർ . അതുകൂടാതെ ഏകദേശം xxup num xxunk ഇന്ത്യക്കാർ കാനഡയിലെ xxunk സമീപം xxunk സിക്സ് നേഷൻസ് ഓഫ് ദ ഗ്രാൻഡ് റിവർ ഫസ്റ്റ് നേഷൻ xxunk വസിക്കുന്നു . ഇവർ യഥാർത്ഥത്തിൽ , അമേരിക്കൻ സ്വാതന്ത്ര്യസമരകാലത്ത് xxunk xxunk സഖ്യം ചെയ്യുകയും പിന്നീട് തങ്ങളുടെ ഭൂരിപക്ഷം ഭൂമിയും നിർബന്ധപൂർവ്വം ഐക്യനാടുകൾക്ക് അടിയറ xxunk xxunk വർഗ്ഗക്കാരുടെ പിൻഗാമികളാണ് .,xxup eng കൊടുമുടി xxunk xxunk xxunk ബൃഹത്തായ ഒരു xxunk . കൊടുമുടി തന്നെ ഒരുപാട് xxunk ഒരു നഗരമാണ് . ശിവനാണ് xxunk . സ്വയംഭൂവായ ഈ ശിവലിംഗം ഒരു xxunk മാത്രമേ പുറത്ത് കാണൂ . xxunk xxunk xxunk xxunk . ആ xxunk മകുടം മാത്രം xxunk ദേവൻ xxunk സ്ഥലം കൊടുമുടിയും ആയി എന്ന് ഐതിഹ്യം . xxunk തേവാരം കൃതികളിൽ പറയുന്ന ആറാമത്തെ ക്ഷേത്രമാണ് xxunk . കാവേരി നദീതീരത്താണ് ഈ xxunk സ്ഥിതിചെയ്യുന്നത് . സ്ഥാനം . തമിഴ്നാട്ടിൽ ഈറോഡ് ജില്ലയിൽ പാലക്കാട്ട് നിന്നും നേരെ കിഴക്കോട്ട് xxup num കി.മി . മാറി xxunk xxunk xxunk . ട്രിച്ചി ഈറോഡ് xxunk കൊടുമുടി സ്റ്റേഷനിൽ xxunk xxunk xxunk . ക്ഷേത്രസമുച്ചയം . xxunk ഒരു വലിയ xxunk . xxunk xxunk ഏഴു ശ്രീകോവിലുകൾ പ്രധാനമായി ആ xxunk . അവ xxunk . ക്ഷേത്രത്തിലെ xxunk സ്വയംഭൂ ആയി കിഴക്കോട്ട് xxunk xxunk . ഒരു xxunk ശിവലിംഗത്തിൽ പുറത്ത് xxunk . അഗസ്ത്യൻ xxunk ഐതിഹ്യം . xxunk . xxunk ഇടത് വശത്ത് അമ്മൻ കോവിൽ സ്ഥിതിചെയ്യുന്നു . xxunk . പൊതുവേ ശിവക്ഷേത്രങ്ങളിൽ xxunk തമിഴ്നാട്ടിൽ കുറവാണ് എന്നാൽ xxunk xxunk xxunk കുടികൊള്ളുന്നു . xxunk വലിയ വിഗ്രഹമാണ് ഇത് . xxunk അനന്തൻ xxunk . വിഭീഷണൻ , നാരദർ , ഹനുമാൻ , പ്രഹ്ലാദൻ എന്നിവർ xxunk xxunk . xxunk xxunk xxunk കാൽക്കൽ ഉണ്ട് . ബ്രഹ്മാവ് xxunk എന്ന സങ്കല്പത്തിൽ xxunk . xxunk വിഗ്രഹങ്ങൾ ശ്രീകോവിലിൽ കാണാം . xxunk മരം . ഈ ക്ഷേത്രത്തിലെ xxunk പടുകൂറ്റൻ xxunk . സാധാരണ ഒരു xxup num മീറ്റർ മാത്രം ഉയരം വക്കുന്ന xxunk ഇവിടെ ഒരു xxunk പോലെ വളർന്ന് നിൽക്കുന്നു . xxup num വർഷം ആണ് ഈ വൃക്ഷത്തിന്റെ xxunk കണക്കാക്കുന്നത് . xxunk പൂർണ്ണ ചൈതന്യം ഉള്ള ഈ ക്ഷേത്രത്തിൽ xxunk പേർക്കും xxunk ബ്രഹ്മാവിന്റെ ചൈതന്യം ഈ xxunk xxunk . xxunk . ക്ഷേത്രത്തിന്റെ തെക്ക് പടിഞ്ഞാറേ മൂലയിൽ xxunk കോവിൽ സ്ഥിതിചെയ്യുന്നു . xxunk . ക്ഷേത്രത്തിന്റെ വടക്ക് കിഴക്കേ മൂലയിൽ xxunk പ്രത്യേകം കോവിൽ ഉണ്ട് . xxunk xxunk xxunk . xxunk . ക്ഷേത്രത്തിന്റെ വടക്ക് കിഴക്കേ മൂലയിൽ xxunk സമീപത്ത് xxunk തിരിഞ്ഞ് xxunk കുടികൊള്ളുന്നു . സൂര്യനും ചന്ദ്രനും . xxunk xxunk xxunk സൂര്യന്റെയും xxunk വിഗ്രഹങ്ങൾ ഈ ക്ഷേത്രത്തിൽ മാത്രം കാണുന്നതാണ് .,xxup eng ജെയിംസ് റസ്സൽ ജെയിംസ് റസ്സൽ xxunk ഡിസ്ക് എന്ന പേരിൽ അറിയപ്പെടുന്ന ലോകപ്രശസ്തമായ ഒപ്റ്റിക്കൽ ഡിസ്ക് കണ്ടുപിടിച്ച വ്യക്തിയാണ് ജെയിംസ് റ്റി റസ്സൽ . കളർ xxunk ഉപയോഗിക്കാവുന്ന കമ്പ്യൂട്ടർ കീബോർഡ് , ഇലക്ട്രോൺ ബീം xxunk എന്നിവ നിർമ്മിച്ചു . മനുഷ്യ ജീവിതത്തെ മാറ്റിമറിച്ച ഒരു xxunk xxunk xxunk . ഒപ്റ്റിക്കൽ സ്റ്റോറേജ് ടെക്നോളജിയിൽ xxunk സ്വന്തം ഉപദേശക സ്ഥാപനം റസ്സൽ ഇപ്പോൾ നടത്തുന്നുണ്ട് .\n",
       "y: LMLabelList\n",
       ",,,,\n",
       "Path: wiki/ml;\n",
       "\n",
       "Valid: LabelList (11289 items)\n",
       "x: LMTextList\n",
       "xxup eng xxunk ഖദീജ മുംതാസ് എഴുതിയ നോവലാണ് xxunk . ഈ കൃതിക്ക് xxup num ലെ കേരള സാഹിത്യ അക്കാദമി പുരസ്കാരം ലഭിച്ചിരുന്നു .,xxup eng പതിമൂന്ന് xxunk കൊല്ലം ജില്ലയിലെ xxunk സമീപമുള്ള xxunk സ്ഥിതി ചെയ്യുന്ന മനോഹരമായ ഒരു പാലമാണ് പതിമൂന്ന് xxunk . xxunk xxunk പാത ഇതിനു xxunk കടന്നുപോകുന്നത് , താഴെയായി xxunk xxunk കടന്നു പോകുന്നു . വ്യാവസായിക നഗരങ്ങളായ xxunk xxunk xxunk ഈ പാത നിറയെ തുരങ്കങ്ങളും പാലങ്ങളും മറ്റും നിറഞ്ഞതാണ് . ബ്രിട്ടീഷ് എഞ്ചിനീയറിങ്ങ് സാങ്കേതികവിദ്യയുടെ ഉത്തമ ഉദാഹരണങ്ങളാണ് പതിമൂന്ന് xxunk പുനലൂർ xxunk . പ്രത്യേകത . xxunk പാലത്തിന് പതിമൂന്ന് xxunk . ഇവ xxunk കാലഘട്ടത്തിലെ നിർമ്മിതികളുടെ പ്രത്യേകതകളാണ് . xxup num മീറ്റർ നീളവും xxup num മീറ്റർ xxunk പതിമൂന്ന് xxunk xxup num വർഷം കഴിഞ്ഞിട്ടും പറയത്തക്ക xxunk . ബ്രിട്ടീഷ് ഭരണകാലത്ത് xxunk രീതിയിൽ xxunk പാലത്തിന്റെ നിർമ്മാണത്തിന് സിമന്റ് ഉപയോഗിച്ചിട്ടില്ല എന്നതും ശ്രദ്ധേയമാണ് . അവലംബം . xxup eng : / / xxup eng xxup .eng xxup .eng / xxup eng / xxup eng xxup -eng xxup -eng xxup .eng,xxup eng xxunk xxunk റാവു ബഹദൂർ xxunk xxunk xxunk , , ഒരു ഇന്ത്യൻ xxunk , xxunk . xxunk xxunk എന്ന പേരിൽ xxunk വിനോദ സഞ്ചാരികൾക്ക് സൗജന്യ ലോഡ്ജ് അദ്ദേഹം സ്ഥാപിച്ചു . മൈസൂർ മഹാരാജാവ് , xxunk xxunk xxup eng , റാവു ബഹദൂർ എന്നിവർ ബ്രിട്ടീഷ് xxunk xxunk എന്ന പദവി നൽകി അദ്ദേഹത്തെ ആദരിച്ചു . ആദ്യകാലം . xxup num ൽ xxunk xxunk കുടുംബത്തിലാണ് xxunk ജനിച്ചത് . പിന്നീട് അദ്ദേഹത്തിന്റെ കുടുംബം xxunk താമസം മാറി . xxunk തന്റെ ബിസിനസ്സ് ആരംഭിച്ചു . സോഷ്യൽ വർക്ക് . അദ്ദേഹത്തിന് സ്വന്തമായി xxunk . xxunk xxunk xxunk തന്റെ സ്വത്ത് മുഴുവൻ ഉപയോഗപ്പെടുത്താൻ xxunk തീരുമാനിച്ചു . റാവു ബഹദൂർ xxunk xxunk xxunk xxunk എന്ന പേരിൽ ഒരു ട്രസ്റ്റ് സ്ഥാപിച്ചു . xxup num ൽ ബാംഗ്ലൂർ സിറ്റി റെയിൽവേ സ്റ്റേഷനു സമീപം ട്രസ്റ്റ് ഒരു നിലം വാങ്ങുകയും xxup num xxup xxunk ന് xxunk എന്ന സൗജന്യ ഹോസ്റ്റൽ xxunk xxunk xxunk xxup eng ഔദ്യോഗികമായി xxunk xxunk ദിവസങ്ങളിൽ അദ്ദേഹം തന്റെ എല്ലാ xxunk xxunk xxunk സംഭാവന ചെയ്യുകയും കെ . പി . xxunk xxunk ആ ട്രസ്റ്റിന്റെ ആദ്യ പ്രസിഡന്റായി നിയമിക്കുകയും ചെയ്തു . ഇന്ന് ട്രസ്റ്റ് അതിൻറെ പ്രവർത്തനം തുടരുന്നു . ഈ ഹോസ്റ്റൽ സൗകര്യം xxunk വ്യാപിക്കുകയും ചെയ്തു . xxup num ൽ ഹോസ്റ്റൽ xxunk . ഇതിന്റെ xxunk ഒരു xxunk xxunk ബസ് സ്റ്റേഷനിൽ ബെൽ ഹോട്ടൽ സ്ഥാപിച്ചു . xxunk സൗകര്യങ്ങൾ നാമമാത്രമായ നിരക്കിൽ താമസസൗകര്യം നൽകുന്നു , xxunk എല്ലാവർക്കും xxunk . എന്നിരുന്നാലും xxunk ഉപയോഗം വീരശൈവ സമൂഹത്തിലെ വിദ്യാർത്ഥികൾക്ക് മാത്രമുള്ളതാണ് . ഇന്നുവരെ , xxunk xxunk xxunk xxunk . എല്ലാ വർഷവും xxunk വിദ്യാർത്ഥികൾക്ക് മെറിറ്റ് ട്രസ്റ്റ് സ്കോളർഷിപ്പ് നൽകിവരുന്നു . മരണം . xxup num ഫെബ്രുവരി xxup num ന് xxunk xxup num ആമത്തെ വയസ്സിൽ അന്തരിച്ചു .,xxup eng xxunk നദി xxunk നദി xxunk ഒഴുകുന്ന ഒരു നദിയാണ് . കിഴക്കൻ ജോർജിയയിലെ കുറ നദിയുടെ പ്രധാന xxunk ഇത് xxup num കിലോമീറ്റർ നീളത്തിൽ ഒഴുകുന്നു . xxunk xxunk വച്ച് കുറ നദിയുമായി ചേരുന്നതിനു മുമ്പ് ഈ നദിയുടെ ഒരു ഭാഗം xxunk xxunk തമ്മിലുള്ള അതിർത്തിയുടെ ഭാഗമായി മാറുന്നു . xxunk ജില്ലയുടെ വടക്കുപടിഞ്ഞാറുള്ള പ്രധാന xxunk തെക്ക് , ഗ്രേറ്റർ xxunk xxunk നദി ഉത്ഭവിക്കുന്നത് . ഈ നദി പ്രാഥമികമായി തെക്കോട്ട് xxunk പട്ടണത്തിൻറെ xxunk തുടർന്ന് xxunk ഫലഭൂയിഷ്ടമായ xxunk താഴ്വരയിലൂടെ xxunk ഒഴുകുന്നു . ജോർജിയൻ വൈൻ വ്യവസായത്തിന്റെ കേന്ദ്രമാണ് xxunk മേഖല . നൂറ്റാണ്ടുകളായി പേർഷ്യൻ xxunk ഒരു പ്രവേശന xxunk ഈ പ്രദേശം . ഈ xxunk xxunk പ്രിയങ്കരമാണ് .,xxup eng യുണൈറ്റഡ് കിങ്ഡം\n",
       "y: LMLabelList\n",
       ",,,,\n",
       "Path: wiki/ml;\n",
       "\n",
       "Test: LabelList (3668 items)\n",
       "x: LMTextList\n",
       "xxup eng xxup num xxunk ഭൂകമ്പം വൻതോതിലുള്ള ദുരിതവും xxunk വിതച്ച xxunk xxunk xxunk xxup num xxunk xxup num ലെ xxunk ഭൂകമ്പം . xxup num ജനുവരി xxup num ചൊവ്വാഴ്ച പ്രാദേശിക സമയം xxup num : xxup num നു് അനുഭവപ്പെട്ട ഈ ഭൂകമ്പത്തിന്റെ പ്രഭവകേന്ദ്രം xxunk തലസ്ഥാന നഗരിയായ പോർട്ട് xxunk xxunk നിന്ന് ഏകദേശം xxup num കിലോമീറ്റർ ദൂരം മാറിയാണ് . xxup num കിലോമീറ്റർ xxunk ഈ ഭൂകമ്പം . അമേരിക്കൻ ഐക്യനാടുകളുടെ ജിയോളജിക്കൽ സർവ്വേ റെക്കോർഡ് ചെയ്തത് പ്രകാരം നിരവധി xxunk ഈ ഭൂകമ്പത്തെ xxunk . അന്തർദേശീയ xxunk സംഘടനയുടെ കണക്ക് പ്രകാരം ഏകദേശം മുപ്പത് ലക്ഷം ജനങ്ങൾ ഈ ഭൂകമ്പത്തിന്റെ കെടുതികൾ അനുഭവിച്ചു . രണ്ട് ലക്ഷത്തിലധികം ജനങ്ങൾ xxunk xxunk xxup num മൃതശരീരങ്ങൾ xxunk xxunk ജനുവരി xxup num ന് xxunk പ്രധാനമന്ത്രി xxunk xxunk xxunk . പോർട്ട് xxunk നഗരത്തിലും അടുത്ത പ്രദേശങ്ങളിലും ഭൂകമ്പം വൻ xxunk . രാഷ്ട്രപതിയുടെ കൊട്ടാരം , നാഷനൽ അസംബ്ലി കെട്ടിടം , xxunk xxunk , മുഖ്യ ജയിൽ xxunk നിരവധി സുപ്രധാന കെട്ടിടങ്ങൾക്ക് കാര്യമായ കേടുപാടുകൾ വരികയോ നാശം xxunk ചെയ്തു . ഈ പ്രദേശത്തുള്ള മിക്കവാറും എല്ലാ ആശുപത്രികളും xxunk . യുനൈറ്റഡ് xxunk xxunk മിഷൻ ഇൻ xxunk ആസ്ഥാന xxunk തകരുകയും ആസ്ഥാന മേധാവി xxunk xxunk , അദ്ദേഹത്തിന്റെ ഡെപ്യൂട്ടി കാർലോസ് ഡാ xxunk , xxunk പോലീസ് കമ്മീഷണർ എന്നിവർ xxunk ഐക്യരാഷ്ട്ര സഭ റിപ്പോർട്ട് xxunk,xxup eng വർക്കല പാപനാശം തിരുവനന്തപുരം ജില്ലയിലെ xxunk കടൽത്തീരമാണ് വർക്കല പാപനാശം . ഇവിടെനിന്ന് ഒരു കിലോമീറ്റർ xxunk xxup num വർഷത്തെ പഴക്കം കണക്കാക്കപ്പെടുന്ന xxunk വർക്കല xxunk xxunk . പാപനാശം കടപ്പുറത്ത് xxunk ആയിരക്കണക്കിന് ജനങ്ങൾ എത്താറുണ്ട് . ഇവിടെ xxunk എല്ലാ xxunk xxunk വിശ്വാസം . xxunk കൂടിയാണ് ഇവിടം .,xxup eng ഓപ്പറേഷൻ ബ്ലൂസ്റ്റാർ xxunk xxunk നേതൃത്വത്തിലുള്ള തീവ്രവാദ പ്രസ്ഥാനത്തെ അമർച്ച ചെയ്യാനായി xxup num ജൂൺ മാസത്തിൽ ഇന്ത്യൻ സേന xxunk നടത്തിയ സൈനിക നടപടിയാണ് ഓപ്പറേഷൻ ബ്ലൂസ്റ്റാർ എന്നറിയപ്പെടുന്നത് . xxup num ജൂൺ xxup num ഉം xxup num ഉം തീയതികളിലാണ് ഈ സൈനിക നടപടി നടന്നത് . സൈനിക xxunk xxunk xxunk xxunk xxunk പെട്ട് ക്ഷേത്രത്തിൽ xxunk എത്തിയ സ്ത്രീകളും കുട്ടികളും ഉൾപ്പെടെയുള്ള xxunk മരിച്ചു . സുവർണ ക്ഷേത്രത്തിൽ മാരക ആയുധങ്ങളുമായി തമ്പടിച്ചിരുന്ന സിഖ് വിഘടന xxunk xxunk അന്നത്തെ പ്രധാന മന്ത്രി ആയിരുന്ന ഇന്ദിരാ ഗാന്ധിയുടെ xxunk ഈ നടപടി . സൈനികമായി ഈ നടപടി ഒരു xxunk കേന്ദ്രസർക്കാർ ഇതിൻറെ പേരിൽ വളരെയധികം വിമർശിക്കപ്പെട്ടു . ഈ നടപടി സിഖ് സമൂഹത്തിൽ ഇന്ദിരാ xxunk xxunk കാരണമാവുകയും , xxup num ഒക്ടോബർ xxup num നു സ്വന്തം സിഖ് xxunk xxunk അവരുടെ കൊലപാതകത്തിൽ കലാശിക്കുകയും ചെയ്തു .,xxup eng xxunk സൗരയൂഥത്തിലെ ഏറ്റവും വലിയ ഉപഗ്രഹമാണ് വ്യാഴത്തിന്റെ ഏഴാമത്തെ ഉപഗ്രഹമായ xxunk . xxunk xxup num ജനുവരി xxup num ന് xxunk കണ്ടെത്തിയത് . അയോ , xxunk , യൂറോപ്പ എന്നിവയുൾപ്പെടുന്ന xxunk ഉപഗ്രഹങ്ങളിൽ ഒന്നാണിത് . xxunk ശരാശരി ആരം xxup num കിലോമീറ്ററാണ് , ഇത് ഭൂമിയുടെ xxunk xxup num മടങ്ങാണ് . സൗരയൂഥത്തിലെ ഏറ്റവും ചെറിയ ഗ്രഹമായ ബുധനെ അപേക്ഷിച്ച് xxup num xxunk . xxup num കിലോമീറ്ററാണ് xxunk വ്യാസം . സ്വന്തമായ കാന്തിക മണ്ഡലം ഉള്ള സൗരയൂഥത്തിലെ ഒരേ ഒരു ഉപഗ്രഹമാണ് xxunk . അതിനാൽ തന്നെ xxunk ഇരുമ്പിന്റെയും xxunk xxunk ഒരു xxunk ഉണ്ടെന്ന് അനുമാനിക്കപ്പെടുന്നു . ഭൂമിയിൽ ഉള്ളതിനേക്കാൾ വളരെ അധികം ജലം xxunk ഉണ്ടെന്ന് അനുമാനിക്കപ്പെടുന്നു xxunk പാറകളും ജല xxunk അടങ്ങുന്നതാണ് xxunk ഘടന . xxunk സമാനമായ ചില പ്രതല സവിശേഷതകൾ xxunk ചില ഭാഗങ്ങളിൽ ഉണ്ട് . xxunk xxunk xxunk xxunk . xxunk പത്തു ലക്ഷത്തിലധികം കിലോമീറ്റർ അകലെയാണ് xxunk ഭ്രമണപഥം . xxup num ഇന്ത്യൻ ശാസ്ത്രജ്ഞരാണ് xxunk അന്തരീക്ഷം xxunk . വളരെ xxunk xxunk അന്തരീക്ഷം . ഓക്സിജൻ ആണ് പ്രധാന അന്തരീക്ഷ വാതകം . xxunk നിന്നും പുറത്തുവരുന്ന ജല xxunk സൂര്യ xxunk xxunk മുകളിൽ ആവൃത്തിയുള്ള വൈദ്യുതകാന്തിക തരംഗങ്ങൾ xxunk ഓക്സിജൻ xxunk ഈ xxunk അന്തരീക്ഷം രൂപപ്പെടുന്നത് . xxunk ഹൈഡ്രജൻ അതിന്റെ വർധിച്ച കണികാ വേഗം മൂലം ബഹിരാകാശത്തേക്ക് പോകുന്നു . റഷ്യൻ സ്പേസ് xxunk ഇൻസ്റ്റിറ്റ്യൂട്ട് ഒരു xxunk ലാൻഡർ xxunk . xxunk xxunk വിലപ്പെട്ട വിവരങ്ങൾ ആ ദൗത്യത്തിൽ നിന്നും ലഭിക്കും .,xxup eng xxunk പാണ്ഡേ ബ്രിട്ടീഷ് ഈസ്റ്റ് ഇന്ത്യ കമ്പനിയുടെ ബംഗാൾ നേറ്റീവ് xxunk xxup num ആം xxunk ശിപായി ആയി ജോലി ചെയ്തിരുന്ന വ്യക്തിയാണ് xxunk പാണ്ഡേ . ഇന്ത്യയുടെ ആദ്യത്തെ xxunk പലരും കണക്കാക്കുന്നത് xxunk . ജീവിതം . ഉത്തർപ്രദേശിലെ xxunk ജില്ലയിലുള്ള xxunk എന്ന ഗ്രാമത്തിൽ xxup num ജൂലൈ xxup num ന് , ഒരു xxunk ബ്രാഹ്മണ കുടുംബത്തിലായിരുന്നു xxunk xxunk ജനനം . xxup num ൽ തന്റെ xxup num ആം വയസ്സിൽ xxunk പാണ്ഡേ ഈസ്റ്റ് ഇന്ത്യ കമ്പനിയിൽ ചേർന്നു . xxup num ആം ബംഗാൾ നേറ്റീവ് xxunk അഞ്ചാം xxunk ശിപായി ആയി xxunk പാണ്ഡേ ഉദ്യോഗത്തിൽ പ്രവേശിച്ചത് . ഒരു സാധാരണ ശിപായി ആയിരുന്ന xxunk പാണ്ഡേ , പിൽകാലത്ത് ശിപായി ലഹള എന്നറിയപ്പെട്ട ഒരു സംഭവവുമായി ബന്ധപ്പെട്ടാണ് രാജ്യം മുഴുവൻ അറിയുന്ന ഒരു xxunk . xxup num ൽ നടന്ന് ഈ ലഹള ഇന്ത്യയിലെ ആദ്യ സ്വാതന്ത്ര്യ xxunk കണക്കാക്കപ്പെടുന്നു . ഒരു തികഞ്ഞ ഹിന്ദു വിശ്വാസിയായ xxunk പാണ്ഡേ , തന്റെ മതത്തിന്റെ വിശ്വാസങ്ങളെ xxunk ബ്രിട്ടീഷ് സർക്കാരിന്റെ xxunk xxunk ഈ സമരത്തിന്റെ xxunk . xxup num ലെ ഒന്നാം ഇന്ത്യൻ സ്വാതന്ത്ര്യ സമരം . xxup num ൽ ബ്രിട്ടീഷ് ഈസ്റ്റ് ഇന്ത്യാ കമ്പനി ഭരണത്തിന് എതിരെ അതേ കമ്പനി സൈന്യത്തിലെ ശിപായിമാർ എന്നു വിളിച്ചിരുന്ന ഇന്ത്യക്കാരായ ഭടന്മാർ തുടങ്ങുകയും മുഗൾ രാജാവ് xxunk നേതൃത്വത്തിൽ xxunk സ്വാതന്ത്ര്യം പ്രഖ്യാപിക്കുകയും , xxunk ആകെ പരക്കുകയും ചെയ്ത ഒരു xxunk xxup num ലെ ഒന്നാം ഇന്ത്യൻ സ്വാതന്ത്ര്യ സമരം എന്ന് അറിയപ്പെടുന്നത് . xxunk എന്നാണ് ബ്രിട്ടീഷുകാർ ഈ സമരത്തെ വിളിച്ചിരുന്നത് . xxunk , ഇന്ത്യൻ ലഹള , xxup num െ കലാപം എന്നിങ്ങനെ പല പേരുകളിലും ഈ കലാപം അറിയപ്പെടുന്നു . xxup num മാർച്ച് xxup num ് xxunk xxunk എന്ന xxunk xxunk പാണ്ഡേ തന്റെ മേധാവിയും , xxup num ആം റെജിമെന്റിന്റെ xxunk xxunk , xxunk വെടിയുതിർത്തു . എന്നാൽ xxunk xxunk ലക്ഷ്യം കണ്ടെത്താനായില്ല . തിരികെ xxunk xxunk ലക്ഷ്യവും xxunk . എന്നാൽ xxunk xxunk xxunk . താഴെ വീണ xxunk xxunk തന്റെ വാളുകൊണ്ട് xxunk ശ്രമിച്ചു . ഈ സമയം xxunk മറ്റൊരു xxunk xxunk xxunk xxunk xxunk xxunk . ഈ വിവരം അറിഞ്ഞ് പരേഡ് xxunk xxunk മേജർ xxunk xxunk xxunk xxunk xxunk xxunk xxunk അറസ്റ്റ് ചെയ്യാൻ ഉത്തരവിട്ടു . എന്നാൽ xxunk തന്റെ xxunk ഉത്തരവിനെ നിരസിച്ചു . മറ്റു ശിപായിമാർ xxunk xxunk xxunk ഷെയ്ക്ക് xxunk ആവശ്യപ്പെട്ടെങ്കിലും അയാൾ തയ്യാറായില്ല . ഉടൻ തന്നെ അവർ അയാൾക്കു നേരെ കല്ലുകൾ xxunk തുടങ്ങി . xxunk ഉത്തരവിനെ ആരും തന്നെ അനുസരിക്കാൻ തയ്യാറായില്ല , തന്റെ xxunk xxunk xxunk അയാൾ xxunk തുടങ്ങി . ഈ സമയത്ത് തന്റെ തോക്കിൽ നിന്ന് xxunk സ്വയം xxunk ശ്രമിച്ചെങ്കിലും പരാജയപ്പെട്ടു . xxunk xxunk xxunk xxunk അറസ്റ്റ് ചെയ്തു . കാരണം . ബംഗാൾ സൈന്യത്തിൽ പുതിയതായി എത്തിയ xxup xxunk xxunk ഉപയോഗിക്കുന്ന xxunk xxunk xxunk xxunk xxunk xxunk കാരണമായി ചൂണ്ടിക്കാണിക്കുന്നത് . xxunk ഉപയോഗിക്കുന്നതിനു മുമ്പായി തിരകൾ പൊതിഞ്ഞിരിക്കുന്ന xxunk ആവരണം പട്ടാളക്കാർ കടിച്ചു xxunk . ഈ കടലാസ് ആവരണത്തിൽ xxunk , xxunk കൊഴുപ്പ് xxunk കിംവദന്തി xxunk പെട്ടെന്നു പടർന്നു . ഹിന്ദു മതത്തിൽ പശു ഒരു വിശുദ്ധ xxunk കണക്കാക്കിയിരുന്നു , മുസ്ലിം സമുദായത്തിൽ പന്നി ഒരു xxunk xxunk . തങ്ങളുടെ xxunk xxunk ബ്രിട്ടീഷുകാരുടെ xxunk ഒരു xxunk യാഥാസ്ഥിതിക ഹിന്ദു , മുസ്ലിം സമുദായക്കാർ കരുതി . ഈ കടലാസ് ആവരണത്തിൽ xxunk , ആടിന്റെ xxunk നിന്നെടുക്കുന്ന കൊഴുപ്പും മാത്രമേ xxunk . xxunk , xxunk തങ്ങളുടെ മതത്തെ xxunk വഴി , ക്രിസ്ത്യൻ മതത്തിലേക്ക് പരിവർത്തനം നടത്താനുള്ള xxunk പോലും ഈ സംഭവം വ്യാഖ്യാനിക്കപ്പെട്ടു . അതുപോലെ , xxunk ഭക്ഷണത്തിനായി നൽകിയ xxunk പൊടിയിൽ പശുവിന്റെ xxunk പൊടിച്ചു xxunk xxunk xxunk . xxup num ം ബംഗാൾ xxunk xxunk വില്ല്യം xxunk ഭാര്യ , xxunk അച്ചടിച്ച ബൈബിൾ xxunk വിതരണം ചെയ്തിരുന്നു . ഇത്തരം നടപടികൾ , xxunk xxunk സംശയം കൂടുതൽ വർദ്ധിപ്പിച്ചു . അനന്തരഫലങ്ങൾ . xxup num ആം ബംഗാൾ നേറ്റീവ് xxunk പിരിച്ചുവിട്ടു . തങ്ങളുടെ xxunk ഉണ്ടായ ഒരു ആക്രമണത്തെ xxunk ശിപായിമാർ പരാജയപ്പെട്ടു എന്നതായിരുന്നു കാരണം . ബ്രിട്ടീഷ് സർക്കാർ ഉപയോഗിച്ച ഒരു xxunk റിപ്പോർട്ടിന്റെ അടിസ്ഥാനത്തിലായിരുന്നു ഈ നടപടി . xxunk xxunk പിടികൂടിയ ഷെയ്ക്ക് xxunk ഉടനടി തന്നെ xxunk എന്ന xxunk xxunk നൽകി . xxup num ആം ബംഗാൾ xxunk xxunk വളരെ നല്ല അഭിപ്രായം തന്നെയാണ് xxunk , xxunk പാണ്ഡേ സംഭവം ആ റെജിമെന്റിൽ xxunk വിശ്വാസത്തെ xxunk . xxunk xxunk പ്രവൃത്തി xxunk . അത്തരമൊരു നടപടിക്കു xxunk മുമ്പ് പാണ്ഡേ , തന്റെ xxunk ഒരു വട്ടം പോലും xxunk . xxunk xxunk xxunk xxunk ബ്രിട്ടീഷ് xxunk xxunk മറ്റു xxunk വെറും xxunk മാറ്റാനുള്ള കാരണമായി ചരിത്രകാരന്മാർ ചൂണ്ടിക്കാണിക്കുന്നത് . വിവാദം . xxup num ൽ പുറത്തിറങ്ങിയ വി.ഡി . xxunk ദ ഇന്ത്യൻ വാർ ഓഫ് ഇൻഡിപെൻഡൻസ് , xxup num എന്ന xxunk xxunk സംഭവം xxunk , അതിനെ xxup num ലെ ഇന്ത്യൻ ലഹളയുടെ xxunk അവതരിപ്പിച്ച് xxunk xxunk അതിലെ ഒരു പ്രധാന xxunk അവരോധിക്കുകയും ചെയ്യുന്നത് . xxunk xxunk ഈ സ്ഥാനം , xxunk പാണ്ഡെ - ദ xxunk എന്ന ചലച്ചിത്രത്തിൽ xxunk ചെയ്തിട്ടുണ്ട് . എന്നാൽ xxunk സംഭവത്തിനു ശേഷം രണ്ടു മാസത്തിനു ശേഷം മേയിൽ xxunk നടന്ന ലഹളയുടെ xxunk xxunk xxunk യഥാർത്ഥത്തിൽ ഒരു xxunk xxunk .\n",
       "y: EmptyLabelList\n",
       ",,,,\n",
       "Path: wiki/ml, model=SequentialRNN(\n",
       "  (0): AWD_LSTM(\n",
       "    (encoder): Embedding(60007, 400, padding_idx=1)\n",
       "    (encoder_dp): EmbeddingDropout(\n",
       "      (emb): Embedding(60007, 400, padding_idx=1)\n",
       "    )\n",
       "    (rnns): ModuleList(\n",
       "      (0): WeightDropout(\n",
       "        (module): LSTM(400, 1150, batch_first=True)\n",
       "      )\n",
       "      (1): WeightDropout(\n",
       "        (module): LSTM(1150, 1150, batch_first=True)\n",
       "      )\n",
       "      (2): WeightDropout(\n",
       "        (module): LSTM(1150, 400, batch_first=True)\n",
       "      )\n",
       "    )\n",
       "    (input_dp): RNNDropout()\n",
       "    (hidden_dps): ModuleList(\n",
       "      (0): RNNDropout()\n",
       "      (1): RNNDropout()\n",
       "      (2): RNNDropout()\n",
       "    )\n",
       "  )\n",
       "  (1): LinearDecoder(\n",
       "    (decoder): Linear(in_features=400, out_features=60007, bias=True)\n",
       "    (output_dp): RNNDropout()\n",
       "  )\n",
       "), opt_func=functools.partial(<class 'torch.optim.adam.Adam'>, betas=(0.9, 0.99)), loss_func=FlattenedLoss of CrossEntropyLoss(), metrics=[<function accuracy at 0x7fb1a96366a8>], true_wd=True, bn_wd=True, wd=0.01, train_bn=True, path=PosixPath('wiki/ml'), model_dir='models', callback_fns=[functools.partial(<class 'fastai.basic_train.Recorder'>, add_time=True)], callbacks=[RNNTrainer\n",
       "learn: LanguageLearner(data=TextLMDataBunch;\n",
       "\n",
       "Train: LabelList (45151 items)\n",
       "x: LMTextList\n",
       "xxup eng xxunk മുസ്ലീങ്ങളുടെ വിശുദ്ധ ഗ്രന്ഥമായ ഖുർആനിലെ xxunk അദ്ധ്യായമാണ് xxunk . അവതരണം : മദീനയിൽ സൂക്തങ്ങൾ : xxup num,xxup eng xxunk xxunk , xxunk , xxunk എന്നെല്ലാം അറിയപ്പെടുന്ന xxunk പശ്ചിമഘട്ടത്തിലെ ഒരു xxunk . . xxup num മീറ്റർ വരെ ഉയരം വയ്ക്കുന്ന വലിയ മരം . കേരളത്തിലെ കോട്ടൂർ റിസർവ് xxunk xxunk കാണി വർഗ്ഗക്കാരുടെ xxunk xxunk xxunk xxunk xxunk . എല്ല് xxunk xxunk തടിയുടെ പുറത്തുള്ള xxunk തൊലി നീക്കം ചെയ്തതിനുശേഷം തടി ചതച്ച് വെള്ളം xxunk എല്ല് നേരെ xxunk അതിനു പുറമേ xxunk ചെയ്യുന്നത് .,xxup eng xxunk ഇന്ത്യൻ ജനത xxunk വടക്കേ അമേരിക്കയിൽ xxunk xxunk ഭാഷ xxunk തദ്ദേശീയ അമേരിക്കൻ ഇന്ത്യൻ വംശക്കാരുടെ ഒരു കൂട്ടമാണ് . ചരിത്രപരമായി ഇവർ ജീവിച്ചിരുന്ന മേഖല , xxunk തടാകത്തിന് xxunk . ഈ ജനത , xxup num നും xxup num ും ഇടയ്ക്കു നടന്ന അമേരിക്കൻ xxunk മുമ്പ് xxunk ഏറ്റവും പടിഞ്ഞാറേ അറ്റത്ത് ന്യൂയോർക്ക് പ്രദേശത്ത് നിലവിലിരുന്ന സിക്സ് നേഷൻസ് അഥവാ xxunk ലീഗ് എന്നറിയപ്പെട്ടിരുന്ന ദീർഘകാല xxunk . xxunk ലീഗിലെ മറ്റ് അംഗരാഷ്ട്രങ്ങൾ xxunk , xxunk , xxunk , xxunk , xxunk എന്നിവയായിരുന്നു . ഇരുപത്തിയൊന്നാം നൂറ്റാണ്ടിൽ ഐക്യനാടുകളിൽ മാത്രം , ഫെഡറൽ അംഗീകാരം ലഭിച്ച മൂന്നു xxunk xxunk xxup num അംഗങ്ങളുണ്ട് . ഇവയിൽ രണ്ട് ഗോത്രങ്ങൾ ന്യൂയോർക്കിൽ xxunk സമീപം xxunk നേഷൻ ഓഫ് ന്യൂയോർക്കിലെ രണ്ടു xxunk xxunk xxunk ഓഫ് xxunk xxunk അമേരിക്കൻ xxunk ഒക്ലാഹോമയിലെ xxunk xxunk . . ഇന്ത്യൻ xxunk xxunk കാലത്ത് xxunk നിന്ന് xxunk xxunk xxunk പൂർവ്വികർ . അതുകൂടാതെ ഏകദേശം xxup num xxunk ഇന്ത്യക്കാർ കാനഡയിലെ xxunk സമീപം xxunk സിക്സ് നേഷൻസ് ഓഫ് ദ ഗ്രാൻഡ് റിവർ ഫസ്റ്റ് നേഷൻ xxunk വസിക്കുന്നു . ഇവർ യഥാർത്ഥത്തിൽ , അമേരിക്കൻ സ്വാതന്ത്ര്യസമരകാലത്ത് xxunk xxunk സഖ്യം ചെയ്യുകയും പിന്നീട് തങ്ങളുടെ ഭൂരിപക്ഷം ഭൂമിയും നിർബന്ധപൂർവ്വം ഐക്യനാടുകൾക്ക് അടിയറ xxunk xxunk വർഗ്ഗക്കാരുടെ പിൻഗാമികളാണ് .,xxup eng കൊടുമുടി xxunk xxunk xxunk ബൃഹത്തായ ഒരു xxunk . കൊടുമുടി തന്നെ ഒരുപാട് xxunk ഒരു നഗരമാണ് . ശിവനാണ് xxunk . സ്വയംഭൂവായ ഈ ശിവലിംഗം ഒരു xxunk മാത്രമേ പുറത്ത് കാണൂ . xxunk xxunk xxunk xxunk . ആ xxunk മകുടം മാത്രം xxunk ദേവൻ xxunk സ്ഥലം കൊടുമുടിയും ആയി എന്ന് ഐതിഹ്യം . xxunk തേവാരം കൃതികളിൽ പറയുന്ന ആറാമത്തെ ക്ഷേത്രമാണ് xxunk . കാവേരി നദീതീരത്താണ് ഈ xxunk സ്ഥിതിചെയ്യുന്നത് . സ്ഥാനം . തമിഴ്നാട്ടിൽ ഈറോഡ് ജില്ലയിൽ പാലക്കാട്ട് നിന്നും നേരെ കിഴക്കോട്ട് xxup num കി.മി . മാറി xxunk xxunk xxunk . ട്രിച്ചി ഈറോഡ് xxunk കൊടുമുടി സ്റ്റേഷനിൽ xxunk xxunk xxunk . ക്ഷേത്രസമുച്ചയം . xxunk ഒരു വലിയ xxunk . xxunk xxunk ഏഴു ശ്രീകോവിലുകൾ പ്രധാനമായി ആ xxunk . അവ xxunk . ക്ഷേത്രത്തിലെ xxunk സ്വയംഭൂ ആയി കിഴക്കോട്ട് xxunk xxunk . ഒരു xxunk ശിവലിംഗത്തിൽ പുറത്ത് xxunk . അഗസ്ത്യൻ xxunk ഐതിഹ്യം . xxunk . xxunk ഇടത് വശത്ത് അമ്മൻ കോവിൽ സ്ഥിതിചെയ്യുന്നു . xxunk . പൊതുവേ ശിവക്ഷേത്രങ്ങളിൽ xxunk തമിഴ്നാട്ടിൽ കുറവാണ് എന്നാൽ xxunk xxunk xxunk കുടികൊള്ളുന്നു . xxunk വലിയ വിഗ്രഹമാണ് ഇത് . xxunk അനന്തൻ xxunk . വിഭീഷണൻ , നാരദർ , ഹനുമാൻ , പ്രഹ്ലാദൻ എന്നിവർ xxunk xxunk . xxunk xxunk xxunk കാൽക്കൽ ഉണ്ട് . ബ്രഹ്മാവ് xxunk എന്ന സങ്കല്പത്തിൽ xxunk . xxunk വിഗ്രഹങ്ങൾ ശ്രീകോവിലിൽ കാണാം . xxunk മരം . ഈ ക്ഷേത്രത്തിലെ xxunk പടുകൂറ്റൻ xxunk . സാധാരണ ഒരു xxup num മീറ്റർ മാത്രം ഉയരം വക്കുന്ന xxunk ഇവിടെ ഒരു xxunk പോലെ വളർന്ന് നിൽക്കുന്നു . xxup num വർഷം ആണ് ഈ വൃക്ഷത്തിന്റെ xxunk കണക്കാക്കുന്നത് . xxunk പൂർണ്ണ ചൈതന്യം ഉള്ള ഈ ക്ഷേത്രത്തിൽ xxunk പേർക്കും xxunk ബ്രഹ്മാവിന്റെ ചൈതന്യം ഈ xxunk xxunk . xxunk . ക്ഷേത്രത്തിന്റെ തെക്ക് പടിഞ്ഞാറേ മൂലയിൽ xxunk കോവിൽ സ്ഥിതിചെയ്യുന്നു . xxunk . ക്ഷേത്രത്തിന്റെ വടക്ക് കിഴക്കേ മൂലയിൽ xxunk പ്രത്യേകം കോവിൽ ഉണ്ട് . xxunk xxunk xxunk . xxunk . ക്ഷേത്രത്തിന്റെ വടക്ക് കിഴക്കേ മൂലയിൽ xxunk സമീപത്ത് xxunk തിരിഞ്ഞ് xxunk കുടികൊള്ളുന്നു . സൂര്യനും ചന്ദ്രനും . xxunk xxunk xxunk സൂര്യന്റെയും xxunk വിഗ്രഹങ്ങൾ ഈ ക്ഷേത്രത്തിൽ മാത്രം കാണുന്നതാണ് .,xxup eng ജെയിംസ് റസ്സൽ ജെയിംസ് റസ്സൽ xxunk ഡിസ്ക് എന്ന പേരിൽ അറിയപ്പെടുന്ന ലോകപ്രശസ്തമായ ഒപ്റ്റിക്കൽ ഡിസ്ക് കണ്ടുപിടിച്ച വ്യക്തിയാണ് ജെയിംസ് റ്റി റസ്സൽ . കളർ xxunk ഉപയോഗിക്കാവുന്ന കമ്പ്യൂട്ടർ കീബോർഡ് , ഇലക്ട്രോൺ ബീം xxunk എന്നിവ നിർമ്മിച്ചു . മനുഷ്യ ജീവിതത്തെ മാറ്റിമറിച്ച ഒരു xxunk xxunk xxunk . ഒപ്റ്റിക്കൽ സ്റ്റോറേജ് ടെക്നോളജിയിൽ xxunk സ്വന്തം ഉപദേശക സ്ഥാപനം റസ്സൽ ഇപ്പോൾ നടത്തുന്നുണ്ട് .\n",
       "y: LMLabelList\n",
       ",,,,\n",
       "Path: wiki/ml;\n",
       "\n",
       "Valid: LabelList (11289 items)\n",
       "x: LMTextList\n",
       "xxup eng xxunk ഖദീജ മുംതാസ് എഴുതിയ നോവലാണ് xxunk . ഈ കൃതിക്ക് xxup num ലെ കേരള സാഹിത്യ അക്കാദമി പുരസ്കാരം ലഭിച്ചിരുന്നു .,xxup eng പതിമൂന്ന് xxunk കൊല്ലം ജില്ലയിലെ xxunk സമീപമുള്ള xxunk സ്ഥിതി ചെയ്യുന്ന മനോഹരമായ ഒരു പാലമാണ് പതിമൂന്ന് xxunk . xxunk xxunk പാത ഇതിനു xxunk കടന്നുപോകുന്നത് , താഴെയായി xxunk xxunk കടന്നു പോകുന്നു . വ്യാവസായിക നഗരങ്ങളായ xxunk xxunk xxunk ഈ പാത നിറയെ തുരങ്കങ്ങളും പാലങ്ങളും മറ്റും നിറഞ്ഞതാണ് . ബ്രിട്ടീഷ് എഞ്ചിനീയറിങ്ങ് സാങ്കേതികവിദ്യയുടെ ഉത്തമ ഉദാഹരണങ്ങളാണ് പതിമൂന്ന് xxunk പുനലൂർ xxunk . പ്രത്യേകത . xxunk പാലത്തിന് പതിമൂന്ന് xxunk . ഇവ xxunk കാലഘട്ടത്തിലെ നിർമ്മിതികളുടെ പ്രത്യേകതകളാണ് . xxup num മീറ്റർ നീളവും xxup num മീറ്റർ xxunk പതിമൂന്ന് xxunk xxup num വർഷം കഴിഞ്ഞിട്ടും പറയത്തക്ക xxunk . ബ്രിട്ടീഷ് ഭരണകാലത്ത് xxunk രീതിയിൽ xxunk പാലത്തിന്റെ നിർമ്മാണത്തിന് സിമന്റ് ഉപയോഗിച്ചിട്ടില്ല എന്നതും ശ്രദ്ധേയമാണ് . അവലംബം . xxup eng : / / xxup eng xxup .eng xxup .eng / xxup eng / xxup eng xxup -eng xxup -eng xxup .eng,xxup eng xxunk xxunk റാവു ബഹദൂർ xxunk xxunk xxunk , , ഒരു ഇന്ത്യൻ xxunk , xxunk . xxunk xxunk എന്ന പേരിൽ xxunk വിനോദ സഞ്ചാരികൾക്ക് സൗജന്യ ലോഡ്ജ് അദ്ദേഹം സ്ഥാപിച്ചു . മൈസൂർ മഹാരാജാവ് , xxunk xxunk xxup eng , റാവു ബഹദൂർ എന്നിവർ ബ്രിട്ടീഷ് xxunk xxunk എന്ന പദവി നൽകി അദ്ദേഹത്തെ ആദരിച്ചു . ആദ്യകാലം . xxup num ൽ xxunk xxunk കുടുംബത്തിലാണ് xxunk ജനിച്ചത് . പിന്നീട് അദ്ദേഹത്തിന്റെ കുടുംബം xxunk താമസം മാറി . xxunk തന്റെ ബിസിനസ്സ് ആരംഭിച്ചു . സോഷ്യൽ വർക്ക് . അദ്ദേഹത്തിന് സ്വന്തമായി xxunk . xxunk xxunk xxunk തന്റെ സ്വത്ത് മുഴുവൻ ഉപയോഗപ്പെടുത്താൻ xxunk തീരുമാനിച്ചു . റാവു ബഹദൂർ xxunk xxunk xxunk xxunk എന്ന പേരിൽ ഒരു ട്രസ്റ്റ് സ്ഥാപിച്ചു . xxup num ൽ ബാംഗ്ലൂർ സിറ്റി റെയിൽവേ സ്റ്റേഷനു സമീപം ട്രസ്റ്റ് ഒരു നിലം വാങ്ങുകയും xxup num xxup xxunk ന് xxunk എന്ന സൗജന്യ ഹോസ്റ്റൽ xxunk xxunk xxunk xxup eng ഔദ്യോഗികമായി xxunk xxunk ദിവസങ്ങളിൽ അദ്ദേഹം തന്റെ എല്ലാ xxunk xxunk xxunk സംഭാവന ചെയ്യുകയും കെ . പി . xxunk xxunk ആ ട്രസ്റ്റിന്റെ ആദ്യ പ്രസിഡന്റായി നിയമിക്കുകയും ചെയ്തു . ഇന്ന് ട്രസ്റ്റ് അതിൻറെ പ്രവർത്തനം തുടരുന്നു . ഈ ഹോസ്റ്റൽ സൗകര്യം xxunk വ്യാപിക്കുകയും ചെയ്തു . xxup num ൽ ഹോസ്റ്റൽ xxunk . ഇതിന്റെ xxunk ഒരു xxunk xxunk ബസ് സ്റ്റേഷനിൽ ബെൽ ഹോട്ടൽ സ്ഥാപിച്ചു . xxunk സൗകര്യങ്ങൾ നാമമാത്രമായ നിരക്കിൽ താമസസൗകര്യം നൽകുന്നു , xxunk എല്ലാവർക്കും xxunk . എന്നിരുന്നാലും xxunk ഉപയോഗം വീരശൈവ സമൂഹത്തിലെ വിദ്യാർത്ഥികൾക്ക് മാത്രമുള്ളതാണ് . ഇന്നുവരെ , xxunk xxunk xxunk xxunk . എല്ലാ വർഷവും xxunk വിദ്യാർത്ഥികൾക്ക് മെറിറ്റ് ട്രസ്റ്റ് സ്കോളർഷിപ്പ് നൽകിവരുന്നു . മരണം . xxup num ഫെബ്രുവരി xxup num ന് xxunk xxup num ആമത്തെ വയസ്സിൽ അന്തരിച്ചു .,xxup eng xxunk നദി xxunk നദി xxunk ഒഴുകുന്ന ഒരു നദിയാണ് . കിഴക്കൻ ജോർജിയയിലെ കുറ നദിയുടെ പ്രധാന xxunk ഇത് xxup num കിലോമീറ്റർ നീളത്തിൽ ഒഴുകുന്നു . xxunk xxunk വച്ച് കുറ നദിയുമായി ചേരുന്നതിനു മുമ്പ് ഈ നദിയുടെ ഒരു ഭാഗം xxunk xxunk തമ്മിലുള്ള അതിർത്തിയുടെ ഭാഗമായി മാറുന്നു . xxunk ജില്ലയുടെ വടക്കുപടിഞ്ഞാറുള്ള പ്രധാന xxunk തെക്ക് , ഗ്രേറ്റർ xxunk xxunk നദി ഉത്ഭവിക്കുന്നത് . ഈ നദി പ്രാഥമികമായി തെക്കോട്ട് xxunk പട്ടണത്തിൻറെ xxunk തുടർന്ന് xxunk ഫലഭൂയിഷ്ടമായ xxunk താഴ്വരയിലൂടെ xxunk ഒഴുകുന്നു . ജോർജിയൻ വൈൻ വ്യവസായത്തിന്റെ കേന്ദ്രമാണ് xxunk മേഖല . നൂറ്റാണ്ടുകളായി പേർഷ്യൻ xxunk ഒരു പ്രവേശന xxunk ഈ പ്രദേശം . ഈ xxunk xxunk പ്രിയങ്കരമാണ് .,xxup eng യുണൈറ്റഡ് കിങ്ഡം\n",
       "y: LMLabelList\n",
       ",,,,\n",
       "Path: wiki/ml;\n",
       "\n",
       "Test: LabelList (3668 items)\n",
       "x: LMTextList\n",
       "xxup eng xxup num xxunk ഭൂകമ്പം വൻതോതിലുള്ള ദുരിതവും xxunk വിതച്ച xxunk xxunk xxunk xxup num xxunk xxup num ലെ xxunk ഭൂകമ്പം . xxup num ജനുവരി xxup num ചൊവ്വാഴ്ച പ്രാദേശിക സമയം xxup num : xxup num നു് അനുഭവപ്പെട്ട ഈ ഭൂകമ്പത്തിന്റെ പ്രഭവകേന്ദ്രം xxunk തലസ്ഥാന നഗരിയായ പോർട്ട് xxunk xxunk നിന്ന് ഏകദേശം xxup num കിലോമീറ്റർ ദൂരം മാറിയാണ് . xxup num കിലോമീറ്റർ xxunk ഈ ഭൂകമ്പം . അമേരിക്കൻ ഐക്യനാടുകളുടെ ജിയോളജിക്കൽ സർവ്വേ റെക്കോർഡ് ചെയ്തത് പ്രകാരം നിരവധി xxunk ഈ ഭൂകമ്പത്തെ xxunk . അന്തർദേശീയ xxunk സംഘടനയുടെ കണക്ക് പ്രകാരം ഏകദേശം മുപ്പത് ലക്ഷം ജനങ്ങൾ ഈ ഭൂകമ്പത്തിന്റെ കെടുതികൾ അനുഭവിച്ചു . രണ്ട് ലക്ഷത്തിലധികം ജനങ്ങൾ xxunk xxunk xxup num മൃതശരീരങ്ങൾ xxunk xxunk ജനുവരി xxup num ന് xxunk പ്രധാനമന്ത്രി xxunk xxunk xxunk . പോർട്ട് xxunk നഗരത്തിലും അടുത്ത പ്രദേശങ്ങളിലും ഭൂകമ്പം വൻ xxunk . രാഷ്ട്രപതിയുടെ കൊട്ടാരം , നാഷനൽ അസംബ്ലി കെട്ടിടം , xxunk xxunk , മുഖ്യ ജയിൽ xxunk നിരവധി സുപ്രധാന കെട്ടിടങ്ങൾക്ക് കാര്യമായ കേടുപാടുകൾ വരികയോ നാശം xxunk ചെയ്തു . ഈ പ്രദേശത്തുള്ള മിക്കവാറും എല്ലാ ആശുപത്രികളും xxunk . യുനൈറ്റഡ് xxunk xxunk മിഷൻ ഇൻ xxunk ആസ്ഥാന xxunk തകരുകയും ആസ്ഥാന മേധാവി xxunk xxunk , അദ്ദേഹത്തിന്റെ ഡെപ്യൂട്ടി കാർലോസ് ഡാ xxunk , xxunk പോലീസ് കമ്മീഷണർ എന്നിവർ xxunk ഐക്യരാഷ്ട്ര സഭ റിപ്പോർട്ട് xxunk,xxup eng വർക്കല പാപനാശം തിരുവനന്തപുരം ജില്ലയിലെ xxunk കടൽത്തീരമാണ് വർക്കല പാപനാശം . ഇവിടെനിന്ന് ഒരു കിലോമീറ്റർ xxunk xxup num വർഷത്തെ പഴക്കം കണക്കാക്കപ്പെടുന്ന xxunk വർക്കല xxunk xxunk . പാപനാശം കടപ്പുറത്ത് xxunk ആയിരക്കണക്കിന് ജനങ്ങൾ എത്താറുണ്ട് . ഇവിടെ xxunk എല്ലാ xxunk xxunk വിശ്വാസം . xxunk കൂടിയാണ് ഇവിടം .,xxup eng ഓപ്പറേഷൻ ബ്ലൂസ്റ്റാർ xxunk xxunk നേതൃത്വത്തിലുള്ള തീവ്രവാദ പ്രസ്ഥാനത്തെ അമർച്ച ചെയ്യാനായി xxup num ജൂൺ മാസത്തിൽ ഇന്ത്യൻ സേന xxunk നടത്തിയ സൈനിക നടപടിയാണ് ഓപ്പറേഷൻ ബ്ലൂസ്റ്റാർ എന്നറിയപ്പെടുന്നത് . xxup num ജൂൺ xxup num ഉം xxup num ഉം തീയതികളിലാണ് ഈ സൈനിക നടപടി നടന്നത് . സൈനിക xxunk xxunk xxunk xxunk xxunk പെട്ട് ക്ഷേത്രത്തിൽ xxunk എത്തിയ സ്ത്രീകളും കുട്ടികളും ഉൾപ്പെടെയുള്ള xxunk മരിച്ചു . സുവർണ ക്ഷേത്രത്തിൽ മാരക ആയുധങ്ങളുമായി തമ്പടിച്ചിരുന്ന സിഖ് വിഘടന xxunk xxunk അന്നത്തെ പ്രധാന മന്ത്രി ആയിരുന്ന ഇന്ദിരാ ഗാന്ധിയുടെ xxunk ഈ നടപടി . സൈനികമായി ഈ നടപടി ഒരു xxunk കേന്ദ്രസർക്കാർ ഇതിൻറെ പേരിൽ വളരെയധികം വിമർശിക്കപ്പെട്ടു . ഈ നടപടി സിഖ് സമൂഹത്തിൽ ഇന്ദിരാ xxunk xxunk കാരണമാവുകയും , xxup num ഒക്ടോബർ xxup num നു സ്വന്തം സിഖ് xxunk xxunk അവരുടെ കൊലപാതകത്തിൽ കലാശിക്കുകയും ചെയ്തു .,xxup eng xxunk സൗരയൂഥത്തിലെ ഏറ്റവും വലിയ ഉപഗ്രഹമാണ് വ്യാഴത്തിന്റെ ഏഴാമത്തെ ഉപഗ്രഹമായ xxunk . xxunk xxup num ജനുവരി xxup num ന് xxunk കണ്ടെത്തിയത് . അയോ , xxunk , യൂറോപ്പ എന്നിവയുൾപ്പെടുന്ന xxunk ഉപഗ്രഹങ്ങളിൽ ഒന്നാണിത് . xxunk ശരാശരി ആരം xxup num കിലോമീറ്ററാണ് , ഇത് ഭൂമിയുടെ xxunk xxup num മടങ്ങാണ് . സൗരയൂഥത്തിലെ ഏറ്റവും ചെറിയ ഗ്രഹമായ ബുധനെ അപേക്ഷിച്ച് xxup num xxunk . xxup num കിലോമീറ്ററാണ് xxunk വ്യാസം . സ്വന്തമായ കാന്തിക മണ്ഡലം ഉള്ള സൗരയൂഥത്തിലെ ഒരേ ഒരു ഉപഗ്രഹമാണ് xxunk . അതിനാൽ തന്നെ xxunk ഇരുമ്പിന്റെയും xxunk xxunk ഒരു xxunk ഉണ്ടെന്ന് അനുമാനിക്കപ്പെടുന്നു . ഭൂമിയിൽ ഉള്ളതിനേക്കാൾ വളരെ അധികം ജലം xxunk ഉണ്ടെന്ന് അനുമാനിക്കപ്പെടുന്നു xxunk പാറകളും ജല xxunk അടങ്ങുന്നതാണ് xxunk ഘടന . xxunk സമാനമായ ചില പ്രതല സവിശേഷതകൾ xxunk ചില ഭാഗങ്ങളിൽ ഉണ്ട് . xxunk xxunk xxunk xxunk . xxunk പത്തു ലക്ഷത്തിലധികം കിലോമീറ്റർ അകലെയാണ് xxunk ഭ്രമണപഥം . xxup num ഇന്ത്യൻ ശാസ്ത്രജ്ഞരാണ് xxunk അന്തരീക്ഷം xxunk . വളരെ xxunk xxunk അന്തരീക്ഷം . ഓക്സിജൻ ആണ് പ്രധാന അന്തരീക്ഷ വാതകം . xxunk നിന്നും പുറത്തുവരുന്ന ജല xxunk സൂര്യ xxunk xxunk മുകളിൽ ആവൃത്തിയുള്ള വൈദ്യുതകാന്തിക തരംഗങ്ങൾ xxunk ഓക്സിജൻ xxunk ഈ xxunk അന്തരീക്ഷം രൂപപ്പെടുന്നത് . xxunk ഹൈഡ്രജൻ അതിന്റെ വർധിച്ച കണികാ വേഗം മൂലം ബഹിരാകാശത്തേക്ക് പോകുന്നു . റഷ്യൻ സ്പേസ് xxunk ഇൻസ്റ്റിറ്റ്യൂട്ട് ഒരു xxunk ലാൻഡർ xxunk . xxunk xxunk വിലപ്പെട്ട വിവരങ്ങൾ ആ ദൗത്യത്തിൽ നിന്നും ലഭിക്കും .,xxup eng xxunk പാണ്ഡേ ബ്രിട്ടീഷ് ഈസ്റ്റ് ഇന്ത്യ കമ്പനിയുടെ ബംഗാൾ നേറ്റീവ് xxunk xxup num ആം xxunk ശിപായി ആയി ജോലി ചെയ്തിരുന്ന വ്യക്തിയാണ് xxunk പാണ്ഡേ . ഇന്ത്യയുടെ ആദ്യത്തെ xxunk പലരും കണക്കാക്കുന്നത് xxunk . ജീവിതം . ഉത്തർപ്രദേശിലെ xxunk ജില്ലയിലുള്ള xxunk എന്ന ഗ്രാമത്തിൽ xxup num ജൂലൈ xxup num ന് , ഒരു xxunk ബ്രാഹ്മണ കുടുംബത്തിലായിരുന്നു xxunk xxunk ജനനം . xxup num ൽ തന്റെ xxup num ആം വയസ്സിൽ xxunk പാണ്ഡേ ഈസ്റ്റ് ഇന്ത്യ കമ്പനിയിൽ ചേർന്നു . xxup num ആം ബംഗാൾ നേറ്റീവ് xxunk അഞ്ചാം xxunk ശിപായി ആയി xxunk പാണ്ഡേ ഉദ്യോഗത്തിൽ പ്രവേശിച്ചത് . ഒരു സാധാരണ ശിപായി ആയിരുന്ന xxunk പാണ്ഡേ , പിൽകാലത്ത് ശിപായി ലഹള എന്നറിയപ്പെട്ട ഒരു സംഭവവുമായി ബന്ധപ്പെട്ടാണ് രാജ്യം മുഴുവൻ അറിയുന്ന ഒരു xxunk . xxup num ൽ നടന്ന് ഈ ലഹള ഇന്ത്യയിലെ ആദ്യ സ്വാതന്ത്ര്യ xxunk കണക്കാക്കപ്പെടുന്നു . ഒരു തികഞ്ഞ ഹിന്ദു വിശ്വാസിയായ xxunk പാണ്ഡേ , തന്റെ മതത്തിന്റെ വിശ്വാസങ്ങളെ xxunk ബ്രിട്ടീഷ് സർക്കാരിന്റെ xxunk xxunk ഈ സമരത്തിന്റെ xxunk . xxup num ലെ ഒന്നാം ഇന്ത്യൻ സ്വാതന്ത്ര്യ സമരം . xxup num ൽ ബ്രിട്ടീഷ് ഈസ്റ്റ് ഇന്ത്യാ കമ്പനി ഭരണത്തിന് എതിരെ അതേ കമ്പനി സൈന്യത്തിലെ ശിപായിമാർ എന്നു വിളിച്ചിരുന്ന ഇന്ത്യക്കാരായ ഭടന്മാർ തുടങ്ങുകയും മുഗൾ രാജാവ് xxunk നേതൃത്വത്തിൽ xxunk സ്വാതന്ത്ര്യം പ്രഖ്യാപിക്കുകയും , xxunk ആകെ പരക്കുകയും ചെയ്ത ഒരു xxunk xxup num ലെ ഒന്നാം ഇന്ത്യൻ സ്വാതന്ത്ര്യ സമരം എന്ന് അറിയപ്പെടുന്നത് . xxunk എന്നാണ് ബ്രിട്ടീഷുകാർ ഈ സമരത്തെ വിളിച്ചിരുന്നത് . xxunk , ഇന്ത്യൻ ലഹള , xxup num െ കലാപം എന്നിങ്ങനെ പല പേരുകളിലും ഈ കലാപം അറിയപ്പെടുന്നു . xxup num മാർച്ച് xxup num ് xxunk xxunk എന്ന xxunk xxunk പാണ്ഡേ തന്റെ മേധാവിയും , xxup num ആം റെജിമെന്റിന്റെ xxunk xxunk , xxunk വെടിയുതിർത്തു . എന്നാൽ xxunk xxunk ലക്ഷ്യം കണ്ടെത്താനായില്ല . തിരികെ xxunk xxunk ലക്ഷ്യവും xxunk . എന്നാൽ xxunk xxunk xxunk . താഴെ വീണ xxunk xxunk തന്റെ വാളുകൊണ്ട് xxunk ശ്രമിച്ചു . ഈ സമയം xxunk മറ്റൊരു xxunk xxunk xxunk xxunk xxunk xxunk . ഈ വിവരം അറിഞ്ഞ് പരേഡ് xxunk xxunk മേജർ xxunk xxunk xxunk xxunk xxunk xxunk xxunk അറസ്റ്റ് ചെയ്യാൻ ഉത്തരവിട്ടു . എന്നാൽ xxunk തന്റെ xxunk ഉത്തരവിനെ നിരസിച്ചു . മറ്റു ശിപായിമാർ xxunk xxunk xxunk ഷെയ്ക്ക് xxunk ആവശ്യപ്പെട്ടെങ്കിലും അയാൾ തയ്യാറായില്ല . ഉടൻ തന്നെ അവർ അയാൾക്കു നേരെ കല്ലുകൾ xxunk തുടങ്ങി . xxunk ഉത്തരവിനെ ആരും തന്നെ അനുസരിക്കാൻ തയ്യാറായില്ല , തന്റെ xxunk xxunk xxunk അയാൾ xxunk തുടങ്ങി . ഈ സമയത്ത് തന്റെ തോക്കിൽ നിന്ന് xxunk സ്വയം xxunk ശ്രമിച്ചെങ്കിലും പരാജയപ്പെട്ടു . xxunk xxunk xxunk xxunk അറസ്റ്റ് ചെയ്തു . കാരണം . ബംഗാൾ സൈന്യത്തിൽ പുതിയതായി എത്തിയ xxup xxunk xxunk ഉപയോഗിക്കുന്ന xxunk xxunk xxunk xxunk xxunk xxunk കാരണമായി ചൂണ്ടിക്കാണിക്കുന്നത് . xxunk ഉപയോഗിക്കുന്നതിനു മുമ്പായി തിരകൾ പൊതിഞ്ഞിരിക്കുന്ന xxunk ആവരണം പട്ടാളക്കാർ കടിച്ചു xxunk . ഈ കടലാസ് ആവരണത്തിൽ xxunk , xxunk കൊഴുപ്പ് xxunk കിംവദന്തി xxunk പെട്ടെന്നു പടർന്നു . ഹിന്ദു മതത്തിൽ പശു ഒരു വിശുദ്ധ xxunk കണക്കാക്കിയിരുന്നു , മുസ്ലിം സമുദായത്തിൽ പന്നി ഒരു xxunk xxunk . തങ്ങളുടെ xxunk xxunk ബ്രിട്ടീഷുകാരുടെ xxunk ഒരു xxunk യാഥാസ്ഥിതിക ഹിന്ദു , മുസ്ലിം സമുദായക്കാർ കരുതി . ഈ കടലാസ് ആവരണത്തിൽ xxunk , ആടിന്റെ xxunk നിന്നെടുക്കുന്ന കൊഴുപ്പും മാത്രമേ xxunk . xxunk , xxunk തങ്ങളുടെ മതത്തെ xxunk വഴി , ക്രിസ്ത്യൻ മതത്തിലേക്ക് പരിവർത്തനം നടത്താനുള്ള xxunk പോലും ഈ സംഭവം വ്യാഖ്യാനിക്കപ്പെട്ടു . അതുപോലെ , xxunk ഭക്ഷണത്തിനായി നൽകിയ xxunk പൊടിയിൽ പശുവിന്റെ xxunk പൊടിച്ചു xxunk xxunk xxunk . xxup num ം ബംഗാൾ xxunk xxunk വില്ല്യം xxunk ഭാര്യ , xxunk അച്ചടിച്ച ബൈബിൾ xxunk വിതരണം ചെയ്തിരുന്നു . ഇത്തരം നടപടികൾ , xxunk xxunk സംശയം കൂടുതൽ വർദ്ധിപ്പിച്ചു . അനന്തരഫലങ്ങൾ . xxup num ആം ബംഗാൾ നേറ്റീവ് xxunk പിരിച്ചുവിട്ടു . തങ്ങളുടെ xxunk ഉണ്ടായ ഒരു ആക്രമണത്തെ xxunk ശിപായിമാർ പരാജയപ്പെട്ടു എന്നതായിരുന്നു കാരണം . ബ്രിട്ടീഷ് സർക്കാർ ഉപയോഗിച്ച ഒരു xxunk റിപ്പോർട്ടിന്റെ അടിസ്ഥാനത്തിലായിരുന്നു ഈ നടപടി . xxunk xxunk പിടികൂടിയ ഷെയ്ക്ക് xxunk ഉടനടി തന്നെ xxunk എന്ന xxunk xxunk നൽകി . xxup num ആം ബംഗാൾ xxunk xxunk വളരെ നല്ല അഭിപ്രായം തന്നെയാണ് xxunk , xxunk പാണ്ഡേ സംഭവം ആ റെജിമെന്റിൽ xxunk വിശ്വാസത്തെ xxunk . xxunk xxunk പ്രവൃത്തി xxunk . അത്തരമൊരു നടപടിക്കു xxunk മുമ്പ് പാണ്ഡേ , തന്റെ xxunk ഒരു വട്ടം പോലും xxunk . xxunk xxunk xxunk xxunk ബ്രിട്ടീഷ് xxunk xxunk മറ്റു xxunk വെറും xxunk മാറ്റാനുള്ള കാരണമായി ചരിത്രകാരന്മാർ ചൂണ്ടിക്കാണിക്കുന്നത് . വിവാദം . xxup num ൽ പുറത്തിറങ്ങിയ വി.ഡി . xxunk ദ ഇന്ത്യൻ വാർ ഓഫ് ഇൻഡിപെൻഡൻസ് , xxup num എന്ന xxunk xxunk സംഭവം xxunk , അതിനെ xxup num ലെ ഇന്ത്യൻ ലഹളയുടെ xxunk അവതരിപ്പിച്ച് xxunk xxunk അതിലെ ഒരു പ്രധാന xxunk അവരോധിക്കുകയും ചെയ്യുന്നത് . xxunk xxunk ഈ സ്ഥാനം , xxunk പാണ്ഡെ - ദ xxunk എന്ന ചലച്ചിത്രത്തിൽ xxunk ചെയ്തിട്ടുണ്ട് . എന്നാൽ xxunk സംഭവത്തിനു ശേഷം രണ്ടു മാസത്തിനു ശേഷം മേയിൽ xxunk നടന്ന ലഹളയുടെ xxunk xxunk xxunk യഥാർത്ഥത്തിൽ ഒരു xxunk xxunk .\n",
       "y: EmptyLabelList\n",
       ",,,,\n",
       "Path: wiki/ml, model=SequentialRNN(\n",
       "  (0): AWD_LSTM(\n",
       "    (encoder): Embedding(60007, 400, padding_idx=1)\n",
       "    (encoder_dp): EmbeddingDropout(\n",
       "      (emb): Embedding(60007, 400, padding_idx=1)\n",
       "    )\n",
       "    (rnns): ModuleList(\n",
       "      (0): WeightDropout(\n",
       "        (module): LSTM(400, 1150, batch_first=True)\n",
       "      )\n",
       "      (1): WeightDropout(\n",
       "        (module): LSTM(1150, 1150, batch_first=True)\n",
       "      )\n",
       "      (2): WeightDropout(\n",
       "        (module): LSTM(1150, 400, batch_first=True)\n",
       "      )\n",
       "    )\n",
       "    (input_dp): RNNDropout()\n",
       "    (hidden_dps): ModuleList(\n",
       "      (0): RNNDropout()\n",
       "      (1): RNNDropout()\n",
       "      (2): RNNDropout()\n",
       "    )\n",
       "  )\n",
       "  (1): LinearDecoder(\n",
       "    (decoder): Linear(in_features=400, out_features=60007, bias=True)\n",
       "    (output_dp): RNNDropout()\n",
       "  )\n",
       "), opt_func=functools.partial(<class 'torch.optim.adam.Adam'>, betas=(0.9, 0.99)), loss_func=FlattenedLoss of CrossEntropyLoss(), metrics=[<function accuracy at 0x7fb1a96366a8>], true_wd=True, bn_wd=True, wd=0.01, train_bn=True, path=PosixPath('wiki/ml'), model_dir='models', callback_fns=[functools.partial(<class 'fastai.basic_train.Recorder'>, add_time=True)], callbacks=[...], layer_groups=[Sequential(\n",
       "  (0): WeightDropout(\n",
       "    (module): LSTM(400, 1150, batch_first=True)\n",
       "  )\n",
       "  (1): RNNDropout()\n",
       "), Sequential(\n",
       "  (0): WeightDropout(\n",
       "    (module): LSTM(1150, 1150, batch_first=True)\n",
       "  )\n",
       "  (1): RNNDropout()\n",
       "), Sequential(\n",
       "  (0): WeightDropout(\n",
       "    (module): LSTM(1150, 400, batch_first=True)\n",
       "  )\n",
       "  (1): RNNDropout()\n",
       "), Sequential(\n",
       "  (0): Embedding(60007, 400, padding_idx=1)\n",
       "  (1): EmbeddingDropout(\n",
       "    (emb): Embedding(60007, 400, padding_idx=1)\n",
       "  )\n",
       "  (2): LinearDecoder(\n",
       "    (decoder): Linear(in_features=400, out_features=60007, bias=True)\n",
       "    (output_dp): RNNDropout()\n",
       "  )\n",
       ")], add_time=True)\n",
       "alpha: 2.0\n",
       "beta: 1.0], layer_groups=[Sequential(\n",
       "  (0): WeightDropout(\n",
       "    (module): LSTM(400, 1150, batch_first=True)\n",
       "  )\n",
       "  (1): RNNDropout()\n",
       "), Sequential(\n",
       "  (0): WeightDropout(\n",
       "    (module): LSTM(1150, 1150, batch_first=True)\n",
       "  )\n",
       "  (1): RNNDropout()\n",
       "), Sequential(\n",
       "  (0): WeightDropout(\n",
       "    (module): LSTM(1150, 400, batch_first=True)\n",
       "  )\n",
       "  (1): RNNDropout()\n",
       "), Sequential(\n",
       "  (0): Embedding(60007, 400, padding_idx=1)\n",
       "  (1): EmbeddingDropout(\n",
       "    (emb): Embedding(60007, 400, padding_idx=1)\n",
       "  )\n",
       "  (2): LinearDecoder(\n",
       "    (decoder): Linear(in_features=400, out_features=60007, bias=True)\n",
       "    (output_dp): RNNDropout()\n",
       "  )\n",
       ")], add_time=True)"
      ]
     },
     "execution_count": 18,
     "metadata": {},
     "output_type": "execute_result"
    }
   ],
   "source": [
    "learn.load('second_ml_lm', with_opt=True)"
   ]
  },
  {
   "cell_type": "code",
   "execution_count": 19,
   "metadata": {},
   "outputs": [
    {
     "data": {
      "text/html": [
       "<table border=\"1\" class=\"dataframe\">\n",
       "  <thead>\n",
       "    <tr style=\"text-align: left;\">\n",
       "      <th>epoch</th>\n",
       "      <th>train_loss</th>\n",
       "      <th>valid_loss</th>\n",
       "      <th>accuracy</th>\n",
       "      <th>time</th>\n",
       "    </tr>\n",
       "  </thead>\n",
       "  <tbody>\n",
       "    <tr>\n",
       "      <td>0</td>\n",
       "      <td>3.863937</td>\n",
       "      <td>4.265410</td>\n",
       "      <td>0.391604</td>\n",
       "      <td>07:18</td>\n",
       "    </tr>\n",
       "    <tr>\n",
       "      <td>1</td>\n",
       "      <td>3.923150</td>\n",
       "      <td>4.264031</td>\n",
       "      <td>0.391966</td>\n",
       "      <td>07:18</td>\n",
       "    </tr>\n",
       "    <tr>\n",
       "      <td>2</td>\n",
       "      <td>3.896065</td>\n",
       "      <td>4.264349</td>\n",
       "      <td>0.391977</td>\n",
       "      <td>07:18</td>\n",
       "    </tr>\n",
       "    <tr>\n",
       "      <td>3</td>\n",
       "      <td>3.924476</td>\n",
       "      <td>4.260607</td>\n",
       "      <td>0.392624</td>\n",
       "      <td>07:18</td>\n",
       "    </tr>\n",
       "    <tr>\n",
       "      <td>4</td>\n",
       "      <td>3.939856</td>\n",
       "      <td>4.258401</td>\n",
       "      <td>0.393092</td>\n",
       "      <td>07:19</td>\n",
       "    </tr>\n",
       "    <tr>\n",
       "      <td>5</td>\n",
       "      <td>3.821697</td>\n",
       "      <td>4.257850</td>\n",
       "      <td>0.393012</td>\n",
       "      <td>07:19</td>\n",
       "    </tr>\n",
       "    <tr>\n",
       "      <td>6</td>\n",
       "      <td>3.844699</td>\n",
       "      <td>4.255940</td>\n",
       "      <td>0.393154</td>\n",
       "      <td>07:19</td>\n",
       "    </tr>\n",
       "    <tr>\n",
       "      <td>7</td>\n",
       "      <td>3.738203</td>\n",
       "      <td>4.255107</td>\n",
       "      <td>0.393372</td>\n",
       "      <td>07:18</td>\n",
       "    </tr>\n",
       "    <tr>\n",
       "      <td>8</td>\n",
       "      <td>3.743658</td>\n",
       "      <td>4.257968</td>\n",
       "      <td>0.393057</td>\n",
       "      <td>07:19</td>\n",
       "    </tr>\n",
       "    <tr>\n",
       "      <td>9</td>\n",
       "      <td>3.704357</td>\n",
       "      <td>4.259222</td>\n",
       "      <td>0.392991</td>\n",
       "      <td>07:19</td>\n",
       "    </tr>\n",
       "  </tbody>\n",
       "</table>"
      ],
      "text/plain": [
       "<IPython.core.display.HTML object>"
      ]
     },
     "metadata": {},
     "output_type": "display_data"
    }
   ],
   "source": [
    "learn.fit_one_cycle(10, 1e-3, moms=(0.8,0.7))"
   ]
  },
  {
   "cell_type": "code",
   "execution_count": 20,
   "metadata": {},
   "outputs": [],
   "source": [
    "learn.save('third_ml_lm', with_opt=True)"
   ]
  }
 ],
 "metadata": {
  "kernelspec": {
   "display_name": "Python 3",
   "language": "python",
   "name": "python3"
  },
  "language_info": {
   "codemirror_mode": {
    "name": "ipython",
    "version": 3
   },
   "file_extension": ".py",
   "mimetype": "text/x-python",
   "name": "python",
   "nbconvert_exporter": "python",
   "pygments_lexer": "ipython3",
   "version": "3.6.3"
  }
 },
 "nbformat": 4,
 "nbformat_minor": 2
}
